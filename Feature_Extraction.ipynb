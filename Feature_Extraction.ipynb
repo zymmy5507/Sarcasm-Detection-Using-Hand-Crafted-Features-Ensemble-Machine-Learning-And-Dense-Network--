

from google.colab import drive
drive.mount('/content/drive')
     
Mounted at /content/drive

import nltk
import csv
nltk.download('punkt')
nltk.download('averaged_perceptron_tagger')
from nltk.corpus import stopwords
import pandas as pd
     
[nltk_data] Downloading package punkt to /root/nltk_data...
[nltk_data]   Unzipping tokenizers/punkt.zip.
[nltk_data] Downloading package averaged_perceptron_tagger to
[nltk_data]     /root/nltk_data...
[nltk_data]   Unzipping taggers/averaged_perceptron_tagger.zip.

!apt update
!apt install enchant --fix-missing
!apt install -qq enchant
!pip install pyenchant
     

0% [Working]
            
Get:1 https://cloud.r-project.org/bin/linux/ubuntu focal-cran40/ InRelease [3,622 B]

0% [Connecting to archive.ubuntu.com] [Connecting to security.ubuntu.com (185.1
0% [Connecting to archive.ubuntu.com] [Connecting to security.ubuntu.com (185.1
                                                                               
Get:2 https://developer.download.nvidia.com/compute/cuda/repos/ubuntu2004/x86_64  InRelease [1,581 B]

0% [Connecting to archive.ubuntu.com (185.125.190.36)] [Waiting for headers] [W
                                                                               
Hit:3 http://ppa.launchpad.net/c2d4u.team/c2d4u4.0+/ubuntu focal InRelease
Get:4 http://security.ubuntu.com/ubuntu focal-security InRelease [114 kB]
Hit:5 http://archive.ubuntu.com/ubuntu focal InRelease
Get:6 https://developer.download.nvidia.com/compute/cuda/repos/ubuntu2004/x86_64  Packages [969 kB]
Get:7 http://archive.ubuntu.com/ubuntu focal-updates InRelease [114 kB]
Hit:8 http://ppa.launchpad.net/cran/libgit2/ubuntu focal InRelease
Hit:9 http://ppa.launchpad.net/deadsnakes/ppa/ubuntu focal InRelease
Hit:10 http://ppa.launchpad.net/graphics-drivers/ppa/ubuntu focal InRelease
Get:11 http://archive.ubuntu.com/ubuntu focal-backports InRelease [108 kB]
Hit:12 http://ppa.launchpad.net/ubuntugis/ppa/ubuntu focal InRelease
Get:13 http://archive.ubuntu.com/ubuntu focal-updates/universe amd64 Packages [1,323 kB]
Get:14 http://security.ubuntu.com/ubuntu focal-security/universe amd64 Packages [1,027 kB]
Get:15 http://archive.ubuntu.com/ubuntu focal-updates/main amd64 Packages [3,069 kB]
Get:16 http://security.ubuntu.com/ubuntu focal-security/main amd64 Packages [2,590 kB]
Get:17 http://archive.ubuntu.com/ubuntu focal-backports/universe amd64 Packages [28.6 kB]
Get:18 http://archive.ubuntu.com/ubuntu focal-backports/main amd64 Packages [55.2 kB]
Fetched 9,403 kB in 2s (3,833 kB/s)
Reading package lists... Done
Building dependency tree       
Reading state information... Done
23 packages can be upgraded. Run 'apt list --upgradable' to see them.
Reading package lists... Done
Building dependency tree       
Reading state information... Done
The following additional packages will be installed:
  libenchant1c2a
Suggested packages:
  libenchant-voikko
The following NEW packages will be installed:
  enchant libenchant1c2a
0 upgraded, 2 newly installed, 0 to remove and 23 not upgraded.
Need to get 77.1 kB of archives.
After this operation, 325 kB of additional disk space will be used.
Get:1 http://archive.ubuntu.com/ubuntu focal/universe amd64 libenchant1c2a amd64 1.6.0-11.3build1 [64.7 kB]
Get:2 http://archive.ubuntu.com/ubuntu focal/universe amd64 enchant amd64 1.6.0-11.3build1 [12.4 kB]
Fetched 77.1 kB in 0s (181 kB/s)
Selecting previously unselected package libenchant1c2a:amd64.
(Reading database ... 128288 files and directories currently installed.)
Preparing to unpack .../libenchant1c2a_1.6.0-11.3build1_amd64.deb ...
Unpacking libenchant1c2a:amd64 (1.6.0-11.3build1) ...
Selecting previously unselected package enchant.
Preparing to unpack .../enchant_1.6.0-11.3build1_amd64.deb ...
Unpacking enchant (1.6.0-11.3build1) ...
Setting up libenchant1c2a:amd64 (1.6.0-11.3build1) ...
Setting up enchant (1.6.0-11.3build1) ...
Processing triggers for man-db (2.9.1-1) ...
Processing triggers for libc-bin (2.31-0ubuntu9.9) ...
enchant is already the newest version (1.6.0-11.3build1).
0 upgraded, 0 newly installed, 0 to remove and 23 not upgraded.
Looking in indexes: https://pypi.org/simple, https://us-python.pkg.dev/colab-wheels/public/simple/
Collecting pyenchant
  Downloading pyenchant-3.2.2-py3-none-any.whl (55 kB)
     ━━━━━━━━━━━━━━━━━━━━━━━━━━━━━━━━━━━━━━━━ 55.7/55.7 KB 6.6 MB/s eta 0:00:00
Installing collected packages: pyenchant
Successfully installed pyenchant-3.2.2

nltk.download('stopwords')
import enchant
import math
from collections import Counter
from collections import defaultdict
!apt update
!pip install textstat
import json
     
[nltk_data] Downloading package stopwords to /root/nltk_data...
[nltk_data]   Unzipping corpora/stopwords.zip.

0% [Working]
            
Hit:1 https://cloud.r-project.org/bin/linux/ubuntu focal-cran40/ InRelease

0% [Connecting to archive.ubuntu.com (185.125.190.36)] [Connecting to security.
                                                                               
Hit:2 https://developer.download.nvidia.com/compute/cuda/repos/ubuntu2004/x86_64  InRelease

0% [Connecting to archive.ubuntu.com (185.125.190.36)] [Waiting for headers] [W
                                                                               
0% [Waiting for headers] [Waiting for headers] [Waiting for headers]
                                                                    
Hit:3 http://security.ubuntu.com/ubuntu focal-security InRelease

                                                                    
0% [Waiting for headers] [Waiting for headers]
                                              
Hit:4 http://ppa.launchpad.net/c2d4u.team/c2d4u4.0+/ubuntu focal InRelease
Hit:5 http://archive.ubuntu.com/ubuntu focal InRelease
Hit:6 http://archive.ubuntu.com/ubuntu focal-updates InRelease
Hit:7 http://ppa.launchpad.net/cran/libgit2/ubuntu focal InRelease
Hit:8 http://archive.ubuntu.com/ubuntu focal-backports InRelease
Hit:9 http://ppa.launchpad.net/deadsnakes/ppa/ubuntu focal InRelease
Hit:10 http://ppa.launchpad.net/graphics-drivers/ppa/ubuntu focal InRelease
Hit:11 http://ppa.launchpad.net/ubuntugis/ppa/ubuntu focal InRelease
Reading package lists... Done
Building dependency tree       
Reading state information... Done
23 packages can be upgraded. Run 'apt list --upgradable' to see them.
Looking in indexes: https://pypi.org/simple, https://us-python.pkg.dev/colab-wheels/public/simple/
Collecting textstat
  Downloading textstat-0.7.3-py3-none-any.whl (105 kB)
     ━━━━━━━━━━━━━━━━━━━━━━━━━━━━━━━━━━━━━━ 105.1/105.1 KB 11.0 MB/s eta 0:00:00
Collecting pyphen
  Downloading pyphen-0.14.0-py3-none-any.whl (2.0 MB)
     ━━━━━━━━━━━━━━━━━━━━━━━━━━━━━━━━━━━━━━━━ 2.0/2.0 MB 50.6 MB/s eta 0:00:00
Installing collected packages: pyphen, textstat
Successfully installed pyphen-0.14.0 textstat-0.7.3

from textstat import textstat
from sklearn.feature_extraction.text import TfidfVectorizer
     

data=pd.read_csv('/content/drive/MyDrive/sarcasm_nonsarcasm/sarcasm_nonsarcasm.csv', encoding='ISO-8859-1')
print(data)
documents = data['headline'].tolist()

# Create a TfidfVectorizer object
tfidf_vectorizer = TfidfVectorizer()

# Fit and transform the documents into a TF-IDF matrix
tfidf_matrix = tfidf_vectorizer.fit_transform(documents)
     
       is_sarcastic                                           headline  \
0                 1  thirtysomething scientists unveil doomsday clo...   
1                 0  dem rep. totally nails why congress is falling...   
2                 0  eat your veggies: 9 deliciously different recipes   
3                 1  inclement weather prevents liar from getting t...   
4                 1  mother comes pretty close to using word 'strea...   
...             ...                                                ...   
28614             1       jews to celebrate rosh hashasha or something   
28615             1  internal affairs investigator disappointed con...   
28616             0  the most beautiful acceptance speech this week...   
28617             1  mars probe destroyed by orbiting spielberg-gat...   
28618             1                 dad clarifies this not a food stop   

                                            article_link  
0      https://www.theonion.com/thirtysomething-scien...  
1      https://www.huffingtonpost.com/entry/donna-edw...  
2      https://www.huffingtonpost.com/entry/eat-your-...  
3      https://local.theonion.com/inclement-weather-p...  
4      https://www.theonion.com/mother-comes-pretty-c...  
...                                                  ...  
28614  https://www.theonion.com/jews-to-celebrate-ros...  
28615  https://local.theonion.com/internal-affairs-in...  
28616  https://www.huffingtonpost.com/entry/andrew-ah...  
28617  https://www.theonion.com/mars-probe-destroyed-...  
28618  https://www.theonion.com/dad-clarifies-this-no...  

[28619 rows x 3 columns]

#pd.set_option('display.max_colwidth', -1)
#using only v1 and v2 column
data= data [['is_sarcastic','headline']]
#our_text=data['v2'];
     

# Load stop words
stop_words = set(stopwords.words('english'))

# Load English dictionary
dictionary = enchant.Dict("en_US")
documents_features = []
#entropy = 0

for i, row in data.iterrows():
    # Get text from specified column
    text = row['headline']
    label= row['is_sarcastic']  
    # Tokenize text
    tokens = nltk.word_tokenize(text)

    # Tag tokens with parts of speech
    tagged_tokens = nltk.pos_tag(tokens)
  
    # Count number of nouns, adjectives, and verbs
    nouns = [word for word, pos in tagged_tokens if pos.startswith('N')]
    adjectives = [word for word, pos in tagged_tokens if pos.startswith('J')]
    verbs = [word for word, pos in tagged_tokens if pos.startswith('V')]
    num_nouns = len(nouns)
    num_adjectives = len(adjectives)
    num_verbs = len(verbs)

    words = text.split()

    # Count number of 1-letter, 2-letter, and longer words
    num_one_letter_words = 0
    num_two_letter_words = 0
    num_longer_words = 0

    #counting difficult words, wrong_words and stop words
    difficult_word_count = 0
    wrong_word_count = 0
    stop_word_count = 0

    #entropy
    entropy = 0
    characters = list(text)
    frequency = Counter(characters)
    total_characters = len(characters)
        
    cnt=0
    for word in words:
        if len(word) == 1:
            num_one_letter_words += 1
        elif len(word) == 2:
            num_two_letter_words += 1
        else:
            num_longer_words += 1
        if word.lower() in stop_words:
                stop_word_count += 1
        elif dictionary.check(word):
                difficult_word_count += 1
        elif word.isalpha() and len(word) >= 6:
                wrong_word_count += 1
        # Calculate lexical diversity
        if len(words) > 0:
            lex_diversity = len(set(words)) / len(words)
        else:
            lex_diversity = 0
        # calculate Flesch Reading Ease score
        flesch_score = textstat.flesch_reading_ease(word)
        
    
        # calculate Dale-Chall Readability Score
        dchall_score = textstat.dale_chall_readability_score(word)
        
        
    
    #entropy
    for count in frequency.values():
            probability = count / total_characters
            entropy -= probability * math.log(probability, 2)

    # Store features for this document
    
    document_features=[num_nouns,num_adjectives,num_verbs,num_one_letter_words,num_two_letter_words,num_longer_words, difficult_word_count,wrong_word_count,stop_word_count,entropy,lex_diversity,flesch_score,dchall_score,label]
    documents_features.append(document_features)
    cnt+=1

df = pd.DataFrame(documents_features, columns=['num_nouns','num_adjectives','num_verbs','num_one_letter_words','num_two_letter_words','num_longer_words',' difficult_word_count','wrong_word_count','stop_word_count','entropy','lex_diversity','flesch_score','dchall_score','label'])

# Print features for each document
for array in documents_features:
    print(array)



     
Streaming output truncated to the last 5000 lines.
[4, 3, 3, 0, 1, 12, 8, 1, 3, 4.204109698098713, 1.0, 121.22, 0.05, <1x26405 sparse matrix of type '<class 'numpy.float64'>'
	with 8 stored elements in Compressed Sparse Row format>, 1]
[5, 1, 1, 1, 1, 8, 5, 1, 3, 3.8112663401784523, 1.0, 121.22, 19.48, <1x26405 sparse matrix of type '<class 'numpy.float64'>'
	with 8 stored elements in Compressed Sparse Row format>, 0]
[3, 0, 1, 0, 1, 4, 2, 2, 1, 3.7417292966721747, 1.0, 121.22, 0.05, <1x26405 sparse matrix of type '<class 'numpy.float64'>'
	with 8 stored elements in Compressed Sparse Row format>, 1]
[2, 1, 1, 0, 0, 6, 4, 0, 2, 3.6371987351738495, 1.0, 36.62, 0.05, <1x26405 sparse matrix of type '<class 'numpy.float64'>'
	with 8 stored elements in Compressed Sparse Row format>, 1]
[7, 2, 0, 0, 1, 11, 7, 1, 2, 4.104300729715388, 1.0, 121.22, 19.48, <1x26405 sparse matrix of type '<class 'numpy.float64'>'
	with 8 stored elements in Compressed Sparse Row format>, 0]
[6, 1, 1, 1, 1, 9, 6, 1, 2, 3.981177900775698, 1.0, 36.62, 19.48, <1x26405 sparse matrix of type '<class 'numpy.float64'>'
	with 8 stored elements in Compressed Sparse Row format>, 0]
[4, 2, 0, 0, 0, 6, 3, 1, 0, 3.99063461389908, 1.0, 36.62, 19.48, <1x26405 sparse matrix of type '<class 'numpy.float64'>'
	with 8 stored elements in Compressed Sparse Row format>, 0]
[7, 4, 1, 0, 0, 13, 10, 1, 1, 3.9886610432121863, 1.0, 36.62, 19.48, <1x26405 sparse matrix of type '<class 'numpy.float64'>'
	with 8 stored elements in Compressed Sparse Row format>, 0]
[3, 3, 0, 0, 1, 6, 4, 1, 1, 3.9580875231742882, 1.0, 121.22, 19.48, <1x26405 sparse matrix of type '<class 'numpy.float64'>'
	with 8 stored elements in Compressed Sparse Row format>, 0]
[2, 1, 0, 0, 1, 4, 3, 0, 2, 3.7811470208191236, 1.0, -47.99, 19.48, <1x26405 sparse matrix of type '<class 'numpy.float64'>'
	with 8 stored elements in Compressed Sparse Row format>, 0]
[3, 1, 1, 0, 0, 7, 6, 0, 1, 4.2760144858979094, 1.0, 121.22, 0.05, <1x26405 sparse matrix of type '<class 'numpy.float64'>'
	with 8 stored elements in Compressed Sparse Row format>, 1]
[6, 0, 0, 0, 1, 6, 5, 0, 1, 3.884795487373133, 1.0, 121.22, 19.48, <1x26405 sparse matrix of type '<class 'numpy.float64'>'
	with 8 stored elements in Compressed Sparse Row format>, 1]
[2, 1, 1, 1, 0, 4, 2, 1, 1, 3.607475391455489, 1.0, 36.62, 19.48, <1x26405 sparse matrix of type '<class 'numpy.float64'>'
	with 8 stored elements in Compressed Sparse Row format>, 0]
[5, 3, 1, 0, 3, 9, 7, 1, 2, 3.94242256021327, 1.0, 36.62, 19.48, <1x26405 sparse matrix of type '<class 'numpy.float64'>'
	with 8 stored elements in Compressed Sparse Row format>, 0]
[4, 2, 1, 0, 1, 8, 7, 0, 2, 3.8675995199985724, 1.0, 121.22, 19.48, <1x26405 sparse matrix of type '<class 'numpy.float64'>'
	with 8 stored elements in Compressed Sparse Row format>, 0]
[2, 2, 1, 1, 1, 6, 6, 0, 2, 3.8153377504703125, 1.0, 121.22, 19.48, <1x26405 sparse matrix of type '<class 'numpy.float64'>'
	with 8 stored elements in Compressed Sparse Row format>, 0]
[6, 0, 2, 0, 2, 8, 6, 0, 2, 3.9577551461864084, 1.0, 36.62, 19.48, <1x26405 sparse matrix of type '<class 'numpy.float64'>'
	with 8 stored elements in Compressed Sparse Row format>, 0]
[3, 0, 1, 0, 2, 5, 2, 1, 4, 3.8403897394217825, 1.0, -47.99, 19.48, <1x26405 sparse matrix of type '<class 'numpy.float64'>'
	with 8 stored elements in Compressed Sparse Row format>, 0]
[5, 1, 1, 0, 1, 11, 6, 0, 4, 3.8451667795947433, 1.0, 121.22, 19.48, <1x26405 sparse matrix of type '<class 'numpy.float64'>'
	with 8 stored elements in Compressed Sparse Row format>, 0]
[5, 1, 1, 0, 4, 8, 7, 0, 3, 3.952860765487288, 1.0, 36.62, 0.05, <1x26405 sparse matrix of type '<class 'numpy.float64'>'
	with 8 stored elements in Compressed Sparse Row format>, 0]
[2, 2, 1, 2, 2, 6, 5, 0, 5, 3.4240930199314876, 0.9, 36.62, 0.05, <1x26405 sparse matrix of type '<class 'numpy.float64'>'
	with 8 stored elements in Compressed Sparse Row format>, 0]
[6, 0, 2, 0, 1, 11, 5, 0, 3, 4.239942173508471, 1.0, 36.62, 19.48, <1x26405 sparse matrix of type '<class 'numpy.float64'>'
	with 8 stored elements in Compressed Sparse Row format>, 0]
[4, 1, 1, 0, 0, 7, 5, 0, 1, 3.9640870502331427, 1.0, -217.19, 19.48, <1x26405 sparse matrix of type '<class 'numpy.float64'>'
	with 8 stored elements in Compressed Sparse Row format>, 1]
[4, 2, 3, 0, 1, 11, 8, 0, 4, 3.9490463424931153, 1.0, -47.99, 19.48, <1x26405 sparse matrix of type '<class 'numpy.float64'>'
	with 8 stored elements in Compressed Sparse Row format>, 0]
[4, 1, 3, 1, 0, 9, 5, 1, 3, 3.999738862489498, 1.0, 121.22, 19.48, <1x26405 sparse matrix of type '<class 'numpy.float64'>'
	with 8 stored elements in Compressed Sparse Row format>, 1]
[4, 1, 2, 0, 0, 9, 7, 0, 1, 4.049286782221463, 1.0, 36.62, 19.48, <1x26405 sparse matrix of type '<class 'numpy.float64'>'
	with 8 stored elements in Compressed Sparse Row format>, 1]
[2, 4, 2, 0, 2, 10, 6, 0, 4, 4.083239537738362, 1.0, 36.62, 19.48, <1x26405 sparse matrix of type '<class 'numpy.float64'>'
	with 8 stored elements in Compressed Sparse Row format>, 1]
[3, 1, 0, 0, 0, 5, 4, 1, 0, 3.977804815904365, 1.0, 121.22, 19.48, <1x26405 sparse matrix of type '<class 'numpy.float64'>'
	with 8 stored elements in Compressed Sparse Row format>, 1]
[4, 1, 3, 0, 1, 10, 7, 1, 2, 4.095196306876741, 1.0, -47.99, 19.48, <1x26405 sparse matrix of type '<class 'numpy.float64'>'
	with 8 stored elements in Compressed Sparse Row format>, 1]
[5, 2, 4, 0, 1, 13, 8, 1, 4, 3.9145380476274743, 1.0, -47.99, 0.05, <1x26405 sparse matrix of type '<class 'numpy.float64'>'
	with 8 stored elements in Compressed Sparse Row format>, 1]
[2, 0, 2, 0, 1, 4, 1, 1, 2, 4.009156577419443, 1.0, -47.99, 19.48, <1x26405 sparse matrix of type '<class 'numpy.float64'>'
	with 8 stored elements in Compressed Sparse Row format>, 0]
[3, 3, 2, 0, 0, 10, 6, 0, 2, 3.9412917625220065, 1.0, 121.22, 0.05, <1x26405 sparse matrix of type '<class 'numpy.float64'>'
	with 8 stored elements in Compressed Sparse Row format>, 0]
[9, 2, 2, 1, 2, 17, 10, 1, 7, 3.9759485855134544, 1.0, 121.22, 19.48, <1x26405 sparse matrix of type '<class 'numpy.float64'>'
	with 8 stored elements in Compressed Sparse Row format>, 1]
[4, 1, 3, 0, 1, 9, 5, 0, 4, 3.8033681646673116, 1.0, 36.62, 19.48, <1x26405 sparse matrix of type '<class 'numpy.float64'>'
	with 8 stored elements in Compressed Sparse Row format>, 0]
[6, 0, 1, 1, 2, 13, 9, 0, 7, 3.9509873943255656, 1.0, 121.22, 19.48, <1x26405 sparse matrix of type '<class 'numpy.float64'>'
	with 8 stored elements in Compressed Sparse Row format>, 1]
[4, 0, 2, 0, 0, 9, 5, 0, 3, 4.079303137536765, 1.0, 121.22, 19.48, <1x26405 sparse matrix of type '<class 'numpy.float64'>'
	with 8 stored elements in Compressed Sparse Row format>, 0]
[4, 3, 3, 0, 1, 10, 10, 0, 1, 3.9975511311187932, 1.0, 36.62, 19.48, <1x26405 sparse matrix of type '<class 'numpy.float64'>'
	with 8 stored elements in Compressed Sparse Row format>, 1]
[5, 1, 3, 0, 3, 9, 8, 0, 3, 3.863581799102185, 1.0, 121.22, 0.05, <1x26405 sparse matrix of type '<class 'numpy.float64'>'
	with 8 stored elements in Compressed Sparse Row format>, 0]
[6, 0, 1, 0, 1, 9, 5, 3, 2, 4.243905054588417, 1.0, 36.62, 19.48, <1x26405 sparse matrix of type '<class 'numpy.float64'>'
	with 8 stored elements in Compressed Sparse Row format>, 1]
[4, 2, 4, 0, 3, 12, 8, 2, 5, 4.0421528354568865, 1.0, 121.22, 0.05, <1x26405 sparse matrix of type '<class 'numpy.float64'>'
	with 8 stored elements in Compressed Sparse Row format>, 1]
[2, 1, 1, 0, 2, 4, 2, 0, 2, 3.7183093602234187, 1.0, 121.22, 19.48, <1x26405 sparse matrix of type '<class 'numpy.float64'>'
	with 8 stored elements in Compressed Sparse Row format>, 0]
[2, 1, 2, 0, 0, 6, 4, 0, 2, 3.7817536555801707, 1.0, 121.22, 0.05, <1x26405 sparse matrix of type '<class 'numpy.float64'>'
	with 8 stored elements in Compressed Sparse Row format>, 0]
[6, 1, 2, 0, 0, 11, 7, 1, 2, 3.9507639742751066, 1.0, -217.19, 19.48, <1x26405 sparse matrix of type '<class 'numpy.float64'>'
	with 8 stored elements in Compressed Sparse Row format>, 0]
[5, 0, 3, 0, 3, 12, 9, 0, 4, 4.137640774639726, 1.0, -47.99, 19.48, <1x26405 sparse matrix of type '<class 'numpy.float64'>'
	with 8 stored elements in Compressed Sparse Row format>, 1]
[7, 1, 2, 0, 1, 12, 9, 1, 3, 4.108302547868581, 1.0, 121.22, 0.05, <1x26405 sparse matrix of type '<class 'numpy.float64'>'
	with 8 stored elements in Compressed Sparse Row format>, 1]
[4, 3, 2, 1, 0, 11, 7, 1, 3, 3.948726825238924, 1.0, 36.62, 19.48, <1x26405 sparse matrix of type '<class 'numpy.float64'>'
	with 8 stored elements in Compressed Sparse Row format>, 1]
[7, 1, 1, 0, 0, 12, 7, 1, 2, 4.142924123429243, 1.0, 121.22, 0.05, <1x26405 sparse matrix of type '<class 'numpy.float64'>'
	with 8 stored elements in Compressed Sparse Row format>, 0]
[2, 0, 4, 0, 2, 9, 3, 0, 6, 3.992203107205412, 0.9090909090909091, 36.62, 0.05, <1x26405 sparse matrix of type '<class 'numpy.float64'>'
	with 8 stored elements in Compressed Sparse Row format>, 0]
[3, 1, 0, 2, 2, 7, 5, 0, 5, 3.993662670948676, 0.9090909090909091, 121.22, 19.48, <1x26405 sparse matrix of type '<class 'numpy.float64'>'
	with 8 stored elements in Compressed Sparse Row format>, 0]
[3, 1, 0, 0, 1, 4, 5, 0, 0, 3.8471282101364253, 1.0, 36.62, 19.48, <1x26405 sparse matrix of type '<class 'numpy.float64'>'
	with 8 stored elements in Compressed Sparse Row format>, 0]
[7, 2, 0, 1, 1, 9, 9, 0, 2, 3.8064780291330087, 1.0, 121.22, 0.05, <1x26405 sparse matrix of type '<class 'numpy.float64'>'
	with 8 stored elements in Compressed Sparse Row format>, 0]
[2, 2, 1, 0, 1, 5, 5, 0, 1, 4.089199419023815, 1.0, 121.22, 19.48, <1x26405 sparse matrix of type '<class 'numpy.float64'>'
	with 8 stored elements in Compressed Sparse Row format>, 1]
[6, 0, 0, 0, 2, 10, 7, 0, 4, 4.03580359459481, 1.0, 36.62, 19.48, <1x26405 sparse matrix of type '<class 'numpy.float64'>'
	with 8 stored elements in Compressed Sparse Row format>, 1]
[4, 0, 2, 0, 1, 9, 7, 0, 3, 4.041482352417353, 1.0, 36.62, 19.48, <1x26405 sparse matrix of type '<class 'numpy.float64'>'
	with 8 stored elements in Compressed Sparse Row format>, 1]
[7, 2, 1, 0, 3, 13, 8, 0, 6, 4.012779471692691, 1.0, 121.22, 0.05, <1x26405 sparse matrix of type '<class 'numpy.float64'>'
	with 8 stored elements in Compressed Sparse Row format>, 1]
[5, 3, 1, 0, 1, 12, 5, 1, 4, 4.0955764404474495, 1.0, -132.59, 19.48, <1x26405 sparse matrix of type '<class 'numpy.float64'>'
	with 8 stored elements in Compressed Sparse Row format>, 1]
[5, 0, 1, 0, 0, 7, 6, 0, 1, 3.824082127037421, 1.0, 121.22, 19.48, <1x26405 sparse matrix of type '<class 'numpy.float64'>'
	with 8 stored elements in Compressed Sparse Row format>, 0]
[8, 1, 2, 0, 1, 13, 4, 2, 4, 4.20186605014238, 1.0, 121.22, 19.48, <1x26405 sparse matrix of type '<class 'numpy.float64'>'
	with 8 stored elements in Compressed Sparse Row format>, 0]
[5, 1, 0, 0, 2, 8, 6, 1, 3, 4.069337114526538, 1.0, -217.19, 19.48, <1x26405 sparse matrix of type '<class 'numpy.float64'>'
	with 8 stored elements in Compressed Sparse Row format>, 1]
[4, 2, 2, 0, 1, 9, 7, 0, 3, 3.807687813477662, 1.0, 121.22, 0.05, <1x26405 sparse matrix of type '<class 'numpy.float64'>'
	with 8 stored elements in Compressed Sparse Row format>, 1]
[6, 1, 2, 0, 0, 9, 4, 3, 0, 3.829874146991517, 1.0, 121.22, 0.05, <1x26405 sparse matrix of type '<class 'numpy.float64'>'
	with 8 stored elements in Compressed Sparse Row format>, 0]
[5, 2, 2, 1, 2, 10, 6, 0, 6, 4.049594582397481, 1.0, 36.62, 19.48, <1x26405 sparse matrix of type '<class 'numpy.float64'>'
	with 8 stored elements in Compressed Sparse Row format>, 0]
[5, 0, 3, 0, 2, 11, 4, 1, 7, 3.96559694405447, 1.0, 121.22, 0.05, <1x26405 sparse matrix of type '<class 'numpy.float64'>'
	with 8 stored elements in Compressed Sparse Row format>, 0]
[3, 1, 0, 2, 0, 5, 3, 1, 2, 3.831401845392172, 1.0, 36.62, 0.05, <1x26405 sparse matrix of type '<class 'numpy.float64'>'
	with 8 stored elements in Compressed Sparse Row format>, 0]
[4, 2, 1, 0, 0, 9, 7, 0, 2, 4.019134260037475, 1.0, 121.22, 0.05, <1x26405 sparse matrix of type '<class 'numpy.float64'>'
	with 8 stored elements in Compressed Sparse Row format>, 1]
[3, 1, 1, 0, 0, 7, 4, 0, 2, 3.7576925230310643, 1.0, 121.22, 19.48, <1x26405 sparse matrix of type '<class 'numpy.float64'>'
	with 8 stored elements in Compressed Sparse Row format>, 0]
[2, 1, 0, 0, 1, 5, 2, 1, 3, 3.6914280318460246, 1.0, -47.99, 0.05, <1x26405 sparse matrix of type '<class 'numpy.float64'>'
	with 8 stored elements in Compressed Sparse Row format>, 0]
[4, 1, 2, 1, 1, 9, 4, 2, 5, 4.037981404671065, 1.0, -132.59, 19.48, <1x26405 sparse matrix of type '<class 'numpy.float64'>'
	with 8 stored elements in Compressed Sparse Row format>, 0]
[7, 0, 2, 0, 2, 12, 9, 0, 4, 4.173837875139315, 1.0, 36.62, 19.48, <1x26405 sparse matrix of type '<class 'numpy.float64'>'
	with 8 stored elements in Compressed Sparse Row format>, 1]
[3, 0, 5, 0, 2, 10, 8, 0, 4, 3.9987639267485724, 1.0, 121.22, 0.05, <1x26405 sparse matrix of type '<class 'numpy.float64'>'
	with 8 stored elements in Compressed Sparse Row format>, 0]
[5, 1, 1, 0, 1, 8, 7, 0, 2, 3.997743366197588, 1.0, 121.22, 0.05, <1x26405 sparse matrix of type '<class 'numpy.float64'>'
	with 8 stored elements in Compressed Sparse Row format>, 1]
[1, 1, 5, 0, 2, 8, 8, 0, 2, 3.843590820407827, 0.9, 36.62, 0.05, <1x26405 sparse matrix of type '<class 'numpy.float64'>'
	with 8 stored elements in Compressed Sparse Row format>, 1]
[3, 1, 1, 0, 1, 5, 2, 0, 1, 3.576166429919335, 1.0, 121.22, 0.05, <1x26405 sparse matrix of type '<class 'numpy.float64'>'
	with 8 stored elements in Compressed Sparse Row format>, 1]
[6, 1, 2, 0, 2, 11, 7, 0, 5, 4.006680656584127, 1.0, 121.22, 0.05, <1x26405 sparse matrix of type '<class 'numpy.float64'>'
	with 8 stored elements in Compressed Sparse Row format>, 1]
[2, 1, 0, 0, 0, 3, 2, 0, 0, 3.202819531114783, 1.0, 121.22, 19.48, <1x26405 sparse matrix of type '<class 'numpy.float64'>'
	with 8 stored elements in Compressed Sparse Row format>, 1]
[2, 1, 1, 0, 0, 5, 5, 0, 0, 4.082328136858431, 1.0, -132.59, 19.48, <1x26405 sparse matrix of type '<class 'numpy.float64'>'
	with 8 stored elements in Compressed Sparse Row format>, 0]
[1, 2, 3, 0, 0, 9, 5, 1, 2, 4.076465890981193, 1.0, -132.59, 19.48, <1x26405 sparse matrix of type '<class 'numpy.float64'>'
	with 8 stored elements in Compressed Sparse Row format>, 0]
[2, 1, 3, 0, 2, 7, 6, 0, 3, 4.051863177649915, 1.0, 121.22, 0.05, <1x26405 sparse matrix of type '<class 'numpy.float64'>'
	with 8 stored elements in Compressed Sparse Row format>, 1]
[3, 1, 4, 0, 2, 10, 7, 0, 4, 4.080540258885059, 1.0, -47.99, 0.05, <1x26405 sparse matrix of type '<class 'numpy.float64'>'
	with 8 stored elements in Compressed Sparse Row format>, 1]
[4, 1, 3, 0, 0, 9, 5, 2, 1, 3.9573056224494167, 1.0, 36.62, 19.48, <1x26405 sparse matrix of type '<class 'numpy.float64'>'
	with 8 stored elements in Compressed Sparse Row format>, 0]
[6, 2, 2, 0, 0, 12, 7, 0, 3, 4.285251932314447, 1.0, 121.22, 0.05, <1x26405 sparse matrix of type '<class 'numpy.float64'>'
	with 8 stored elements in Compressed Sparse Row format>, 0]
[2, 0, 2, 1, 1, 8, 5, 0, 4, 4.094515262868363, 1.0, -47.99, 0.05, <1x26405 sparse matrix of type '<class 'numpy.float64'>'
	with 8 stored elements in Compressed Sparse Row format>, 0]
[4, 0, 1, 0, 1, 5, 3, 2, 0, 4.06279520858371, 1.0, 121.22, 19.48, <1x26405 sparse matrix of type '<class 'numpy.float64'>'
	with 8 stored elements in Compressed Sparse Row format>, 0]
[4, 1, 4, 0, 5, 9, 7, 0, 7, 3.969623883571139, 0.9285714285714286, 121.22, 0.05, <1x26405 sparse matrix of type '<class 'numpy.float64'>'
	with 8 stored elements in Compressed Sparse Row format>, 1]
[4, 2, 1, 0, 2, 9, 8, 1, 2, 4.142003068933476, 1.0, 121.22, 0.05, <1x26405 sparse matrix of type '<class 'numpy.float64'>'
	with 8 stored elements in Compressed Sparse Row format>, 1]
[2, 2, 2, 0, 1, 10, 5, 0, 4, 3.922552660842556, 0.9090909090909091, 121.22, 0.05, <1x26405 sparse matrix of type '<class 'numpy.float64'>'
	with 8 stored elements in Compressed Sparse Row format>, 0]
[5, 0, 1, 0, 2, 9, 2, 0, 5, 4.1037006129630305, 1.0, 36.62, 19.48, <1x26405 sparse matrix of type '<class 'numpy.float64'>'
	with 8 stored elements in Compressed Sparse Row format>, 0]
[6, 2, 2, 0, 2, 11, 9, 1, 3, 4.144251822827704, 1.0, 121.22, 19.48, <1x26405 sparse matrix of type '<class 'numpy.float64'>'
	with 8 stored elements in Compressed Sparse Row format>, 0]
[2, 1, 2, 1, 0, 6, 6, 0, 1, 3.9011462208004106, 1.0, 36.62, 19.48, <1x26405 sparse matrix of type '<class 'numpy.float64'>'
	with 8 stored elements in Compressed Sparse Row format>, 0]
[4, 1, 2, 1, 1, 9, 6, 1, 3, 3.81072208059502, 1.0, 121.22, 0.05, <1x26405 sparse matrix of type '<class 'numpy.float64'>'
	with 8 stored elements in Compressed Sparse Row format>, 0]
[6, 3, 1, 1, 0, 16, 8, 2, 4, 4.24073655723308, 1.0, 36.62, 19.48, <1x26405 sparse matrix of type '<class 'numpy.float64'>'
	with 8 stored elements in Compressed Sparse Row format>, 1]
[3, 3, 0, 0, 0, 6, 4, 1, 0, 4.041959406362726, 1.0, 36.62, 19.48, <1x26405 sparse matrix of type '<class 'numpy.float64'>'
	with 8 stored elements in Compressed Sparse Row format>, 1]
[7, 1, 1, 0, 1, 9, 4, 0, 1, 3.952481759469599, 0.9, 121.22, 19.48, <1x26405 sparse matrix of type '<class 'numpy.float64'>'
	with 8 stored elements in Compressed Sparse Row format>, 1]
[4, 1, 5, 0, 3, 13, 8, 1, 7, 4.084739476615381, 1.0, 36.62, 19.48, <1x26405 sparse matrix of type '<class 'numpy.float64'>'
	with 8 stored elements in Compressed Sparse Row format>, 1]
[3, 1, 4, 1, 1, 10, 5, 0, 3, 3.958994886245668, 1.0, 121.22, 19.48, <1x26405 sparse matrix of type '<class 'numpy.float64'>'
	with 8 stored elements in Compressed Sparse Row format>, 1]
[3, 2, 4, 0, 4, 13, 5, 1, 9, 3.9645839184573743, 0.8823529411764706, 36.62, 19.48, <1x26405 sparse matrix of type '<class 'numpy.float64'>'
	with 8 stored elements in Compressed Sparse Row format>, 0]
[8, 0, 1, 0, 3, 10, 9, 0, 3, 4.006918272810276, 0.8461538461538461, -47.99, 19.48, <1x26405 sparse matrix of type '<class 'numpy.float64'>'
	with 8 stored elements in Compressed Sparse Row format>, 0]
[3, 0, 3, 0, 2, 7, 4, 0, 2, 3.990942545264532, 1.0, 121.22, 19.48, <1x26405 sparse matrix of type '<class 'numpy.float64'>'
	with 8 stored elements in Compressed Sparse Row format>, 1]
[2, 0, 0, 0, 0, 2, 2, 0, 0, 3.614369445886757, 1.0, 36.62, 35.27, <1x26405 sparse matrix of type '<class 'numpy.float64'>'
	with 8 stored elements in Compressed Sparse Row format>, 0]
[4, 1, 2, 0, 2, 9, 8, 0, 2, 4.08182836640272, 1.0, 36.62, 19.48, <1x26405 sparse matrix of type '<class 'numpy.float64'>'
	with 8 stored elements in Compressed Sparse Row format>, 1]
[5, 0, 1, 0, 0, 8, 6, 0, 2, 3.5379466767285637, 1.0, 121.22, 0.05, <1x26405 sparse matrix of type '<class 'numpy.float64'>'
	with 8 stored elements in Compressed Sparse Row format>, 1]
[3, 2, 1, 0, 0, 6, 5, 1, 0, 3.7462358058795395, 1.0, 121.22, 19.48, <1x26405 sparse matrix of type '<class 'numpy.float64'>'
	with 8 stored elements in Compressed Sparse Row format>, 0]
[1, 0, 2, 1, 1, 2, 2, 0, 2, 3.4613201402110088, 1.0, 121.22, 19.48, <1x26405 sparse matrix of type '<class 'numpy.float64'>'
	with 8 stored elements in Compressed Sparse Row format>, 0]
[6, 2, 1, 1, 2, 9, 3, 0, 4, 3.8793210869521775, 1.0, 121.22, 19.48, <1x26405 sparse matrix of type '<class 'numpy.float64'>'
	with 8 stored elements in Compressed Sparse Row format>, 0]
[1, 0, 1, 0, 0, 3, 2, 0, 1, 3.5726236638951634, 1.0, 36.62, 19.48, <1x26405 sparse matrix of type '<class 'numpy.float64'>'
	with 8 stored elements in Compressed Sparse Row format>, 0]
[5, 0, 2, 0, 2, 7, 5, 2, 2, 3.8319020585196215, 1.0, -47.99, 19.48, <1x26405 sparse matrix of type '<class 'numpy.float64'>'
	with 8 stored elements in Compressed Sparse Row format>, 0]
[2, 1, 1, 0, 0, 4, 4, 0, 0, 3.555533151426996, 1.0, 121.22, 0.05, <1x26405 sparse matrix of type '<class 'numpy.float64'>'
	with 8 stored elements in Compressed Sparse Row format>, 0]
[4, 3, 2, 0, 1, 10, 6, 1, 3, 4.079957474844326, 1.0, -47.99, 19.48, <1x26405 sparse matrix of type '<class 'numpy.float64'>'
	with 8 stored elements in Compressed Sparse Row format>, 0]
[4, 2, 1, 0, 0, 9, 6, 0, 3, 3.7984293449089406, 1.0, 36.62, 19.48, <1x26405 sparse matrix of type '<class 'numpy.float64'>'
	with 8 stored elements in Compressed Sparse Row format>, 1]
[2, 1, 1, 2, 1, 6, 5, 0, 4, 3.855135596764292, 0.8888888888888888, 36.62, 0.05, <1x26405 sparse matrix of type '<class 'numpy.float64'>'
	with 8 stored elements in Compressed Sparse Row format>, 1]
[8, 4, 0, 0, 1, 12, 9, 1, 1, 4.064006818496299, 1.0, 36.62, 19.48, <1x26405 sparse matrix of type '<class 'numpy.float64'>'
	with 8 stored elements in Compressed Sparse Row format>, 1]
[4, 3, 3, 0, 1, 11, 7, 0, 4, 4.147104741993321, 1.0, 36.62, 0.05, <1x26405 sparse matrix of type '<class 'numpy.float64'>'
	with 8 stored elements in Compressed Sparse Row format>, 1]
[4, 1, 2, 0, 2, 7, 7, 1, 1, 3.9474416468531226, 1.0, 121.22, 0.05, <1x26405 sparse matrix of type '<class 'numpy.float64'>'
	with 8 stored elements in Compressed Sparse Row format>, 1]
[3, 0, 4, 0, 1, 10, 7, 1, 3, 3.9930105397520443, 1.0, -47.99, 19.48, <1x26405 sparse matrix of type '<class 'numpy.float64'>'
	with 8 stored elements in Compressed Sparse Row format>, 1]
[3, 1, 2, 0, 2, 8, 5, 2, 3, 3.8206484634906013, 1.0, -47.99, 19.48, <1x26405 sparse matrix of type '<class 'numpy.float64'>'
	with 8 stored elements in Compressed Sparse Row format>, 0]
[3, 0, 1, 0, 1, 7, 4, 0, 3, 3.6057839422022395, 1.0, 36.62, 19.48, <1x26405 sparse matrix of type '<class 'numpy.float64'>'
	with 8 stored elements in Compressed Sparse Row format>, 1]
[8, 1, 2, 0, 2, 13, 8, 1, 4, 4.124954493732064, 1.0, 121.22, 19.48, <1x26405 sparse matrix of type '<class 'numpy.float64'>'
	with 8 stored elements in Compressed Sparse Row format>, 1]
[7, 2, 3, 0, 2, 12, 10, 0, 2, 3.9792420159387567, 0.9285714285714286, -217.19, 19.48, <1x26405 sparse matrix of type '<class 'numpy.float64'>'
	with 8 stored elements in Compressed Sparse Row format>, 0]
[2, 0, 2, 0, 1, 5, 1, 1, 3, 3.914019053340094, 1.0, -132.59, 19.48, <1x26405 sparse matrix of type '<class 'numpy.float64'>'
	with 8 stored elements in Compressed Sparse Row format>, 0]
[3, 0, 0, 0, 1, 4, 2, 1, 2, 3.723231428797621, 1.0, 36.62, 0.05, <1x26405 sparse matrix of type '<class 'numpy.float64'>'
	with 8 stored elements in Compressed Sparse Row format>, 1]
[4, 0, 2, 0, 0, 7, 3, 2, 1, 3.9186533736747595, 1.0, 121.22, 19.48, <1x26405 sparse matrix of type '<class 'numpy.float64'>'
	with 8 stored elements in Compressed Sparse Row format>, 1]
[5, 0, 0, 0, 0, 7, 5, 0, 2, 3.5115146023099286, 1.0, -132.59, 19.48, <1x26405 sparse matrix of type '<class 'numpy.float64'>'
	with 8 stored elements in Compressed Sparse Row format>, 1]
[4, 0, 3, 0, 2, 9, 8, 0, 3, 4.004316472639794, 0.9090909090909091, 121.22, 0.05, <1x26405 sparse matrix of type '<class 'numpy.float64'>'
	with 8 stored elements in Compressed Sparse Row format>, 1]
[5, 5, 0, 2, 3, 10, 5, 1, 5, 3.9105905195467474, 0.9333333333333333, -47.99, 19.48, <1x26405 sparse matrix of type '<class 'numpy.float64'>'
	with 8 stored elements in Compressed Sparse Row format>, 0]
[4, 1, 0, 0, 0, 7, 3, 2, 2, 4.0271496412209045, 1.0, 36.62, 19.48, <1x26405 sparse matrix of type '<class 'numpy.float64'>'
	with 8 stored elements in Compressed Sparse Row format>, 1]
[5, 1, 1, 1, 1, 9, 3, 2, 3, 4.05753527167499, 1.0, 121.22, 19.48, <1x26405 sparse matrix of type '<class 'numpy.float64'>'
	with 8 stored elements in Compressed Sparse Row format>, 0]
[9, 2, 3, 0, 0, 15, 12, 0, 2, 4.035276064770258, 1.0, 121.22, 19.48, <1x26405 sparse matrix of type '<class 'numpy.float64'>'
	with 8 stored elements in Compressed Sparse Row format>, 1]
[5, 1, 2, 0, 1, 12, 7, 1, 4, 4.007410348234108, 1.0, 121.22, 0.05, <1x26405 sparse matrix of type '<class 'numpy.float64'>'
	with 8 stored elements in Compressed Sparse Row format>, 1]
[4, 2, 1, 0, 1, 10, 4, 3, 2, 4.277063676883724, 1.0, 36.62, 0.05, <1x26405 sparse matrix of type '<class 'numpy.float64'>'
	with 8 stored elements in Compressed Sparse Row format>, 1]
[3, 1, 4, 0, 1, 11, 7, 0, 4, 4.003216620685291, 1.0, 121.22, 0.05, <1x26405 sparse matrix of type '<class 'numpy.float64'>'
	with 8 stored elements in Compressed Sparse Row format>, 0]
[3, 2, 1, 0, 0, 8, 7, 0, 1, 3.968047190938306, 1.0, 36.62, 19.48, <1x26405 sparse matrix of type '<class 'numpy.float64'>'
	with 8 stored elements in Compressed Sparse Row format>, 1]
[5, 1, 2, 0, 0, 9, 6, 1, 1, 4.141621479593624, 1.0, 121.22, 19.48, <1x26405 sparse matrix of type '<class 'numpy.float64'>'
	with 8 stored elements in Compressed Sparse Row format>, 0]
[1, 2, 1, 0, 1, 5, 3, 0, 2, 3.9146892241642446, 1.0, -47.99, 0.05, <1x26405 sparse matrix of type '<class 'numpy.float64'>'
	with 8 stored elements in Compressed Sparse Row format>, 1]
[2, 1, 1, 0, 0, 6, 3, 1, 1, 3.868169717304463, 1.0, 36.62, 19.48, <1x26405 sparse matrix of type '<class 'numpy.float64'>'
	with 8 stored elements in Compressed Sparse Row format>, 1]
[7, 0, 1, 0, 0, 8, 6, 0, 0, 4.21743416420658, 1.0, 121.22, 19.48, <1x26405 sparse matrix of type '<class 'numpy.float64'>'
	with 8 stored elements in Compressed Sparse Row format>, 0]
[6, 3, 3, 2, 3, 12, 8, 1, 6, 3.793272482840645, 0.9411764705882353, 121.22, 0.05, <1x26405 sparse matrix of type '<class 'numpy.float64'>'
	with 8 stored elements in Compressed Sparse Row format>, 0]
[5, 1, 3, 0, 2, 9, 8, 1, 2, 4.041084980573949, 1.0, -47.99, 19.48, <1x26405 sparse matrix of type '<class 'numpy.float64'>'
	with 8 stored elements in Compressed Sparse Row format>, 1]
[3, 1, 1, 1, 2, 6, 6, 0, 3, 3.54787173300054, 1.0, 36.62, 19.48, <1x26405 sparse matrix of type '<class 'numpy.float64'>'
	with 8 stored elements in Compressed Sparse Row format>, 0]
[2, 0, 1, 1, 3, 4, 3, 0, 4, 3.586248827916981, 0.875, 121.22, 19.48, <1x26405 sparse matrix of type '<class 'numpy.float64'>'
	with 8 stored elements in Compressed Sparse Row format>, 0]
[3, 1, 1, 0, 0, 6, 3, 0, 0, 3.997085133395087, 1.0, 36.62, 19.48, <1x26405 sparse matrix of type '<class 'numpy.float64'>'
	with 8 stored elements in Compressed Sparse Row format>, 0]
[4, 0, 2, 0, 2, 8, 6, 0, 3, 4.189564512877429, 1.0, 121.22, 19.48, <1x26405 sparse matrix of type '<class 'numpy.float64'>'
	with 8 stored elements in Compressed Sparse Row format>, 1]
[5, 0, 2, 0, 2, 10, 7, 0, 5, 3.6738564339126754, 1.0, 121.22, 0.05, <1x26405 sparse matrix of type '<class 'numpy.float64'>'
	with 8 stored elements in Compressed Sparse Row format>, 1]
[4, 1, 2, 0, 0, 11, 6, 1, 2, 4.1405759189637745, 0.9090909090909091, 36.62, 0.05, <1x26405 sparse matrix of type '<class 'numpy.float64'>'
	with 8 stored elements in Compressed Sparse Row format>, 0]
[5, 0, 2, 0, 4, 12, 6, 0, 9, 3.923640678255834, 0.875, 121.22, 0.05, <1x26405 sparse matrix of type '<class 'numpy.float64'>'
	with 8 stored elements in Compressed Sparse Row format>, 0]
[5, 1, 1, 0, 2, 7, 6, 1, 2, 3.9285365356907525, 1.0, 36.62, 19.48, <1x26405 sparse matrix of type '<class 'numpy.float64'>'
	with 8 stored elements in Compressed Sparse Row format>, 1]
[5, 1, 3, 0, 4, 10, 8, 0, 5, 4.152140733538532, 1.0, 121.22, 0.05, <1x26405 sparse matrix of type '<class 'numpy.float64'>'
	with 8 stored elements in Compressed Sparse Row format>, 1]
[3, 1, 0, 0, 2, 5, 4, 0, 3, 3.627567157116928, 1.0, 36.62, 19.48, <1x26405 sparse matrix of type '<class 'numpy.float64'>'
	with 8 stored elements in Compressed Sparse Row format>, 0]
[3, 3, 0, 0, 0, 8, 6, 0, 1, 4.004414521243953, 1.0, 121.22, 0.05, <1x26405 sparse matrix of type '<class 'numpy.float64'>'
	with 8 stored elements in Compressed Sparse Row format>, 1]
[3, 3, 2, 0, 0, 10, 10, 0, 0, 4.242405928905277, 1.0, -47.99, 19.48, <1x26405 sparse matrix of type '<class 'numpy.float64'>'
	with 8 stored elements in Compressed Sparse Row format>, 1]
[5, 1, 4, 0, 2, 11, 9, 0, 4, 4.057280795332158, 1.0, 121.22, 0.05, <1x26405 sparse matrix of type '<class 'numpy.float64'>'
	with 8 stored elements in Compressed Sparse Row format>, 1]
[2, 0, 0, 0, 0, 2, 1, 0, 0, 3.52164063634332, 1.0, 36.62, 19.48, <1x26405 sparse matrix of type '<class 'numpy.float64'>'
	with 8 stored elements in Compressed Sparse Row format>, 0]
[7, 2, 1, 0, 1, 12, 8, 2, 3, 3.8803886213162126, 1.0, -47.99, 19.48, <1x26405 sparse matrix of type '<class 'numpy.float64'>'
	with 8 stored elements in Compressed Sparse Row format>, 0]
[6, 0, 3, 0, 2, 12, 8, 2, 4, 3.9452440222901157, 1.0, -47.99, 0.05, <1x26405 sparse matrix of type '<class 'numpy.float64'>'
	with 8 stored elements in Compressed Sparse Row format>, 1]
[2, 4, 1, 0, 2, 9, 8, 0, 3, 3.994091135410867, 1.0, 121.22, 0.05, <1x26405 sparse matrix of type '<class 'numpy.float64'>'
	with 8 stored elements in Compressed Sparse Row format>, 1]
[6, 0, 0, 1, 2, 3, 0, 2, 1, 3.707188259535061, 0.8333333333333334, -47.99, 19.48, <1x26405 sparse matrix of type '<class 'numpy.float64'>'
	with 8 stored elements in Compressed Sparse Row format>, 0]
[5, 1, 2, 0, 2, 11, 6, 0, 5, 4.02980355258496, 1.0, 121.22, 0.05, <1x26405 sparse matrix of type '<class 'numpy.float64'>'
	with 8 stored elements in Compressed Sparse Row format>, 1]
[7, 0, 3, 0, 3, 11, 8, 0, 4, 4.024682183505519, 1.0, -47.99, 19.48, <1x26405 sparse matrix of type '<class 'numpy.float64'>'
	with 8 stored elements in Compressed Sparse Row format>, 0]
[2, 2, 0, 0, 0, 7, 3, 0, 2, 3.943981820580905, 1.0, 36.62, 19.48, <1x26405 sparse matrix of type '<class 'numpy.float64'>'
	with 8 stored elements in Compressed Sparse Row format>, 0]
[6, 1, 2, 0, 0, 10, 7, 2, 1, 4.274058720398254, 1.0, 36.62, 19.48, <1x26405 sparse matrix of type '<class 'numpy.float64'>'
	with 8 stored elements in Compressed Sparse Row format>, 1]
[4, 0, 1, 0, 0, 6, 5, 0, 1, 3.6803253700578904, 1.0, -47.99, 19.48, <1x26405 sparse matrix of type '<class 'numpy.float64'>'
	with 8 stored elements in Compressed Sparse Row format>, 1]
[3, 0, 1, 0, 1, 6, 4, 0, 1, 4.2336188853070205, 1.0, 121.22, 19.48, <1x26405 sparse matrix of type '<class 'numpy.float64'>'
	with 8 stored elements in Compressed Sparse Row format>, 1]
[5, 1, 2, 0, 1, 9, 9, 0, 1, 3.962293960104269, 1.0, -132.59, 19.48, <1x26405 sparse matrix of type '<class 'numpy.float64'>'
	with 8 stored elements in Compressed Sparse Row format>, 0]
[1, 2, 0, 0, 0, 3, 3, 0, 0, 3.3716535224393334, 1.0, 36.62, 0.05, <1x26405 sparse matrix of type '<class 'numpy.float64'>'
	with 8 stored elements in Compressed Sparse Row format>, 0]
[5, 1, 1, 0, 0, 9, 8, 0, 1, 4.1580904059405785, 1.0, 36.62, 19.48, <1x26405 sparse matrix of type '<class 'numpy.float64'>'
	with 8 stored elements in Compressed Sparse Row format>, 1]
[1, 1, 1, 1, 0, 5, 2, 0, 3, 3.7526004683557055, 1.0, 36.62, 0.05, <1x26405 sparse matrix of type '<class 'numpy.float64'>'
	with 8 stored elements in Compressed Sparse Row format>, 0]
[6, 5, 2, 0, 1, 14, 12, 1, 2, 4.079565151864026, 1.0, -47.99, 19.48, <1x26405 sparse matrix of type '<class 'numpy.float64'>'
	with 8 stored elements in Compressed Sparse Row format>, 1]
[2, 2, 1, 0, 1, 6, 4, 0, 1, 3.9196905740496963, 1.0, 36.62, 19.48, <1x26405 sparse matrix of type '<class 'numpy.float64'>'
	with 8 stored elements in Compressed Sparse Row format>, 0]
[3, 0, 1, 0, 1, 5, 2, 1, 2, 3.7514917257896863, 1.0, 36.62, 19.48, <1x26405 sparse matrix of type '<class 'numpy.float64'>'
	with 8 stored elements in Compressed Sparse Row format>, 1]
[6, 1, 1, 0, 0, 9, 8, 1, 0, 4.142281851876596, 1.0, 121.22, 19.48, <1x26405 sparse matrix of type '<class 'numpy.float64'>'
	with 8 stored elements in Compressed Sparse Row format>, 0]
[4, 0, 2, 0, 2, 7, 3, 1, 3, 4.046860126700891, 1.0, 36.62, 19.48, <1x26405 sparse matrix of type '<class 'numpy.float64'>'
	with 8 stored elements in Compressed Sparse Row format>, 1]
[2, 1, 1, 0, 1, 6, 6, 0, 1, 3.6309521314928395, 1.0, -132.59, 35.27, <1x26405 sparse matrix of type '<class 'numpy.float64'>'
	with 8 stored elements in Compressed Sparse Row format>, 0]
[3, 1, 1, 0, 1, 8, 5, 0, 4, 3.6835460393778057, 1.0, 121.22, 0.05, <1x26405 sparse matrix of type '<class 'numpy.float64'>'
	with 8 stored elements in Compressed Sparse Row format>, 1]
[4, 2, 0, 0, 0, 8, 5, 0, 1, 4.007667632192676, 1.0, 36.62, 0.05, <1x26405 sparse matrix of type '<class 'numpy.float64'>'
	with 8 stored elements in Compressed Sparse Row format>, 0]
[4, 3, 3, 0, 1, 11, 8, 2, 1, 4.060702176172782, 1.0, 121.22, 19.48, <1x26405 sparse matrix of type '<class 'numpy.float64'>'
	with 8 stored elements in Compressed Sparse Row format>, 1]
[3, 2, 2, 0, 2, 9, 5, 1, 3, 3.95848528253368, 1.0, -132.59, 19.48, <1x26405 sparse matrix of type '<class 'numpy.float64'>'
	with 8 stored elements in Compressed Sparse Row format>, 0]
[5, 2, 0, 0, 0, 11, 6, 0, 3, 4.011177005040109, 0.9090909090909091, 121.22, 0.05, <1x26405 sparse matrix of type '<class 'numpy.float64'>'
	with 8 stored elements in Compressed Sparse Row format>, 0]
[5, 0, 2, 0, 5, 10, 6, 0, 8, 3.8977292129037537, 0.8666666666666667, 121.22, 19.48, <1x26405 sparse matrix of type '<class 'numpy.float64'>'
	with 8 stored elements in Compressed Sparse Row format>, 0]
[4, 2, 3, 0, 3, 12, 7, 0, 7, 4.1479366661394375, 0.9333333333333333, 121.22, 0.05, <1x26405 sparse matrix of type '<class 'numpy.float64'>'
	with 8 stored elements in Compressed Sparse Row format>, 1]
[4, 0, 2, 0, 1, 7, 5, 1, 2, 3.985788211956008, 1.0, -47.99, 19.48, <1x26405 sparse matrix of type '<class 'numpy.float64'>'
	with 8 stored elements in Compressed Sparse Row format>, 0]
[6, 1, 1, 0, 1, 10, 7, 1, 2, 4.145367900472931, 1.0, 36.62, 19.48, <1x26405 sparse matrix of type '<class 'numpy.float64'>'
	with 8 stored elements in Compressed Sparse Row format>, 1]
[3, 1, 1, 0, 0, 5, 4, 1, 0, 3.6645544613389456, 1.0, 121.22, 19.48, <1x26405 sparse matrix of type '<class 'numpy.float64'>'
	with 8 stored elements in Compressed Sparse Row format>, 1]
[5, 1, 1, 0, 2, 8, 7, 0, 3, 3.937062725029969, 1.0, 36.62, 19.48, <1x26405 sparse matrix of type '<class 'numpy.float64'>'
	with 8 stored elements in Compressed Sparse Row format>, 1]
[4, 1, 1, 0, 1, 8, 5, 0, 3, 3.967485469407839, 1.0, 121.22, 0.05, <1x26405 sparse matrix of type '<class 'numpy.float64'>'
	with 8 stored elements in Compressed Sparse Row format>, 0]
[5, 1, 1, 0, 1, 10, 6, 1, 4, 4.068054773622489, 1.0, 121.22, 0.05, <1x26405 sparse matrix of type '<class 'numpy.float64'>'
	with 8 stored elements in Compressed Sparse Row format>, 0]
[6, 1, 1, 0, 0, 10, 5, 2, 2, 4.14474308025855, 1.0, -47.99, 19.48, <1x26405 sparse matrix of type '<class 'numpy.float64'>'
	with 8 stored elements in Compressed Sparse Row format>, 0]
[4, 0, 2, 0, 3, 8, 6, 1, 4, 4.041733483003217, 1.0, -47.99, 19.48, <1x26405 sparse matrix of type '<class 'numpy.float64'>'
	with 8 stored elements in Compressed Sparse Row format>, 1]
[2, 0, 1, 1, 2, 5, 4, 0, 4, 3.6971372570787473, 1.0, -132.59, 19.48, <1x26405 sparse matrix of type '<class 'numpy.float64'>'
	with 8 stored elements in Compressed Sparse Row format>, 0]
[5, 1, 2, 0, 1, 9, 6, 0, 4, 3.8513704973007585, 1.0, 121.22, 19.48, <1x26405 sparse matrix of type '<class 'numpy.float64'>'
	with 8 stored elements in Compressed Sparse Row format>, 0]
[4, 0, 1, 0, 0, 7, 4, 0, 2, 3.852974419267672, 1.0, -47.99, 19.48, <1x26405 sparse matrix of type '<class 'numpy.float64'>'
	with 8 stored elements in Compressed Sparse Row format>, 0]
[3, 1, 0, 0, 0, 5, 4, 0, 1, 3.203336922323197, 1.0, 121.22, 19.48, <1x26405 sparse matrix of type '<class 'numpy.float64'>'
	with 8 stored elements in Compressed Sparse Row format>, 1]
[1, 1, 1, 0, 2, 4, 3, 0, 3, 3.948859340762046, 1.0, 121.22, 0.05, <1x26405 sparse matrix of type '<class 'numpy.float64'>'
	with 8 stored elements in Compressed Sparse Row format>, 0]
[3, 1, 1, 0, 1, 7, 5, 0, 3, 3.8003728096085654, 1.0, 121.22, 0.05, <1x26405 sparse matrix of type '<class 'numpy.float64'>'
	with 8 stored elements in Compressed Sparse Row format>, 0]
[2, 0, 0, 0, 0, 5, 2, 0, 3, 3.6133373140453067, 1.0, 121.22, 0.05, <1x26405 sparse matrix of type '<class 'numpy.float64'>'
	with 8 stored elements in Compressed Sparse Row format>, 0]
[4, 1, 2, 1, 2, 8, 5, 1, 3, 4.10595807034526, 1.0, 36.62, 0.05, <1x26405 sparse matrix of type '<class 'numpy.float64'>'
	with 8 stored elements in Compressed Sparse Row format>, 0]
[4, 3, 1, 0, 0, 10, 7, 0, 2, 3.9513010106275472, 1.0, 36.62, 0.05, <1x26405 sparse matrix of type '<class 'numpy.float64'>'
	with 8 stored elements in Compressed Sparse Row format>, 1]
[2, 1, 0, 0, 1, 6, 3, 0, 3, 4.08232813685843, 0.8571428571428571, 36.62, 19.48, <1x26405 sparse matrix of type '<class 'numpy.float64'>'
	with 8 stored elements in Compressed Sparse Row format>, 0]
[4, 1, 1, 0, 0, 7, 5, 0, 1, 3.9896499288691363, 1.0, 121.22, 19.48, <1x26405 sparse matrix of type '<class 'numpy.float64'>'
	with 8 stored elements in Compressed Sparse Row format>, 0]
[4, 0, 1, 0, 1, 5, 2, 2, 1, 4.0439427079182675, 1.0, 36.62, 19.48, <1x26405 sparse matrix of type '<class 'numpy.float64'>'
	with 8 stored elements in Compressed Sparse Row format>, 1]
[2, 3, 1, 0, 0, 7, 4, 1, 0, 3.922998558613553, 1.0, 121.22, 19.48, <1x26405 sparse matrix of type '<class 'numpy.float64'>'
	with 8 stored elements in Compressed Sparse Row format>, 0]
[4, 0, 3, 0, 1, 8, 6, 1, 2, 3.947123781480404, 1.0, -47.99, 0.05, <1x26405 sparse matrix of type '<class 'numpy.float64'>'
	with 8 stored elements in Compressed Sparse Row format>, 1]
[6, 0, 2, 0, 3, 9, 8, 0, 4, 3.812954823140941, 1.0, 121.22, 0.05, <1x26405 sparse matrix of type '<class 'numpy.float64'>'
	with 8 stored elements in Compressed Sparse Row format>, 1]
[4, 1, 2, 0, 0, 7, 7, 0, 0, 4.02655737168713, 1.0, -47.99, 19.48, <1x26405 sparse matrix of type '<class 'numpy.float64'>'
	with 8 stored elements in Compressed Sparse Row format>, 0]
[4, 0, 1, 0, 0, 10, 4, 0, 4, 3.799876085498173, 1.0, 121.22, 0.05, <1x26405 sparse matrix of type '<class 'numpy.float64'>'
	with 8 stored elements in Compressed Sparse Row format>, 1]
[7, 2, 1, 0, 2, 11, 5, 1, 4, 4.207418300436681, 1.0, -132.59, 19.48, <1x26405 sparse matrix of type '<class 'numpy.float64'>'
	with 8 stored elements in Compressed Sparse Row format>, 0]
[4, 1, 2, 0, 1, 10, 7, 0, 4, 3.9515469063495656, 1.0, 121.22, 0.05, <1x26405 sparse matrix of type '<class 'numpy.float64'>'
	with 8 stored elements in Compressed Sparse Row format>, 0]
[6, 1, 5, 0, 3, 16, 13, 0, 6, 4.088039480175139, 0.9473684210526315, 121.22, 19.48, <1x26405 sparse matrix of type '<class 'numpy.float64'>'
	with 8 stored elements in Compressed Sparse Row format>, 1]
[5, 2, 2, 0, 2, 11, 8, 0, 3, 4.0331716324601175, 1.0, 121.22, 0.05, <1x26405 sparse matrix of type '<class 'numpy.float64'>'
	with 8 stored elements in Compressed Sparse Row format>, 1]
[4, 1, 1, 0, 3, 7, 7, 0, 3, 3.892025113556751, 1.0, 121.22, 19.48, <1x26405 sparse matrix of type '<class 'numpy.float64'>'
	with 8 stored elements in Compressed Sparse Row format>, 1]
[4, 1, 0, 2, 0, 6, 4, 0, 3, 3.677841670172532, 0.875, 36.62, 19.48, <1x26405 sparse matrix of type '<class 'numpy.float64'>'
	with 8 stored elements in Compressed Sparse Row format>, 0]
[6, 4, 2, 0, 1, 14, 4, 2, 3, 4.156491124566277, 0.9333333333333333, 36.62, 0.05, <1x26405 sparse matrix of type '<class 'numpy.float64'>'
	with 8 stored elements in Compressed Sparse Row format>, 0]
[1, 1, 1, 0, 0, 3, 3, 0, 0, 3.952819531114783, 1.0, -47.99, 19.48, <1x26405 sparse matrix of type '<class 'numpy.float64'>'
	with 8 stored elements in Compressed Sparse Row format>, 0]
[5, 2, 2, 0, 2, 10, 8, 0, 3, 3.886646216482015, 1.0, 121.22, 0.05, <1x26405 sparse matrix of type '<class 'numpy.float64'>'
	with 8 stored elements in Compressed Sparse Row format>, 1]
[3, 2, 0, 0, 1, 8, 5, 0, 4, 3.63150021371248, 0.8888888888888888, 121.22, 0.05, <1x26405 sparse matrix of type '<class 'numpy.float64'>'
	with 8 stored elements in Compressed Sparse Row format>, 0]
[4, 2, 2, 0, 2, 11, 7, 1, 4, 4.084903226890644, 1.0, -47.99, 19.48, <1x26405 sparse matrix of type '<class 'numpy.float64'>'
	with 8 stored elements in Compressed Sparse Row format>, 1]
[1, 1, 4, 0, 3, 9, 6, 0, 5, 3.8667538696732704, 0.9166666666666666, 36.62, 19.48, <1x26405 sparse matrix of type '<class 'numpy.float64'>'
	with 8 stored elements in Compressed Sparse Row format>, 0]
[4, 3, 1, 0, 1, 9, 6, 1, 2, 4.016691411483996, 1.0, 121.22, 19.48, <1x26405 sparse matrix of type '<class 'numpy.float64'>'
	with 8 stored elements in Compressed Sparse Row format>, 1]
[2, 1, 1, 0, 0, 7, 5, 1, 1, 3.9290332962477312, 1.0, -47.99, 19.48, <1x26405 sparse matrix of type '<class 'numpy.float64'>'
	with 8 stored elements in Compressed Sparse Row format>, 1]
[3, 2, 2, 0, 2, 8, 3, 2, 3, 4.073228384163385, 1.0, 36.62, 19.48, <1x26405 sparse matrix of type '<class 'numpy.float64'>'
	with 8 stored elements in Compressed Sparse Row format>, 0]
[2, 0, 0, 0, 1, 3, 2, 0, 2, 3.127986806877675, 1.0, 121.22, 0.05, <1x26405 sparse matrix of type '<class 'numpy.float64'>'
	with 8 stored elements in Compressed Sparse Row format>, 0]
[2, 2, 1, 0, 1, 9, 6, 0, 4, 3.626481721613944, 1.0, 121.22, 0.05, <1x26405 sparse matrix of type '<class 'numpy.float64'>'
	with 8 stored elements in Compressed Sparse Row format>, 1]
[3, 0, 2, 0, 0, 7, 5, 1, 1, 3.927483133760144, 1.0, 121.22, 0.05, <1x26405 sparse matrix of type '<class 'numpy.float64'>'
	with 8 stored elements in Compressed Sparse Row format>, 1]
[4, 0, 2, 0, 1, 7, 2, 0, 4, 4.143607886039517, 1.0, 121.22, 0.05, <1x26405 sparse matrix of type '<class 'numpy.float64'>'
	with 8 stored elements in Compressed Sparse Row format>, 0]
[4, 1, 3, 0, 1, 11, 6, 1, 5, 3.9539394496545457, 1.0, 36.62, 19.48, <1x26405 sparse matrix of type '<class 'numpy.float64'>'
	with 8 stored elements in Compressed Sparse Row format>, 1]
[6, 1, 0, 0, 2, 7, 5, 0, 2, 4.097156784566843, 1.0, 121.22, 0.05, <1x26405 sparse matrix of type '<class 'numpy.float64'>'
	with 8 stored elements in Compressed Sparse Row format>, 0]
[1, 2, 1, 1, 0, 5, 3, 0, 1, 4.140447987839137, 1.0, 121.22, 0.05, <1x26405 sparse matrix of type '<class 'numpy.float64'>'
	with 8 stored elements in Compressed Sparse Row format>, 0]
[5, 3, 1, 0, 4, 12, 9, 1, 5, 3.9784627911711192, 1.0, 121.22, 19.48, <1x26405 sparse matrix of type '<class 'numpy.float64'>'
	with 8 stored elements in Compressed Sparse Row format>, 1]
[3, 2, 2, 0, 1, 9, 6, 0, 3, 4.152415011086576, 1.0, 121.22, 0.05, <1x26405 sparse matrix of type '<class 'numpy.float64'>'
	with 8 stored elements in Compressed Sparse Row format>, 1]
[6, 1, 0, 0, 0, 12, 7, 0, 4, 3.9742451457215866, 0.9166666666666666, 36.62, 19.48, <1x26405 sparse matrix of type '<class 'numpy.float64'>'
	with 8 stored elements in Compressed Sparse Row format>, 0]
[2, 0, 0, 0, 1, 2, 0, 1, 1, 4.182005814760213, 1.0, -132.59, 35.27, <1x26405 sparse matrix of type '<class 'numpy.float64'>'
	with 8 stored elements in Compressed Sparse Row format>, 0]
[6, 2, 3, 0, 1, 12, 9, 1, 2, 4.319399671936324, 1.0, -47.99, 19.48, <1x26405 sparse matrix of type '<class 'numpy.float64'>'
	with 8 stored elements in Compressed Sparse Row format>, 1]
[5, 0, 1, 1, 1, 10, 7, 1, 3, 4.203320172673642, 1.0, -47.99, 19.48, <1x26405 sparse matrix of type '<class 'numpy.float64'>'
	with 8 stored elements in Compressed Sparse Row format>, 0]
[3, 3, 1, 0, 0, 8, 6, 2, 0, 3.5766243947069816, 0.875, 121.22, 0.05, <1x26405 sparse matrix of type '<class 'numpy.float64'>'
	with 8 stored elements in Compressed Sparse Row format>, 0]
[5, 1, 1, 0, 2, 9, 5, 0, 3, 4.21611742938938, 1.0, 121.22, 0.05, <1x26405 sparse matrix of type '<class 'numpy.float64'>'
	with 8 stored elements in Compressed Sparse Row format>, 0]
[3, 0, 2, 0, 2, 8, 5, 1, 4, 3.8938100024848996, 1.0, 121.22, 0.05, <1x26405 sparse matrix of type '<class 'numpy.float64'>'
	with 8 stored elements in Compressed Sparse Row format>, 1]
[2, 1, 0, 0, 0, 4, 4, 0, 0, 4.0250705203641814, 1.0, -47.99, 19.48, <1x26405 sparse matrix of type '<class 'numpy.float64'>'
	with 8 stored elements in Compressed Sparse Row format>, 1]
[1, 2, 0, 0, 0, 4, 4, 0, 0, 3.4086949695628417, 1.0, 36.62, 19.48, <1x26405 sparse matrix of type '<class 'numpy.float64'>'
	with 8 stored elements in Compressed Sparse Row format>, 1]
[3, 2, 2, 0, 0, 10, 7, 0, 3, 3.8855172623650756, 1.0, 121.22, 0.05, <1x26405 sparse matrix of type '<class 'numpy.float64'>'
	with 8 stored elements in Compressed Sparse Row format>, 0]
[4, 0, 1, 0, 0, 6, 4, 1, 0, 4.191272380112911, 1.0, -132.59, 19.48, <1x26405 sparse matrix of type '<class 'numpy.float64'>'
	with 8 stored elements in Compressed Sparse Row format>, 1]
[4, 0, 1, 0, 0, 8, 7, 0, 1, 3.8218081530680146, 1.0, 36.62, 0.05, <1x26405 sparse matrix of type '<class 'numpy.float64'>'
	with 8 stored elements in Compressed Sparse Row format>, 1]
[5, 2, 2, 0, 2, 9, 7, 1, 2, 3.9495748266842745, 1.0, -47.99, 19.48, <1x26405 sparse matrix of type '<class 'numpy.float64'>'
	with 8 stored elements in Compressed Sparse Row format>, 1]
[4, 0, 3, 0, 1, 8, 8, 0, 1, 3.9822225896194485, 1.0, -47.99, 0.05, <1x26405 sparse matrix of type '<class 'numpy.float64'>'
	with 8 stored elements in Compressed Sparse Row format>, 1]
[4, 1, 2, 1, 2, 9, 4, 0, 6, 3.984147859386916, 1.0, 121.22, 0.05, <1x26405 sparse matrix of type '<class 'numpy.float64'>'
	with 8 stored elements in Compressed Sparse Row format>, 0]
[4, 1, 3, 0, 2, 9, 8, 0, 3, 4.072421187084762, 1.0, 121.22, 0.05, <1x26405 sparse matrix of type '<class 'numpy.float64'>'
	with 8 stored elements in Compressed Sparse Row format>, 1]
[4, 1, 1, 1, 0, 8, 7, 0, 2, 3.9529160580933116, 1.0, 121.22, 0.05, <1x26405 sparse matrix of type '<class 'numpy.float64'>'
	with 8 stored elements in Compressed Sparse Row format>, 0]
[3, 2, 1, 0, 0, 6, 5, 0, 0, 4.090881379939833, 1.0, 121.22, 19.48, <1x26405 sparse matrix of type '<class 'numpy.float64'>'
	with 8 stored elements in Compressed Sparse Row format>, 1]
[4, 3, 2, 0, 1, 10, 6, 1, 2, 4.169433726215912, 1.0, -132.59, 19.48, <1x26405 sparse matrix of type '<class 'numpy.float64'>'
	with 8 stored elements in Compressed Sparse Row format>, 1]
[6, 1, 2, 0, 4, 11, 9, 0, 6, 3.7946732905978022, 0.8666666666666667, -132.59, 19.48, <1x26405 sparse matrix of type '<class 'numpy.float64'>'
	with 8 stored elements in Compressed Sparse Row format>, 1]
[3, 3, 4, 0, 0, 14, 6, 0, 6, 4.262255123939262, 1.0, 121.22, 0.05, <1x26405 sparse matrix of type '<class 'numpy.float64'>'
	with 8 stored elements in Compressed Sparse Row format>, 0]
[1, 0, 1, 1, 1, 2, 1, 1, 2, 3.1841837197791887, 1.0, -47.99, 19.48, <1x26405 sparse matrix of type '<class 'numpy.float64'>'
	with 8 stored elements in Compressed Sparse Row format>, 0]
[2, 1, 0, 0, 1, 4, 2, 1, 2, 3.694739663055176, 1.0, 121.22, 19.48, <1x26405 sparse matrix of type '<class 'numpy.float64'>'
	with 8 stored elements in Compressed Sparse Row format>, 0]
[5, 3, 1, 1, 0, 11, 9, 0, 3, 4.136454142305834, 1.0, 36.62, 19.48, <1x26405 sparse matrix of type '<class 'numpy.float64'>'
	with 8 stored elements in Compressed Sparse Row format>, 0]
[3, 2, 2, 0, 1, 9, 9, 0, 1, 4.0852385361325325, 1.0, 121.22, 0.05, <1x26405 sparse matrix of type '<class 'numpy.float64'>'
	with 8 stored elements in Compressed Sparse Row format>, 1]
[5, 1, 1, 1, 3, 8, 4, 0, 4, 4.176175277061448, 1.0, 121.22, 19.48, <1x26405 sparse matrix of type '<class 'numpy.float64'>'
	with 8 stored elements in Compressed Sparse Row format>, 0]
[3, 0, 4, 0, 1, 9, 6, 1, 3, 3.856828753214862, 1.0, 121.22, 0.05, <1x26405 sparse matrix of type '<class 'numpy.float64'>'
	with 8 stored elements in Compressed Sparse Row format>, 1]
[3, 2, 2, 0, 1, 11, 6, 0, 4, 3.9783825879065846, 1.0, 36.62, 19.48, <1x26405 sparse matrix of type '<class 'numpy.float64'>'
	with 8 stored elements in Compressed Sparse Row format>, 1]
[5, 0, 1, 0, 1, 9, 3, 2, 3, 3.8100935239808136, 1.0, 121.22, 0.05, <1x26405 sparse matrix of type '<class 'numpy.float64'>'
	with 8 stored elements in Compressed Sparse Row format>, 0]
[8, 0, 2, 0, 2, 11, 9, 1, 2, 3.9252215868301654, 1.0, 36.62, 19.48, <1x26405 sparse matrix of type '<class 'numpy.float64'>'
	with 8 stored elements in Compressed Sparse Row format>, 1]
[4, 0, 1, 0, 0, 6, 5, 0, 1, 3.9445884966423406, 1.0, 36.62, 0.05, <1x26405 sparse matrix of type '<class 'numpy.float64'>'
	with 8 stored elements in Compressed Sparse Row format>, 1]
[2, 1, 0, 0, 1, 5, 2, 0, 3, 3.7386085007312415, 1.0, 121.22, 19.48, <1x26405 sparse matrix of type '<class 'numpy.float64'>'
	with 8 stored elements in Compressed Sparse Row format>, 0]
[3, 1, 0, 0, 2, 8, 6, 0, 4, 3.868240320482289, 1.0, 121.22, 0.05, <1x26405 sparse matrix of type '<class 'numpy.float64'>'
	with 8 stored elements in Compressed Sparse Row format>, 1]
[4, 3, 4, 0, 2, 12, 10, 1, 2, 4.15283240015281, 0.9285714285714286, 121.22, 0.05, <1x26405 sparse matrix of type '<class 'numpy.float64'>'
	with 8 stored elements in Compressed Sparse Row format>, 1]
[3, 1, 2, 0, 1, 9, 6, 1, 2, 4.137130472242162, 1.0, 36.62, 19.48, <1x26405 sparse matrix of type '<class 'numpy.float64'>'
	with 8 stored elements in Compressed Sparse Row format>, 1]
[4, 2, 0, 0, 2, 7, 4, 0, 2, 3.963673567779051, 1.0, 36.62, 35.27, <1x26405 sparse matrix of type '<class 'numpy.float64'>'
	with 8 stored elements in Compressed Sparse Row format>, 1]
[2, 1, 2, 0, 2, 8, 5, 0, 5, 3.759421391085537, 1.0, 36.62, 19.48, <1x26405 sparse matrix of type '<class 'numpy.float64'>'
	with 8 stored elements in Compressed Sparse Row format>, 0]
[2, 0, 1, 1, 1, 3, 3, 1, 1, 3.698068512058838, 1.0, 36.62, 19.48, <1x26405 sparse matrix of type '<class 'numpy.float64'>'
	with 8 stored elements in Compressed Sparse Row format>, 0]
[5, 2, 2, 0, 1, 12, 8, 0, 5, 4.018078431902189, 1.0, 121.22, 0.05, <1x26405 sparse matrix of type '<class 'numpy.float64'>'
	with 8 stored elements in Compressed Sparse Row format>, 0]
[8, 3, 1, 1, 3, 14, 11, 0, 6, 4.124018370004678, 0.9444444444444444, 121.22, 0.05, <1x26405 sparse matrix of type '<class 'numpy.float64'>'
	with 8 stored elements in Compressed Sparse Row format>, 1]
[3, 2, 1, 0, 1, 7, 7, 0, 1, 3.827615325435681, 1.0, 121.22, 0.05, <1x26405 sparse matrix of type '<class 'numpy.float64'>'
	with 8 stored elements in Compressed Sparse Row format>, 0]
[2, 0, 0, 0, 0, 3, 2, 1, 0, 3.5178941476196224, 1.0, 121.22, 19.48, <1x26405 sparse matrix of type '<class 'numpy.float64'>'
	with 8 stored elements in Compressed Sparse Row format>, 1]
[2, 2, 1, 0, 0, 5, 5, 0, 0, 3.8373092111357257, 1.0, 121.22, 0.05, <1x26405 sparse matrix of type '<class 'numpy.float64'>'
	with 8 stored elements in Compressed Sparse Row format>, 1]
[2, 1, 1, 0, 1, 5, 4, 0, 2, 3.7684539577019214, 1.0, 36.62, 19.48, <1x26405 sparse matrix of type '<class 'numpy.float64'>'
	with 8 stored elements in Compressed Sparse Row format>, 0]
[7, 2, 1, 0, 3, 12, 8, 0, 5, 4.071260432643477, 0.9333333333333333, 121.22, 0.05, <1x26405 sparse matrix of type '<class 'numpy.float64'>'
	with 8 stored elements in Compressed Sparse Row format>, 0]
[4, 0, 1, 0, 2, 10, 4, 0, 6, 3.9319168328753875, 0.9166666666666666, 36.62, 0.05, <1x26405 sparse matrix of type '<class 'numpy.float64'>'
	with 8 stored elements in Compressed Sparse Row format>, 0]
[5, 2, 1, 0, 1, 8, 8, 0, 1, 3.9225526608425554, 1.0, 121.22, 0.05, <1x26405 sparse matrix of type '<class 'numpy.float64'>'
	with 8 stored elements in Compressed Sparse Row format>, 0]
[4, 1, 2, 0, 0, 12, 6, 0, 3, 4.206112942090836, 1.0, 121.22, 0.05, <1x26405 sparse matrix of type '<class 'numpy.float64'>'
	with 8 stored elements in Compressed Sparse Row format>, 0]
[4, 1, 2, 0, 0, 10, 5, 1, 3, 4.09338810197991, 1.0, -47.99, 19.48, <1x26405 sparse matrix of type '<class 'numpy.float64'>'
	with 8 stored elements in Compressed Sparse Row format>, 0]
[3, 1, 1, 0, 2, 6, 5, 0, 3, 3.820350902893823, 1.0, -47.99, 19.48, <1x26405 sparse matrix of type '<class 'numpy.float64'>'
	with 8 stored elements in Compressed Sparse Row format>, 0]
[4, 2, 1, 0, 1, 8, 6, 1, 2, 3.935559492099362, 1.0, 36.62, 19.48, <1x26405 sparse matrix of type '<class 'numpy.float64'>'
	with 8 stored elements in Compressed Sparse Row format>, 0]
[7, 3, 3, 0, 1, 15, 13, 0, 2, 4.12184864183982, 1.0, 121.22, 0.05, <1x26405 sparse matrix of type '<class 'numpy.float64'>'
	with 8 stored elements in Compressed Sparse Row format>, 1]
[3, 1, 5, 0, 2, 10, 9, 0, 3, 4.124321660751372, 0.9166666666666666, 121.22, 0.05, <1x26405 sparse matrix of type '<class 'numpy.float64'>'
	with 8 stored elements in Compressed Sparse Row format>, 1]
[2, 0, 0, 0, 0, 3, 2, 0, 1, 2.8962915290459286, 1.0, 121.22, 0.05, <1x26405 sparse matrix of type '<class 'numpy.float64'>'
	with 8 stored elements in Compressed Sparse Row format>, 0]
[2, 3, 1, 0, 2, 7, 7, 0, 2, 3.870175696407593, 1.0, 121.22, 0.05, <1x26405 sparse matrix of type '<class 'numpy.float64'>'
	with 8 stored elements in Compressed Sparse Row format>, 1]
[6, 0, 2, 0, 2, 9, 6, 1, 3, 3.9677520338371184, 1.0, 121.22, 0.05, <1x26405 sparse matrix of type '<class 'numpy.float64'>'
	with 8 stored elements in Compressed Sparse Row format>, 0]
[5, 1, 2, 0, 2, 11, 10, 0, 3, 3.9078243647087385, 1.0, 121.22, 0.05, <1x26405 sparse matrix of type '<class 'numpy.float64'>'
	with 8 stored elements in Compressed Sparse Row format>, 1]
[4, 1, 1, 0, 2, 6, 6, 0, 2, 3.7259967476976854, 1.0, -132.59, 19.48, <1x26405 sparse matrix of type '<class 'numpy.float64'>'
	with 8 stored elements in Compressed Sparse Row format>, 1]
[7, 1, 2, 0, 0, 11, 7, 2, 0, 4.405289981468844, 1.0, 121.22, 19.48, <1x26405 sparse matrix of type '<class 'numpy.float64'>'
	with 8 stored elements in Compressed Sparse Row format>, 1]
[3, 3, 1, 0, 1, 7, 7, 0, 1, 3.8568003372949016, 1.0, 121.22, 0.05, <1x26405 sparse matrix of type '<class 'numpy.float64'>'
	with 8 stored elements in Compressed Sparse Row format>, 1]
[2, 1, 2, 0, 1, 5, 4, 0, 1, 4.091159812399539, 1.0, 121.22, 0.05, <1x26405 sparse matrix of type '<class 'numpy.float64'>'
	with 8 stored elements in Compressed Sparse Row format>, 0]
[0, 1, 2, 0, 4, 4, 2, 0, 5, 3.881713119735859, 1.0, 36.62, 0.05, <1x26405 sparse matrix of type '<class 'numpy.float64'>'
	with 8 stored elements in Compressed Sparse Row format>, 0]
[2, 1, 1, 0, 1, 4, 4, 0, 1, 3.8143719431796272, 1.0, 121.22, 0.05, <1x26405 sparse matrix of type '<class 'numpy.float64'>'
	with 8 stored elements in Compressed Sparse Row format>, 1]
[3, 0, 1, 0, 0, 5, 4, 1, 0, 3.8431390622295662, 1.0, 36.62, 19.48, <1x26405 sparse matrix of type '<class 'numpy.float64'>'
	with 8 stored elements in Compressed Sparse Row format>, 1]
[5, 2, 2, 0, 1, 11, 6, 2, 2, 4.215184123009498, 1.0, 121.22, 0.05, <1x26405 sparse matrix of type '<class 'numpy.float64'>'
	with 8 stored elements in Compressed Sparse Row format>, 0]
[3, 3, 0, 0, 2, 9, 8, 0, 2, 4.2909492733804315, 1.0, 121.22, 19.48, <1x26405 sparse matrix of type '<class 'numpy.float64'>'
	with 8 stored elements in Compressed Sparse Row format>, 0]
[12, 3, 0, 0, 2, 15, 12, 0, 2, 4.209216265971513, 1.0, -132.59, 19.48, <1x26405 sparse matrix of type '<class 'numpy.float64'>'
	with 8 stored elements in Compressed Sparse Row format>, 1]
[3, 2, 3, 0, 2, 11, 10, 0, 3, 4.0032512445794355, 1.0, 121.22, 0.05, <1x26405 sparse matrix of type '<class 'numpy.float64'>'
	with 8 stored elements in Compressed Sparse Row format>, 1]
[2, 2, 1, 0, 3, 6, 5, 0, 4, 3.7466535224393334, 1.0, 121.22, 0.05, <1x26405 sparse matrix of type '<class 'numpy.float64'>'
	with 8 stored elements in Compressed Sparse Row format>, 1]
[3, 2, 1, 0, 0, 11, 5, 1, 5, 3.8875024523901565, 0.9090909090909091, -47.99, 19.48, <1x26405 sparse matrix of type '<class 'numpy.float64'>'
	with 8 stored elements in Compressed Sparse Row format>, 0]
[4, 1, 4, 0, 2, 13, 10, 0, 4, 4.153154901890261, 1.0, 121.22, 19.48, <1x26405 sparse matrix of type '<class 'numpy.float64'>'
	with 8 stored elements in Compressed Sparse Row format>, 1]
[6, 1, 3, 1, 1, 14, 10, 0, 5, 3.968305506427936, 1.0, 121.22, 0.05, <1x26405 sparse matrix of type '<class 'numpy.float64'>'
	with 8 stored elements in Compressed Sparse Row format>, 0]
[5, 2, 3, 0, 1, 13, 9, 0, 3, 4.075341287843796, 1.0, 36.62, 0.05, <1x26405 sparse matrix of type '<class 'numpy.float64'>'
	with 8 stored elements in Compressed Sparse Row format>, 1]
[4, 2, 2, 0, 1, 10, 5, 1, 3, 3.8645515139915374, 1.0, 121.22, 19.48, <1x26405 sparse matrix of type '<class 'numpy.float64'>'
	with 8 stored elements in Compressed Sparse Row format>, 0]
[3, 0, 2, 0, 0, 7, 6, 0, 1, 3.9937863204943653, 1.0, -47.99, 19.48, <1x26405 sparse matrix of type '<class 'numpy.float64'>'
	with 8 stored elements in Compressed Sparse Row format>, 1]
[5, 1, 3, 0, 4, 12, 7, 1, 7, 4.088866651026544, 1.0, 36.62, 19.48, <1x26405 sparse matrix of type '<class 'numpy.float64'>'
	with 8 stored elements in Compressed Sparse Row format>, 1]
[3, 1, 3, 0, 2, 8, 7, 0, 3, 3.9888608746716994, 1.0, -132.59, 19.48, <1x26405 sparse matrix of type '<class 'numpy.float64'>'
	with 8 stored elements in Compressed Sparse Row format>, 1]
[3, 2, 3, 0, 0, 12, 10, 0, 2, 4.027415836150026, 1.0, 121.22, 0.05, <1x26405 sparse matrix of type '<class 'numpy.float64'>'
	with 8 stored elements in Compressed Sparse Row format>, 1]
[7, 3, 1, 0, 1, 12, 11, 0, 2, 4.084531514364776, 1.0, 36.62, 0.05, <1x26405 sparse matrix of type '<class 'numpy.float64'>'
	with 8 stored elements in Compressed Sparse Row format>, 1]
[2, 1, 2, 0, 3, 10, 5, 0, 8, 4.159490664905302, 1.0, 36.62, 0.05, <1x26405 sparse matrix of type '<class 'numpy.float64'>'
	with 8 stored elements in Compressed Sparse Row format>, 0]
[4, 1, 2, 0, 3, 8, 7, 0, 4, 4.004819842424644, 1.0, -132.59, 19.48, <1x26405 sparse matrix of type '<class 'numpy.float64'>'
	with 8 stored elements in Compressed Sparse Row format>, 0]
[2, 1, 0, 0, 0, 5, 2, 0, 0, 3.6784391908277185, 1.0, 121.22, 19.48, <1x26405 sparse matrix of type '<class 'numpy.float64'>'
	with 8 stored elements in Compressed Sparse Row format>, 0]
[4, 1, 3, 0, 1, 11, 8, 0, 1, 3.974187839209953, 1.0, 121.22, 19.48, <1x26405 sparse matrix of type '<class 'numpy.float64'>'
	with 8 stored elements in Compressed Sparse Row format>, 0]
[3, 0, 4, 0, 2, 11, 8, 0, 4, 3.8625931526535595, 1.0, 121.22, 0.05, <1x26405 sparse matrix of type '<class 'numpy.float64'>'
	with 8 stored elements in Compressed Sparse Row format>, 0]
[4, 1, 1, 0, 2, 7, 7, 0, 2, 4.043533805124137, 1.0, 36.62, 19.48, <1x26405 sparse matrix of type '<class 'numpy.float64'>'
	with 8 stored elements in Compressed Sparse Row format>, 0]
[4, 2, 0, 0, 2, 8, 3, 0, 4, 3.7458517974720915, 1.0, 121.22, 19.48, <1x26405 sparse matrix of type '<class 'numpy.float64'>'
	with 8 stored elements in Compressed Sparse Row format>, 0]
[4, 0, 0, 0, 0, 5, 2, 1, 0, 3.572469458770136, 1.0, 121.22, 0.05, <1x26405 sparse matrix of type '<class 'numpy.float64'>'
	with 8 stored elements in Compressed Sparse Row format>, 1]
[3, 1, 0, 0, 1, 6, 5, 0, 2, 3.9871638340876894, 1.0, 121.22, 0.05, <1x26405 sparse matrix of type '<class 'numpy.float64'>'
	with 8 stored elements in Compressed Sparse Row format>, 1]
[2, 2, 1, 0, 1, 7, 6, 1, 1, 3.83098830592783, 1.0, 121.22, 19.48, <1x26405 sparse matrix of type '<class 'numpy.float64'>'
	with 8 stored elements in Compressed Sparse Row format>, 1]
[4, 2, 4, 0, 0, 13, 7, 1, 4, 3.830579072656687, 1.0, 121.22, 0.05, <1x26405 sparse matrix of type '<class 'numpy.float64'>'
	with 8 stored elements in Compressed Sparse Row format>, 1]
[3, 2, 1, 0, 1, 8, 5, 0, 3, 3.969564431856577, 1.0, 36.62, 19.48, <1x26405 sparse matrix of type '<class 'numpy.float64'>'
	with 8 stored elements in Compressed Sparse Row format>, 0]
[3, 1, 4, 0, 2, 10, 8, 0, 4, 3.9261612950128026, 0.9166666666666666, 121.22, 0.05, <1x26405 sparse matrix of type '<class 'numpy.float64'>'
	with 8 stored elements in Compressed Sparse Row format>, 0]
[7, 1, 3, 0, 4, 12, 9, 0, 5, 4.077507520058497, 0.875, 36.62, 19.48, <1x26405 sparse matrix of type '<class 'numpy.float64'>'
	with 8 stored elements in Compressed Sparse Row format>, 0]
[4, 2, 0, 1, 2, 8, 4, 1, 4, 4.097668739679757, 1.0, -132.59, 19.48, <1x26405 sparse matrix of type '<class 'numpy.float64'>'
	with 8 stored elements in Compressed Sparse Row format>, 0]
[1, 1, 1, 1, 0, 8, 4, 0, 3, 4.317190167834099, 1.0, 36.62, 0.05, <1x26405 sparse matrix of type '<class 'numpy.float64'>'
	with 8 stored elements in Compressed Sparse Row format>, 0]
[4, 0, 0, 1, 2, 5, 4, 0, 4, 3.830427948706203, 1.0, -47.99, 19.48, <1x26405 sparse matrix of type '<class 'numpy.float64'>'
	with 8 stored elements in Compressed Sparse Row format>, 0]
[4, 1, 3, 0, 3, 9, 9, 0, 3, 3.9094136760567744, 1.0, 36.62, 19.48, <1x26405 sparse matrix of type '<class 'numpy.float64'>'
	with 8 stored elements in Compressed Sparse Row format>, 1]
[3, 1, 3, 0, 1, 10, 9, 0, 2, 3.9721935438717555, 1.0, -132.59, 19.48, <1x26405 sparse matrix of type '<class 'numpy.float64'>'
	with 8 stored elements in Compressed Sparse Row format>, 1]
[2, 1, 1, 0, 1, 6, 4, 0, 3, 3.821888195526178, 1.0, 121.22, 0.05, <1x26405 sparse matrix of type '<class 'numpy.float64'>'
	with 8 stored elements in Compressed Sparse Row format>, 1]
[4, 1, 2, 0, 2, 8, 7, 0, 3, 3.856268591967384, 1.0, 121.22, 19.48, <1x26405 sparse matrix of type '<class 'numpy.float64'>'
	with 8 stored elements in Compressed Sparse Row format>, 0]
[4, 1, 3, 0, 2, 9, 8, 0, 3, 3.9509198216703303, 1.0, 36.62, 0.05, <1x26405 sparse matrix of type '<class 'numpy.float64'>'
	with 8 stored elements in Compressed Sparse Row format>, 1]
[7, 2, 1, 0, 2, 11, 8, 2, 3, 4.031521227172131, 1.0, 121.22, 0.05, <1x26405 sparse matrix of type '<class 'numpy.float64'>'
	with 8 stored elements in Compressed Sparse Row format>, 0]
[4, 0, 0, 0, 0, 4, 3, 0, 0, 3.91379956460568, 1.0, 36.62, 0.05, <1x26405 sparse matrix of type '<class 'numpy.float64'>'
	with 8 stored elements in Compressed Sparse Row format>, 0]
[5, 0, 5, 0, 1, 12, 9, 0, 4, 3.990367705180669, 1.0, 36.62, 0.05, <1x26405 sparse matrix of type '<class 'numpy.float64'>'
	with 8 stored elements in Compressed Sparse Row format>, 1]
[5, 2, 2, 0, 1, 10, 8, 0, 2, 3.966376143585047, 1.0, -47.99, 19.48, <1x26405 sparse matrix of type '<class 'numpy.float64'>'
	with 8 stored elements in Compressed Sparse Row format>, 0]
[4, 1, 3, 0, 1, 10, 6, 2, 3, 3.9945682062088306, 1.0, 36.62, 0.05, <1x26405 sparse matrix of type '<class 'numpy.float64'>'
	with 8 stored elements in Compressed Sparse Row format>, 0]
[5, 1, 2, 0, 2, 9, 7, 1, 3, 4.013230994764066, 1.0, 121.22, 19.48, <1x26405 sparse matrix of type '<class 'numpy.float64'>'
	with 8 stored elements in Compressed Sparse Row format>, 0]
[3, 3, 6, 0, 2, 15, 10, 0, 6, 4.26645976820258, 1.0, -47.99, 19.48, <1x26405 sparse matrix of type '<class 'numpy.float64'>'
	with 8 stored elements in Compressed Sparse Row format>, 1]
[4, 2, 2, 0, 2, 11, 7, 0, 6, 4.078975054917265, 0.9230769230769231, 121.22, 0.05, <1x26405 sparse matrix of type '<class 'numpy.float64'>'
	with 8 stored elements in Compressed Sparse Row format>, 0]
[2, 2, 3, 0, 1, 9, 7, 0, 2, 3.9400765010856817, 1.0, 121.22, 19.48, <1x26405 sparse matrix of type '<class 'numpy.float64'>'
	with 8 stored elements in Compressed Sparse Row format>, 0]
[5, 2, 4, 0, 1, 12, 10, 0, 1, 4.101286857794039, 1.0, 121.22, 19.48, <1x26405 sparse matrix of type '<class 'numpy.float64'>'
	with 8 stored elements in Compressed Sparse Row format>, 1]
[2, 1, 3, 1, 1, 7, 0, 1, 4, 4.050848813848051, 1.0, 36.62, 19.48, <1x26405 sparse matrix of type '<class 'numpy.float64'>'
	with 8 stored elements in Compressed Sparse Row format>, 0]
[4, 1, 3, 0, 1, 9, 8, 0, 2, 3.9432614604033995, 1.0, -47.99, 0.05, <1x26405 sparse matrix of type '<class 'numpy.float64'>'
	with 8 stored elements in Compressed Sparse Row format>, 1]
[5, 1, 0, 0, 0, 9, 5, 1, 2, 3.9816480011394537, 1.0, 36.62, 19.48, <1x26405 sparse matrix of type '<class 'numpy.float64'>'
	with 8 stored elements in Compressed Sparse Row format>, 0]
[4, 0, 1, 0, 0, 6, 4, 0, 1, 3.9419845111787066, 1.0, 36.62, 19.48, <1x26405 sparse matrix of type '<class 'numpy.float64'>'
	with 8 stored elements in Compressed Sparse Row format>, 1]
[3, 2, 1, 0, 0, 10, 6, 0, 3, 4.029085753935211, 1.0, 121.22, 0.05, <1x26405 sparse matrix of type '<class 'numpy.float64'>'
	with 8 stored elements in Compressed Sparse Row format>, 1]
[4, 0, 0, 0, 1, 4, 2, 2, 1, 3.454168410357404, 1.0, 36.62, 19.48, <1x26405 sparse matrix of type '<class 'numpy.float64'>'
	with 8 stored elements in Compressed Sparse Row format>, 0]
[8, 0, 5, 0, 4, 17, 12, 0, 7, 4.251321579001856, 0.9523809523809523, -47.99, 19.48, <1x26405 sparse matrix of type '<class 'numpy.float64'>'
	with 8 stored elements in Compressed Sparse Row format>, 1]
[3, 1, 1, 0, 1, 7, 5, 0, 3, 4.163113314344852, 1.0, 121.22, 0.05, <1x26405 sparse matrix of type '<class 'numpy.float64'>'
	with 8 stored elements in Compressed Sparse Row format>, 1]
[3, 2, 1, 1, 1, 10, 7, 0, 5, 3.947037549212919, 0.9166666666666666, -132.59, 19.48, <1x26405 sparse matrix of type '<class 'numpy.float64'>'
	with 8 stored elements in Compressed Sparse Row format>, 0]
[5, 0, 2, 0, 2, 8, 7, 0, 3, 3.7683246614748604, 1.0, 36.62, 19.48, <1x26405 sparse matrix of type '<class 'numpy.float64'>'
	with 8 stored elements in Compressed Sparse Row format>, 1]
[5, 1, 2, 0, 1, 11, 8, 0, 3, 4.012634383261378, 1.0, 121.22, 0.05, <1x26405 sparse matrix of type '<class 'numpy.float64'>'
	with 8 stored elements in Compressed Sparse Row format>, 1]
[4, 1, 3, 0, 3, 6, 3, 0, 3, 3.9345980775971694, 1.0, -47.99, 19.48, <1x26405 sparse matrix of type '<class 'numpy.float64'>'
	with 8 stored elements in Compressed Sparse Row format>, 1]
[5, 1, 7, 0, 5, 16, 11, 1, 9, 4.018066414270767, 0.9047619047619048, 121.22, 19.48, <1x26405 sparse matrix of type '<class 'numpy.float64'>'
	with 8 stored elements in Compressed Sparse Row format>, 1]
[3, 0, 0, 0, 0, 5, 3, 0, 2, 3.7679933925607862, 1.0, 121.22, 19.48, <1x26405 sparse matrix of type '<class 'numpy.float64'>'
	with 8 stored elements in Compressed Sparse Row format>, 0]
[8, 3, 1, 0, 1, 13, 8, 0, 2, 4.3117962499762195, 1.0, -47.99, 19.48, <1x26405 sparse matrix of type '<class 'numpy.float64'>'
	with 8 stored elements in Compressed Sparse Row format>, 1]
[6, 3, 2, 1, 2, 12, 4, 4, 4, 4.136826223236186, 0.9333333333333333, 36.62, 19.48, <1x26405 sparse matrix of type '<class 'numpy.float64'>'
	with 8 stored elements in Compressed Sparse Row format>, 0]
[4, 1, 2, 1, 1, 11, 6, 0, 6, 3.8544762724767967, 0.9230769230769231, 121.22, 0.05, <1x26405 sparse matrix of type '<class 'numpy.float64'>'
	with 8 stored elements in Compressed Sparse Row format>, 1]
[4, 3, 3, 0, 3, 11, 10, 0, 4, 4.102035907175552, 1.0, 121.22, 19.48, <1x26405 sparse matrix of type '<class 'numpy.float64'>'
	with 8 stored elements in Compressed Sparse Row format>, 1]
[5, 0, 3, 1, 1, 13, 8, 0, 7, 4.067602134690777, 1.0, 121.22, 0.05, <1x26405 sparse matrix of type '<class 'numpy.float64'>'
	with 8 stored elements in Compressed Sparse Row format>, 0]
[2, 0, 3, 0, 1, 5, 3, 0, 2, 3.737213813234873, 1.0, 36.62, 0.05, <1x26405 sparse matrix of type '<class 'numpy.float64'>'
	with 8 stored elements in Compressed Sparse Row format>, 1]
[3, 3, 0, 0, 1, 7, 5, 0, 2, 4.059150322177181, 1.0, 36.62, 19.48, <1x26405 sparse matrix of type '<class 'numpy.float64'>'
	with 8 stored elements in Compressed Sparse Row format>, 1]
[1, 1, 1, 0, 0, 4, 2, 1, 1, 3.7113148583552356, 1.0, 121.22, 0.05, <1x26405 sparse matrix of type '<class 'numpy.float64'>'
	with 8 stored elements in Compressed Sparse Row format>, 0]
[2, 0, 0, 0, 0, 2, 2, 0, 0, 3.1307179879273748, 1.0, 36.62, 0.05, <1x26405 sparse matrix of type '<class 'numpy.float64'>'
	with 8 stored elements in Compressed Sparse Row format>, 0]
[3, 0, 3, 0, 2, 9, 7, 0, 4, 4.1164239227664385, 1.0, -47.99, 19.48, <1x26405 sparse matrix of type '<class 'numpy.float64'>'
	with 8 stored elements in Compressed Sparse Row format>, 1]
[7, 0, 0, 0, 1, 9, 4, 1, 3, 3.8779323548731073, 1.0, 36.62, 0.05, <1x26405 sparse matrix of type '<class 'numpy.float64'>'
	with 8 stored elements in Compressed Sparse Row format>, 0]
[2, 2, 2, 0, 4, 6, 2, 1, 4, 3.8220954947884076, 0.9, 121.22, 19.48, <1x26405 sparse matrix of type '<class 'numpy.float64'>'
	with 8 stored elements in Compressed Sparse Row format>, 0]
[8, 2, 1, 1, 0, 12, 4, 0, 3, 4.148644789297626, 1.0, 36.62, 19.48, <1x26405 sparse matrix of type '<class 'numpy.float64'>'
	with 8 stored elements in Compressed Sparse Row format>, 0]
[2, 2, 2, 0, 1, 8, 5, 2, 2, 4.08245111083552, 1.0, 36.62, 19.48, <1x26405 sparse matrix of type '<class 'numpy.float64'>'
	with 8 stored elements in Compressed Sparse Row format>, 0]
[3, 0, 2, 0, 2, 8, 5, 0, 3, 3.8920251135567514, 1.0, 121.22, 19.48, <1x26405 sparse matrix of type '<class 'numpy.float64'>'
	with 8 stored elements in Compressed Sparse Row format>, 1]
[4, 2, 2, 0, 0, 8, 5, 1, 0, 4.154999896455403, 1.0, 121.22, 19.48, <1x26405 sparse matrix of type '<class 'numpy.float64'>'
	with 8 stored elements in Compressed Sparse Row format>, 0]
[3, 2, 0, 0, 0, 7, 3, 0, 2, 3.745363542688304, 1.0, -47.99, 0.05, <1x26405 sparse matrix of type '<class 'numpy.float64'>'
	with 8 stored elements in Compressed Sparse Row format>, 0]
[1, 2, 2, 0, 0, 6, 5, 0, 1, 3.72717401544771, 1.0, -47.99, 19.48, <1x26405 sparse matrix of type '<class 'numpy.float64'>'
	with 8 stored elements in Compressed Sparse Row format>, 1]
[5, 1, 0, 0, 0, 6, 6, 0, 0, 3.9165797064198338, 1.0, 121.22, 0.05, <1x26405 sparse matrix of type '<class 'numpy.float64'>'
	with 8 stored elements in Compressed Sparse Row format>, 1]
[4, 3, 2, 0, 1, 10, 9, 0, 2, 4.019291758968709, 1.0, 121.22, 0.05, <1x26405 sparse matrix of type '<class 'numpy.float64'>'
	with 8 stored elements in Compressed Sparse Row format>, 1]
[5, 2, 2, 2, 1, 9, 10, 0, 2, 4.075822941643577, 1.0, 121.22, 0.05, <1x26405 sparse matrix of type '<class 'numpy.float64'>'
	with 8 stored elements in Compressed Sparse Row format>, 1]
[3, 1, 2, 0, 0, 9, 5, 1, 3, 4.053993635600303, 1.0, -47.99, 19.48, <1x26405 sparse matrix of type '<class 'numpy.float64'>'
	with 8 stored elements in Compressed Sparse Row format>, 0]
[6, 0, 1, 0, 1, 9, 6, 2, 2, 4.098411632548784, 1.0, 121.22, 0.05, <1x26405 sparse matrix of type '<class 'numpy.float64'>'
	with 8 stored elements in Compressed Sparse Row format>, 1]
[1, 1, 3, 0, 1, 7, 2, 0, 4, 3.933661349322942, 1.0, 121.22, 0.05, <1x26405 sparse matrix of type '<class 'numpy.float64'>'
	with 8 stored elements in Compressed Sparse Row format>, 0]
[6, 2, 1, 0, 2, 9, 9, 0, 2, 4.0996920865494975, 0.9090909090909091, 121.22, 19.48, <1x26405 sparse matrix of type '<class 'numpy.float64'>'
	with 8 stored elements in Compressed Sparse Row format>, 0]
[2, 1, 1, 0, 0, 7, 2, 0, 4, 3.8653642211959878, 1.0, 121.22, 19.48, <1x26405 sparse matrix of type '<class 'numpy.float64'>'
	with 8 stored elements in Compressed Sparse Row format>, 0]
[4, 1, 3, 1, 1, 9, 6, 0, 3, 3.7443054337336497, 1.0, 121.22, 0.05, <1x26405 sparse matrix of type '<class 'numpy.float64'>'
	with 8 stored elements in Compressed Sparse Row format>, 0]
[2, 1, 0, 0, 1, 6, 6, 0, 1, 3.3807095825937483, 0.8571428571428571, 36.62, 19.48, <1x26405 sparse matrix of type '<class 'numpy.float64'>'
	with 8 stored elements in Compressed Sparse Row format>, 1]
[5, 0, 2, 0, 2, 8, 6, 0, 2, 4.000185880890237, 1.0, 121.22, 19.48, <1x26405 sparse matrix of type '<class 'numpy.float64'>'
	with 8 stored elements in Compressed Sparse Row format>, 1]
[2, 1, 0, 0, 0, 4, 1, 2, 1, 3.9225895736416696, 1.0, -47.99, 19.48, <1x26405 sparse matrix of type '<class 'numpy.float64'>'
	with 8 stored elements in Compressed Sparse Row format>, 0]
[2, 2, 0, 0, 0, 4, 3, 0, 0, 3.7262046313924566, 1.0, 121.22, 19.48, <1x26405 sparse matrix of type '<class 'numpy.float64'>'
	with 8 stored elements in Compressed Sparse Row format>, 0]
[5, 0, 1, 0, 0, 7, 5, 1, 1, 3.740029012369025, 1.0, 36.62, 19.48, <1x26405 sparse matrix of type '<class 'numpy.float64'>'
	with 8 stored elements in Compressed Sparse Row format>, 1]
[5, 0, 1, 0, 1, 9, 4, 1, 4, 3.9997684405953438, 1.0, -47.99, 0.05, <1x26405 sparse matrix of type '<class 'numpy.float64'>'
	with 8 stored elements in Compressed Sparse Row format>, 0]
[5, 1, 2, 0, 1, 8, 6, 0, 1, 3.9831709622324865, 1.0, 36.62, 0.05, <1x26405 sparse matrix of type '<class 'numpy.float64'>'
	with 8 stored elements in Compressed Sparse Row format>, 0]
[2, 7, 1, 0, 1, 11, 6, 0, 3, 4.142831847542824, 0.9166666666666666, -47.99, 19.48, <1x26405 sparse matrix of type '<class 'numpy.float64'>'
	with 8 stored elements in Compressed Sparse Row format>, 1]
[3, 1, 1, 0, 1, 5, 5, 0, 1, 3.6922796820396573, 1.0, 121.22, 19.48, <1x26405 sparse matrix of type '<class 'numpy.float64'>'
	with 8 stored elements in Compressed Sparse Row format>, 1]
[6, 0, 2, 0, 2, 8, 6, 1, 2, 4.1069274819072765, 1.0, 121.22, 19.48, <1x26405 sparse matrix of type '<class 'numpy.float64'>'
	with 8 stored elements in Compressed Sparse Row format>, 0]
[6, 1, 0, 0, 3, 9, 6, 1, 5, 4.150116590944069, 1.0, 36.62, 19.48, <1x26405 sparse matrix of type '<class 'numpy.float64'>'
	with 8 stored elements in Compressed Sparse Row format>, 1]
[5, 1, 2, 0, 1, 9, 5, 1, 2, 4.251378550469305, 1.0, 121.22, 0.05, <1x26405 sparse matrix of type '<class 'numpy.float64'>'
	with 8 stored elements in Compressed Sparse Row format>, 0]
[3, 1, 3, 0, 3, 10, 4, 0, 6, 4.138177779180505, 0.9230769230769231, 121.22, 0.05, <1x26405 sparse matrix of type '<class 'numpy.float64'>'
	with 8 stored elements in Compressed Sparse Row format>, 0]
[3, 1, 1, 0, 3, 8, 6, 0, 5, 3.865800363604366, 0.9090909090909091, 36.62, 0.05, <1x26405 sparse matrix of type '<class 'numpy.float64'>'
	with 8 stored elements in Compressed Sparse Row format>, 0]
[5, 1, 3, 0, 2, 11, 9, 0, 4, 3.9162077602100744, 1.0, 36.62, 19.48, <1x26405 sparse matrix of type '<class 'numpy.float64'>'
	with 8 stored elements in Compressed Sparse Row format>, 1]
[10, 1, 1, 0, 1, 13, 8, 1, 2, 4.276315111913099, 1.0, 121.22, 19.48, <1x26405 sparse matrix of type '<class 'numpy.float64'>'
	with 8 stored elements in Compressed Sparse Row format>, 0]
[6, 3, 1, 0, 3, 11, 9, 0, 4, 4.01392692062892, 0.9285714285714286, 121.22, 19.48, <1x26405 sparse matrix of type '<class 'numpy.float64'>'
	with 8 stored elements in Compressed Sparse Row format>, 0]
[3, 1, 1, 0, 2, 5, 5, 0, 2, 4.091751313184559, 1.0, 36.62, 0.05, <1x26405 sparse matrix of type '<class 'numpy.float64'>'
	with 8 stored elements in Compressed Sparse Row format>, 1]
[3, 1, 2, 0, 1, 7, 6, 0, 2, 3.780429872535424, 1.0, 121.22, 19.48, <1x26405 sparse matrix of type '<class 'numpy.float64'>'
	with 8 stored elements in Compressed Sparse Row format>, 1]
[5, 0, 1, 0, 2, 8, 5, 1, 3, 4.196736007528387, 1.0, 36.62, 19.48, <1x26405 sparse matrix of type '<class 'numpy.float64'>'
	with 8 stored elements in Compressed Sparse Row format>, 0]
[4, 1, 1, 0, 0, 9, 7, 0, 2, 4.0821582046857845, 1.0, 36.62, 19.48, <1x26405 sparse matrix of type '<class 'numpy.float64'>'
	with 8 stored elements in Compressed Sparse Row format>, 0]
[6, 0, 3, 0, 1, 9, 5, 0, 1, 4.234390746210173, 1.0, 121.22, 0.05, <1x26405 sparse matrix of type '<class 'numpy.float64'>'
	with 8 stored elements in Compressed Sparse Row format>, 0]
[6, 2, 1, 0, 0, 10, 6, 0, 1, 4.296741145875892, 1.0, 121.22, 19.48, <1x26405 sparse matrix of type '<class 'numpy.float64'>'
	with 8 stored elements in Compressed Sparse Row format>, 0]
[5, 0, 1, 1, 0, 7, 4, 2, 1, 3.994919585563003, 1.0, 121.22, 19.48, <1x26405 sparse matrix of type '<class 'numpy.float64'>'
	with 8 stored elements in Compressed Sparse Row format>, 1]
[6, 0, 0, 0, 1, 9, 3, 1, 3, 4.119477959043034, 1.0, 121.22, 19.48, <1x26405 sparse matrix of type '<class 'numpy.float64'>'
	with 8 stored elements in Compressed Sparse Row format>, 0]
[1, 0, 3, 0, 1, 7, 5, 0, 3, 3.844841929151772, 1.0, 36.62, 19.48, <1x26405 sparse matrix of type '<class 'numpy.float64'>'
	with 8 stored elements in Compressed Sparse Row format>, 0]
[1, 0, 3, 2, 1, 3, 0, 0, 5, 3.3211043305784917, 0.8333333333333334, 121.22, 0.05, <1x26405 sparse matrix of type '<class 'numpy.float64'>'
	with 8 stored elements in Compressed Sparse Row format>, 0]
[3, 2, 1, 0, 0, 7, 4, 1, 2, 3.713206429278392, 1.0, 121.22, 0.05, <1x26405 sparse matrix of type '<class 'numpy.float64'>'
	with 8 stored elements in Compressed Sparse Row format>, 1]
[4, 2, 1, 1, 1, 9, 8, 0, 3, 3.9876956588751646, 1.0, 36.62, 19.48, <1x26405 sparse matrix of type '<class 'numpy.float64'>'
	with 8 stored elements in Compressed Sparse Row format>, 0]
[2, 2, 2, 0, 1, 7, 7, 0, 1, 3.9811476315793786, 1.0, 36.62, 19.48, <1x26405 sparse matrix of type '<class 'numpy.float64'>'
	with 8 stored elements in Compressed Sparse Row format>, 1]
[6, 1, 1, 0, 2, 9, 8, 0, 3, 3.896781486958763, 1.0, -132.59, 19.48, <1x26405 sparse matrix of type '<class 'numpy.float64'>'
	with 8 stored elements in Compressed Sparse Row format>, 1]
[2, 2, 1, 0, 0, 6, 4, 1, 1, 3.8578100014254146, 1.0, 36.62, 19.48, <1x26405 sparse matrix of type '<class 'numpy.float64'>'
	with 8 stored elements in Compressed Sparse Row format>, 0]
[3, 0, 5, 0, 0, 9, 5, 1, 2, 3.9493047122958895, 1.0, 121.22, 19.48, <1x26405 sparse matrix of type '<class 'numpy.float64'>'
	with 8 stored elements in Compressed Sparse Row format>, 0]
[2, 2, 1, 0, 0, 6, 5, 0, 0, 3.8540307091344603, 1.0, -47.99, 19.48, <1x26405 sparse matrix of type '<class 'numpy.float64'>'
	with 8 stored elements in Compressed Sparse Row format>, 1]
[4, 1, 3, 0, 1, 11, 7, 0, 4, 4.125768411099685, 1.0, 121.22, 0.05, <1x26405 sparse matrix of type '<class 'numpy.float64'>'
	with 8 stored elements in Compressed Sparse Row format>, 0]
[6, 2, 1, 0, 1, 11, 7, 0, 2, 4.0418656080938336, 1.0, 121.22, 19.48, <1x26405 sparse matrix of type '<class 'numpy.float64'>'
	with 8 stored elements in Compressed Sparse Row format>, 0]
[5, 2, 1, 0, 0, 13, 7, 0, 5, 4.057810869450683, 1.0, -47.99, 19.48, <1x26405 sparse matrix of type '<class 'numpy.float64'>'
	with 8 stored elements in Compressed Sparse Row format>, 1]
[6, 2, 4, 0, 5, 14, 6, 1, 7, 4.014331421776241, 0.8947368421052632, 36.62, 19.48, <1x26405 sparse matrix of type '<class 'numpy.float64'>'
	with 8 stored elements in Compressed Sparse Row format>, 0]
[6, 1, 2, 0, 2, 11, 7, 0, 4, 3.990354012647307, 1.0, -132.59, 19.48, <1x26405 sparse matrix of type '<class 'numpy.float64'>'
	with 8 stored elements in Compressed Sparse Row format>, 0]
[3, 2, 1, 0, 1, 6, 4, 0, 2, 3.5299219209397887, 1.0, 36.62, 0.05, <1x26405 sparse matrix of type '<class 'numpy.float64'>'
	with 8 stored elements in Compressed Sparse Row format>, 0]
[2, 1, 0, 0, 1, 4, 1, 0, 2, 3.3685225277282065, 1.0, 36.62, 19.48, <1x26405 sparse matrix of type '<class 'numpy.float64'>'
	with 8 stored elements in Compressed Sparse Row format>, 0]
[5, 2, 1, 0, 0, 12, 5, 1, 5, 4.120603082551587, 1.0, 121.22, 0.05, <1x26405 sparse matrix of type '<class 'numpy.float64'>'
	with 8 stored elements in Compressed Sparse Row format>, 0]
[4, 2, 2, 0, 0, 9, 8, 0, 1, 3.817414720006513, 1.0, 121.22, 0.05, <1x26405 sparse matrix of type '<class 'numpy.float64'>'
	with 8 stored elements in Compressed Sparse Row format>, 0]
[5, 0, 1, 0, 1, 6, 5, 0, 1, 3.8521102193246546, 1.0, -47.99, 19.48, <1x26405 sparse matrix of type '<class 'numpy.float64'>'
	with 8 stored elements in Compressed Sparse Row format>, 0]
[5, 2, 1, 0, 1, 8, 6, 0, 1, 3.9824988740357155, 1.0, 36.62, 19.48, <1x26405 sparse matrix of type '<class 'numpy.float64'>'
	with 8 stored elements in Compressed Sparse Row format>, 0]
[4, 2, 1, 1, 1, 8, 4, 1, 4, 4.007692149306873, 1.0, 121.22, 0.05, <1x26405 sparse matrix of type '<class 'numpy.float64'>'
	with 8 stored elements in Compressed Sparse Row format>, 0]
[6, 2, 1, 0, 0, 12, 7, 2, 2, 4.185852029561539, 1.0, 36.62, 19.48, <1x26405 sparse matrix of type '<class 'numpy.float64'>'
	with 8 stored elements in Compressed Sparse Row format>, 0]
[4, 2, 2, 0, 0, 10, 6, 1, 1, 3.8378469305477325, 1.0, 121.22, 19.48, <1x26405 sparse matrix of type '<class 'numpy.float64'>'
	with 8 stored elements in Compressed Sparse Row format>, 0]
[5, 0, 2, 0, 1, 10, 8, 0, 2, 4.196373812781274, 0.9090909090909091, -47.99, 19.48, <1x26405 sparse matrix of type '<class 'numpy.float64'>'
	with 8 stored elements in Compressed Sparse Row format>, 0]
[3, 1, 2, 2, 1, 5, 3, 0, 4, 4.059965512620313, 1.0, -47.99, 19.48, <1x26405 sparse matrix of type '<class 'numpy.float64'>'
	with 8 stored elements in Compressed Sparse Row format>, 0]
[3, 1, 1, 0, 1, 6, 4, 0, 2, 3.966759974483216, 1.0, 36.62, 19.48, <1x26405 sparse matrix of type '<class 'numpy.float64'>'
	with 8 stored elements in Compressed Sparse Row format>, 0]
[5, 1, 3, 0, 2, 12, 7, 1, 3, 4.327509640842461, 1.0, 36.62, 0.05, <1x26405 sparse matrix of type '<class 'numpy.float64'>'
	with 8 stored elements in Compressed Sparse Row format>, 1]
[2, 0, 2, 0, 1, 6, 4, 0, 3, 3.5824554315901764, 1.0, 121.22, 0.05, <1x26405 sparse matrix of type '<class 'numpy.float64'>'
	with 8 stored elements in Compressed Sparse Row format>, 1]
[2, 1, 2, 0, 1, 10, 5, 1, 5, 4.134429197728174, 1.0, 121.22, 0.05, <1x26405 sparse matrix of type '<class 'numpy.float64'>'
	with 8 stored elements in Compressed Sparse Row format>, 1]
[5, 0, 1, 0, 0, 8, 2, 3, 2, 4.105565190876394, 1.0, -47.99, 19.48, <1x26405 sparse matrix of type '<class 'numpy.float64'>'
	with 8 stored elements in Compressed Sparse Row format>, 0]
[5, 1, 0, 0, 0, 10, 7, 0, 3, 4.143580820759094, 1.0, 121.22, 19.48, <1x26405 sparse matrix of type '<class 'numpy.float64'>'
	with 8 stored elements in Compressed Sparse Row format>, 0]
[5, 2, 1, 0, 3, 8, 7, 0, 3, 3.985409804383325, 1.0, 36.62, 19.48, <1x26405 sparse matrix of type '<class 'numpy.float64'>'
	with 8 stored elements in Compressed Sparse Row format>, 1]
[3, 3, 2, 0, 1, 9, 7, 0, 3, 3.7064898881411135, 1.0, -47.99, 19.48, <1x26405 sparse matrix of type '<class 'numpy.float64'>'
	with 8 stored elements in Compressed Sparse Row format>, 1]
[4, 2, 4, 0, 1, 11, 7, 0, 2, 3.9872559734231614, 1.0, 121.22, 0.05, <1x26405 sparse matrix of type '<class 'numpy.float64'>'
	with 8 stored elements in Compressed Sparse Row format>, 1]
[6, 3, 2, 0, 1, 12, 9, 0, 2, 4.033425405563198, 1.0, -47.99, 19.48, <1x26405 sparse matrix of type '<class 'numpy.float64'>'
	with 8 stored elements in Compressed Sparse Row format>, 1]
[4, 1, 1, 1, 1, 7, 5, 0, 3, 4.070385496269013, 1.0, 36.62, 19.48, <1x26405 sparse matrix of type '<class 'numpy.float64'>'
	with 8 stored elements in Compressed Sparse Row format>, 0]
[8, 1, 1, 0, 1, 12, 9, 1, 3, 3.810417207221194, 1.0, 121.22, 0.05, <1x26405 sparse matrix of type '<class 'numpy.float64'>'
	with 8 stored elements in Compressed Sparse Row format>, 0]
[3, 0, 0, 0, 0, 4, 3, 0, 1, 3.501397825434103, 1.0, 36.62, 19.48, <1x26405 sparse matrix of type '<class 'numpy.float64'>'
	with 8 stored elements in Compressed Sparse Row format>, 0]
[1, 1, 1, 0, 1, 5, 5, 0, 1, 3.8798938235206664, 1.0, 121.22, 0.05, <1x26405 sparse matrix of type '<class 'numpy.float64'>'
	with 8 stored elements in Compressed Sparse Row format>, 0]
[4, 1, 4, 1, 1, 10, 4, 1, 4, 3.981753658677585, 1.0, 36.62, 19.48, <1x26405 sparse matrix of type '<class 'numpy.float64'>'
	with 8 stored elements in Compressed Sparse Row format>, 1]
[3, 1, 3, 0, 2, 9, 7, 0, 4, 3.9140283607203386, 1.0, 121.22, 0.05, <1x26405 sparse matrix of type '<class 'numpy.float64'>'
	with 8 stored elements in Compressed Sparse Row format>, 1]
[4, 0, 1, 0, 0, 7, 6, 0, 1, 3.6857477800848417, 1.0, 36.62, 19.48, <1x26405 sparse matrix of type '<class 'numpy.float64'>'
	with 8 stored elements in Compressed Sparse Row format>, 0]
[3, 0, 4, 0, 3, 9, 9, 0, 3, 4.1514455445135745, 1.0, 121.22, 0.05, <1x26405 sparse matrix of type '<class 'numpy.float64'>'
	with 8 stored elements in Compressed Sparse Row format>, 1]
[3, 3, 0, 0, 0, 8, 3, 0, 2, 4.1012514190598015, 1.0, 121.22, 19.48, <1x26405 sparse matrix of type '<class 'numpy.float64'>'
	with 8 stored elements in Compressed Sparse Row format>, 0]
[4, 1, 2, 0, 2, 10, 7, 0, 4, 3.8576811181932578, 1.0, 121.22, 19.48, <1x26405 sparse matrix of type '<class 'numpy.float64'>'
	with 8 stored elements in Compressed Sparse Row format>, 1]
[2, 0, 3, 0, 2, 6, 5, 0, 2, 4.053175262485105, 1.0, 121.22, 19.48, <1x26405 sparse matrix of type '<class 'numpy.float64'>'
	with 8 stored elements in Compressed Sparse Row format>, 1]
[2, 1, 4, 1, 0, 12, 6, 0, 5, 3.9387153771333745, 0.9230769230769231, 121.22, 19.48, <1x26405 sparse matrix of type '<class 'numpy.float64'>'
	with 8 stored elements in Compressed Sparse Row format>, 0]
[3, 2, 2, 0, 0, 9, 5, 2, 2, 3.86019373758451, 1.0, 121.22, 0.05, <1x26405 sparse matrix of type '<class 'numpy.float64'>'
	with 8 stored elements in Compressed Sparse Row format>, 0]
[7, 0, 3, 0, 2, 12, 10, 0, 4, 4.058457864243949, 1.0, 36.62, 19.48, <1x26405 sparse matrix of type '<class 'numpy.float64'>'
	with 8 stored elements in Compressed Sparse Row format>, 1]
[4, 0, 4, 0, 2, 9, 5, 0, 5, 3.965093423772564, 1.0, 36.62, 0.05, <1x26405 sparse matrix of type '<class 'numpy.float64'>'
	with 8 stored elements in Compressed Sparse Row format>, 0]
[3, 0, 0, 0, 0, 4, 3, 0, 1, 3.7159321855150296, 1.0, 36.62, 19.48, <1x26405 sparse matrix of type '<class 'numpy.float64'>'
	with 8 stored elements in Compressed Sparse Row format>, 0]
[2, 1, 1, 0, 1, 5, 4, 0, 2, 3.60341234326019, 1.0, 121.22, 0.05, <1x26405 sparse matrix of type '<class 'numpy.float64'>'
	with 8 stored elements in Compressed Sparse Row format>, 1]
[3, 0, 4, 1, 1, 10, 7, 0, 4, 4.1740636881563455, 1.0, 121.22, 19.48, <1x26405 sparse matrix of type '<class 'numpy.float64'>'
	with 8 stored elements in Compressed Sparse Row format>, 0]
[4, 2, 2, 0, 2, 10, 9, 0, 3, 3.9204795063319713, 0.9166666666666666, -47.99, 19.48, <1x26405 sparse matrix of type '<class 'numpy.float64'>'
	with 8 stored elements in Compressed Sparse Row format>, 1]
[2, 1, 1, 0, 1, 5, 4, 0, 2, 3.756795811071915, 1.0, 121.22, 0.05, <1x26405 sparse matrix of type '<class 'numpy.float64'>'
	with 8 stored elements in Compressed Sparse Row format>, 1]
[3, 2, 2, 0, 0, 7, 4, 1, 0, 4.1345195377278445, 1.0, 121.22, 19.48, <1x26405 sparse matrix of type '<class 'numpy.float64'>'
	with 8 stored elements in Compressed Sparse Row format>, 1]
[4, 1, 2, 0, 2, 8, 7, 0, 3, 4.018142411326847, 1.0, 121.22, 0.05, <1x26405 sparse matrix of type '<class 'numpy.float64'>'
	with 8 stored elements in Compressed Sparse Row format>, 1]
[5, 2, 2, 0, 2, 10, 9, 0, 3, 3.823782365496663, 0.9166666666666666, 121.22, 0.05, <1x26405 sparse matrix of type '<class 'numpy.float64'>'
	with 8 stored elements in Compressed Sparse Row format>, 1]
[4, 2, 2, 0, 2, 8, 7, 0, 3, 3.9052798833385083, 1.0, 36.62, 19.48, <1x26405 sparse matrix of type '<class 'numpy.float64'>'
	with 8 stored elements in Compressed Sparse Row format>, 1]
[2, 3, 4, 0, 5, 14, 11, 0, 8, 4.140795547088433, 0.9473684210526315, -47.99, 19.48, <1x26405 sparse matrix of type '<class 'numpy.float64'>'
	with 8 stored elements in Compressed Sparse Row format>, 1]
[5, 1, 3, 0, 2, 12, 6, 1, 4, 3.9647093698805747, 1.0, 121.22, 19.48, <1x26405 sparse matrix of type '<class 'numpy.float64'>'
	with 8 stored elements in Compressed Sparse Row format>, 0]
[5, 2, 3, 0, 4, 11, 8, 1, 5, 4.3207426842316785, 0.9333333333333333, 121.22, 19.48, <1x26405 sparse matrix of type '<class 'numpy.float64'>'
	with 8 stored elements in Compressed Sparse Row format>, 1]
[7, 1, 0, 0, 1, 9, 7, 0, 2, 3.8376448769897813, 1.0, 121.22, 0.05, <1x26405 sparse matrix of type '<class 'numpy.float64'>'
	with 8 stored elements in Compressed Sparse Row format>, 0]
[1, 0, 2, 0, 1, 7, 5, 0, 3, 4.056783066018822, 1.0, 121.22, 19.48, <1x26405 sparse matrix of type '<class 'numpy.float64'>'
	with 8 stored elements in Compressed Sparse Row format>, 0]
[2, 2, 3, 0, 0, 8, 6, 0, 2, 4.099163441595072, 1.0, 36.62, 19.48, <1x26405 sparse matrix of type '<class 'numpy.float64'>'
	with 8 stored elements in Compressed Sparse Row format>, 1]
[6, 1, 3, 1, 2, 10, 9, 1, 3, 3.895224233880531, 1.0, 121.22, 0.05, <1x26405 sparse matrix of type '<class 'numpy.float64'>'
	with 8 stored elements in Compressed Sparse Row format>, 1]
[4, 2, 1, 0, 1, 7, 4, 1, 2, 3.9258736102104703, 1.0, -47.99, 19.48, <1x26405 sparse matrix of type '<class 'numpy.float64'>'
	with 8 stored elements in Compressed Sparse Row format>, 0]
[3, 3, 2, 0, 1, 8, 5, 1, 1, 3.889739713209973, 1.0, 36.62, 19.48, <1x26405 sparse matrix of type '<class 'numpy.float64'>'
	with 8 stored elements in Compressed Sparse Row format>, 0]
[5, 2, 2, 0, 1, 11, 9, 1, 2, 4.170434264846589, 1.0, 121.22, 0.05, <1x26405 sparse matrix of type '<class 'numpy.float64'>'
	with 8 stored elements in Compressed Sparse Row format>, 1]
[3, 1, 3, 0, 1, 11, 3, 0, 5, 4.0198004015905315, 1.0, 121.22, 19.48, <1x26405 sparse matrix of type '<class 'numpy.float64'>'
	with 8 stored elements in Compressed Sparse Row format>, 0]
[7, 0, 1, 0, 1, 10, 6, 1, 1, 4.090409099665744, 1.0, 121.22, 0.05, <1x26405 sparse matrix of type '<class 'numpy.float64'>'
	with 8 stored elements in Compressed Sparse Row format>, 0]
[5, 2, 2, 0, 2, 10, 9, 0, 3, 4.045131727590524, 1.0, 36.62, 0.05, <1x26405 sparse matrix of type '<class 'numpy.float64'>'
	with 8 stored elements in Compressed Sparse Row format>, 0]
[4, 1, 1, 0, 1, 6, 5, 0, 1, 3.837743290398091, 1.0, 36.62, 19.48, <1x26405 sparse matrix of type '<class 'numpy.float64'>'
	with 8 stored elements in Compressed Sparse Row format>, 1]
[7, 2, 2, 0, 3, 11, 8, 1, 3, 4.000172647544846, 1.0, -47.99, 19.48, <1x26405 sparse matrix of type '<class 'numpy.float64'>'
	with 8 stored elements in Compressed Sparse Row format>, 0]
[14, 8, 1, 0, 1, 27, 9, 3, 4, 4.132786162323665, 1.0, -132.59, 19.48, <1x26405 sparse matrix of type '<class 'numpy.float64'>'
	with 8 stored elements in Compressed Sparse Row format>, 1]
[6, 2, 0, 0, 1, 9, 7, 0, 2, 3.8875820040073266, 1.0, -132.59, 19.48, <1x26405 sparse matrix of type '<class 'numpy.float64'>'
	with 8 stored elements in Compressed Sparse Row format>, 0]
[8, 1, 3, 0, 2, 15, 12, 0, 4, 4.150094027934621, 1.0, 121.22, 19.48, <1x26405 sparse matrix of type '<class 'numpy.float64'>'
	with 8 stored elements in Compressed Sparse Row format>, 1]
[5, 1, 0, 0, 0, 7, 6, 0, 1, 3.774828415683072, 1.0, 36.62, 19.48, <1x26405 sparse matrix of type '<class 'numpy.float64'>'
	with 8 stored elements in Compressed Sparse Row format>, 1]
[4, 1, 2, 0, 2, 9, 8, 0, 3, 3.788012529823375, 1.0, 121.22, 0.05, <1x26405 sparse matrix of type '<class 'numpy.float64'>'
	with 8 stored elements in Compressed Sparse Row format>, 1]
[5, 1, 3, 0, 2, 12, 10, 0, 4, 3.9846201936286834, 1.0, 121.22, 0.05, <1x26405 sparse matrix of type '<class 'numpy.float64'>'
	with 8 stored elements in Compressed Sparse Row format>, 1]
[4, 0, 2, 0, 0, 11, 7, 0, 4, 3.951300561257204, 0.9090909090909091, 121.22, 0.05, <1x26405 sparse matrix of type '<class 'numpy.float64'>'
	with 8 stored elements in Compressed Sparse Row format>, 0]
[4, 0, 2, 0, 1, 8, 6, 2, 1, 3.6873182337978294, 1.0, 36.62, 19.48, <1x26405 sparse matrix of type '<class 'numpy.float64'>'
	with 8 stored elements in Compressed Sparse Row format>, 1]
[3, 0, 1, 0, 0, 5, 3, 1, 1, 3.9917292966721747, 1.0, 36.62, 0.05, <1x26405 sparse matrix of type '<class 'numpy.float64'>'
	with 8 stored elements in Compressed Sparse Row format>, 1]
[5, 2, 3, 0, 2, 12, 11, 0, 3, 4.082693761271659, 1.0, 36.62, 19.48, <1x26405 sparse matrix of type '<class 'numpy.float64'>'
	with 8 stored elements in Compressed Sparse Row format>, 1]
[4, 2, 2, 0, 1, 8, 8, 0, 1, 3.7005232462397375, 1.0, 121.22, 0.05, <1x26405 sparse matrix of type '<class 'numpy.float64'>'
	with 8 stored elements in Compressed Sparse Row format>, 1]
[6, 1, 2, 0, 2, 12, 6, 0, 5, 4.294225522000942, 1.0, 121.22, 19.48, <1x26405 sparse matrix of type '<class 'numpy.float64'>'
	with 8 stored elements in Compressed Sparse Row format>, 1]
[4, 2, 3, 0, 2, 9, 4, 0, 2, 3.9857651993016407, 1.0, -47.99, 19.48, <1x26405 sparse matrix of type '<class 'numpy.float64'>'
	with 8 stored elements in Compressed Sparse Row format>, 0]
[2, 2, 1, 2, 2, 7, 6, 0, 5, 3.898238395678396, 1.0, 121.22, 19.48, <1x26405 sparse matrix of type '<class 'numpy.float64'>'
	with 8 stored elements in Compressed Sparse Row format>, 0]
[6, 1, 1, 0, 4, 8, 8, 1, 3, 3.878232067371932, 1.0, 36.62, 0.05, <1x26405 sparse matrix of type '<class 'numpy.float64'>'
	with 8 stored elements in Compressed Sparse Row format>, 1]
[1, 0, 1, 0, 1, 4, 2, 0, 2, 3.6437763910523584, 1.0, -47.99, 0.05, <1x26405 sparse matrix of type '<class 'numpy.float64'>'
	with 8 stored elements in Compressed Sparse Row format>, 0]
[7, 1, 1, 0, 1, 11, 10, 1, 1, 4.052018048528792, 1.0, 121.22, 19.48, <1x26405 sparse matrix of type '<class 'numpy.float64'>'
	with 8 stored elements in Compressed Sparse Row format>, 0]
[3, 1, 0, 0, 2, 6, 2, 1, 2, 4.201139803938999, 1.0, 36.62, 19.48, <1x26405 sparse matrix of type '<class 'numpy.float64'>'
	with 8 stored elements in Compressed Sparse Row format>, 0]
[5, 2, 1, 0, 1, 8, 8, 0, 1, 4.104527956260437, 1.0, 121.22, 0.05, <1x26405 sparse matrix of type '<class 'numpy.float64'>'
	with 8 stored elements in Compressed Sparse Row format>, 1]
[2, 2, 0, 0, 1, 5, 4, 0, 2, 3.7077516472406153, 1.0, 121.22, 0.05, <1x26405 sparse matrix of type '<class 'numpy.float64'>'
	with 8 stored elements in Compressed Sparse Row format>, 0]
[3, 0, 2, 1, 2, 7, 7, 0, 3, 3.932874275867342, 1.0, 36.62, 0.05, <1x26405 sparse matrix of type '<class 'numpy.float64'>'
	with 8 stored elements in Compressed Sparse Row format>, 1]
[5, 2, 2, 0, 0, 10, 7, 0, 0, 3.960841874274901, 1.0, 121.22, 0.05, <1x26405 sparse matrix of type '<class 'numpy.float64'>'
	with 8 stored elements in Compressed Sparse Row format>, 1]
[6, 0, 2, 0, 3, 11, 9, 0, 5, 3.903411988221747, 0.9285714285714286, 121.22, 0.05, <1x26405 sparse matrix of type '<class 'numpy.float64'>'
	with 8 stored elements in Compressed Sparse Row format>, 1]
[4, 2, 2, 0, 0, 10, 8, 0, 2, 3.658553831743964, 1.0, 121.22, 19.48, <1x26405 sparse matrix of type '<class 'numpy.float64'>'
	with 8 stored elements in Compressed Sparse Row format>, 1]
[10, 4, 4, 0, 1, 18, 12, 2, 1, 4.105023323804411, 1.0, 121.22, 0.05, <1x26405 sparse matrix of type '<class 'numpy.float64'>'
	with 8 stored elements in Compressed Sparse Row format>, 1]
[2, 0, 0, 0, 0, 3, 2, 0, 1, 3.327819531114783, 1.0, 121.22, 19.48, <1x26405 sparse matrix of type '<class 'numpy.float64'>'
	with 8 stored elements in Compressed Sparse Row format>, 0]
[3, 3, 1, 0, 1, 9, 6, 2, 1, 4.1522479156208725, 1.0, 36.62, 19.48, <1x26405 sparse matrix of type '<class 'numpy.float64'>'
	with 8 stored elements in Compressed Sparse Row format>, 1]
[4, 1, 0, 0, 0, 7, 5, 1, 1, 4.214661719245796, 1.0, 36.62, 19.48, <1x26405 sparse matrix of type '<class 'numpy.float64'>'
	with 8 stored elements in Compressed Sparse Row format>, 0]
[3, 2, 3, 1, 1, 12, 8, 0, 4, 3.976950114414616, 0.9285714285714286, -47.99, 19.48, <1x26405 sparse matrix of type '<class 'numpy.float64'>'
	with 8 stored elements in Compressed Sparse Row format>, 0]
[3, 1, 1, 0, 0, 6, 3, 1, 1, 3.595431783803264, 1.0, 36.62, 0.05, <1x26405 sparse matrix of type '<class 'numpy.float64'>'
	with 8 stored elements in Compressed Sparse Row format>, 0]
[4, 2, 3, 0, 1, 11, 8, 0, 3, 4.0235110152779265, 1.0, -47.99, 19.48, <1x26405 sparse matrix of type '<class 'numpy.float64'>'
	with 8 stored elements in Compressed Sparse Row format>, 1]
[4, 2, 0, 0, 0, 9, 4, 1, 3, 4.002643205799669, 1.0, 36.62, 19.48, <1x26405 sparse matrix of type '<class 'numpy.float64'>'
	with 8 stored elements in Compressed Sparse Row format>, 0]
[3, 1, 3, 0, 2, 9, 5, 1, 4, 4.023786532577266, 1.0, -47.99, 19.48, <1x26405 sparse matrix of type '<class 'numpy.float64'>'
	with 8 stored elements in Compressed Sparse Row format>, 1]
[6, 1, 2, 0, 2, 11, 6, 1, 2, 4.316699794098068, 1.0, 121.22, 19.48, <1x26405 sparse matrix of type '<class 'numpy.float64'>'
	with 8 stored elements in Compressed Sparse Row format>, 1]
[1, 0, 1, 0, 1, 6, 1, 0, 5, 4.036161556776113, 1.0, 36.62, 0.05, <1x26405 sparse matrix of type '<class 'numpy.float64'>'
	with 8 stored elements in Compressed Sparse Row format>, 0]
[1, 1, 2, 0, 1, 5, 3, 1, 2, 3.743942707918268, 1.0, -47.99, 19.48, <1x26405 sparse matrix of type '<class 'numpy.float64'>'
	with 8 stored elements in Compressed Sparse Row format>, 0]
[2, 0, 0, 1, 1, 2, 2, 0, 2, 3.350209029099897, 1.0, 36.62, 19.48, <1x26405 sparse matrix of type '<class 'numpy.float64'>'
	with 8 stored elements in Compressed Sparse Row format>, 0]
[3, 2, 3, 0, 1, 10, 5, 0, 6, 3.917417000174142, 1.0, 121.22, 0.05, <1x26405 sparse matrix of type '<class 'numpy.float64'>'
	with 8 stored elements in Compressed Sparse Row format>, 0]
[5, 1, 3, 0, 1, 10, 8, 0, 2, 3.846079787737881, 1.0, 121.22, 0.05, <1x26405 sparse matrix of type '<class 'numpy.float64'>'
	with 8 stored elements in Compressed Sparse Row format>, 1]
[4, 3, 0, 0, 0, 8, 6, 0, 1, 3.948610864835279, 1.0, 36.62, 19.48, <1x26405 sparse matrix of type '<class 'numpy.float64'>'
	with 8 stored elements in Compressed Sparse Row format>, 1]
[5, 0, 1, 0, 1, 10, 4, 2, 5, 3.9368173196354186, 0.9090909090909091, -47.99, 19.48, <1x26405 sparse matrix of type '<class 'numpy.float64'>'
	with 8 stored elements in Compressed Sparse Row format>, 0]
[5, 1, 1, 0, 1, 8, 6, 1, 2, 4.099067549535072, 1.0, 121.22, 19.48, <1x26405 sparse matrix of type '<class 'numpy.float64'>'
	with 8 stored elements in Compressed Sparse Row format>, 1]
[4, 0, 2, 0, 2, 6, 6, 0, 2, 4.019641085934338, 1.0, 121.22, 0.05, <1x26405 sparse matrix of type '<class 'numpy.float64'>'
	with 8 stored elements in Compressed Sparse Row format>, 1]
[4, 1, 1, 0, 2, 9, 4, 0, 5, 4.203102364931725, 0.9090909090909091, 121.22, 0.05, <1x26405 sparse matrix of type '<class 'numpy.float64'>'
	with 8 stored elements in Compressed Sparse Row format>, 0]
[7, 2, 3, 0, 1, 13, 8, 0, 3, 4.091827610331124, 0.9285714285714286, 36.62, 19.48, <1x26405 sparse matrix of type '<class 'numpy.float64'>'
	with 8 stored elements in Compressed Sparse Row format>, 0]
[3, 1, 0, 0, 1, 5, 2, 1, 2, 3.9900172174899025, 1.0, 36.62, 19.48, <1x26405 sparse matrix of type '<class 'numpy.float64'>'
	with 8 stored elements in Compressed Sparse Row format>, 0]
[4, 1, 1, 0, 1, 6, 6, 0, 1, 3.814015603855731, 1.0, 121.22, 0.05, <1x26405 sparse matrix of type '<class 'numpy.float64'>'
	with 8 stored elements in Compressed Sparse Row format>, 1]
[3, 2, 4, 0, 5, 12, 8, 0, 8, 4.035071646167827, 0.9411764705882353, 121.22, 0.05, <1x26405 sparse matrix of type '<class 'numpy.float64'>'
	with 8 stored elements in Compressed Sparse Row format>, 0]
[4, 2, 1, 0, 0, 9, 7, 0, 2, 3.9310915834906357, 1.0, -47.99, 19.48, <1x26405 sparse matrix of type '<class 'numpy.float64'>'
	with 8 stored elements in Compressed Sparse Row format>, 0]
[4, 1, 1, 0, 1, 6, 5, 0, 2, 3.9483465138316345, 1.0, 121.22, 0.05, <1x26405 sparse matrix of type '<class 'numpy.float64'>'
	with 8 stored elements in Compressed Sparse Row format>, 0]
[2, 1, 0, 0, 1, 3, 2, 0, 1, 4.031401845392172, 1.0, -132.59, 35.27, <1x26405 sparse matrix of type '<class 'numpy.float64'>'
	with 8 stored elements in Compressed Sparse Row format>, 1]
[1, 3, 1, 0, 1, 4, 2, 0, 1, 3.7160160623359078, 1.0, 121.22, 19.48, <1x26405 sparse matrix of type '<class 'numpy.float64'>'
	with 8 stored elements in Compressed Sparse Row format>, 1]
[2, 0, 1, 0, 1, 8, 3, 0, 6, 3.708767963940175, 1.0, 121.22, 0.05, <1x26405 sparse matrix of type '<class 'numpy.float64'>'
	with 8 stored elements in Compressed Sparse Row format>, 0]
[6, 1, 1, 0, 1, 10, 9, 0, 1, 3.9283019176213303, 1.0, 36.62, 0.05, <1x26405 sparse matrix of type '<class 'numpy.float64'>'
	with 8 stored elements in Compressed Sparse Row format>, 0]
[7, 2, 1, 0, 1, 11, 6, 0, 1, 4.124404394753647, 1.0, 36.62, 19.48, <1x26405 sparse matrix of type '<class 'numpy.float64'>'
	with 8 stored elements in Compressed Sparse Row format>, 0]
[6, 4, 0, 0, 1, 11, 10, 0, 2, 3.77084017915708, 1.0, 36.62, 19.48, <1x26405 sparse matrix of type '<class 'numpy.float64'>'
	with 8 stored elements in Compressed Sparse Row format>, 1]
[6, 3, 2, 0, 3, 10, 7, 0, 3, 3.979395029403236, 1.0, 121.22, 0.05, <1x26405 sparse matrix of type '<class 'numpy.float64'>'
	with 8 stored elements in Compressed Sparse Row format>, 0]
[5, 1, 2, 0, 3, 11, 5, 0, 6, 4.0724436816297125, 1.0, 121.22, 19.48, <1x26405 sparse matrix of type '<class 'numpy.float64'>'
	with 8 stored elements in Compressed Sparse Row format>, 0]
[2, 1, 1, 0, 1, 7, 2, 1, 4, 3.847118988424445, 0.875, 121.22, 0.05, <1x26405 sparse matrix of type '<class 'numpy.float64'>'
	with 8 stored elements in Compressed Sparse Row format>, 0]
[3, 2, 3, 0, 3, 8, 5, 0, 4, 4.039079570624174, 1.0, 121.22, 19.48, <1x26405 sparse matrix of type '<class 'numpy.float64'>'
	with 8 stored elements in Compressed Sparse Row format>, 1]
[2, 1, 0, 0, 0, 6, 4, 0, 1, 4.0121987351738495, 1.0, 121.22, 19.48, <1x26405 sparse matrix of type '<class 'numpy.float64'>'
	with 8 stored elements in Compressed Sparse Row format>, 0]
[4, 0, 1, 0, 3, 5, 5, 0, 3, 3.8579467088778885, 1.0, 36.62, 19.48, <1x26405 sparse matrix of type '<class 'numpy.float64'>'
	with 8 stored elements in Compressed Sparse Row format>, 1]
[5, 0, 1, 0, 1, 7, 5, 0, 2, 3.972285531716258, 1.0, 121.22, 0.05, <1x26405 sparse matrix of type '<class 'numpy.float64'>'
	with 8 stored elements in Compressed Sparse Row format>, 0]
[6, 1, 1, 0, 2, 9, 7, 0, 3, 4.088861486270712, 1.0, -132.59, 19.48, <1x26405 sparse matrix of type '<class 'numpy.float64'>'
	with 8 stored elements in Compressed Sparse Row format>, 0]
[3, 0, 2, 0, 2, 7, 5, 1, 3, 4.054221979335721, 1.0, 36.62, 19.48, <1x26405 sparse matrix of type '<class 'numpy.float64'>'
	with 8 stored elements in Compressed Sparse Row format>, 1]
[1, 1, 3, 0, 1, 10, 4, 0, 5, 3.960711642499792, 1.0, 121.22, 0.05, <1x26405 sparse matrix of type '<class 'numpy.float64'>'
	with 8 stored elements in Compressed Sparse Row format>, 0]
[2, 2, 2, 0, 4, 9, 3, 1, 6, 3.572989142759585, 0.7692307692307693, 121.22, 19.48, <1x26405 sparse matrix of type '<class 'numpy.float64'>'
	with 8 stored elements in Compressed Sparse Row format>, 0]
[4, 0, 1, 0, 1, 6, 5, 0, 2, 3.9738194768925954, 1.0, 36.62, 19.48, <1x26405 sparse matrix of type '<class 'numpy.float64'>'
	with 8 stored elements in Compressed Sparse Row format>, 1]
[10, 1, 1, 0, 0, 13, 10, 1, 1, 4.115124302139219, 1.0, 121.22, 19.48, <1x26405 sparse matrix of type '<class 'numpy.float64'>'
	with 8 stored elements in Compressed Sparse Row format>, 0]
[6, 0, 3, 0, 2, 12, 9, 0, 4, 4.086218976286996, 1.0, 121.22, 0.05, <1x26405 sparse matrix of type '<class 'numpy.float64'>'
	with 8 stored elements in Compressed Sparse Row format>, 1]
[7, 2, 0, 0, 2, 10, 10, 0, 2, 3.8937680880514947, 1.0, 36.62, 19.48, <1x26405 sparse matrix of type '<class 'numpy.float64'>'
	with 8 stored elements in Compressed Sparse Row format>, 1]
[3, 2, 1, 0, 0, 6, 4, 2, 0, 3.9265517208241816, 1.0, 121.22, 19.48, <1x26405 sparse matrix of type '<class 'numpy.float64'>'
	with 8 stored elements in Compressed Sparse Row format>, 0]
[5, 1, 1, 1, 1, 9, 4, 1, 5, 4.206494866000933, 1.0, 36.62, 19.48, <1x26405 sparse matrix of type '<class 'numpy.float64'>'
	with 8 stored elements in Compressed Sparse Row format>, 0]
[3, 0, 1, 1, 1, 6, 1, 0, 5, 3.8837834090041, 1.0, 121.22, 19.48, <1x26405 sparse matrix of type '<class 'numpy.float64'>'
	with 8 stored elements in Compressed Sparse Row format>, 0]
[6, 1, 1, 0, 2, 9, 9, 0, 2, 3.959244133503321, 0.9090909090909091, 121.22, 19.48, <1x26405 sparse matrix of type '<class 'numpy.float64'>'
	with 8 stored elements in Compressed Sparse Row format>, 1]
[6, 2, 1, 0, 1, 9, 7, 1, 1, 3.99218479672113, 1.0, -217.19, 19.48, <1x26405 sparse matrix of type '<class 'numpy.float64'>'
	with 8 stored elements in Compressed Sparse Row format>, 1]
[3, 2, 3, 0, 3, 9, 5, 1, 5, 3.9542748783249966, 0.9166666666666666, 121.22, 0.05, <1x26405 sparse matrix of type '<class 'numpy.float64'>'
	with 8 stored elements in Compressed Sparse Row format>, 1]
[2, 2, 2, 0, 2, 7, 5, 1, 3, 3.8021493030449447, 1.0, 36.62, 19.48, <1x26405 sparse matrix of type '<class 'numpy.float64'>'
	with 8 stored elements in Compressed Sparse Row format>, 0]
[3, 2, 1, 0, 0, 7, 6, 0, 1, 4.019717245562369, 1.0, 36.62, 0.05, <1x26405 sparse matrix of type '<class 'numpy.float64'>'
	with 8 stored elements in Compressed Sparse Row format>, 1]
[5, 2, 1, 0, 0, 10, 8, 1, 1, 4.056379317070698, 1.0, 36.62, 0.05, <1x26405 sparse matrix of type '<class 'numpy.float64'>'
	with 8 stored elements in Compressed Sparse Row format>, 0]
[2, 2, 2, 0, 2, 8, 5, 0, 5, 3.957505094275292, 1.0, 121.22, 19.48, <1x26405 sparse matrix of type '<class 'numpy.float64'>'
	with 8 stored elements in Compressed Sparse Row format>, 0]
[3, 2, 2, 0, 3, 8, 5, 1, 3, 3.975899287288174, 1.0, 36.62, 0.05, <1x26405 sparse matrix of type '<class 'numpy.float64'>'
	with 8 stored elements in Compressed Sparse Row format>, 0]
[3, 1, 2, 0, 1, 10, 7, 0, 4, 3.7291111697836703, 1.0, 121.22, 0.05, <1x26405 sparse matrix of type '<class 'numpy.float64'>'
	with 8 stored elements in Compressed Sparse Row format>, 0]
[1, 0, 1, 0, 0, 2, 1, 1, 0, 3.3082708345352603, 1.0, -47.99, 0.05, <1x26405 sparse matrix of type '<class 'numpy.float64'>'
	with 8 stored elements in Compressed Sparse Row format>, 0]
[1, 2, 1, 0, 1, 4, 2, 0, 2, 3.8980685120588388, 1.0, 36.62, 19.48, <1x26405 sparse matrix of type '<class 'numpy.float64'>'
	with 8 stored elements in Compressed Sparse Row format>, 0]
[2, 1, 0, 0, 1, 4, 2, 0, 2, 3.8488846166291197, 1.0, 121.22, 0.05, <1x26405 sparse matrix of type '<class 'numpy.float64'>'
	with 8 stored elements in Compressed Sparse Row format>, 0]
[3, 1, 4, 0, 2, 11, 4, 2, 7, 3.9757923481394526, 1.0, 36.62, 19.48, <1x26405 sparse matrix of type '<class 'numpy.float64'>'
	with 8 stored elements in Compressed Sparse Row format>, 0]
[4, 1, 1, 1, 2, 9, 6, 0, 5, 3.784971386982843, 1.0, 121.22, 0.05, <1x26405 sparse matrix of type '<class 'numpy.float64'>'
	with 8 stored elements in Compressed Sparse Row format>, 0]
[2, 2, 1, 0, 0, 5, 4, 0, 1, 3.6245186549588984, 1.0, 121.22, 19.48, <1x26405 sparse matrix of type '<class 'numpy.float64'>'
	with 8 stored elements in Compressed Sparse Row format>, 1]
[11, 2, 0, 0, 2, 14, 11, 1, 2, 3.964379718696132, 1.0, 121.22, 0.05, <1x26405 sparse matrix of type '<class 'numpy.float64'>'
	with 8 stored elements in Compressed Sparse Row format>, 0]
[4, 1, 1, 0, 1, 9, 5, 1, 3, 3.971912169627803, 1.0, 121.22, 19.48, <1x26405 sparse matrix of type '<class 'numpy.float64'>'
	with 8 stored elements in Compressed Sparse Row format>, 1]
[2, 1, 2, 0, 1, 6, 6, 0, 1, 3.908027254349905, 1.0, 121.22, 0.05, <1x26405 sparse matrix of type '<class 'numpy.float64'>'
	with 8 stored elements in Compressed Sparse Row format>, 1]
[6, 1, 3, 0, 2, 8, 5, 0, 3, 4.117757667422592, 1.0, 121.22, 19.48, <1x26405 sparse matrix of type '<class 'numpy.float64'>'
	with 8 stored elements in Compressed Sparse Row format>, 0]
[5, 1, 2, 0, 1, 11, 3, 3, 5, 3.875771686951294, 1.0, 121.22, 19.48, <1x26405 sparse matrix of type '<class 'numpy.float64'>'
	with 8 stored elements in Compressed Sparse Row format>, 0]
[2, 1, 2, 0, 1, 7, 4, 1, 3, 4.112342097856778, 1.0, 36.62, 19.48, <1x26405 sparse matrix of type '<class 'numpy.float64'>'
	with 8 stored elements in Compressed Sparse Row format>, 0]
[5, 1, 1, 0, 0, 9, 5, 1, 2, 4.177926496662629, 1.0, 121.22, 0.05, <1x26405 sparse matrix of type '<class 'numpy.float64'>'
	with 8 stored elements in Compressed Sparse Row format>, 0]
[6, 1, 1, 0, 2, 13, 8, 0, 5, 4.169892228039185, 0.9333333333333333, 36.62, 19.48, <1x26405 sparse matrix of type '<class 'numpy.float64'>'
	with 8 stored elements in Compressed Sparse Row format>, 0]
[5, 1, 0, 0, 0, 7, 4, 0, 1, 3.917659128921307, 1.0, 121.22, 19.48, <1x26405 sparse matrix of type '<class 'numpy.float64'>'
	with 8 stored elements in Compressed Sparse Row format>, 0]
[4, 2, 2, 0, 2, 9, 7, 0, 3, 3.900653145293514, 1.0, 121.22, 0.05, <1x26405 sparse matrix of type '<class 'numpy.float64'>'
	with 8 stored elements in Compressed Sparse Row format>, 1]
[4, 3, 1, 0, 1, 10, 10, 0, 1, 4.160660669270233, 1.0, 121.22, 0.05, <1x26405 sparse matrix of type '<class 'numpy.float64'>'
	with 8 stored elements in Compressed Sparse Row format>, 1]
[4, 1, 3, 0, 1, 9, 7, 1, 2, 3.926935272062966, 1.0, 36.62, 19.48, <1x26405 sparse matrix of type '<class 'numpy.float64'>'
	with 8 stored elements in Compressed Sparse Row format>, 0]
[3, 1, 1, 0, 2, 6, 5, 0, 3, 3.774317629417029, 1.0, 121.22, 0.05, <1x26405 sparse matrix of type '<class 'numpy.float64'>'
	with 8 stored elements in Compressed Sparse Row format>, 0]
[6, 1, 1, 0, 1, 11, 5, 0, 4, 4.059705562168184, 1.0, 121.22, 19.48, <1x26405 sparse matrix of type '<class 'numpy.float64'>'
	with 8 stored elements in Compressed Sparse Row format>, 0]
[2, 2, 0, 1, 0, 5, 4, 0, 2, 3.3800943362833302, 0.8333333333333334, 121.22, 0.05, <1x26405 sparse matrix of type '<class 'numpy.float64'>'
	with 8 stored elements in Compressed Sparse Row format>, 0]
[2, 1, 0, 0, 1, 4, 3, 0, 2, 3.873235826376328, 1.0, 36.62, 0.05, <1x26405 sparse matrix of type '<class 'numpy.float64'>'
	with 8 stored elements in Compressed Sparse Row format>, 0]
[6, 0, 1, 0, 0, 9, 4, 1, 1, 3.913558696193739, 1.0, 121.22, 0.05, <1x26405 sparse matrix of type '<class 'numpy.float64'>'
	with 8 stored elements in Compressed Sparse Row format>, 0]
[6, 1, 1, 0, 0, 12, 5, 2, 2, 4.141623086782238, 1.0, 36.62, 19.48, <1x26405 sparse matrix of type '<class 'numpy.float64'>'
	with 8 stored elements in Compressed Sparse Row format>, 1]
[6, 3, 2, 0, 1, 13, 6, 2, 3, 4.113731386761254, 0.9285714285714286, 36.62, 19.48, <1x26405 sparse matrix of type '<class 'numpy.float64'>'
	with 8 stored elements in Compressed Sparse Row format>, 1]
[2, 2, 1, 1, 0, 5, 3, 0, 1, 3.848249906801916, 0.8333333333333334, 121.22, 19.48, <1x26405 sparse matrix of type '<class 'numpy.float64'>'
	with 8 stored elements in Compressed Sparse Row format>, 1]
[4, 2, 0, 0, 1, 8, 7, 0, 2, 3.9926226152045903, 1.0, 121.22, 19.48, <1x26405 sparse matrix of type '<class 'numpy.float64'>'
	with 8 stored elements in Compressed Sparse Row format>, 1]
[2, 2, 1, 0, 1, 5, 4, 1, 1, 3.955291886017961, 1.0, -47.99, 19.48, <1x26405 sparse matrix of type '<class 'numpy.float64'>'
	with 8 stored elements in Compressed Sparse Row format>, 1]
[3, 2, 1, 0, 0, 9, 6, 1, 2, 4.083386941321704, 1.0, -132.59, 19.48, <1x26405 sparse matrix of type '<class 'numpy.float64'>'
	with 8 stored elements in Compressed Sparse Row format>, 1]
[5, 1, 3, 0, 0, 11, 6, 0, 2, 4.063705136027202, 1.0, 36.62, 0.05, <1x26405 sparse matrix of type '<class 'numpy.float64'>'
	with 8 stored elements in Compressed Sparse Row format>, 0]
[6, 0, 1, 1, 1, 9, 5, 0, 4, 4.08245752798577, 1.0, 121.22, 0.05, <1x26405 sparse matrix of type '<class 'numpy.float64'>'
	with 8 stored elements in Compressed Sparse Row format>, 0]
[4, 1, 2, 0, 0, 12, 7, 0, 3, 4.189705984416498, 1.0, 121.22, 19.48, <1x26405 sparse matrix of type '<class 'numpy.float64'>'
	with 8 stored elements in Compressed Sparse Row format>, 1]
[3, 3, 1, 0, 1, 7, 7, 0, 1, 4.06968566142613, 1.0, 121.22, 0.05, <1x26405 sparse matrix of type '<class 'numpy.float64'>'
	with 8 stored elements in Compressed Sparse Row format>, 0]
[3, 0, 1, 0, 1, 4, 4, 0, 1, 3.677139104850461, 1.0, 121.22, 0.05, <1x26405 sparse matrix of type '<class 'numpy.float64'>'
	with 8 stored elements in Compressed Sparse Row format>, 1]
[5, 4, 1, 0, 1, 10, 8, 2, 1, 3.843819340165204, 1.0, 121.22, 0.05, <1x26405 sparse matrix of type '<class 'numpy.float64'>'
	with 8 stored elements in Compressed Sparse Row format>, 0]
[7, 0, 1, 1, 2, 9, 9, 1, 2, 3.8546431942866533, 1.0, -47.99, 0.05, <1x26405 sparse matrix of type '<class 'numpy.float64'>'
	with 8 stored elements in Compressed Sparse Row format>, 0]
[5, 2, 1, 0, 2, 10, 7, 0, 4, 4.056174175285274, 1.0, -47.99, 19.48, <1x26405 sparse matrix of type '<class 'numpy.float64'>'
	with 8 stored elements in Compressed Sparse Row format>, 0]
[6, 1, 1, 0, 2, 9, 5, 0, 2, 4.060667447311429, 1.0, 121.22, 0.05, <1x26405 sparse matrix of type '<class 'numpy.float64'>'
	with 8 stored elements in Compressed Sparse Row format>, 0]
[4, 1, 0, 0, 0, 9, 4, 0, 2, 4.155326680761597, 1.0, 121.22, 19.48, <1x26405 sparse matrix of type '<class 'numpy.float64'>'
	with 8 stored elements in Compressed Sparse Row format>, 1]
[3, 1, 0, 0, 0, 5, 4, 0, 1, 3.6133373140453067, 1.0, 36.62, 19.48, <1x26405 sparse matrix of type '<class 'numpy.float64'>'
	with 8 stored elements in Compressed Sparse Row format>, 0]
[2, 2, 3, 0, 2, 8, 6, 1, 3, 4.07691842488259, 1.0, 36.62, 0.05, <1x26405 sparse matrix of type '<class 'numpy.float64'>'
	with 8 stored elements in Compressed Sparse Row format>, 0]
[8, 0, 2, 0, 2, 11, 7, 1, 4, 3.898225377838437, 1.0, 36.62, 19.48, <1x26405 sparse matrix of type '<class 'numpy.float64'>'
	with 8 stored elements in Compressed Sparse Row format>, 0]
[3, 1, 3, 0, 3, 7, 6, 0, 4, 4.0948745663221136, 1.0, 121.22, 0.05, <1x26405 sparse matrix of type '<class 'numpy.float64'>'
	with 8 stored elements in Compressed Sparse Row format>, 1]
[3, 1, 1, 0, 0, 7, 5, 0, 2, 3.898412848364052, 1.0, 121.22, 0.05, <1x26405 sparse matrix of type '<class 'numpy.float64'>'
	with 8 stored elements in Compressed Sparse Row format>, 1]
[4, 1, 2, 0, 0, 9, 7, 0, 2, 3.8510218917843306, 1.0, 121.22, 0.05, <1x26405 sparse matrix of type '<class 'numpy.float64'>'
	with 8 stored elements in Compressed Sparse Row format>, 1]
[1, 1, 2, 0, 2, 5, 3, 0, 4, 3.8846006626923586, 1.0, 121.22, 0.05, <1x26405 sparse matrix of type '<class 'numpy.float64'>'
	with 8 stored elements in Compressed Sparse Row format>, 1]
[5, 2, 1, 0, 0, 10, 5, 1, 2, 4.126638482396106, 1.0, 36.62, 19.48, <1x26405 sparse matrix of type '<class 'numpy.float64'>'
	with 8 stored elements in Compressed Sparse Row format>, 0]
[4, 0, 2, 1, 2, 9, 5, 1, 5, 4.094177248369146, 1.0, 36.62, 19.48, <1x26405 sparse matrix of type '<class 'numpy.float64'>'
	with 8 stored elements in Compressed Sparse Row format>, 0]
[5, 0, 5, 0, 2, 13, 8, 1, 5, 4.183382312014022, 0.9333333333333333, 36.62, 19.48, <1x26405 sparse matrix of type '<class 'numpy.float64'>'
	with 8 stored elements in Compressed Sparse Row format>, 0]
[5, 1, 3, 0, 4, 13, 9, 0, 5, 3.9526394107919884, 0.9411764705882353, 121.22, 19.48, <1x26405 sparse matrix of type '<class 'numpy.float64'>'
	with 8 stored elements in Compressed Sparse Row format>, 1]
[5, 0, 1, 0, 1, 6, 3, 1, 1, 4.195345047755316, 1.0, 121.22, 19.48, <1x26405 sparse matrix of type '<class 'numpy.float64'>'
	with 8 stored elements in Compressed Sparse Row format>, 1]
[7, 2, 4, 0, 4, 14, 12, 1, 5, 4.105235775650989, 0.9444444444444444, 121.22, 0.05, <1x26405 sparse matrix of type '<class 'numpy.float64'>'
	with 8 stored elements in Compressed Sparse Row format>, 1]
[5, 0, 1, 0, 0, 8, 5, 2, 1, 3.756998039266561, 1.0, 36.62, 19.48, <1x26405 sparse matrix of type '<class 'numpy.float64'>'
	with 8 stored elements in Compressed Sparse Row format>, 0]
[5, 0, 2, 0, 2, 9, 8, 0, 3, 4.162722123650556, 1.0, 36.62, 0.05, <1x26405 sparse matrix of type '<class 'numpy.float64'>'
	with 8 stored elements in Compressed Sparse Row format>, 1]
[5, 1, 1, 1, 1, 9, 4, 1, 3, 3.894472789205117, 1.0, -47.99, 19.48, <1x26405 sparse matrix of type '<class 'numpy.float64'>'
	with 8 stored elements in Compressed Sparse Row format>, 0]
[7, 2, 1, 0, 1, 13, 4, 1, 3, 4.092252107016452, 1.0, 36.62, 19.48, <1x26405 sparse matrix of type '<class 'numpy.float64'>'
	with 8 stored elements in Compressed Sparse Row format>, 0]
[5, 1, 4, 0, 2, 12, 4, 2, 6, 3.9764635094774214, 1.0, 36.62, 0.05, <1x26405 sparse matrix of type '<class 'numpy.float64'>'
	with 8 stored elements in Compressed Sparse Row format>, 0]
[4, 1, 1, 0, 0, 7, 6, 0, 1, 4.2089873002588, 1.0, -47.99, 19.48, <1x26405 sparse matrix of type '<class 'numpy.float64'>'
	with 8 stored elements in Compressed Sparse Row format>, 1]
[4, 1, 1, 1, 0, 9, 5, 0, 2, 3.8197566065045456, 1.0, 121.22, 19.48, <1x26405 sparse matrix of type '<class 'numpy.float64'>'
	with 8 stored elements in Compressed Sparse Row format>, 0]
[3, 1, 1, 0, 2, 8, 5, 0, 5, 3.9039346050486343, 0.9, 121.22, 19.48, <1x26405 sparse matrix of type '<class 'numpy.float64'>'
	with 8 stored elements in Compressed Sparse Row format>, 0]
[5, 1, 1, 0, 0, 8, 7, 0, 0, 3.8807115200110682, 1.0, 36.62, 19.48, <1x26405 sparse matrix of type '<class 'numpy.float64'>'
	with 8 stored elements in Compressed Sparse Row format>, 1]
[4, 1, 1, 1, 1, 6, 3, 0, 2, 3.985064131422948, 1.0, 121.22, 19.48, <1x26405 sparse matrix of type '<class 'numpy.float64'>'
	with 8 stored elements in Compressed Sparse Row format>, 1]
[4, 1, 2, 0, 2, 11, 1, 2, 6, 4.118940614673511, 1.0, 121.22, 19.48, <1x26405 sparse matrix of type '<class 'numpy.float64'>'
	with 8 stored elements in Compressed Sparse Row format>, 1]
[4, 3, 1, 0, 1, 8, 7, 0, 1, 4.0353137284735086, 1.0, 121.22, 0.05, <1x26405 sparse matrix of type '<class 'numpy.float64'>'
	with 8 stored elements in Compressed Sparse Row format>, 1]
[4, 1, 1, 0, 1, 5, 6, 0, 0, 3.687260493838272, 1.0, 121.22, 19.48, <1x26405 sparse matrix of type '<class 'numpy.float64'>'
	with 8 stored elements in Compressed Sparse Row format>, 0]
[3, 1, 3, 0, 1, 9, 6, 0, 4, 4.053602320578197, 1.0, 36.62, 19.48, <1x26405 sparse matrix of type '<class 'numpy.float64'>'
	with 8 stored elements in Compressed Sparse Row format>, 1]
[5, 1, 0, 0, 2, 8, 7, 0, 3, 3.7328248316184527, 1.0, 121.22, 0.05, <1x26405 sparse matrix of type '<class 'numpy.float64'>'
	with 8 stored elements in Compressed Sparse Row format>, 1]
[4, 3, 2, 0, 1, 9, 6, 3, 1, 3.995993584122519, 1.0, 121.22, 19.48, <1x26405 sparse matrix of type '<class 'numpy.float64'>'
	with 8 stored elements in Compressed Sparse Row format>, 1]
[5, 1, 2, 2, 2, 9, 7, 0, 5, 3.9741726753806303, 0.9230769230769231, 121.22, 0.05, <1x26405 sparse matrix of type '<class 'numpy.float64'>'
	with 8 stored elements in Compressed Sparse Row format>, 0]
[2, 3, 2, 0, 1, 7, 6, 0, 1, 4.101563189275507, 1.0, 121.22, 19.48, <1x26405 sparse matrix of type '<class 'numpy.float64'>'
	with 8 stored elements in Compressed Sparse Row format>, 1]
[5, 2, 2, 0, 2, 10, 7, 0, 3, 4.005870099660497, 1.0, -47.99, 19.48, <1x26405 sparse matrix of type '<class 'numpy.float64'>'
	with 8 stored elements in Compressed Sparse Row format>, 1]
[1, 1, 2, 0, 0, 9, 5, 0, 3, 4.070136841430028, 1.0, 36.62, 19.48, <1x26405 sparse matrix of type '<class 'numpy.float64'>'
	with 8 stored elements in Compressed Sparse Row format>, 1]
[3, 0, 0, 0, 0, 3, 2, 0, 0, 3.4251185503571397, 1.0, 121.22, 19.48, <1x26405 sparse matrix of type '<class 'numpy.float64'>'
	with 8 stored elements in Compressed Sparse Row format>, 0]
[3, 1, 1, 0, 3, 4, 4, 0, 2, 3.7030407100708653, 1.0, 121.22, 19.48, <1x26405 sparse matrix of type '<class 'numpy.float64'>'
	with 8 stored elements in Compressed Sparse Row format>, 1]
[4, 1, 3, 0, 2, 11, 9, 0, 4, 4.059373706770868, 1.0, 121.22, 19.48, <1x26405 sparse matrix of type '<class 'numpy.float64'>'
	with 8 stored elements in Compressed Sparse Row format>, 1]
[6, 1, 1, 0, 2, 8, 8, 0, 2, 3.935854706266947, 1.0, 121.22, 19.48, <1x26405 sparse matrix of type '<class 'numpy.float64'>'
	with 8 stored elements in Compressed Sparse Row format>, 0]
[5, 1, 3, 0, 1, 11, 9, 0, 3, 4.053125224878951, 1.0, 36.62, 0.05, <1x26405 sparse matrix of type '<class 'numpy.float64'>'
	with 8 stored elements in Compressed Sparse Row format>, 1]
[2, 1, 1, 0, 0, 6, 4, 1, 1, 3.7845276964165553, 1.0, -47.99, 19.48, <1x26405 sparse matrix of type '<class 'numpy.float64'>'
	with 8 stored elements in Compressed Sparse Row format>, 1]
[5, 0, 2, 0, 1, 8, 5, 1, 2, 3.8850559847050232, 1.0, 36.62, 19.48, <1x26405 sparse matrix of type '<class 'numpy.float64'>'
	with 8 stored elements in Compressed Sparse Row format>, 1]
[6, 0, 2, 0, 3, 8, 5, 0, 3, 3.9063149318342516, 1.0, 121.22, 0.05, <1x26405 sparse matrix of type '<class 'numpy.float64'>'
	with 8 stored elements in Compressed Sparse Row format>, 0]
[4, 1, 0, 0, 1, 7, 5, 0, 3, 3.9840319074694577, 1.0, 121.22, 0.05, <1x26405 sparse matrix of type '<class 'numpy.float64'>'
	with 8 stored elements in Compressed Sparse Row format>, 1]
[5, 1, 4, 0, 1, 13, 9, 0, 4, 4.18288347020671, 1.0, 121.22, 0.05, <1x26405 sparse matrix of type '<class 'numpy.float64'>'
	with 8 stored elements in Compressed Sparse Row format>, 1]
[3, 3, 1, 0, 3, 9, 5, 1, 5, 3.987788489846668, 1.0, 121.22, 0.05, <1x26405 sparse matrix of type '<class 'numpy.float64'>'
	with 8 stored elements in Compressed Sparse Row format>, 1]
[4, 4, 2, 0, 1, 10, 6, 1, 1, 4.466993158037528, 1.0, 36.62, 19.48, <1x26405 sparse matrix of type '<class 'numpy.float64'>'
	with 8 stored elements in Compressed Sparse Row format>, 0]
[5, 1, 2, 0, 3, 10, 8, 0, 4, 4.223333451771461, 1.0, 121.22, 19.48, <1x26405 sparse matrix of type '<class 'numpy.float64'>'
	with 8 stored elements in Compressed Sparse Row format>, 1]
[7, 2, 1, 0, 5, 11, 7, 1, 6, 4.063495289241587, 0.9375, 121.22, 19.48, <1x26405 sparse matrix of type '<class 'numpy.float64'>'
	with 8 stored elements in Compressed Sparse Row format>, 1]
[5, 0, 3, 0, 1, 11, 8, 0, 3, 3.855342497415435, 1.0, 121.22, 0.05, <1x26405 sparse matrix of type '<class 'numpy.float64'>'
	with 8 stored elements in Compressed Sparse Row format>, 1]
[5, 3, 1, 0, 1, 9, 9, 0, 1, 4.171477641572407, 1.0, 121.22, 0.05, <1x26405 sparse matrix of type '<class 'numpy.float64'>'
	with 8 stored elements in Compressed Sparse Row format>, 1]
[2, 0, 2, 1, 2, 7, 6, 0, 3, 3.981782012223871, 1.0, 121.22, 19.48, <1x26405 sparse matrix of type '<class 'numpy.float64'>'
	with 8 stored elements in Compressed Sparse Row format>, 0]
[7, 0, 1, 0, 1, 8, 7, 1, 1, 3.929096392711702, 1.0, 36.62, 19.48, <1x26405 sparse matrix of type '<class 'numpy.float64'>'
	with 8 stored elements in Compressed Sparse Row format>, 0]
[6, 5, 1, 0, 1, 14, 10, 0, 4, 4.128908860286708, 1.0, 36.62, 0.05, <1x26405 sparse matrix of type '<class 'numpy.float64'>'
	with 8 stored elements in Compressed Sparse Row format>, 1]
[3, 0, 1, 0, 2, 5, 5, 0, 2, 3.643942707918268, 1.0, 36.62, 0.05, <1x26405 sparse matrix of type '<class 'numpy.float64'>'
	with 8 stored elements in Compressed Sparse Row format>, 0]
[5, 2, 2, 0, 2, 9, 6, 0, 3, 3.7468347046041344, 1.0, -47.99, 19.48, <1x26405 sparse matrix of type '<class 'numpy.float64'>'
	with 8 stored elements in Compressed Sparse Row format>, 0]
[4, 0, 1, 0, 1, 6, 6, 0, 1, 3.79595859334435, 1.0, 121.22, 0.05, <1x26405 sparse matrix of type '<class 'numpy.float64'>'
	with 8 stored elements in Compressed Sparse Row format>, 1]
[5, 1, 3, 0, 1, 12, 7, 1, 5, 3.952387505325661, 1.0, -47.99, 19.48, <1x26405 sparse matrix of type '<class 'numpy.float64'>'
	with 8 stored elements in Compressed Sparse Row format>, 0]
[3, 1, 1, 0, 2, 6, 4, 0, 3, 3.92764142417027, 1.0, -132.59, 19.48, <1x26405 sparse matrix of type '<class 'numpy.float64'>'
	with 8 stored elements in Compressed Sparse Row format>, 0]
[2, 2, 0, 2, 0, 4, 4, 0, 0, 3.524543763316298, 1.0, 121.22, 19.48, <1x26405 sparse matrix of type '<class 'numpy.float64'>'
	with 8 stored elements in Compressed Sparse Row format>, 0]
[5, 1, 1, 1, 1, 8, 6, 1, 2, 3.9633347286637304, 1.0, -47.99, 19.48, <1x26405 sparse matrix of type '<class 'numpy.float64'>'
	with 8 stored elements in Compressed Sparse Row format>, 1]
[4, 1, 1, 0, 1, 6, 6, 0, 1, 3.7036586716842117, 1.0, 36.62, 19.48, <1x26405 sparse matrix of type '<class 'numpy.float64'>'
	with 8 stored elements in Compressed Sparse Row format>, 1]
[8, 1, 1, 0, 3, 9, 3, 2, 3, 4.2710880754478175, 1.0, 36.62, 19.48, <1x26405 sparse matrix of type '<class 'numpy.float64'>'
	with 8 stored elements in Compressed Sparse Row format>, 0]
[3, 2, 2, 0, 3, 7, 6, 1, 3, 4.022159237971453, 1.0, 121.22, 0.05, <1x26405 sparse matrix of type '<class 'numpy.float64'>'
	with 8 stored elements in Compressed Sparse Row format>, 0]
[4, 1, 3, 0, 2, 9, 8, 0, 3, 3.940984982881214, 1.0, 36.62, 0.05, <1x26405 sparse matrix of type '<class 'numpy.float64'>'
	with 8 stored elements in Compressed Sparse Row format>, 1]
[9, 2, 0, 0, 3, 14, 4, 2, 5, 4.127148199075451, 1.0, 121.22, 19.48, <1x26405 sparse matrix of type '<class 'numpy.float64'>'
	with 8 stored elements in Compressed Sparse Row format>, 0]
[5, 1, 2, 0, 2, 12, 9, 0, 4, 4.117459867374313, 1.0, 121.22, 0.05, <1x26405 sparse matrix of type '<class 'numpy.float64'>'
	with 8 stored elements in Compressed Sparse Row format>, 0]
[2, 1, 2, 0, 2, 9, 6, 0, 5, 4.015019168181455, 1.0, 36.62, 0.05, <1x26405 sparse matrix of type '<class 'numpy.float64'>'
	with 8 stored elements in Compressed Sparse Row format>, 1]
[4, 1, 2, 0, 1, 8, 6, 1, 2, 3.8282236381802814, 1.0, -47.99, 19.48, <1x26405 sparse matrix of type '<class 'numpy.float64'>'
	with 8 stored elements in Compressed Sparse Row format>, 0]
[7, 2, 3, 0, 4, 13, 11, 0, 5, 4.0287135287261675, 1.0, 36.62, 19.48, <1x26405 sparse matrix of type '<class 'numpy.float64'>'
	with 8 stored elements in Compressed Sparse Row format>, 1]
[1, 2, 0, 0, 0, 6, 2, 0, 2, 3.9552918860179607, 1.0, -47.99, 19.48, <1x26405 sparse matrix of type '<class 'numpy.float64'>'
	with 8 stored elements in Compressed Sparse Row format>, 0]
[4, 2, 0, 0, 1, 9, 6, 1, 2, 4.082984392836606, 1.0, 121.22, 0.05, <1x26405 sparse matrix of type '<class 'numpy.float64'>'
	with 8 stored elements in Compressed Sparse Row format>, 1]
[3, 1, 2, 0, 1, 8, 5, 0, 4, 3.541201820122516, 1.0, 36.62, 19.48, <1x26405 sparse matrix of type '<class 'numpy.float64'>'
	with 8 stored elements in Compressed Sparse Row format>, 1]
[5, 1, 4, 0, 4, 12, 10, 0, 6, 4.0684966372169935, 0.875, 121.22, 0.05, <1x26405 sparse matrix of type '<class 'numpy.float64'>'
	with 8 stored elements in Compressed Sparse Row format>, 1]
[4, 2, 0, 0, 2, 6, 5, 1, 2, 4.007140457724045, 1.0, 121.22, 0.05, <1x26405 sparse matrix of type '<class 'numpy.float64'>'
	with 8 stored elements in Compressed Sparse Row format>, 1]
[1, 1, 2, 0, 1, 5, 2, 0, 3, 3.5366082543914996, 0.8333333333333334, 121.22, 0.05, <1x26405 sparse matrix of type '<class 'numpy.float64'>'
	with 8 stored elements in Compressed Sparse Row format>, 0]
[4, 0, 1, 0, 1, 6, 6, 0, 1, 4.083467386520038, 1.0, -47.99, 19.48, <1x26405 sparse matrix of type '<class 'numpy.float64'>'
	with 8 stored elements in Compressed Sparse Row format>, 1]
[5, 2, 1, 0, 1, 12, 4, 2, 4, 4.178344982896528, 1.0, 36.62, 19.48, <1x26405 sparse matrix of type '<class 'numpy.float64'>'
	with 8 stored elements in Compressed Sparse Row format>, 0]
[5, 1, 2, 0, 1, 8, 6, 0, 1, 4.127367633875558, 1.0, 36.62, 19.48, <1x26405 sparse matrix of type '<class 'numpy.float64'>'
	with 8 stored elements in Compressed Sparse Row format>, 1]
[5, 3, 2, 0, 1, 12, 9, 0, 3, 3.9910107420133385, 0.9230769230769231, 121.22, 19.48, <1x26405 sparse matrix of type '<class 'numpy.float64'>'
	with 8 stored elements in Compressed Sparse Row format>, 0]
[2, 2, 2, 0, 0, 6, 5, 1, 0, 3.9902103956067765, 1.0, 36.62, 19.48, <1x26405 sparse matrix of type '<class 'numpy.float64'>'
	with 8 stored elements in Compressed Sparse Row format>, 1]
[8, 1, 1, 0, 3, 10, 9, 0, 3, 4.047716531178344, 0.9230769230769231, 121.22, 0.05, <1x26405 sparse matrix of type '<class 'numpy.float64'>'
	with 8 stored elements in Compressed Sparse Row format>, 1]
[4, 2, 2, 0, 1, 11, 7, 1, 2, 4.050529788497533, 1.0, 121.22, 19.48, <1x26405 sparse matrix of type '<class 'numpy.float64'>'
	with 8 stored elements in Compressed Sparse Row format>, 0]
[2, 0, 1, 0, 0, 3, 3, 0, 0, 3.0441104177484006, 1.0, 121.22, 19.48, <1x26405 sparse matrix of type '<class 'numpy.float64'>'
	with 8 stored elements in Compressed Sparse Row format>, 1]
[4, 2, 1, 0, 0, 9, 5, 0, 1, 4.05889104058062, 1.0, 121.22, 19.48, <1x26405 sparse matrix of type '<class 'numpy.float64'>'
	with 8 stored elements in Compressed Sparse Row format>, 0]
[5, 1, 1, 0, 1, 9, 6, 0, 3, 4.001102883918149, 1.0, 121.22, 19.48, <1x26405 sparse matrix of type '<class 'numpy.float64'>'
	with 8 stored elements in Compressed Sparse Row format>, 1]
[4, 0, 2, 0, 1, 6, 5, 1, 1, 4.078331873267974, 1.0, 36.62, 19.48, <1x26405 sparse matrix of type '<class 'numpy.float64'>'
	with 8 stored elements in Compressed Sparse Row format>, 0]
[6, 2, 0, 0, 1, 12, 7, 1, 4, 4.177499801018267, 1.0, 121.22, 0.05, <1x26405 sparse matrix of type '<class 'numpy.float64'>'
	with 8 stored elements in Compressed Sparse Row format>, 0]
[4, 3, 2, 0, 0, 10, 10, 0, 0, 4.103555434443301, 1.0, -47.99, 19.48, <1x26405 sparse matrix of type '<class 'numpy.float64'>'
	with 8 stored elements in Compressed Sparse Row format>, 1]
[4, 2, 2, 0, 2, 11, 9, 0, 4, 4.232473198613652, 0.9230769230769231, 121.22, 19.48, <1x26405 sparse matrix of type '<class 'numpy.float64'>'
	with 8 stored elements in Compressed Sparse Row format>, 0]
[0, 1, 3, 0, 1, 7, 5, 0, 3, 3.9638875398191975, 1.0, 121.22, 0.05, <1x26405 sparse matrix of type '<class 'numpy.float64'>'
	with 8 stored elements in Compressed Sparse Row format>, 1]
[5, 2, 3, 0, 3, 10, 8, 1, 4, 3.970408660673082, 0.9230769230769231, -217.19, 19.48, <1x26405 sparse matrix of type '<class 'numpy.float64'>'
	with 8 stored elements in Compressed Sparse Row format>, 1]
[5, 2, 2, 0, 1, 10, 8, 0, 2, 4.0615119229332155, 1.0, 36.62, 0.05, <1x26405 sparse matrix of type '<class 'numpy.float64'>'
	with 8 stored elements in Compressed Sparse Row format>, 1]
[3, 1, 2, 0, 1, 8, 6, 0, 2, 4.110454745700462, 1.0, 121.22, 0.05, <1x26405 sparse matrix of type '<class 'numpy.float64'>'
	with 8 stored elements in Compressed Sparse Row format>, 1]
[3, 1, 1, 0, 2, 7, 2, 1, 4, 4.1804513908921015, 1.0, 36.62, 0.05, <1x26405 sparse matrix of type '<class 'numpy.float64'>'
	with 8 stored elements in Compressed Sparse Row format>, 1]
[5, 3, 0, 0, 2, 10, 6, 0, 3, 4.059979193310149, 1.0, 121.22, 0.05, <1x26405 sparse matrix of type '<class 'numpy.float64'>'
	with 8 stored elements in Compressed Sparse Row format>, 0]
[2, 1, 1, 0, 1, 5, 3, 1, 2, 4.035324126119452, 1.0, 36.62, 19.48, <1x26405 sparse matrix of type '<class 'numpy.float64'>'
	with 8 stored elements in Compressed Sparse Row format>, 0]
[5, 0, 3, 0, 1, 10, 5, 1, 3, 4.217589491940477, 1.0, 36.62, 0.05, <1x26405 sparse matrix of type '<class 'numpy.float64'>'
	with 8 stored elements in Compressed Sparse Row format>, 0]
[3, 2, 1, 0, 0, 8, 7, 0, 1, 4.006591407089627, 1.0, 36.62, 19.48, <1x26405 sparse matrix of type '<class 'numpy.float64'>'
	with 8 stored elements in Compressed Sparse Row format>, 1]
[2, 0, 1, 0, 1, 5, 1, 1, 2, 3.9025182662886326, 1.0, 121.22, 35.27, <1x26405 sparse matrix of type '<class 'numpy.float64'>'
	with 8 stored elements in Compressed Sparse Row format>, 1]
[6, 0, 2, 0, 4, 8, 3, 1, 4, 3.9272327072009685, 1.0, -47.99, 0.05, <1x26405 sparse matrix of type '<class 'numpy.float64'>'
	with 8 stored elements in Compressed Sparse Row format>, 0]
[5, 4, 3, 0, 1, 14, 13, 0, 2, 4.137907716673881, 1.0, 36.62, 19.48, <1x26405 sparse matrix of type '<class 'numpy.float64'>'
	with 8 stored elements in Compressed Sparse Row format>, 1]
[5, 2, 3, 0, 2, 13, 9, 1, 4, 4.10197587793882, 1.0, 121.22, 19.48, <1x26405 sparse matrix of type '<class 'numpy.float64'>'
	with 8 stored elements in Compressed Sparse Row format>, 1]
[3, 1, 1, 0, 1, 5, 4, 0, 1, 3.753391122901188, 1.0, 121.22, 19.48, <1x26405 sparse matrix of type '<class 'numpy.float64'>'
	with 8 stored elements in Compressed Sparse Row format>, 1]
[6, 2, 1, 0, 1, 10, 4, 0, 2, 3.9073015733215857, 1.0, 36.62, 19.48, <1x26405 sparse matrix of type '<class 'numpy.float64'>'
	with 8 stored elements in Compressed Sparse Row format>, 0]
[4, 3, 1, 0, 1, 10, 7, 0, 4, 3.8857780442482013, 1.0, 36.62, 0.05, <1x26405 sparse matrix of type '<class 'numpy.float64'>'
	with 8 stored elements in Compressed Sparse Row format>, 0]
[3, 0, 1, 0, 1, 6, 3, 0, 2, 3.7539280318460246, 1.0, 121.22, 19.48, <1x26405 sparse matrix of type '<class 'numpy.float64'>'
	with 8 stored elements in Compressed Sparse Row format>, 1]
[3, 3, 1, 0, 0, 8, 7, 0, 1, 4.075741014136285, 1.0, 121.22, 0.05, <1x26405 sparse matrix of type '<class 'numpy.float64'>'
	with 8 stored elements in Compressed Sparse Row format>, 1]
[3, 0, 1, 0, 0, 6, 4, 0, 1, 3.9129523567804134, 1.0, 36.62, 19.48, <1x26405 sparse matrix of type '<class 'numpy.float64'>'
	with 8 stored elements in Compressed Sparse Row format>, 1]
[4, 3, 3, 0, 2, 12, 8, 0, 5, 4.026542569195838, 1.0, 121.22, 19.48, <1x26405 sparse matrix of type '<class 'numpy.float64'>'
	with 8 stored elements in Compressed Sparse Row format>, 1]
[2, 1, 3, 0, 0, 10, 6, 0, 4, 3.8498376288991527, 1.0, 121.22, 0.05, <1x26405 sparse matrix of type '<class 'numpy.float64'>'
	with 8 stored elements in Compressed Sparse Row format>, 0]
[4, 0, 0, 1, 1, 5, 3, 1, 3, 3.9055402522129166, 1.0, -47.99, 19.48, <1x26405 sparse matrix of type '<class 'numpy.float64'>'
	with 8 stored elements in Compressed Sparse Row format>, 0]
[1, 0, 1, 1, 1, 2, 1, 0, 3, 3.3086949695628416, 1.0, -47.99, 19.48, <1x26405 sparse matrix of type '<class 'numpy.float64'>'
	with 8 stored elements in Compressed Sparse Row format>, 0]
[7, 1, 2, 0, 0, 11, 9, 2, 0, 4.056047867329948, 1.0, 36.62, 0.05, <1x26405 sparse matrix of type '<class 'numpy.float64'>'
	with 8 stored elements in Compressed Sparse Row format>, 1]
[4, 0, 2, 0, 0, 6, 6, 0, 0, 3.940086030881356, 1.0, 121.22, 0.05, <1x26405 sparse matrix of type '<class 'numpy.float64'>'
	with 8 stored elements in Compressed Sparse Row format>, 1]
[3, 0, 4, 0, 1, 11, 6, 0, 6, 4.086946985845921, 1.0, 36.62, 19.48, <1x26405 sparse matrix of type '<class 'numpy.float64'>'
	with 8 stored elements in Compressed Sparse Row format>, 0]
[3, 1, 4, 0, 1, 10, 8, 0, 3, 4.07911819121702, 1.0, 121.22, 0.05, <1x26405 sparse matrix of type '<class 'numpy.float64'>'
	with 8 stored elements in Compressed Sparse Row format>, 1]
[4, 0, 4, 2, 3, 9, 5, 0, 8, 3.849579266137876, 0.9285714285714286, 121.22, 0.05, <1x26405 sparse matrix of type '<class 'numpy.float64'>'
	with 8 stored elements in Compressed Sparse Row format>, 0]
[3, 1, 0, 0, 0, 4, 3, 1, 0, 3.9940040656160876, 1.0, -47.99, 19.48, <1x26405 sparse matrix of type '<class 'numpy.float64'>'
	with 8 stored elements in Compressed Sparse Row format>, 0]
[5, 0, 3, 0, 2, 10, 7, 0, 2, 3.939324378953219, 1.0, -132.59, 19.48, <1x26405 sparse matrix of type '<class 'numpy.float64'>'
	with 8 stored elements in Compressed Sparse Row format>, 1]
[3, 1, 1, 0, 1, 9, 5, 0, 5, 3.8359646299096677, 1.0, 121.22, 0.05, <1x26405 sparse matrix of type '<class 'numpy.float64'>'
	with 8 stored elements in Compressed Sparse Row format>, 0]
[3, 2, 1, 0, 0, 7, 7, 0, 0, 3.911828284288734, 0.8571428571428571, 121.22, 0.05, <1x26405 sparse matrix of type '<class 'numpy.float64'>'
	with 8 stored elements in Compressed Sparse Row format>, 1]
[7, 2, 2, 0, 0, 15, 7, 1, 3, 4.0837354431271535, 0.9333333333333333, 121.22, 0.05, <1x26405 sparse matrix of type '<class 'numpy.float64'>'
	with 8 stored elements in Compressed Sparse Row format>, 0]
[4, 1, 1, 0, 0, 9, 6, 0, 3, 4.017155962520949, 1.0, 36.62, 19.48, <1x26405 sparse matrix of type '<class 'numpy.float64'>'
	with 8 stored elements in Compressed Sparse Row format>, 1]
[2, 1, 1, 0, 0, 5, 5, 0, 0, 3.6875, 1.0, 121.22, 0.05, <1x26405 sparse matrix of type '<class 'numpy.float64'>'
	with 8 stored elements in Compressed Sparse Row format>, 1]
[3, 2, 1, 0, 1, 7, 5, 1, 2, 3.7481351373132603, 1.0, 121.22, 0.05, <1x26405 sparse matrix of type '<class 'numpy.float64'>'
	with 8 stored elements in Compressed Sparse Row format>, 0]
[6, 0, 1, 0, 2, 11, 9, 0, 4, 3.952721554813124, 1.0, 36.62, 19.48, <1x26405 sparse matrix of type '<class 'numpy.float64'>'
	with 8 stored elements in Compressed Sparse Row format>, 1]
[5, 1, 1, 0, 1, 7, 5, 2, 1, 3.9600572631006066, 1.0, 36.62, 0.05, <1x26405 sparse matrix of type '<class 'numpy.float64'>'
	with 8 stored elements in Compressed Sparse Row format>, 0]
[4, 3, 0, 0, 3, 9, 7, 1, 4, 4.052721237707519, 1.0, 121.22, 19.48, <1x26405 sparse matrix of type '<class 'numpy.float64'>'
	with 8 stored elements in Compressed Sparse Row format>, 0]
[4, 0, 0, 0, 1, 7, 6, 0, 2, 3.9725324840036254, 1.0, 36.62, 0.05, <1x26405 sparse matrix of type '<class 'numpy.float64'>'
	with 8 stored elements in Compressed Sparse Row format>, 1]
[1, 1, 1, 0, 1, 4, 5, 0, 0, 3.952216429463629, 1.0, 36.62, 0.05, <1x26405 sparse matrix of type '<class 'numpy.float64'>'
	with 8 stored elements in Compressed Sparse Row format>, 1]
[6, 0, 0, 1, 1, 8, 4, 1, 2, 4.1129058033347805, 1.0, 121.22, 19.48, <1x26405 sparse matrix of type '<class 'numpy.float64'>'
	with 8 stored elements in Compressed Sparse Row format>, 0]
[5, 0, 2, 0, 4, 8, 7, 0, 5, 3.694112636286218, 1.0, 36.62, 19.48, <1x26405 sparse matrix of type '<class 'numpy.float64'>'
	with 8 stored elements in Compressed Sparse Row format>, 1]
[4, 1, 2, 1, 2, 11, 7, 1, 5, 4.020374361779934, 1.0, 36.62, 19.48, <1x26405 sparse matrix of type '<class 'numpy.float64'>'
	with 8 stored elements in Compressed Sparse Row format>, 0]
[5, 0, 3, 0, 2, 8, 8, 0, 2, 4.010573241680438, 1.0, 36.62, 0.05, <1x26405 sparse matrix of type '<class 'numpy.float64'>'
	with 8 stored elements in Compressed Sparse Row format>, 0]
[5, 0, 1, 0, 0, 9, 6, 0, 3, 4.056016931895913, 1.0, 121.22, 19.48, <1x26405 sparse matrix of type '<class 'numpy.float64'>'
	with 8 stored elements in Compressed Sparse Row format>, 0]
[5, 3, 1, 0, 1, 10, 8, 0, 2, 3.836290132118578, 1.0, 121.22, 19.48, <1x26405 sparse matrix of type '<class 'numpy.float64'>'
	with 8 stored elements in Compressed Sparse Row format>, 1]
[5, 1, 1, 1, 1, 7, 4, 1, 1, 4.1270315924006775, 1.0, -47.99, 19.48, <1x26405 sparse matrix of type '<class 'numpy.float64'>'
	with 8 stored elements in Compressed Sparse Row format>, 1]
[4, 0, 3, 0, 1, 10, 3, 1, 5, 4.012182272431687, 1.0, 36.62, 19.48, <1x26405 sparse matrix of type '<class 'numpy.float64'>'
	with 8 stored elements in Compressed Sparse Row format>, 0]
[3, 1, 2, 0, 1, 7, 6, 0, 2, 3.9912800422112205, 1.0, 36.62, 0.05, <1x26405 sparse matrix of type '<class 'numpy.float64'>'
	with 8 stored elements in Compressed Sparse Row format>, 1]
[3, 0, 2, 0, 1, 7, 6, 0, 1, 4.143607886039518, 1.0, 121.22, 0.05, <1x26405 sparse matrix of type '<class 'numpy.float64'>'
	with 8 stored elements in Compressed Sparse Row format>, 1]
[3, 0, 1, 0, 1, 6, 4, 1, 2, 3.9194823926331113, 1.0, -132.59, 19.48, <1x26405 sparse matrix of type '<class 'numpy.float64'>'
	with 8 stored elements in Compressed Sparse Row format>, 0]
[5, 2, 2, 0, 1, 11, 2, 2, 3, 4.209157660940632, 1.0, 121.22, 0.05, <1x26405 sparse matrix of type '<class 'numpy.float64'>'
	with 8 stored elements in Compressed Sparse Row format>, 0]
[8, 2, 2, 0, 5, 13, 12, 0, 6, 3.922478536788019, 0.6666666666666666, 121.22, 0.05, <1x26405 sparse matrix of type '<class 'numpy.float64'>'
	with 8 stored elements in Compressed Sparse Row format>, 1]
[5, 2, 1, 1, 0, 10, 5, 1, 2, 3.8957651947734506, 1.0, 36.62, 19.48, <1x26405 sparse matrix of type '<class 'numpy.float64'>'
	with 8 stored elements in Compressed Sparse Row format>, 0]
[3, 0, 2, 0, 0, 7, 6, 0, 1, 4.040400719733289, 1.0, 121.22, 35.27, <1x26405 sparse matrix of type '<class 'numpy.float64'>'
	with 8 stored elements in Compressed Sparse Row format>, 1]
[2, 1, 2, 0, 2, 7, 5, 0, 2, 4.020844002087183, 1.0, -47.99, 19.48, <1x26405 sparse matrix of type '<class 'numpy.float64'>'
	with 8 stored elements in Compressed Sparse Row format>, 1]
[4, 2, 1, 0, 1, 11, 7, 0, 5, 4.071616794732849, 1.0, 121.22, 0.05, <1x26405 sparse matrix of type '<class 'numpy.float64'>'
	with 8 stored elements in Compressed Sparse Row format>, 1]
[5, 1, 2, 0, 1, 10, 6, 2, 3, 3.9280148149680825, 1.0, 121.22, 0.05, <1x26405 sparse matrix of type '<class 'numpy.float64'>'
	with 8 stored elements in Compressed Sparse Row format>, 1]
[6, 0, 1, 1, 2, 9, 6, 1, 4, 3.880909264197271, 1.0, 36.62, 19.48, <1x26405 sparse matrix of type '<class 'numpy.float64'>'
	with 8 stored elements in Compressed Sparse Row format>, 0]
[2, 0, 2, 1, 1, 8, 3, 0, 7, 3.826487212629868, 0.9, 121.22, 0.05, <1x26405 sparse matrix of type '<class 'numpy.float64'>'
	with 8 stored elements in Compressed Sparse Row format>, 0]
[5, 1, 1, 0, 2, 7, 6, 0, 2, 4.013029450146189, 1.0, 121.22, 19.48, <1x26405 sparse matrix of type '<class 'numpy.float64'>'
	with 8 stored elements in Compressed Sparse Row format>, 0]
[4, 1, 1, 0, 1, 8, 4, 0, 3, 4.168367439558377, 1.0, 121.22, 0.05, <1x26405 sparse matrix of type '<class 'numpy.float64'>'
	with 8 stored elements in Compressed Sparse Row format>, 1]
[5, 1, 1, 0, 1, 8, 6, 1, 2, 3.9760478762885816, 1.0, -132.59, 19.48, <1x26405 sparse matrix of type '<class 'numpy.float64'>'
	with 8 stored elements in Compressed Sparse Row format>, 0]
[9, 2, 2, 0, 0, 15, 11, 1, 2, 4.219405001880147, 1.0, -47.99, 19.48, <1x26405 sparse matrix of type '<class 'numpy.float64'>'
	with 8 stored elements in Compressed Sparse Row format>, 1]
[1, 0, 1, 0, 1, 3, 2, 0, 2, 3.8248629576173565, 1.0, 121.22, 19.48, <1x26405 sparse matrix of type '<class 'numpy.float64'>'
	with 8 stored elements in Compressed Sparse Row format>, 0]
[5, 2, 3, 0, 0, 15, 9, 1, 5, 4.189108341494899, 1.0, 121.22, 0.05, <1x26405 sparse matrix of type '<class 'numpy.float64'>'
	with 8 stored elements in Compressed Sparse Row format>, 0]
[4, 0, 2, 1, 1, 8, 7, 0, 2, 3.6636905973857234, 1.0, 36.62, 0.05, <1x26405 sparse matrix of type '<class 'numpy.float64'>'
	with 8 stored elements in Compressed Sparse Row format>, 1]
[5, 0, 0, 1, 0, 7, 4, 0, 3, 3.7348516313288846, 1.0, 36.62, 19.48, <1x26405 sparse matrix of type '<class 'numpy.float64'>'
	with 8 stored elements in Compressed Sparse Row format>, 0]
[9, 3, 1, 0, 1, 15, 13, 0, 3, 4.25844127047801, 1.0, 121.22, 0.05, <1x26405 sparse matrix of type '<class 'numpy.float64'>'
	with 8 stored elements in Compressed Sparse Row format>, 1]
[8, 0, 2, 0, 1, 12, 8, 3, 1, 4.081623757574942, 1.0, 36.62, 19.48, <1x26405 sparse matrix of type '<class 'numpy.float64'>'
	with 8 stored elements in Compressed Sparse Row format>, 1]
[3, 1, 2, 0, 1, 7, 6, 0, 2, 3.9317198784922947, 1.0, 121.22, 19.48, <1x26405 sparse matrix of type '<class 'numpy.float64'>'
	with 8 stored elements in Compressed Sparse Row format>, 0]
[2, 0, 1, 0, 1, 3, 4, 0, 0, 3.546439344671015, 1.0, 121.22, 19.48, <1x26405 sparse matrix of type '<class 'numpy.float64'>'
	with 8 stored elements in Compressed Sparse Row format>, 1]
[4, 2, 3, 0, 1, 11, 8, 0, 4, 4.01055652761962, 1.0, -47.99, 19.48, <1x26405 sparse matrix of type '<class 'numpy.float64'>'
	with 8 stored elements in Compressed Sparse Row format>, 1]
[8, 0, 2, 0, 4, 11, 6, 0, 6, 3.9965329346933083, 1.0, 121.22, 19.48, <1x26405 sparse matrix of type '<class 'numpy.float64'>'
	with 8 stored elements in Compressed Sparse Row format>, 0]
[4, 0, 3, 0, 1, 8, 4, 2, 3, 3.9479319461289366, 1.0, 121.22, 0.05, <1x26405 sparse matrix of type '<class 'numpy.float64'>'
	with 8 stored elements in Compressed Sparse Row format>, 0]
[4, 1, 3, 0, 2, 8, 3, 1, 3, 4.228990797212463, 1.0, 121.22, 19.48, <1x26405 sparse matrix of type '<class 'numpy.float64'>'
	with 8 stored elements in Compressed Sparse Row format>, 1]
[3, 4, 2, 0, 3, 11, 7, 1, 5, 3.770947772151945, 1.0, 36.62, 19.48, <1x26405 sparse matrix of type '<class 'numpy.float64'>'
	with 8 stored elements in Compressed Sparse Row format>, 0]
[2, 0, 1, 0, 0, 3, 3, 0, 0, 3.653660689688185, 1.0, 36.62, 19.48, <1x26405 sparse matrix of type '<class 'numpy.float64'>'
	with 8 stored elements in Compressed Sparse Row format>, 1]
[6, 0, 2, 0, 2, 11, 5, 1, 6, 3.965692792650317, 1.0, 121.22, 19.48, <1x26405 sparse matrix of type '<class 'numpy.float64'>'
	with 8 stored elements in Compressed Sparse Row format>, 0]
[4, 2, 1, 0, 1, 7, 4, 1, 1, 3.9823439976686332, 1.0, -47.99, 19.48, <1x26405 sparse matrix of type '<class 'numpy.float64'>'
	with 8 stored elements in Compressed Sparse Row format>, 0]
[2, 1, 0, 0, 2, 3, 2, 0, 1, 3.4956282429042096, 1.0, 121.22, 19.48, <1x26405 sparse matrix of type '<class 'numpy.float64'>'
	with 8 stored elements in Compressed Sparse Row format>, 0]
[4, 1, 4, 0, 2, 15, 8, 0, 8, 4.07863312650271, 1.0, 36.62, 19.48, <1x26405 sparse matrix of type '<class 'numpy.float64'>'
	with 8 stored elements in Compressed Sparse Row format>, 1]
[7, 0, 1, 0, 0, 9, 7, 0, 1, 4.0146217597358715, 1.0, -47.99, 19.48, <1x26405 sparse matrix of type '<class 'numpy.float64'>'
	with 8 stored elements in Compressed Sparse Row format>, 0]
[3, 4, 0, 0, 1, 8, 4, 1, 3, 3.9182426910248456, 1.0, 121.22, 0.05, <1x26405 sparse matrix of type '<class 'numpy.float64'>'
	with 8 stored elements in Compressed Sparse Row format>, 0]
[5, 1, 1, 0, 1, 8, 4, 2, 2, 4.1251188665208165, 1.0, 121.22, 19.48, <1x26405 sparse matrix of type '<class 'numpy.float64'>'
	with 8 stored elements in Compressed Sparse Row format>, 1]
[1, 1, 3, 0, 0, 7, 5, 0, 1, 4.152914564272726, 1.0, 121.22, 0.05, <1x26405 sparse matrix of type '<class 'numpy.float64'>'
	with 8 stored elements in Compressed Sparse Row format>, 1]
[5, 2, 1, 0, 1, 11, 5, 0, 3, 3.907315998939618, 1.0, 121.22, 19.48, <1x26405 sparse matrix of type '<class 'numpy.float64'>'
	with 8 stored elements in Compressed Sparse Row format>, 0]
[5, 0, 3, 0, 1, 10, 7, 1, 3, 4.104469746795114, 1.0, 36.62, 19.48, <1x26405 sparse matrix of type '<class 'numpy.float64'>'
	with 8 stored elements in Compressed Sparse Row format>, 0]
[3, 0, 3, 1, 1, 9, 5, 0, 5, 4.109993094982675, 1.0, 121.22, 19.48, <1x26405 sparse matrix of type '<class 'numpy.float64'>'
	with 8 stored elements in Compressed Sparse Row format>, 0]
[6, 0, 2, 0, 3, 10, 5, 1, 5, 3.9818576604477993, 1.0, 121.22, 0.05, <1x26405 sparse matrix of type '<class 'numpy.float64'>'
	with 8 stored elements in Compressed Sparse Row format>, 1]
[4, 0, 2, 0, 2, 10, 8, 0, 4, 4.019491843638728, 0.9166666666666666, 121.22, 0.05, <1x26405 sparse matrix of type '<class 'numpy.float64'>'
	with 8 stored elements in Compressed Sparse Row format>, 1]
[6, 2, 3, 0, 2, 16, 10, 1, 6, 4.028951589505143, 1.0, 121.22, 0.05, <1x26405 sparse matrix of type '<class 'numpy.float64'>'
	with 8 stored elements in Compressed Sparse Row format>, 1]
[6, 0, 1, 0, 3, 9, 8, 0, 4, 4.060454467785238, 1.0, 121.22, 0.05, <1x26405 sparse matrix of type '<class 'numpy.float64'>'
	with 8 stored elements in Compressed Sparse Row format>, 0]
[5, 0, 1, 1, 2, 6, 6, 1, 2, 3.927975300790612, 1.0, 121.22, 19.48, <1x26405 sparse matrix of type '<class 'numpy.float64'>'
	with 8 stored elements in Compressed Sparse Row format>, 1]
[6, 1, 0, 0, 1, 9, 5, 1, 2, 4.039549044285702, 1.0, 121.22, 19.48, <1x26405 sparse matrix of type '<class 'numpy.float64'>'
	with 8 stored elements in Compressed Sparse Row format>, 1]
[4, 0, 2, 0, 0, 11, 6, 0, 5, 3.959975811938304, 1.0, 121.22, 0.05, <1x26405 sparse matrix of type '<class 'numpy.float64'>'
	with 8 stored elements in Compressed Sparse Row format>, 0]
[7, 1, 2, 0, 1, 14, 7, 2, 4, 4.276694477058939, 1.0, 121.22, 19.48, <1x26405 sparse matrix of type '<class 'numpy.float64'>'
	with 8 stored elements in Compressed Sparse Row format>, 1]
[5, 0, 2, 0, 0, 10, 7, 0, 2, 3.9546196900452544, 1.0, 36.62, 0.05, <1x26405 sparse matrix of type '<class 'numpy.float64'>'
	with 8 stored elements in Compressed Sparse Row format>, 0]
[5, 2, 2, 0, 3, 11, 7, 3, 4, 4.132494187404257, 1.0, 36.62, 0.05, <1x26405 sparse matrix of type '<class 'numpy.float64'>'
	with 8 stored elements in Compressed Sparse Row format>, 1]
[3, 0, 0, 0, 1, 4, 3, 0, 1, 3.813660689688185, 1.0, 121.22, 19.48, <1x26405 sparse matrix of type '<class 'numpy.float64'>'
	with 8 stored elements in Compressed Sparse Row format>, 0]
[4, 0, 2, 0, 0, 8, 5, 0, 1, 4.143859190823551, 1.0, 36.62, 0.05, <1x26405 sparse matrix of type '<class 'numpy.float64'>'
	with 8 stored elements in Compressed Sparse Row format>, 1]
[2, 0, 0, 0, 0, 3, 1, 0, 1, 3.5537631144722455, 1.0, 36.62, 0.05, <1x26405 sparse matrix of type '<class 'numpy.float64'>'
	with 8 stored elements in Compressed Sparse Row format>, 0]
[5, 1, 2, 0, 3, 7, 7, 1, 2, 3.849869255482742, 1.0, 36.62, 19.48, <1x26405 sparse matrix of type '<class 'numpy.float64'>'
	with 8 stored elements in Compressed Sparse Row format>, 0]
[2, 1, 3, 0, 1, 8, 7, 0, 2, 4.012555849612944, 1.0, 121.22, 0.05, <1x26405 sparse matrix of type '<class 'numpy.float64'>'
	with 8 stored elements in Compressed Sparse Row format>, 1]
[3, 2, 3, 0, 1, 10, 4, 0, 3, 4.233831760897208, 1.0, 121.22, 19.48, <1x26405 sparse matrix of type '<class 'numpy.float64'>'
	with 8 stored elements in Compressed Sparse Row format>, 0]
[6, 1, 2, 0, 2, 10, 9, 0, 2, 4.14010745961579, 1.0, 121.22, 19.48, <1x26405 sparse matrix of type '<class 'numpy.float64'>'
	with 8 stored elements in Compressed Sparse Row format>, 1]
[3, 2, 1, 0, 1, 6, 5, 1, 1, 4.210363882461015, 1.0, 36.62, 19.48, <1x26405 sparse matrix of type '<class 'numpy.float64'>'
	with 8 stored elements in Compressed Sparse Row format>, 1]
[3, 1, 1, 0, 4, 5, 6, 0, 3, 3.6722879613139217, 0.8888888888888888, 121.22, 19.48, <1x26405 sparse matrix of type '<class 'numpy.float64'>'
	with 8 stored elements in Compressed Sparse Row format>, 1]
[3, 1, 2, 0, 1, 7, 5, 1, 2, 3.842294906860081, 1.0, 121.22, 19.48, <1x26405 sparse matrix of type '<class 'numpy.float64'>'
	with 8 stored elements in Compressed Sparse Row format>, 1]
[4, 2, 1, 0, 2, 8, 4, 2, 2, 3.9159098795580474, 1.0, -132.59, 19.48, <1x26405 sparse matrix of type '<class 'numpy.float64'>'
	with 8 stored elements in Compressed Sparse Row format>, 0]
[4, 2, 1, 0, 1, 7, 6, 0, 1, 4.1312189617597115, 1.0, -47.99, 19.48, <1x26405 sparse matrix of type '<class 'numpy.float64'>'
	with 8 stored elements in Compressed Sparse Row format>, 1]
[6, 2, 2, 0, 1, 12, 7, 0, 3, 3.9966906048235114, 1.0, 36.62, 19.48, <1x26405 sparse matrix of type '<class 'numpy.float64'>'
	with 8 stored elements in Compressed Sparse Row format>, 0]
[6, 1, 0, 0, 1, 9, 7, 1, 1, 4.161147959531746, 1.0, 121.22, 0.05, <1x26405 sparse matrix of type '<class 'numpy.float64'>'
	with 8 stored elements in Compressed Sparse Row format>, 1]
[4, 1, 2, 0, 1, 8, 7, 0, 2, 3.7983639673429987, 1.0, 121.22, 0.05, <1x26405 sparse matrix of type '<class 'numpy.float64'>'
	with 8 stored elements in Compressed Sparse Row format>, 1]
[8, 1, 4, 0, 3, 13, 8, 1, 3, 4.046802356311241, 1.0, 121.22, 19.48, <1x26405 sparse matrix of type '<class 'numpy.float64'>'
	with 8 stored elements in Compressed Sparse Row format>, 1]
[2, 1, 1, 0, 1, 4, 3, 0, 2, 3.585174447128411, 1.0, -47.99, 19.48, <1x26405 sparse matrix of type '<class 'numpy.float64'>'
	with 8 stored elements in Compressed Sparse Row format>, 0]
[4, 1, 0, 0, 2, 6, 4, 1, 3, 3.9611531945930296, 1.0, 121.22, 19.48, <1x26405 sparse matrix of type '<class 'numpy.float64'>'
	with 8 stored elements in Compressed Sparse Row format>, 0]
[4, 1, 2, 0, 1, 10, 7, 1, 3, 4.065784542170858, 1.0, 121.22, 0.05, <1x26405 sparse matrix of type '<class 'numpy.float64'>'
	with 8 stored elements in Compressed Sparse Row format>, 1]
[5, 4, 2, 0, 0, 12, 7, 1, 1, 4.036280005896275, 1.0, 121.22, 19.48, <1x26405 sparse matrix of type '<class 'numpy.float64'>'
	with 8 stored elements in Compressed Sparse Row format>, 0]
[6, 1, 0, 0, 1, 9, 7, 0, 3, 4.000952859627756, 1.0, 121.22, 19.48, <1x26405 sparse matrix of type '<class 'numpy.float64'>'
	with 8 stored elements in Compressed Sparse Row format>, 0]
[4, 2, 1, 1, 2, 8, 4, 0, 4, 4.080820389131511, 1.0, 36.62, 0.05, <1x26405 sparse matrix of type '<class 'numpy.float64'>'
	with 8 stored elements in Compressed Sparse Row format>, 1]
[4, 1, 1, 0, 1, 9, 6, 1, 3, 3.945356063692049, 1.0, 36.62, 19.48, <1x26405 sparse matrix of type '<class 'numpy.float64'>'
	with 8 stored elements in Compressed Sparse Row format>, 0]
[10, 3, 1, 1, 1, 14, 6, 2, 1, 4.239246057953694, 1.0, 121.22, 19.48, <1x26405 sparse matrix of type '<class 'numpy.float64'>'
	with 8 stored elements in Compressed Sparse Row format>, 0]
[2, 2, 4, 0, 2, 11, 9, 0, 4, 3.9682979451135454, 1.0, 121.22, 19.48, <1x26405 sparse matrix of type '<class 'numpy.float64'>'
	with 8 stored elements in Compressed Sparse Row format>, 0]
[7, 3, 2, 0, 0, 14, 11, 0, 2, 4.100704491704467, 1.0, 36.62, 19.48, <1x26405 sparse matrix of type '<class 'numpy.float64'>'
	with 8 stored elements in Compressed Sparse Row format>, 1]
[2, 0, 3, 0, 0, 9, 4, 0, 5, 4.001720197292042, 1.0, -47.99, 19.48, <1x26405 sparse matrix of type '<class 'numpy.float64'>'
	with 8 stored elements in Compressed Sparse Row format>, 0]
[3, 1, 2, 0, 1, 8, 4, 0, 2, 3.9926111201747427, 1.0, 121.22, 19.48, <1x26405 sparse matrix of type '<class 'numpy.float64'>'
	with 8 stored elements in Compressed Sparse Row format>, 0]
[8, 1, 3, 0, 1, 12, 11, 1, 1, 3.964928896301209, 1.0, -47.99, 19.48, <1x26405 sparse matrix of type '<class 'numpy.float64'>'
	with 8 stored elements in Compressed Sparse Row format>, 1]
[7, 1, 4, 1, 3, 14, 12, 0, 5, 4.02461427417407, 0.9444444444444444, 121.22, 0.05, <1x26405 sparse matrix of type '<class 'numpy.float64'>'
	with 8 stored elements in Compressed Sparse Row format>, 1]
[5, 2, 1, 0, 1, 9, 5, 1, 2, 4.119564318019496, 1.0, -47.99, 19.48, <1x26405 sparse matrix of type '<class 'numpy.float64'>'
	with 8 stored elements in Compressed Sparse Row format>, 1]
[7, 1, 3, 1, 2, 16, 11, 0, 8, 4.051446013377939, 0.9473684210526315, 121.22, 19.48, <1x26405 sparse matrix of type '<class 'numpy.float64'>'
	with 8 stored elements in Compressed Sparse Row format>, 1]
[3, 1, 2, 0, 1, 9, 4, 0, 5, 3.8256344871130556, 1.0, -132.59, 19.48, <1x26405 sparse matrix of type '<class 'numpy.float64'>'
	with 8 stored elements in Compressed Sparse Row format>, 0]
[6, 0, 1, 1, 0, 8, 7, 0, 2, 3.8206588342592753, 1.0, 121.22, 0.05, <1x26405 sparse matrix of type '<class 'numpy.float64'>'
	with 8 stored elements in Compressed Sparse Row format>, 0]
[6, 2, 1, 0, 1, 12, 8, 0, 2, 4.009937356476054, 1.0, 36.62, 0.05, <1x26405 sparse matrix of type '<class 'numpy.float64'>'
	with 8 stored elements in Compressed Sparse Row format>, 1]
[4, 1, 0, 1, 0, 7, 4, 1, 2, 3.802204866296159, 1.0, 121.22, 19.48, <1x26405 sparse matrix of type '<class 'numpy.float64'>'
	with 8 stored elements in Compressed Sparse Row format>, 0]
[9, 2, 3, 2, 3, 22, 12, 1, 12, 3.9621005422383044, 0.8518518518518519, -47.99, 19.48, <1x26405 sparse matrix of type '<class 'numpy.float64'>'
	with 8 stored elements in Compressed Sparse Row format>, 0]
[4, 2, 1, 0, 2, 9, 7, 0, 4, 3.919482625039841, 0.9090909090909091, 36.62, 19.48, <1x26405 sparse matrix of type '<class 'numpy.float64'>'
	with 8 stored elements in Compressed Sparse Row format>, 1]
[4, 1, 1, 0, 1, 6, 4, 0, 1, 3.9538102933957355, 1.0, -47.99, 19.48, <1x26405 sparse matrix of type '<class 'numpy.float64'>'
	with 8 stored elements in Compressed Sparse Row format>, 0]
[4, 3, 2, 0, 1, 9, 8, 0, 1, 4.100293289811417, 1.0, 121.22, 19.48, <1x26405 sparse matrix of type '<class 'numpy.float64'>'
	with 8 stored elements in Compressed Sparse Row format>, 1]
[4, 0, 1, 0, 0, 6, 2, 2, 1, 3.9857808213564594, 1.0, 121.22, 19.48, <1x26405 sparse matrix of type '<class 'numpy.float64'>'
	with 8 stored elements in Compressed Sparse Row format>, 1]
[3, 1, 1, 0, 0, 11, 6, 0, 5, 3.945836388306724, 1.0, -47.99, 19.48, <1x26405 sparse matrix of type '<class 'numpy.float64'>'
	with 8 stored elements in Compressed Sparse Row format>, 0]
[7, 1, 3, 0, 1, 13, 6, 1, 3, 4.0677427503405434, 1.0, -132.59, 19.48, <1x26405 sparse matrix of type '<class 'numpy.float64'>'
	with 8 stored elements in Compressed Sparse Row format>, 0]
[4, 0, 2, 0, 0, 8, 5, 0, 1, 3.878042513389966, 1.0, 36.62, 0.05, <1x26405 sparse matrix of type '<class 'numpy.float64'>'
	with 8 stored elements in Compressed Sparse Row format>, 0]
[4, 1, 2, 0, 2, 13, 8, 0, 7, 4.04077623251235, 1.0, -386.39, 19.48, <1x26405 sparse matrix of type '<class 'numpy.float64'>'
	with 8 stored elements in Compressed Sparse Row format>, 1]
[4, 0, 1, 0, 1, 7, 5, 1, 2, 4.081004280404257, 1.0, 121.22, 19.48, <1x26405 sparse matrix of type '<class 'numpy.float64'>'
	with 8 stored elements in Compressed Sparse Row format>, 0]
[4, 1, 2, 0, 1, 10, 5, 2, 4, 4.040728204474241, 1.0, 121.22, 19.48, <1x26405 sparse matrix of type '<class 'numpy.float64'>'
	with 8 stored elements in Compressed Sparse Row format>, 0]
[2, 1, 1, 0, 2, 7, 3, 0, 3, 4.029789312347627, 1.0, 36.62, 0.05, <1x26405 sparse matrix of type '<class 'numpy.float64'>'
	with 8 stored elements in Compressed Sparse Row format>, 0]
[6, 2, 2, 0, 1, 12, 10, 0, 3, 4.075948039015369, 1.0, 36.62, 0.05, <1x26405 sparse matrix of type '<class 'numpy.float64'>'
	with 8 stored elements in Compressed Sparse Row format>, 1]
[3, 1, 4, 1, 1, 9, 6, 0, 5, 3.958726737909456, 1.0, 121.22, 0.05, <1x26405 sparse matrix of type '<class 'numpy.float64'>'
	with 8 stored elements in Compressed Sparse Row format>, 0]
[6, 0, 1, 0, 1, 8, 7, 0, 2, 4.013506452059686, 1.0, 121.22, 0.05, <1x26405 sparse matrix of type '<class 'numpy.float64'>'
	with 8 stored elements in Compressed Sparse Row format>, 0]
[5, 2, 3, 0, 3, 11, 8, 0, 5, 4.152346506277295, 0.9285714285714286, 121.22, 0.05, <1x26405 sparse matrix of type '<class 'numpy.float64'>'
	with 8 stored elements in Compressed Sparse Row format>, 1]
[2, 3, 1, 0, 0, 7, 4, 2, 1, 3.7897042097508753, 1.0, 36.62, 19.48, <1x26405 sparse matrix of type '<class 'numpy.float64'>'
	with 8 stored elements in Compressed Sparse Row format>, 0]
[5, 0, 1, 0, 2, 8, 5, 1, 4, 3.9213458631567084, 1.0, 121.22, 19.48, <1x26405 sparse matrix of type '<class 'numpy.float64'>'
	with 8 stored elements in Compressed Sparse Row format>, 1]
[6, 2, 2, 0, 2, 12, 10, 1, 2, 4.205336633112053, 1.0, 121.22, 0.05, <1x26405 sparse matrix of type '<class 'numpy.float64'>'
	with 8 stored elements in Compressed Sparse Row format>, 1]
[4, 2, 1, 0, 0, 8, 7, 0, 1, 3.9129494408950376, 1.0, 121.22, 0.05, <1x26405 sparse matrix of type '<class 'numpy.float64'>'
	with 8 stored elements in Compressed Sparse Row format>, 0]
[5, 2, 1, 0, 3, 9, 8, 0, 3, 4.120603082551587, 1.0, 121.22, 0.05, <1x26405 sparse matrix of type '<class 'numpy.float64'>'
	with 8 stored elements in Compressed Sparse Row format>, 1]
[4, 3, 1, 0, 1, 9, 7, 0, 2, 3.9978016382087795, 1.0, 121.22, 19.48, <1x26405 sparse matrix of type '<class 'numpy.float64'>'
	with 8 stored elements in Compressed Sparse Row format>, 1]
[5, 3, 2, 0, 2, 11, 8, 0, 4, 3.982971960194182, 1.0, -47.99, 19.48, <1x26405 sparse matrix of type '<class 'numpy.float64'>'
	with 8 stored elements in Compressed Sparse Row format>, 1]
[7, 2, 1, 0, 1, 12, 10, 0, 3, 3.988603871830221, 1.0, -47.99, 0.05, <1x26405 sparse matrix of type '<class 'numpy.float64'>'
	with 8 stored elements in Compressed Sparse Row format>, 1]
[2, 3, 0, 1, 1, 6, 5, 0, 3, 3.7371832340518947, 1.0, 121.22, 0.05, <1x26405 sparse matrix of type '<class 'numpy.float64'>'
	with 8 stored elements in Compressed Sparse Row format>, 0]
[3, 2, 1, 1, 1, 7, 5, 0, 3, 3.8320673863999555, 1.0, 121.22, 0.05, <1x26405 sparse matrix of type '<class 'numpy.float64'>'
	with 8 stored elements in Compressed Sparse Row format>, 0]
[4, 1, 2, 2, 0, 10, 8, 0, 4, 3.9690859101759104, 0.9166666666666666, 121.22, 0.05, <1x26405 sparse matrix of type '<class 'numpy.float64'>'
	with 8 stored elements in Compressed Sparse Row format>, 0]
[4, 1, 1, 0, 0, 8, 5, 0, 2, 4.0247584121840285, 1.0, 36.62, 19.48, <1x26405 sparse matrix of type '<class 'numpy.float64'>'
	with 8 stored elements in Compressed Sparse Row format>, 0]
[4, 3, 2, 0, 1, 9, 5, 2, 1, 4.139451696779411, 1.0, 121.22, 19.48, <1x26405 sparse matrix of type '<class 'numpy.float64'>'
	with 8 stored elements in Compressed Sparse Row format>, 0]
[5, 0, 2, 1, 0, 10, 6, 0, 3, 4.089049778864292, 1.0, 36.62, 0.05, <1x26405 sparse matrix of type '<class 'numpy.float64'>'
	with 8 stored elements in Compressed Sparse Row format>, 0]
[6, 2, 1, 0, 4, 9, 7, 0, 3, 4.271261374656577, 1.0, 121.22, 35.27, <1x26405 sparse matrix of type '<class 'numpy.float64'>'
	with 8 stored elements in Compressed Sparse Row format>, 1]
[7, 1, 1, 0, 2, 11, 10, 0, 3, 3.9795879229705777, 1.0, 121.22, 0.05, <1x26405 sparse matrix of type '<class 'numpy.float64'>'
	with 8 stored elements in Compressed Sparse Row format>, 1]
[4, 1, 2, 0, 1, 9, 7, 0, 2, 4.061325556478834, 1.0, 36.62, 19.48, <1x26405 sparse matrix of type '<class 'numpy.float64'>'
	with 8 stored elements in Compressed Sparse Row format>, 1]
[3, 1, 4, 0, 4, 9, 7, 0, 5, 4.028989971647553, 1.0, -47.99, 19.48, <1x26405 sparse matrix of type '<class 'numpy.float64'>'
	with 8 stored elements in Compressed Sparse Row format>, 1]
[4, 1, 1, 0, 0, 9, 5, 1, 2, 4.00972396591296, 1.0, 121.22, 19.48, <1x26405 sparse matrix of type '<class 'numpy.float64'>'
	with 8 stored elements in Compressed Sparse Row format>, 0]
[3, 1, 3, 0, 1, 10, 6, 0, 5, 3.8536310913249463, 1.0, 121.22, 0.05, <1x26405 sparse matrix of type '<class 'numpy.float64'>'
	with 8 stored elements in Compressed Sparse Row format>, 0]
[4, 2, 1, 1, 1, 8, 6, 0, 3, 4.3129236909344035, 1.0, -47.99, 19.48, <1x26405 sparse matrix of type '<class 'numpy.float64'>'
	with 8 stored elements in Compressed Sparse Row format>, 0]
[4, 2, 2, 0, 1, 8, 5, 0, 2, 4.061638867995137, 1.0, -47.99, 19.48, <1x26405 sparse matrix of type '<class 'numpy.float64'>'
	with 8 stored elements in Compressed Sparse Row format>, 0]
[3, 0, 1, 0, 0, 6, 3, 0, 2, 3.9880774349981336, 1.0, 121.22, 0.05, <1x26405 sparse matrix of type '<class 'numpy.float64'>'
	with 8 stored elements in Compressed Sparse Row format>, 1]
[3, 1, 0, 0, 1, 6, 5, 0, 2, 4.1898860782540055, 1.0, 121.22, 19.48, <1x26405 sparse matrix of type '<class 'numpy.float64'>'
	with 8 stored elements in Compressed Sparse Row format>, 0]
[7, 2, 0, 0, 0, 11, 7, 1, 1, 4.1807351906458265, 1.0, 121.22, 0.05, <1x26405 sparse matrix of type '<class 'numpy.float64'>'
	with 8 stored elements in Compressed Sparse Row format>, 0]
[5, 0, 2, 0, 3, 10, 7, 0, 5, 4.037248007964092, 1.0, 36.62, 19.48, <1x26405 sparse matrix of type '<class 'numpy.float64'>'
	with 8 stored elements in Compressed Sparse Row format>, 0]
[1, 1, 3, 0, 1, 9, 7, 0, 2, 4.192972126112501, 1.0, 121.22, 19.48, <1x26405 sparse matrix of type '<class 'numpy.float64'>'
	with 8 stored elements in Compressed Sparse Row format>, 0]
[4, 2, 1, 0, 3, 8, 6, 1, 4, 4.088749096619189, 1.0, 121.22, 0.05, <1x26405 sparse matrix of type '<class 'numpy.float64'>'
	with 8 stored elements in Compressed Sparse Row format>, 0]
[2, 1, 1, 2, 1, 4, 5, 0, 2, 3.989822782008754, 1.0, -47.99, 0.05, <1x26405 sparse matrix of type '<class 'numpy.float64'>'
	with 8 stored elements in Compressed Sparse Row format>, 0]
[2, 1, 2, 0, 1, 8, 3, 0, 3, 4.068445184178011, 1.0, 121.22, 19.48, <1x26405 sparse matrix of type '<class 'numpy.float64'>'
	with 8 stored elements in Compressed Sparse Row format>, 0]
[3, 1, 3, 0, 3, 8, 4, 2, 5, 3.771175930455526, 1.0, 36.62, 19.48, <1x26405 sparse matrix of type '<class 'numpy.float64'>'
	with 8 stored elements in Compressed Sparse Row format>, 0]
[2, 1, 4, 0, 1, 10, 5, 2, 4, 4.036372777464977, 1.0, 121.22, 0.05, <1x26405 sparse matrix of type '<class 'numpy.float64'>'
	with 8 stored elements in Compressed Sparse Row format>, 0]
[4, 1, 2, 0, 1, 10, 7, 1, 3, 4.077166846341841, 1.0, -132.59, 19.48, <1x26405 sparse matrix of type '<class 'numpy.float64'>'
	with 8 stored elements in Compressed Sparse Row format>, 0]
[8, 4, 3, 1, 1, 18, 12, 3, 5, 4.097145607535998, 1.0, 121.22, 19.48, <1x26405 sparse matrix of type '<class 'numpy.float64'>'
	with 8 stored elements in Compressed Sparse Row format>, 0]
[7, 1, 2, 0, 2, 10, 9, 1, 2, 3.9711102352058325, 1.0, 36.62, 19.48, <1x26405 sparse matrix of type '<class 'numpy.float64'>'
	with 8 stored elements in Compressed Sparse Row format>, 1]
[3, 3, 1, 0, 0, 8, 7, 0, 1, 4.07965750780467, 1.0, 121.22, 0.05, <1x26405 sparse matrix of type '<class 'numpy.float64'>'
	with 8 stored elements in Compressed Sparse Row format>, 0]
[5, 2, 2, 1, 2, 11, 9, 1, 3, 4.087659188094037, 1.0, 36.62, 0.05, <1x26405 sparse matrix of type '<class 'numpy.float64'>'
	with 8 stored elements in Compressed Sparse Row format>, 1]
[1, 1, 2, 0, 1, 7, 4, 0, 4, 3.899868042595645, 1.0, 121.22, 0.05, <1x26405 sparse matrix of type '<class 'numpy.float64'>'
	with 8 stored elements in Compressed Sparse Row format>, 1]
[7, 0, 2, 1, 3, 9, 9, 0, 3, 4.116393994747165, 1.0, 121.22, 0.05, <1x26405 sparse matrix of type '<class 'numpy.float64'>'
	with 8 stored elements in Compressed Sparse Row format>, 1]
[2, 1, 0, 0, 0, 5, 2, 0, 2, 3.3825680832760763, 1.0, 121.22, 19.48, <1x26405 sparse matrix of type '<class 'numpy.float64'>'
	with 8 stored elements in Compressed Sparse Row format>, 0]
[3, 1, 3, 0, 1, 8, 7, 0, 2, 3.871622214621797, 1.0, 36.62, 19.48, <1x26405 sparse matrix of type '<class 'numpy.float64'>'
	with 8 stored elements in Compressed Sparse Row format>, 1]
[5, 2, 3, 0, 2, 12, 8, 0, 4, 4.003724168522611, 0.9285714285714286, 36.62, 19.48, <1x26405 sparse matrix of type '<class 'numpy.float64'>'
	with 8 stored elements in Compressed Sparse Row format>, 0]
[5, 2, 1, 0, 1, 9, 6, 0, 2, 3.943417431348191, 1.0, 121.22, 0.05, <1x26405 sparse matrix of type '<class 'numpy.float64'>'
	with 8 stored elements in Compressed Sparse Row format>, 0]
[3, 1, 3, 0, 3, 12, 8, 0, 7, 4.041571368536967, 1.0, 121.22, 19.48, <1x26405 sparse matrix of type '<class 'numpy.float64'>'
	with 8 stored elements in Compressed Sparse Row format>, 1]
[4, 0, 1, 1, 2, 7, 6, 0, 4, 3.9246253633843526, 1.0, 121.22, 0.05, <1x26405 sparse matrix of type '<class 'numpy.float64'>'
	with 8 stored elements in Compressed Sparse Row format>, 0]
[6, 1, 2, 0, 2, 9, 9, 0, 2, 4.030343430560246, 1.0, 121.22, 19.48, <1x26405 sparse matrix of type '<class 'numpy.float64'>'
	with 8 stored elements in Compressed Sparse Row format>, 1]
[3, 3, 2, 0, 1, 8, 7, 0, 1, 3.819818639003267, 1.0, -47.99, 19.48, <1x26405 sparse matrix of type '<class 'numpy.float64'>'
	with 8 stored elements in Compressed Sparse Row format>, 1]
[5, 2, 0, 0, 1, 7, 5, 0, 1, 4.2480471909383075, 1.0, 121.22, 0.05, <1x26405 sparse matrix of type '<class 'numpy.float64'>'
	with 8 stored elements in Compressed Sparse Row format>, 1]
[2, 3, 0, 1, 0, 6, 4, 0, 2, 3.8419674805347275, 1.0, -47.99, 19.48, <1x26405 sparse matrix of type '<class 'numpy.float64'>'
	with 8 stored elements in Compressed Sparse Row format>, 0]
[3, 0, 4, 2, 3, 6, 4, 0, 6, 3.844534370904176, 0.9090909090909091, -132.59, 19.48, <1x26405 sparse matrix of type '<class 'numpy.float64'>'
	with 8 stored elements in Compressed Sparse Row format>, 0]
[3, 0, 3, 1, 1, 8, 6, 0, 4, 3.830838615997457, 1.0, 121.22, 19.48, <1x26405 sparse matrix of type '<class 'numpy.float64'>'
	with 8 stored elements in Compressed Sparse Row format>, 0]
[10, 3, 2, 0, 3, 16, 14, 0, 3, 4.249820113703806, 0.9473684210526315, 121.22, 0.05, <1x26405 sparse matrix of type '<class 'numpy.float64'>'
	with 8 stored elements in Compressed Sparse Row format>, 1]
[5, 3, 1, 0, 0, 11, 5, 1, 2, 4.040532855895863, 1.0, 121.22, 0.05, <1x26405 sparse matrix of type '<class 'numpy.float64'>'
	with 8 stored elements in Compressed Sparse Row format>, 0]
[6, 1, 4, 1, 7, 10, 6, 1, 8, 3.916480255554639, 0.9444444444444444, 121.22, 19.48, <1x26405 sparse matrix of type '<class 'numpy.float64'>'
	with 8 stored elements in Compressed Sparse Row format>, 1]
[8, 0, 5, 0, 3, 20, 14, 0, 9, 4.114330292081746, 0.9565217391304348, 121.22, 0.05, <1x26405 sparse matrix of type '<class 'numpy.float64'>'
	with 8 stored elements in Compressed Sparse Row format>, 1]
[3, 0, 1, 0, 0, 4, 3, 1, 0, 3.320525922063255, 1.0, -47.99, 19.48, <1x26405 sparse matrix of type '<class 'numpy.float64'>'
	with 8 stored elements in Compressed Sparse Row format>, 0]
[4, 3, 0, 1, 2, 9, 6, 0, 4, 4.21344215618323, 1.0, 121.22, 19.48, <1x26405 sparse matrix of type '<class 'numpy.float64'>'
	with 8 stored elements in Compressed Sparse Row format>, 0]
[4, 0, 4, 0, 1, 17, 3, 0, 10, 4.18928307807667, 0.8333333333333334, 121.22, 19.48, <1x26405 sparse matrix of type '<class 'numpy.float64'>'
	with 8 stored elements in Compressed Sparse Row format>, 1]
[3, 2, 2, 0, 0, 10, 6, 0, 2, 3.7774932278793236, 1.0, 121.22, 0.05, <1x26405 sparse matrix of type '<class 'numpy.float64'>'
	with 8 stored elements in Compressed Sparse Row format>, 0]
[5, 1, 0, 1, 1, 9, 3, 2, 3, 3.9336448804645032, 1.0, 36.62, 19.48, <1x26405 sparse matrix of type '<class 'numpy.float64'>'
	with 8 stored elements in Compressed Sparse Row format>, 0]
[3, 0, 1, 0, 2, 6, 0, 0, 4, 4.0067919149806235, 1.0, 121.22, 19.48, <1x26405 sparse matrix of type '<class 'numpy.float64'>'
	with 8 stored elements in Compressed Sparse Row format>, 0]
[8, 0, 2, 0, 0, 12, 5, 2, 1, 3.9337462007341184, 0.9166666666666666, 36.62, 19.48, <1x26405 sparse matrix of type '<class 'numpy.float64'>'
	with 8 stored elements in Compressed Sparse Row format>, 1]
[4, 1, 0, 0, 2, 7, 4, 1, 2, 4.19325196380317, 1.0, 121.22, 19.48, <1x26405 sparse matrix of type '<class 'numpy.float64'>'
	with 8 stored elements in Compressed Sparse Row format>, 0]
[1, 3, 4, 0, 4, 10, 4, 1, 8, 4.111781133879281, 0.8571428571428571, 121.22, 0.05, <1x26405 sparse matrix of type '<class 'numpy.float64'>'
	with 8 stored elements in Compressed Sparse Row format>, 0]
[4, 1, 1, 0, 1, 6, 3, 0, 2, 3.957940346441154, 1.0, -47.99, 19.48, <1x26405 sparse matrix of type '<class 'numpy.float64'>'
	with 8 stored elements in Compressed Sparse Row format>, 0]
[3, 3, 0, 0, 0, 8, 5, 0, 1, 3.968275992761208, 1.0, -47.99, 19.48, <1x26405 sparse matrix of type '<class 'numpy.float64'>'
	with 8 stored elements in Compressed Sparse Row format>, 0]
[0, 0, 1, 0, 0, 5, 1, 0, 2, 3.2946635862096048, 0.8, 36.62, 0.05, <1x26405 sparse matrix of type '<class 'numpy.float64'>'
	with 8 stored elements in Compressed Sparse Row format>, 0]
[3, 1, 3, 0, 0, 11, 6, 1, 3, 4.0700502240960414, 1.0, 121.22, 0.05, <1x26405 sparse matrix of type '<class 'numpy.float64'>'
	with 8 stored elements in Compressed Sparse Row format>, 0]
[5, 2, 1, 1, 2, 11, 7, 1, 5, 4.096867445876812, 1.0, 36.62, 19.48, <1x26405 sparse matrix of type '<class 'numpy.float64'>'
	with 8 stored elements in Compressed Sparse Row format>, 0]
[3, 1, 2, 0, 2, 9, 4, 2, 4, 3.9972430279198297, 1.0, 36.62, 35.27, <1x26405 sparse matrix of type '<class 'numpy.float64'>'
	with 8 stored elements in Compressed Sparse Row format>, 0]
[2, 3, 1, 0, 1, 7, 7, 0, 1, 4.0078724432276776, 1.0, 121.22, 0.05, <1x26405 sparse matrix of type '<class 'numpy.float64'>'
	with 8 stored elements in Compressed Sparse Row format>, 1]
[7, 2, 1, 0, 1, 11, 7, 0, 2, 3.9369279721309365, 1.0, 121.22, 0.05, <1x26405 sparse matrix of type '<class 'numpy.float64'>'
	with 8 stored elements in Compressed Sparse Row format>, 0]
[5, 2, 1, 0, 2, 9, 8, 0, 3, 3.8036458168384217, 1.0, 121.22, 0.05, <1x26405 sparse matrix of type '<class 'numpy.float64'>'
	with 8 stored elements in Compressed Sparse Row format>, 1]
[7, 2, 2, 0, 0, 14, 8, 0, 4, 4.051076319830902, 1.0, 121.22, 0.05, <1x26405 sparse matrix of type '<class 'numpy.float64'>'
	with 8 stored elements in Compressed Sparse Row format>, 0]
[5, 2, 0, 0, 1, 9, 7, 0, 3, 3.9095678404934517, 1.0, 36.62, 19.48, <1x26405 sparse matrix of type '<class 'numpy.float64'>'
	with 8 stored elements in Compressed Sparse Row format>, 1]
[4, 1, 0, 0, 1, 6, 4, 0, 2, 3.7601728994939405, 1.0, 121.22, 0.05, <1x26405 sparse matrix of type '<class 'numpy.float64'>'
	with 8 stored elements in Compressed Sparse Row format>, 1]
[6, 2, 3, 0, 2, 15, 4, 2, 8, 3.97860262559251, 1.0, 36.62, 0.05, <1x26405 sparse matrix of type '<class 'numpy.float64'>'
	with 8 stored elements in Compressed Sparse Row format>, 0]
[3, 0, 2, 0, 0, 7, 6, 0, 0, 4.387563537969913, 1.0, 121.22, 35.27, <1x26405 sparse matrix of type '<class 'numpy.float64'>'
	with 8 stored elements in Compressed Sparse Row format>, 1]
[4, 1, 4, 0, 2, 12, 9, 0, 5, 3.9753295517487746, 1.0, 36.62, 19.48, <1x26405 sparse matrix of type '<class 'numpy.float64'>'
	with 8 stored elements in Compressed Sparse Row format>, 0]
[2, 1, 2, 0, 1, 5, 3, 1, 1, 3.8831078359943145, 1.0, 36.62, 19.48, <1x26405 sparse matrix of type '<class 'numpy.float64'>'
	with 8 stored elements in Compressed Sparse Row format>, 1]
[3, 1, 4, 0, 1, 10, 6, 0, 3, 3.997399983139506, 1.0, 121.22, 19.48, <1x26405 sparse matrix of type '<class 'numpy.float64'>'
	with 8 stored elements in Compressed Sparse Row format>, 0]
[4, 0, 5, 0, 3, 12, 10, 0, 5, 4.044889875232739, 1.0, 36.62, 0.05, <1x26405 sparse matrix of type '<class 'numpy.float64'>'
	with 8 stored elements in Compressed Sparse Row format>, 1]
[1, 2, 1, 0, 1, 6, 5, 0, 2, 3.6351850788345264, 0.8571428571428571, 121.22, 0.05, <1x26405 sparse matrix of type '<class 'numpy.float64'>'
	with 8 stored elements in Compressed Sparse Row format>, 1]
[5, 0, 2, 0, 1, 12, 7, 1, 5, 4.033240543445299, 1.0, 36.62, 0.05, <1x26405 sparse matrix of type '<class 'numpy.float64'>'
	with 8 stored elements in Compressed Sparse Row format>, 1]
[5, 2, 1, 0, 1, 10, 6, 0, 2, 4.222051306428438, 1.0, 36.62, 19.48, <1x26405 sparse matrix of type '<class 'numpy.float64'>'
	with 8 stored elements in Compressed Sparse Row format>, 0]
[5, 1, 2, 0, 1, 9, 5, 2, 2, 4.046702576604088, 1.0, 36.62, 19.48, <1x26405 sparse matrix of type '<class 'numpy.float64'>'
	with 8 stored elements in Compressed Sparse Row format>, 0]
[2, 4, 2, 1, 0, 11, 7, 0, 3, 4.122627304675599, 1.0, 36.62, 19.48, <1x26405 sparse matrix of type '<class 'numpy.float64'>'
	with 8 stored elements in Compressed Sparse Row format>, 1]
[2, 0, 4, 0, 1, 9, 3, 0, 6, 4.399502400992159, 1.0, 36.62, 19.48, <1x26405 sparse matrix of type '<class 'numpy.float64'>'
	with 8 stored elements in Compressed Sparse Row format>, 0]
[2, 1, 2, 0, 2, 7, 6, 0, 2, 4.072575464286057, 1.0, 36.62, 19.48, <1x26405 sparse matrix of type '<class 'numpy.float64'>'
	with 8 stored elements in Compressed Sparse Row format>, 1]
[2, 0, 2, 0, 0, 5, 1, 1, 0, 3.7628148954723546, 1.0, 36.62, 19.48, <1x26405 sparse matrix of type '<class 'numpy.float64'>'
	with 8 stored elements in Compressed Sparse Row format>, 0]
[4, 0, 4, 0, 3, 8, 4, 0, 6, 3.9767244603177434, 0.9090909090909091, 36.62, 19.48, <1x26405 sparse matrix of type '<class 'numpy.float64'>'
	with 8 stored elements in Compressed Sparse Row format>, 0]
[3, 1, 1, 0, 2, 5, 6, 0, 1, 3.9964393446710145, 1.0, 121.22, 19.48, <1x26405 sparse matrix of type '<class 'numpy.float64'>'
	with 8 stored elements in Compressed Sparse Row format>, 1]
[5, 2, 1, 0, 1, 10, 6, 0, 3, 3.96632847002467, 1.0, 121.22, 19.48, <1x26405 sparse matrix of type '<class 'numpy.float64'>'
	with 8 stored elements in Compressed Sparse Row format>, 1]
[3, 0, 2, 0, 0, 7, 6, 0, 0, 3.8872143980165865, 1.0, 121.22, 19.48, <1x26405 sparse matrix of type '<class 'numpy.float64'>'
	with 8 stored elements in Compressed Sparse Row format>, 1]
[4, 0, 3, 0, 0, 8, 6, 0, 1, 3.853141772067333, 1.0, -47.99, 19.48, <1x26405 sparse matrix of type '<class 'numpy.float64'>'
	with 8 stored elements in Compressed Sparse Row format>, 0]
[2, 1, 0, 0, 0, 3, 3, 0, 0, 3.5841837197791886, 1.0, 121.22, 0.05, <1x26405 sparse matrix of type '<class 'numpy.float64'>'
	with 8 stored elements in Compressed Sparse Row format>, 0]
[1, 1, 2, 0, 1, 5, 3, 0, 2, 3.8652976551377836, 1.0, 36.62, 19.48, <1x26405 sparse matrix of type '<class 'numpy.float64'>'
	with 8 stored elements in Compressed Sparse Row format>, 0]
[6, 4, 2, 0, 3, 12, 11, 0, 3, 4.008283729773706, 1.0, -47.99, 0.05, <1x26405 sparse matrix of type '<class 'numpy.float64'>'
	with 8 stored elements in Compressed Sparse Row format>, 1]
[6, 3, 1, 0, 0, 12, 8, 1, 0, 4.1264480241929675, 0.9166666666666666, 121.22, 19.48, <1x26405 sparse matrix of type '<class 'numpy.float64'>'
	with 8 stored elements in Compressed Sparse Row format>, 0]
[6, 2, 4, 0, 2, 14, 12, 0, 4, 4.134266588261457, 1.0, 36.62, 19.48, <1x26405 sparse matrix of type '<class 'numpy.float64'>'
	with 8 stored elements in Compressed Sparse Row format>, 1]
[7, 2, 1, 0, 1, 11, 7, 1, 2, 4.222528609500775, 1.0, 36.62, 19.48, <1x26405 sparse matrix of type '<class 'numpy.float64'>'
	with 8 stored elements in Compressed Sparse Row format>, 0]
[5, 3, 2, 0, 3, 10, 9, 1, 3, 4.038662903073641, 0.9230769230769231, 121.22, 0.05, <1x26405 sparse matrix of type '<class 'numpy.float64'>'
	with 8 stored elements in Compressed Sparse Row format>, 0]
[1, 1, 3, 0, 2, 8, 7, 0, 3, 4.068616205386403, 1.0, 121.22, 0.05, <1x26405 sparse matrix of type '<class 'numpy.float64'>'
	with 8 stored elements in Compressed Sparse Row format>, 0]
[6, 1, 1, 0, 0, 10, 10, 0, 0, 4.142927703649176, 1.0, 121.22, 0.05, <1x26405 sparse matrix of type '<class 'numpy.float64'>'
	with 8 stored elements in Compressed Sparse Row format>, 1]
[4, 0, 0, 1, 3, 6, 3, 0, 5, 3.8519564562835105, 1.0, 121.22, 19.48, <1x26405 sparse matrix of type '<class 'numpy.float64'>'
	with 8 stored elements in Compressed Sparse Row format>, 0]
[3, 2, 2, 0, 0, 9, 7, 0, 2, 4.038970473846087, 1.0, 121.22, 0.05, <1x26405 sparse matrix of type '<class 'numpy.float64'>'
	with 8 stored elements in Compressed Sparse Row format>, 1]
[5, 4, 1, 0, 1, 10, 10, 0, 1, 4.026799778485009, 1.0, -132.59, 19.48, <1x26405 sparse matrix of type '<class 'numpy.float64'>'
	with 8 stored elements in Compressed Sparse Row format>, 1]
[5, 1, 3, 1, 1, 11, 6, 0, 6, 4.027846633030845, 1.0, 121.22, 0.05, <1x26405 sparse matrix of type '<class 'numpy.float64'>'
	with 8 stored elements in Compressed Sparse Row format>, 0]
[4, 0, 2, 0, 1, 9, 4, 0, 4, 3.915783629896563, 1.0, 121.22, 19.48, <1x26405 sparse matrix of type '<class 'numpy.float64'>'
	with 8 stored elements in Compressed Sparse Row format>, 0]
[5, 3, 2, 0, 3, 12, 11, 0, 4, 3.933876314088969, 1.0, 36.62, 19.48, <1x26405 sparse matrix of type '<class 'numpy.float64'>'
	with 8 stored elements in Compressed Sparse Row format>, 1]
[3, 0, 2, 1, 0, 9, 5, 0, 4, 3.9869926649352054, 1.0, 36.62, 19.48, <1x26405 sparse matrix of type '<class 'numpy.float64'>'
	with 8 stored elements in Compressed Sparse Row format>, 0]
[5, 2, 1, 1, 2, 9, 8, 0, 4, 3.9283853475927386, 1.0, 121.22, 0.05, <1x26405 sparse matrix of type '<class 'numpy.float64'>'
	with 8 stored elements in Compressed Sparse Row format>, 0]
[2, 1, 2, 0, 0, 8, 5, 1, 1, 3.9576833854931555, 1.0, 36.62, 19.48, <1x26405 sparse matrix of type '<class 'numpy.float64'>'
	with 8 stored elements in Compressed Sparse Row format>, 1]
[3, 1, 3, 0, 3, 11, 7, 1, 6, 3.9638473480258942, 1.0, 121.22, 0.05, <1x26405 sparse matrix of type '<class 'numpy.float64'>'
	with 8 stored elements in Compressed Sparse Row format>, 0]
[2, 1, 2, 0, 0, 9, 3, 1, 5, 3.794252261775929, 1.0, 36.62, 0.05, <1x26405 sparse matrix of type '<class 'numpy.float64'>'
	with 8 stored elements in Compressed Sparse Row format>, 0]
[3, 2, 5, 0, 2, 11, 5, 3, 5, 3.9504329327303735, 1.0, 121.22, 0.05, <1x26405 sparse matrix of type '<class 'numpy.float64'>'
	with 8 stored elements in Compressed Sparse Row format>, 0]
[2, 1, 0, 0, 1, 4, 2, 0, 1, 3.6165330442444006, 1.0, -132.59, 19.48, <1x26405 sparse matrix of type '<class 'numpy.float64'>'
	with 8 stored elements in Compressed Sparse Row format>, 0]
[4, 2, 0, 0, 1, 6, 5, 0, 1, 3.7644441048419135, 1.0, 121.22, 0.05, <1x26405 sparse matrix of type '<class 'numpy.float64'>'
	with 8 stored elements in Compressed Sparse Row format>, 1]
[5, 1, 0, 0, 0, 7, 5, 1, 1, 3.778171939471838, 1.0, 121.22, 0.05, <1x26405 sparse matrix of type '<class 'numpy.float64'>'
	with 8 stored elements in Compressed Sparse Row format>, 1]
[2, 2, 3, 1, 0, 10, 5, 0, 3, 4.021572322419824, 1.0, 121.22, 0.05, <1x26405 sparse matrix of type '<class 'numpy.float64'>'
	with 8 stored elements in Compressed Sparse Row format>, 0]
[6, 2, 3, 0, 2, 14, 13, 0, 3, 4.094466973246602, 0.9375, 121.22, 0.05, <1x26405 sparse matrix of type '<class 'numpy.float64'>'
	with 8 stored elements in Compressed Sparse Row format>, 1]
[2, 2, 1, 0, 0, 7, 5, 0, 2, 3.903359238383517, 1.0, 121.22, 0.05, <1x26405 sparse matrix of type '<class 'numpy.float64'>'
	with 8 stored elements in Compressed Sparse Row format>, 0]
[6, 1, 0, 0, 1, 9, 6, 1, 2, 4.134929304535772, 1.0, -47.99, 19.48, <1x26405 sparse matrix of type '<class 'numpy.float64'>'
	with 8 stored elements in Compressed Sparse Row format>, 1]
[3, 2, 3, 0, 2, 11, 8, 1, 4, 4.0882101246912255, 1.0, 36.62, 19.48, <1x26405 sparse matrix of type '<class 'numpy.float64'>'
	with 8 stored elements in Compressed Sparse Row format>, 0]
[5, 0, 0, 0, 0, 6, 1, 1, 1, 4.103701696057348, 1.0, 121.22, 19.48, <1x26405 sparse matrix of type '<class 'numpy.float64'>'
	with 8 stored elements in Compressed Sparse Row format>, 0]
[3, 2, 1, 0, 1, 7, 3, 2, 2, 3.932535445564022, 1.0, -47.99, 19.48, <1x26405 sparse matrix of type '<class 'numpy.float64'>'
	with 8 stored elements in Compressed Sparse Row format>, 0]
[3, 1, 1, 1, 0, 7, 2, 1, 3, 3.9221445998387283, 1.0, 121.22, 0.05, <1x26405 sparse matrix of type '<class 'numpy.float64'>'
	with 8 stored elements in Compressed Sparse Row format>, 0]
[4, 1, 1, 1, 2, 6, 6, 1, 2, 3.694114499038534, 1.0, 36.62, 0.05, <1x26405 sparse matrix of type '<class 'numpy.float64'>'
	with 8 stored elements in Compressed Sparse Row format>, 0]
[3, 3, 1, 0, 2, 7, 7, 0, 2, 4.233812634549844, 1.0, -47.99, 19.48, <1x26405 sparse matrix of type '<class 'numpy.float64'>'
	with 8 stored elements in Compressed Sparse Row format>, 1]
[1, 1, 1, 1, 2, 5, 3, 0, 5, 3.2389211020256883, 1.0, 121.22, 19.48, <1x26405 sparse matrix of type '<class 'numpy.float64'>'
	with 8 stored elements in Compressed Sparse Row format>, 0]
[6, 1, 2, 0, 0, 9, 6, 1, 0, 4.020754130978644, 1.0, 121.22, 19.48, <1x26405 sparse matrix of type '<class 'numpy.float64'>'
	with 8 stored elements in Compressed Sparse Row format>, 0]
[4, 0, 1, 1, 1, 7, 1, 1, 3, 3.8259247327071337, 1.0, 121.22, 19.48, <1x26405 sparse matrix of type '<class 'numpy.float64'>'
	with 8 stored elements in Compressed Sparse Row format>, 0]
[6, 1, 5, 1, 2, 12, 4, 0, 6, 4.1684858511072, 1.0, 36.62, 19.48, <1x26405 sparse matrix of type '<class 'numpy.float64'>'
	with 8 stored elements in Compressed Sparse Row format>, 1]
[3, 1, 1, 0, 1, 5, 4, 0, 1, 3.9963843160385064, 1.0, 36.62, 19.48, <1x26405 sparse matrix of type '<class 'numpy.float64'>'
	with 8 stored elements in Compressed Sparse Row format>, 1]
[4, 4, 1, 0, 2, 9, 8, 0, 3, 4.1128654487951355, 1.0, 121.22, 0.05, <1x26405 sparse matrix of type '<class 'numpy.float64'>'
	with 8 stored elements in Compressed Sparse Row format>, 1]
[4, 1, 1, 0, 2, 10, 6, 0, 6, 3.6680494492089726, 1.0, 121.22, 0.05, <1x26405 sparse matrix of type '<class 'numpy.float64'>'
	with 8 stored elements in Compressed Sparse Row format>, 1]
[8, 0, 2, 0, 1, 11, 8, 1, 2, 3.9777085088176247, 1.0, 121.22, 19.48, <1x26405 sparse matrix of type '<class 'numpy.float64'>'
	with 8 stored elements in Compressed Sparse Row format>, 0]
[1, 3, 1, 0, 2, 8, 4, 3, 3, 3.803070026429081, 1.0, 36.62, 0.05, <1x26405 sparse matrix of type '<class 'numpy.float64'>'
	with 8 stored elements in Compressed Sparse Row format>, 1]
[6, 1, 0, 0, 2, 7, 5, 0, 2, 3.972087737738645, 1.0, 36.62, 0.05, <1x26405 sparse matrix of type '<class 'numpy.float64'>'
	with 8 stored elements in Compressed Sparse Row format>, 0]
[6, 1, 1, 1, 0, 10, 7, 0, 3, 4.075217366316001, 1.0, 121.22, 19.48, <1x26405 sparse matrix of type '<class 'numpy.float64'>'
	with 8 stored elements in Compressed Sparse Row format>, 0]
[2, 0, 1, 0, 0, 3, 2, 1, 0, 3.663532754804254, 1.0, 36.62, 0.05, <1x26405 sparse matrix of type '<class 'numpy.float64'>'
	with 8 stored elements in Compressed Sparse Row format>, 1]
[2, 0, 5, 0, 2, 10, 7, 0, 5, 4.12783912875848, 1.0, 121.22, 0.05, <1x26405 sparse matrix of type '<class 'numpy.float64'>'
	with 8 stored elements in Compressed Sparse Row format>, 0]
[5, 4, 0, 0, 0, 11, 8, 1, 2, 4.015304391065804, 1.0, 121.22, 0.05, <1x26405 sparse matrix of type '<class 'numpy.float64'>'
	with 8 stored elements in Compressed Sparse Row format>, 1]
[3, 2, 0, 0, 1, 6, 5, 1, 1, 3.965199876515855, 1.0, 121.22, 0.05, <1x26405 sparse matrix of type '<class 'numpy.float64'>'
	with 8 stored elements in Compressed Sparse Row format>, 1]
[3, 2, 1, 0, 1, 9, 7, 0, 3, 3.90450691610735, 1.0, -47.99, 19.48, <1x26405 sparse matrix of type '<class 'numpy.float64'>'
	with 8 stored elements in Compressed Sparse Row format>, 1]
[5, 0, 2, 0, 0, 10, 5, 1, 3, 4.097617974796996, 1.0, 36.62, 19.48, <1x26405 sparse matrix of type '<class 'numpy.float64'>'
	with 8 stored elements in Compressed Sparse Row format>, 0]
[2, 3, 2, 0, 2, 10, 3, 0, 5, 3.990150150249478, 1.0, 121.22, 0.05, <1x26405 sparse matrix of type '<class 'numpy.float64'>'
	with 8 stored elements in Compressed Sparse Row format>, 0]
[4, 3, 1, 0, 1, 8, 6, 0, 1, 3.9672926029184983, 1.0, 121.22, 19.48, <1x26405 sparse matrix of type '<class 'numpy.float64'>'
	with 8 stored elements in Compressed Sparse Row format>, 1]
[7, 1, 1, 0, 1, 10, 6, 2, 2, 3.992649094825926, 1.0, -47.99, 19.48, <1x26405 sparse matrix of type '<class 'numpy.float64'>'
	with 8 stored elements in Compressed Sparse Row format>, 0]
[5, 1, 2, 0, 2, 9, 3, 1, 4, 3.8955110292019666, 1.0, 121.22, 19.48, <1x26405 sparse matrix of type '<class 'numpy.float64'>'
	with 8 stored elements in Compressed Sparse Row format>, 0]
[4, 2, 0, 1, 0, 8, 8, 0, 1, 3.9982277344174935, 1.0, 121.22, 0.05, <1x26405 sparse matrix of type '<class 'numpy.float64'>'
	with 8 stored elements in Compressed Sparse Row format>, 1]
[5, 1, 1, 0, 0, 7, 5, 0, 0, 3.8158543814495705, 1.0, 36.62, 19.48, <1x26405 sparse matrix of type '<class 'numpy.float64'>'
	with 8 stored elements in Compressed Sparse Row format>, 1]
[4, 1, 0, 0, 1, 8, 5, 0, 4, 3.5708813799398325, 0.8888888888888888, 36.62, 19.48, <1x26405 sparse matrix of type '<class 'numpy.float64'>'
	with 8 stored elements in Compressed Sparse Row format>, 0]
[6, 2, 2, 0, 1, 11, 9, 1, 2, 4.241553715454529, 1.0, -47.99, 0.05, <1x26405 sparse matrix of type '<class 'numpy.float64'>'
	with 8 stored elements in Compressed Sparse Row format>, 0]
[9, 0, 2, 0, 2, 11, 9, 2, 2, 4.013878750559873, 1.0, 121.22, 0.05, <1x26405 sparse matrix of type '<class 'numpy.float64'>'
	with 8 stored elements in Compressed Sparse Row format>, 0]
[4, 1, 0, 0, 1, 6, 5, 0, 2, 3.7883909951070605, 1.0, -47.99, 19.48, <1x26405 sparse matrix of type '<class 'numpy.float64'>'
	with 8 stored elements in Compressed Sparse Row format>, 0]
[4, 1, 2, 0, 2, 9, 6, 0, 2, 4.100593988192767, 1.0, 121.22, 19.48, <1x26405 sparse matrix of type '<class 'numpy.float64'>'
	with 8 stored elements in Compressed Sparse Row format>, 0]
[4, 1, 2, 0, 4, 9, 8, 1, 4, 4.126137248837471, 1.0, -132.59, 19.48, <1x26405 sparse matrix of type '<class 'numpy.float64'>'
	with 8 stored elements in Compressed Sparse Row format>, 1]
[1, 3, 4, 0, 3, 12, 3, 1, 9, 4.1167267317435225, 0.9333333333333333, 121.22, 0.05, <1x26405 sparse matrix of type '<class 'numpy.float64'>'
	with 8 stored elements in Compressed Sparse Row format>, 0]
[4, 0, 3, 1, 1, 7, 7, 0, 2, 3.812060739683088, 1.0, 36.62, 0.05, <1x26405 sparse matrix of type '<class 'numpy.float64'>'
	with 8 stored elements in Compressed Sparse Row format>, 1]
[2, 1, 2, 0, 0, 6, 4, 0, 1, 3.9113061459995175, 1.0, 121.22, 19.48, <1x26405 sparse matrix of type '<class 'numpy.float64'>'
	with 8 stored elements in Compressed Sparse Row format>, 0]
[1, 1, 0, 0, 0, 2, 2, 0, 0, 3.2866294867861967, 1.0, -47.99, 19.48, <1x26405 sparse matrix of type '<class 'numpy.float64'>'
	with 8 stored elements in Compressed Sparse Row format>, 0]
[3, 3, 3, 0, 2, 9, 3, 0, 3, 3.9322024700242806, 1.0, 121.22, 19.48, <1x26405 sparse matrix of type '<class 'numpy.float64'>'
	with 8 stored elements in Compressed Sparse Row format>, 0]
[4, 1, 2, 0, 3, 10, 4, 1, 5, 3.771822516654254, 1.0, 121.22, 19.48, <1x26405 sparse matrix of type '<class 'numpy.float64'>'
	with 8 stored elements in Compressed Sparse Row format>, 0]
[3, 0, 1, 1, 2, 4, 2, 0, 4, 3.9380738947378666, 1.0, -132.59, 19.48, <1x26405 sparse matrix of type '<class 'numpy.float64'>'
	with 8 stored elements in Compressed Sparse Row format>, 0]
[4, 0, 2, 0, 3, 10, 7, 0, 6, 4.1236644834416625, 1.0, 36.62, 19.48, <1x26405 sparse matrix of type '<class 'numpy.float64'>'
	with 8 stored elements in Compressed Sparse Row format>, 0]
[5, 1, 3, 0, 1, 13, 8, 0, 5, 4.089323759506303, 1.0, 121.22, 0.05, <1x26405 sparse matrix of type '<class 'numpy.float64'>'
	with 8 stored elements in Compressed Sparse Row format>, 1]
[5, 0, 1, 0, 1, 6, 5, 0, 1, 3.9937863204943653, 1.0, 121.22, 0.05, <1x26405 sparse matrix of type '<class 'numpy.float64'>'
	with 8 stored elements in Compressed Sparse Row format>, 0]
[5, 1, 1, 0, 1, 9, 3, 3, 2, 3.988263103529322, 1.0, -47.99, 19.48, <1x26405 sparse matrix of type '<class 'numpy.float64'>'
	with 8 stored elements in Compressed Sparse Row format>, 0]
[6, 3, 2, 0, 2, 12, 9, 1, 3, 4.051233449209493, 1.0, 121.22, 0.05, <1x26405 sparse matrix of type '<class 'numpy.float64'>'
	with 8 stored elements in Compressed Sparse Row format>, 1]
[5, 2, 1, 0, 2, 8, 8, 0, 2, 3.911868178595473, 1.0, 36.62, 19.48, <1x26405 sparse matrix of type '<class 'numpy.float64'>'
	with 8 stored elements in Compressed Sparse Row format>, 1]
[6, 1, 4, 0, 1, 14, 11, 0, 2, 4.122490617065042, 1.0, 121.22, 19.48, <1x26405 sparse matrix of type '<class 'numpy.float64'>'
	with 8 stored elements in Compressed Sparse Row format>, 0]
[3, 0, 4, 0, 0, 11, 7, 0, 3, 4.190386239617944, 0.9090909090909091, 121.22, 0.05, <1x26405 sparse matrix of type '<class 'numpy.float64'>'
	with 8 stored elements in Compressed Sparse Row format>, 0]
[4, 0, 3, 1, 1, 10, 5, 0, 6, 3.789768726923632, 1.0, 36.62, 0.05, <1x26405 sparse matrix of type '<class 'numpy.float64'>'
	with 8 stored elements in Compressed Sparse Row format>, 0]
[7, 1, 1, 0, 1, 10, 8, 1, 2, 3.8632676778662516, 1.0, 121.22, 19.48, <1x26405 sparse matrix of type '<class 'numpy.float64'>'
	with 8 stored elements in Compressed Sparse Row format>, 0]
[6, 0, 1, 0, 1, 9, 6, 1, 2, 4.066111225183914, 1.0, 36.62, 19.48, <1x26405 sparse matrix of type '<class 'numpy.float64'>'
	with 8 stored elements in Compressed Sparse Row format>, 0]
[3, 0, 0, 0, 0, 3, 3, 0, 0, 3.6168746059562227, 1.0, 121.22, 0.05, <1x26405 sparse matrix of type '<class 'numpy.float64'>'
	with 8 stored elements in Compressed Sparse Row format>, 0]
[3, 0, 5, 0, 4, 9, 5, 1, 6, 4.08319717271962, 0.9230769230769231, 121.22, 19.48, <1x26405 sparse matrix of type '<class 'numpy.float64'>'
	with 8 stored elements in Compressed Sparse Row format>, 1]
[4, 1, 1, 0, 1, 7, 7, 0, 1, 4.085533250556852, 1.0, 36.62, 19.48, <1x26405 sparse matrix of type '<class 'numpy.float64'>'
	with 8 stored elements in Compressed Sparse Row format>, 0]
[4, 0, 1, 0, 1, 9, 6, 0, 4, 3.880328591225094, 0.9, 36.62, 19.48, <1x26405 sparse matrix of type '<class 'numpy.float64'>'
	with 8 stored elements in Compressed Sparse Row format>, 0]
[6, 0, 1, 0, 1, 9, 5, 1, 3, 3.885001550037612, 1.0, 121.22, 19.48, <1x26405 sparse matrix of type '<class 'numpy.float64'>'
	with 8 stored elements in Compressed Sparse Row format>, 0]
[5, 2, 0, 0, 1, 8, 8, 0, 1, 3.974044773033522, 1.0, 36.62, 0.05, <1x26405 sparse matrix of type '<class 'numpy.float64'>'
	with 8 stored elements in Compressed Sparse Row format>, 1]
[4, 2, 1, 1, 2, 11, 8, 0, 6, 4.079388819495272, 1.0, 121.22, 0.05, <1x26405 sparse matrix of type '<class 'numpy.float64'>'
	with 8 stored elements in Compressed Sparse Row format>, 0]
[5, 1, 1, 0, 1, 13, 10, 0, 4, 3.9985659031667637, 1.0, 121.22, 0.05, <1x26405 sparse matrix of type '<class 'numpy.float64'>'
	with 8 stored elements in Compressed Sparse Row format>, 1]
[5, 2, 1, 1, 2, 9, 8, 0, 4, 3.9601535255353646, 1.0, 36.62, 19.48, <1x26405 sparse matrix of type '<class 'numpy.float64'>'
	with 8 stored elements in Compressed Sparse Row format>, 1]
[2, 0, 1, 0, 0, 6, 5, 0, 1, 3.6213521749786697, 1.0, -47.99, 19.48, <1x26405 sparse matrix of type '<class 'numpy.float64'>'
	with 8 stored elements in Compressed Sparse Row format>, 1]
[2, 1, 1, 0, 1, 8, 6, 0, 3, 3.962202461829817, 1.0, 36.62, 0.05, <1x26405 sparse matrix of type '<class 'numpy.float64'>'
	with 8 stored elements in Compressed Sparse Row format>, 1]
[4, 1, 2, 0, 1, 7, 5, 1, 1, 3.9625224656096094, 1.0, 36.62, 19.48, <1x26405 sparse matrix of type '<class 'numpy.float64'>'
	with 8 stored elements in Compressed Sparse Row format>, 0]
[3, 3, 2, 0, 4, 11, 7, 1, 5, 4.0156364900768065, 1.0, 121.22, 0.05, <1x26405 sparse matrix of type '<class 'numpy.float64'>'
	with 8 stored elements in Compressed Sparse Row format>, 1]
[2, 0, 2, 2, 1, 6, 4, 0, 5, 3.8418551494748625, 0.8888888888888888, -132.59, 19.48, <1x26405 sparse matrix of type '<class 'numpy.float64'>'
	with 8 stored elements in Compressed Sparse Row format>, 0]
[4, 3, 2, 0, 1, 11, 6, 3, 3, 4.014895890259145, 1.0, 121.22, 19.48, <1x26405 sparse matrix of type '<class 'numpy.float64'>'
	with 8 stored elements in Compressed Sparse Row format>, 0]
[3, 0, 3, 0, 0, 7, 5, 0, 2, 3.979220752535257, 1.0, 36.62, 19.48, <1x26405 sparse matrix of type '<class 'numpy.float64'>'
	with 8 stored elements in Compressed Sparse Row format>, 1]
[6, 2, 2, 0, 1, 12, 8, 1, 3, 4.052421220342054, 1.0, 121.22, 19.48, <1x26405 sparse matrix of type '<class 'numpy.float64'>'
	with 8 stored elements in Compressed Sparse Row format>, 1]
[2, 0, 1, 1, 0, 5, 5, 0, 1, 4.054538856580817, 1.0, 121.22, 0.05, <1x26405 sparse matrix of type '<class 'numpy.float64'>'
	with 8 stored elements in Compressed Sparse Row format>, 0]
[2, 2, 4, 0, 2, 9, 8, 0, 3, 3.7557152763003265, 0.9090909090909091, 121.22, 0.05, <1x26405 sparse matrix of type '<class 'numpy.float64'>'
	with 8 stored elements in Compressed Sparse Row format>, 1]
[2, 1, 1, 0, 1, 5, 3, 1, 2, 3.9439427079182674, 1.0, 36.62, 19.48, <1x26405 sparse matrix of type '<class 'numpy.float64'>'
	with 8 stored elements in Compressed Sparse Row format>, 1]
[3, 0, 1, 0, 1, 5, 4, 0, 1, 4.044912733238946, 1.0, 36.62, 19.48, <1x26405 sparse matrix of type '<class 'numpy.float64'>'
	with 8 stored elements in Compressed Sparse Row format>, 1]
[0, 2, 3, 0, 4, 5, 4, 0, 5, 3.7474393604706715, 1.0, 121.22, 0.05, <1x26405 sparse matrix of type '<class 'numpy.float64'>'
	with 8 stored elements in Compressed Sparse Row format>, 0]
[4, 2, 0, 0, 1, 7, 6, 0, 2, 3.9125027913050405, 1.0, 121.22, 19.48, <1x26405 sparse matrix of type '<class 'numpy.float64'>'
	with 8 stored elements in Compressed Sparse Row format>, 1]
[4, 1, 0, 0, 2, 5, 5, 0, 2, 3.8756518529252184, 1.0, 121.22, 19.48, <1x26405 sparse matrix of type '<class 'numpy.float64'>'
	with 8 stored elements in Compressed Sparse Row format>, 0]
[2, 0, 2, 0, 1, 6, 6, 0, 1, 4.0440386101236205, 1.0, 121.22, 19.48, <1x26405 sparse matrix of type '<class 'numpy.float64'>'
	with 8 stored elements in Compressed Sparse Row format>, 1]
[5, 0, 2, 0, 0, 10, 3, 1, 3, 4.089193260749552, 1.0, 36.62, 19.48, <1x26405 sparse matrix of type '<class 'numpy.float64'>'
	with 8 stored elements in Compressed Sparse Row format>, 0]
[5, 1, 0, 0, 1, 7, 3, 1, 2, 3.85534623485273, 1.0, 121.22, 0.05, <1x26405 sparse matrix of type '<class 'numpy.float64'>'
	with 8 stored elements in Compressed Sparse Row format>, 0]
[4, 2, 2, 0, 1, 10, 8, 0, 3, 4.0539345398423245, 0.9090909090909091, 36.62, 0.05, <1x26405 sparse matrix of type '<class 'numpy.float64'>'
	with 8 stored elements in Compressed Sparse Row format>, 0]
[1, 1, 1, 1, 2, 5, 4, 0, 4, 3.868812461954989, 1.0, 121.22, 0.05, <1x26405 sparse matrix of type '<class 'numpy.float64'>'
	with 8 stored elements in Compressed Sparse Row format>, 0]
[2, 1, 2, 0, 0, 8, 5, 0, 3, 3.913666725029756, 1.0, 36.62, 19.48, <1x26405 sparse matrix of type '<class 'numpy.float64'>'
	with 8 stored elements in Compressed Sparse Row format>, 0]
[4, 3, 0, 0, 0, 8, 5, 2, 0, 4.158923452989912, 1.0, 121.22, 0.05, <1x26405 sparse matrix of type '<class 'numpy.float64'>'
	with 8 stored elements in Compressed Sparse Row format>, 1]
[4, 1, 2, 0, 2, 8, 3, 2, 4, 3.9328240049753, 1.0, 36.62, 0.05, <1x26405 sparse matrix of type '<class 'numpy.float64'>'
	with 8 stored elements in Compressed Sparse Row format>, 0]
[2, 0, 2, 1, 2, 7, 4, 1, 4, 3.97177247424283, 1.0, 121.22, 19.48, <1x26405 sparse matrix of type '<class 'numpy.float64'>'
	with 8 stored elements in Compressed Sparse Row format>, 0]
[4, 2, 1, 0, 1, 9, 6, 0, 3, 4.322711475873763, 1.0, 121.22, 19.48, <1x26405 sparse matrix of type '<class 'numpy.float64'>'
	with 8 stored elements in Compressed Sparse Row format>, 0]
[6, 0, 4, 0, 2, 14, 10, 1, 4, 4.411718772972638, 0.9375, 121.22, 19.48, <1x26405 sparse matrix of type '<class 'numpy.float64'>'
	with 8 stored elements in Compressed Sparse Row format>, 1]
[6, 1, 1, 0, 1, 8, 7, 1, 1, 3.8212378130435085, 1.0, 36.62, 19.48, <1x26405 sparse matrix of type '<class 'numpy.float64'>'
	with 8 stored elements in Compressed Sparse Row format>, 1]
[3, 1, 1, 0, 0, 7, 6, 0, 1, 3.911595601809687, 1.0, 121.22, 0.05, <1x26405 sparse matrix of type '<class 'numpy.float64'>'
	with 8 stored elements in Compressed Sparse Row format>, 1]
[4, 0, 1, 0, 2, 5, 4, 0, 2, 3.7107770844150667, 1.0, 36.62, 19.48, <1x26405 sparse matrix of type '<class 'numpy.float64'>'
	with 8 stored elements in Compressed Sparse Row format>, 1]
[5, 0, 4, 0, 1, 11, 6, 1, 4, 3.9261752770614478, 1.0, 121.22, 0.05, <1x26405 sparse matrix of type '<class 'numpy.float64'>'
	with 8 stored elements in Compressed Sparse Row format>, 1]
[6, 1, 1, 0, 0, 10, 9, 0, 1, 3.919937313192224, 1.0, 36.62, 19.48, <1x26405 sparse matrix of type '<class 'numpy.float64'>'
	with 8 stored elements in Compressed Sparse Row format>, 1]
[6, 0, 2, 0, 1, 10, 7, 1, 3, 4.11312690906606, 1.0, 36.62, 19.48, <1x26405 sparse matrix of type '<class 'numpy.float64'>'
	with 8 stored elements in Compressed Sparse Row format>, 0]
[5, 0, 1, 0, 1, 6, 5, 1, 1, 3.8482076870559094, 1.0, 121.22, 0.05, <1x26405 sparse matrix of type '<class 'numpy.float64'>'
	with 8 stored elements in Compressed Sparse Row format>, 0]
[3, 2, 2, 0, 1, 10, 4, 2, 4, 3.9208338478672253, 1.0, 121.22, 0.05, <1x26405 sparse matrix of type '<class 'numpy.float64'>'
	with 8 stored elements in Compressed Sparse Row format>, 0]
[4, 3, 2, 0, 2, 10, 9, 0, 3, 4.1326088942034005, 1.0, 121.22, 0.05, <1x26405 sparse matrix of type '<class 'numpy.float64'>'
	with 8 stored elements in Compressed Sparse Row format>, 1]
[3, 2, 2, 0, 1, 10, 9, 0, 2, 4.075510964389253, 1.0, 121.22, 0.05, <1x26405 sparse matrix of type '<class 'numpy.float64'>'
	with 8 stored elements in Compressed Sparse Row format>, 1]
[3, 1, 2, 0, 3, 7, 6, 0, 4, 4.108333878971269, 1.0, 36.62, 19.48, <1x26405 sparse matrix of type '<class 'numpy.float64'>'
	with 8 stored elements in Compressed Sparse Row format>, 1]
[5, 2, 1, 0, 1, 9, 4, 0, 3, 4.0761031744955325, 1.0, 121.22, 19.48, <1x26405 sparse matrix of type '<class 'numpy.float64'>'
	with 8 stored elements in Compressed Sparse Row format>, 0]
[2, 0, 2, 0, 1, 8, 5, 1, 3, 3.814325627871234, 1.0, 121.22, 0.05, <1x26405 sparse matrix of type '<class 'numpy.float64'>'
	with 8 stored elements in Compressed Sparse Row format>, 1]
[4, 2, 1, 2, 2, 10, 8, 0, 4, 4.1217319354228374, 0.9285714285714286, -132.59, 19.48, <1x26405 sparse matrix of type '<class 'numpy.float64'>'
	with 8 stored elements in Compressed Sparse Row format>, 0]
[5, 2, 2, 0, 1, 11, 6, 0, 2, 4.155154464001968, 1.0, 121.22, 19.48, <1x26405 sparse matrix of type '<class 'numpy.float64'>'
	with 8 stored elements in Compressed Sparse Row format>, 0]
[5, 2, 2, 0, 2, 9, 8, 1, 2, 4.160334003718085, 1.0, 36.62, 0.05, <1x26405 sparse matrix of type '<class 'numpy.float64'>'
	with 8 stored elements in Compressed Sparse Row format>, 1]
[4, 3, 2, 0, 1, 9, 7, 0, 1, 4.263015543338296, 1.0, 36.62, 19.48, <1x26405 sparse matrix of type '<class 'numpy.float64'>'
	with 8 stored elements in Compressed Sparse Row format>, 1]
[3, 2, 0, 0, 2, 8, 4, 0, 3, 3.620367509158238, 1.0, 121.22, 0.05, <1x26405 sparse matrix of type '<class 'numpy.float64'>'
	with 8 stored elements in Compressed Sparse Row format>, 1]
[1, 2, 2, 0, 2, 8, 8, 0, 2, 3.8748594565123184, 1.0, -132.59, 19.48, <1x26405 sparse matrix of type '<class 'numpy.float64'>'
	with 8 stored elements in Compressed Sparse Row format>, 1]
[3, 0, 4, 0, 1, 11, 7, 0, 4, 4.0269072437554305, 1.0, 121.22, 0.05, <1x26405 sparse matrix of type '<class 'numpy.float64'>'
	with 8 stored elements in Compressed Sparse Row format>, 0]
[3, 1, 2, 0, 2, 7, 4, 2, 3, 3.8770497632448375, 1.0, 121.22, 0.05, <1x26405 sparse matrix of type '<class 'numpy.float64'>'
	with 8 stored elements in Compressed Sparse Row format>, 0]
[4, 1, 4, 0, 2, 10, 7, 1, 3, 4.052861181960529, 1.0, 36.62, 19.48, <1x26405 sparse matrix of type '<class 'numpy.float64'>'
	with 8 stored elements in Compressed Sparse Row format>, 1]
[4, 1, 2, 0, 2, 7, 6, 0, 2, 3.9178382153957307, 1.0, 121.22, 0.05, <1x26405 sparse matrix of type '<class 'numpy.float64'>'
	with 8 stored elements in Compressed Sparse Row format>, 0]
[3, 3, 1, 0, 1, 9, 5, 1, 3, 4.031691935210383, 1.0, 121.22, 19.48, <1x26405 sparse matrix of type '<class 'numpy.float64'>'
	with 8 stored elements in Compressed Sparse Row format>, 0]
[3, 1, 1, 0, 2, 5, 4, 0, 2, 3.8713236815596863, 1.0, 36.62, 19.48, <1x26405 sparse matrix of type '<class 'numpy.float64'>'
	with 8 stored elements in Compressed Sparse Row format>, 1]
[7, 1, 1, 0, 1, 12, 7, 3, 3, 3.8898503862823346, 1.0, 121.22, 0.05, <1x26405 sparse matrix of type '<class 'numpy.float64'>'
	with 8 stored elements in Compressed Sparse Row format>, 0]
[3, 2, 1, 0, 1, 8, 6, 1, 2, 3.7688679518144665, 1.0, 121.22, 19.48, <1x26405 sparse matrix of type '<class 'numpy.float64'>'
	with 8 stored elements in Compressed Sparse Row format>, 0]
[4, 1, 0, 0, 1, 5, 5, 0, 1, 3.7000144837038995, 1.0, 36.62, 0.05, <1x26405 sparse matrix of type '<class 'numpy.float64'>'
	with 8 stored elements in Compressed Sparse Row format>, 1]
[7, 3, 1, 0, 1, 12, 10, 0, 1, 4.103661571960835, 1.0, 36.62, 19.48, <1x26405 sparse matrix of type '<class 'numpy.float64'>'
	with 8 stored elements in Compressed Sparse Row format>, 1]
[4, 0, 1, 0, 0, 7, 6, 0, 1, 3.8506038050918288, 1.0, -132.59, 19.48, <1x26405 sparse matrix of type '<class 'numpy.float64'>'
	with 8 stored elements in Compressed Sparse Row format>, 0]
[4, 5, 2, 0, 1, 13, 11, 0, 3, 4.22862708564778, 1.0, -47.99, 19.48, <1x26405 sparse matrix of type '<class 'numpy.float64'>'
	with 8 stored elements in Compressed Sparse Row format>, 1]
[4, 1, 2, 0, 2, 9, 5, 1, 4, 4.018348864628731, 1.0, 121.22, 0.05, <1x26405 sparse matrix of type '<class 'numpy.float64'>'
	with 8 stored elements in Compressed Sparse Row format>, 1]
[3, 3, 1, 0, 0, 8, 6, 1, 0, 4.266241566219386, 1.0, -132.59, 19.48, <1x26405 sparse matrix of type '<class 'numpy.float64'>'
	with 8 stored elements in Compressed Sparse Row format>, 1]
[4, 3, 2, 0, 1, 11, 5, 1, 2, 4.0335837209577585, 1.0, 121.22, 0.05, <1x26405 sparse matrix of type '<class 'numpy.float64'>'
	with 8 stored elements in Compressed Sparse Row format>, 0]
[6, 4, 1, 0, 1, 12, 6, 1, 2, 4.1219881341650195, 1.0, 36.62, 19.48, <1x26405 sparse matrix of type '<class 'numpy.float64'>'
	with 8 stored elements in Compressed Sparse Row format>, 0]
[6, 2, 1, 0, 3, 9, 7, 0, 3, 3.8592618293807974, 1.0, 36.62, 19.48, <1x26405 sparse matrix of type '<class 'numpy.float64'>'
	with 8 stored elements in Compressed Sparse Row format>, 0]
[3, 1, 3, 0, 3, 7, 8, 0, 2, 3.833512379206444, 1.0, 121.22, 19.48, <1x26405 sparse matrix of type '<class 'numpy.float64'>'
	with 8 stored elements in Compressed Sparse Row format>, 1]
[4, 1, 1, 0, 1, 8, 6, 1, 2, 4.027268072054204, 1.0, 121.22, 19.48, <1x26405 sparse matrix of type '<class 'numpy.float64'>'
	with 8 stored elements in Compressed Sparse Row format>, 1]
[6, 2, 1, 0, 1, 12, 9, 1, 3, 4.131765289422754, 1.0, 36.62, 19.48, <1x26405 sparse matrix of type '<class 'numpy.float64'>'
	with 8 stored elements in Compressed Sparse Row format>, 1]
[6, 1, 2, 0, 2, 11, 8, 0, 4, 3.9960610835810346, 1.0, -132.59, 19.48, <1x26405 sparse matrix of type '<class 'numpy.float64'>'
	with 8 stored elements in Compressed Sparse Row format>, 1]
[4, 0, 3, 0, 0, 9, 7, 0, 2, 4.018897683331318, 1.0, 121.22, 19.48, <1x26405 sparse matrix of type '<class 'numpy.float64'>'
	with 8 stored elements in Compressed Sparse Row format>, 1]
[4, 1, 2, 0, 1, 9, 7, 1, 2, 4.024378042912634, 1.0, -47.99, 19.48, <1x26405 sparse matrix of type '<class 'numpy.float64'>'
	with 8 stored elements in Compressed Sparse Row format>, 0]
[2, 1, 0, 0, 0, 3, 2, 0, 0, 3.5002836880550534, 1.0, -47.99, 19.48, <1x26405 sparse matrix of type '<class 'numpy.float64'>'
	with 8 stored elements in Compressed Sparse Row format>, 1]
[4, 1, 2, 0, 1, 7, 6, 1, 1, 3.765996938899438, 1.0, 121.22, 0.05, <1x26405 sparse matrix of type '<class 'numpy.float64'>'
	with 8 stored elements in Compressed Sparse Row format>, 1]
[4, 2, 1, 0, 1, 7, 6, 0, 1, 3.7644683048754466, 1.0, 36.62, 19.48, <1x26405 sparse matrix of type '<class 'numpy.float64'>'
	with 8 stored elements in Compressed Sparse Row format>, 1]
[6, 1, 2, 0, 2, 10, 4, 1, 3, 4.283587764995388, 1.0, -47.99, 19.48, <1x26405 sparse matrix of type '<class 'numpy.float64'>'
	with 8 stored elements in Compressed Sparse Row format>, 0]
[5, 2, 1, 1, 1, 10, 7, 0, 4, 4.102080281594395, 1.0, 121.22, 0.05, <1x26405 sparse matrix of type '<class 'numpy.float64'>'
	with 8 stored elements in Compressed Sparse Row format>, 0]
[5, 2, 2, 0, 2, 12, 9, 0, 4, 4.006213636429799, 1.0, 121.22, 0.05, <1x26405 sparse matrix of type '<class 'numpy.float64'>'
	with 8 stored elements in Compressed Sparse Row format>, 1]
[5, 0, 2, 0, 1, 11, 3, 1, 4, 4.219102223781045, 1.0, 121.22, 0.05, <1x26405 sparse matrix of type '<class 'numpy.float64'>'
	with 8 stored elements in Compressed Sparse Row format>, 0]
[2, 0, 2, 0, 1, 7, 4, 0, 4, 3.7859118936544336, 1.0, 36.62, 19.48, <1x26405 sparse matrix of type '<class 'numpy.float64'>'
	with 8 stored elements in Compressed Sparse Row format>, 0]
[4, 2, 1, 0, 1, 7, 7, 0, 1, 4.139575876413663, 1.0, 121.22, 0.05, <1x26405 sparse matrix of type '<class 'numpy.float64'>'
	with 8 stored elements in Compressed Sparse Row format>, 0]
[2, 1, 2, 0, 0, 9, 6, 0, 3, 3.9059791299831015, 1.0, 121.22, 0.05, <1x26405 sparse matrix of type '<class 'numpy.float64'>'
	with 8 stored elements in Compressed Sparse Row format>, 0]
[4, 1, 1, 0, 0, 10, 7, 0, 3, 4.070657668873296, 1.0, 121.22, 0.05, <1x26405 sparse matrix of type '<class 'numpy.float64'>'
	with 8 stored elements in Compressed Sparse Row format>, 1]
[4, 2, 1, 1, 1, 9, 8, 0, 3, 4.01762735355704, 1.0, 36.62, 19.48, <1x26405 sparse matrix of type '<class 'numpy.float64'>'
	with 8 stored elements in Compressed Sparse Row format>, 0]
[4, 0, 2, 0, 1, 6, 6, 0, 1, 4.004631211674777, 1.0, -47.99, 0.05, <1x26405 sparse matrix of type '<class 'numpy.float64'>'
	with 8 stored elements in Compressed Sparse Row format>, 1]
[1, 1, 2, 0, 1, 5, 1, 0, 3, 3.7897170014624826, 1.0, 36.62, 19.48, <1x26405 sparse matrix of type '<class 'numpy.float64'>'
	with 8 stored elements in Compressed Sparse Row format>, 0]
[6, 2, 3, 0, 2, 12, 10, 0, 3, 4.064369199778066, 1.0, 121.22, 0.05, <1x26405 sparse matrix of type '<class 'numpy.float64'>'
	with 8 stored elements in Compressed Sparse Row format>, 1]
[5, 0, 2, 0, 0, 9, 6, 0, 2, 4.20412973485082, 1.0, -47.99, 19.48, <1x26405 sparse matrix of type '<class 'numpy.float64'>'
	with 8 stored elements in Compressed Sparse Row format>, 1]
[3, 0, 1, 0, 2, 4, 3, 0, 1, 3.580462199727102, 1.0, 121.22, 19.48, <1x26405 sparse matrix of type '<class 'numpy.float64'>'
	with 8 stored elements in Compressed Sparse Row format>, 0]
[5, 0, 3, 0, 1, 12, 7, 0, 4, 4.041308392504412, 0.9230769230769231, 36.62, 0.05, <1x26405 sparse matrix of type '<class 'numpy.float64'>'
	with 8 stored elements in Compressed Sparse Row format>, 0]
[3, 1, 2, 0, 1, 7, 5, 0, 3, 3.813322076425337, 1.0, 121.22, 0.05, <1x26405 sparse matrix of type '<class 'numpy.float64'>'
	with 8 stored elements in Compressed Sparse Row format>, 1]
[4, 0, 2, 0, 1, 10, 7, 0, 4, 3.7662359063005155, 1.0, 36.62, 0.05, <1x26405 sparse matrix of type '<class 'numpy.float64'>'
	with 8 stored elements in Compressed Sparse Row format>, 1]
[4, 0, 2, 0, 2, 6, 5, 1, 2, 3.861301585961166, 1.0, 36.62, 19.48, <1x26405 sparse matrix of type '<class 'numpy.float64'>'
	with 8 stored elements in Compressed Sparse Row format>, 0]
[5, 2, 2, 0, 1, 9, 7, 1, 1, 3.913541212330395, 1.0, 121.22, 19.48, <1x26405 sparse matrix of type '<class 'numpy.float64'>'
	with 8 stored elements in Compressed Sparse Row format>, 0]
[6, 1, 0, 1, 2, 7, 5, 1, 3, 3.6570148112524397, 1.0, -47.99, 19.48, <1x26405 sparse matrix of type '<class 'numpy.float64'>'
	with 8 stored elements in Compressed Sparse Row format>, 0]
[3, 3, 1, 0, 0, 9, 5, 2, 2, 4.114409345247941, 1.0, 121.22, 0.05, <1x26405 sparse matrix of type '<class 'numpy.float64'>'
	with 8 stored elements in Compressed Sparse Row format>, 0]
[5, 0, 8, 0, 5, 15, 13, 1, 6, 4.0871431995907095, 0.95, 121.22, 0.05, <1x26405 sparse matrix of type '<class 'numpy.float64'>'
	with 8 stored elements in Compressed Sparse Row format>, 1]
[10, 2, 1, 0, 2, 14, 10, 1, 2, 3.9463331438646017, 0.875, 121.22, 19.48, <1x26405 sparse matrix of type '<class 'numpy.float64'>'
	with 8 stored elements in Compressed Sparse Row format>, 1]
[3, 2, 2, 0, 1, 7, 6, 1, 1, 4.043579385129692, 1.0, 121.22, 0.05, <1x26405 sparse matrix of type '<class 'numpy.float64'>'
	with 8 stored elements in Compressed Sparse Row format>, 1]
[6, 3, 3, 2, 0, 14, 7, 0, 6, 3.9782739304706785, 0.875, 121.22, 0.05, <1x26405 sparse matrix of type '<class 'numpy.float64'>'
	with 8 stored elements in Compressed Sparse Row format>, 0]
[3, 0, 1, 0, 1, 4, 4, 0, 1, 3.615265044851479, 1.0, 36.62, 0.05, <1x26405 sparse matrix of type '<class 'numpy.float64'>'
	with 8 stored elements in Compressed Sparse Row format>, 1]
[6, 1, 2, 0, 1, 11, 8, 1, 2, 4.141836162683926, 1.0, 36.62, 19.48, <1x26405 sparse matrix of type '<class 'numpy.float64'>'
	with 8 stored elements in Compressed Sparse Row format>, 1]
[6, 2, 3, 0, 0, 12, 11, 0, 1, 4.0285407410046155, 1.0, 36.62, 0.05, <1x26405 sparse matrix of type '<class 'numpy.float64'>'
	with 8 stored elements in Compressed Sparse Row format>, 1]
[4, 1, 2, 1, 2, 9, 8, 0, 3, 4.180699883351658, 1.0, 121.22, 0.05, <1x26405 sparse matrix of type '<class 'numpy.float64'>'
	with 8 stored elements in Compressed Sparse Row format>, 1]
[3, 2, 1, 0, 1, 8, 4, 1, 4, 3.912378122261547, 1.0, 121.22, 19.48, <1x26405 sparse matrix of type '<class 'numpy.float64'>'
	with 8 stored elements in Compressed Sparse Row format>, 0]
[3, 0, 3, 0, 3, 6, 6, 0, 3, 4.1699198865593745, 0.8888888888888888, -47.99, 19.48, <1x26405 sparse matrix of type '<class 'numpy.float64'>'
	with 8 stored elements in Compressed Sparse Row format>, 1]
[3, 1, 4, 0, 2, 9, 7, 0, 2, 3.9616954541099525, 1.0, 36.62, 19.48, <1x26405 sparse matrix of type '<class 'numpy.float64'>'
	with 8 stored elements in Compressed Sparse Row format>, 0]
[7, 0, 2, 0, 3, 11, 8, 0, 5, 4.004498633817467, 1.0, 121.22, 19.48, <1x26405 sparse matrix of type '<class 'numpy.float64'>'
	with 8 stored elements in Compressed Sparse Row format>, 1]
[3, 2, 3, 0, 1, 8, 8, 0, 1, 3.9455465599514237, 1.0, -132.59, 19.48, <1x26405 sparse matrix of type '<class 'numpy.float64'>'
	with 8 stored elements in Compressed Sparse Row format>, 1]
[3, 0, 5, 0, 1, 9, 6, 0, 4, 3.8119092598009927, 1.0, -132.59, 19.48, <1x26405 sparse matrix of type '<class 'numpy.float64'>'
	with 8 stored elements in Compressed Sparse Row format>, 1]
[2, 0, 2, 0, 1, 5, 4, 0, 2, 3.3241767435304808, 1.0, 36.62, 0.05, <1x26405 sparse matrix of type '<class 'numpy.float64'>'
	with 8 stored elements in Compressed Sparse Row format>, 0]
[5, 3, 2, 0, 1, 11, 8, 0, 3, 3.873792142224981, 1.0, 121.22, 19.48, <1x26405 sparse matrix of type '<class 'numpy.float64'>'
	with 8 stored elements in Compressed Sparse Row format>, 1]
[2, 2, 2, 0, 0, 6, 5, 1, 0, 4.016083393524198, 1.0, 121.22, 0.05, <1x26405 sparse matrix of type '<class 'numpy.float64'>'
	with 8 stored elements in Compressed Sparse Row format>, 1]
[2, 1, 1, 0, 2, 5, 4, 0, 2, 3.7467569849301023, 1.0, 36.62, 0.05, <1x26405 sparse matrix of type '<class 'numpy.float64'>'
	with 8 stored elements in Compressed Sparse Row format>, 1]
[4, 0, 1, 0, 0, 5, 4, 0, 0, 4.143541333622539, 1.0, 121.22, 19.48, <1x26405 sparse matrix of type '<class 'numpy.float64'>'
	with 8 stored elements in Compressed Sparse Row format>, 1]
[2, 4, 3, 0, 0, 11, 11, 0, 0, 4.052616770922737, 1.0, -47.99, 19.48, <1x26405 sparse matrix of type '<class 'numpy.float64'>'
	with 8 stored elements in Compressed Sparse Row format>, 1]
[2, 0, 1, 0, 1, 4, 2, 1, 2, 3.501397825434103, 1.0, 121.22, 0.05, <1x26405 sparse matrix of type '<class 'numpy.float64'>'
	with 8 stored elements in Compressed Sparse Row format>, 1]
[4, 0, 0, 1, 0, 5, 4, 0, 2, 3.668421518161903, 1.0, -132.59, 19.48, <1x26405 sparse matrix of type '<class 'numpy.float64'>'
	with 8 stored elements in Compressed Sparse Row format>, 0]
[6, 1, 1, 0, 2, 8, 6, 2, 1, 4.087499058978828, 1.0, -132.59, 19.48, <1x26405 sparse matrix of type '<class 'numpy.float64'>'
	with 8 stored elements in Compressed Sparse Row format>, 0]
[3, 2, 2, 0, 5, 9, 5, 0, 8, 3.893573092573629, 1.0, 121.22, 0.05, <1x26405 sparse matrix of type '<class 'numpy.float64'>'
	with 8 stored elements in Compressed Sparse Row format>, 0]
[3, 2, 3, 1, 6, 8, 8, 0, 7, 3.806887915904699, 0.9333333333333333, 36.62, 0.05, <1x26405 sparse matrix of type '<class 'numpy.float64'>'
	with 8 stored elements in Compressed Sparse Row format>, 0]
[4, 3, 1, 1, 1, 11, 6, 0, 6, 3.9216629383505612, 1.0, 121.22, 19.48, <1x26405 sparse matrix of type '<class 'numpy.float64'>'
	with 8 stored elements in Compressed Sparse Row format>, 0]
[4, 1, 0, 0, 2, 7, 5, 1, 3, 4.068758439731455, 1.0, -47.99, 0.05, <1x26405 sparse matrix of type '<class 'numpy.float64'>'
	with 8 stored elements in Compressed Sparse Row format>, 0]
[5, 2, 3, 0, 1, 14, 12, 0, 3, 4.046023597977541, 1.0, 121.22, 19.48, <1x26405 sparse matrix of type '<class 'numpy.float64'>'
	with 8 stored elements in Compressed Sparse Row format>, 1]
[4, 2, 2, 0, 1, 11, 8, 0, 4, 3.918840310316467, 1.0, 36.62, 19.48, <1x26405 sparse matrix of type '<class 'numpy.float64'>'
	with 8 stored elements in Compressed Sparse Row format>, 1]
[5, 3, 2, 1, 1, 13, 10, 0, 4, 4.044706809829127, 1.0, 36.62, 19.48, <1x26405 sparse matrix of type '<class 'numpy.float64'>'
	with 8 stored elements in Compressed Sparse Row format>, 1]
[4, 2, 1, 0, 1, 11, 8, 0, 4, 4.044928216179582, 1.0, -47.99, 19.48, <1x26405 sparse matrix of type '<class 'numpy.float64'>'
	with 8 stored elements in Compressed Sparse Row format>, 1]
[5, 1, 3, 0, 2, 12, 9, 0, 3, 4.341617662235689, 1.0, 121.22, 0.05, <1x26405 sparse matrix of type '<class 'numpy.float64'>'
	with 8 stored elements in Compressed Sparse Row format>, 1]
[6, 1, 3, 0, 1, 11, 10, 0, 2, 4.072607319398032, 1.0, -47.99, 19.48, <1x26405 sparse matrix of type '<class 'numpy.float64'>'
	with 8 stored elements in Compressed Sparse Row format>, 1]
[2, 1, 1, 0, 1, 7, 6, 0, 2, 4.120159261437719, 1.0, 121.22, 0.05, <1x26405 sparse matrix of type '<class 'numpy.float64'>'
	with 8 stored elements in Compressed Sparse Row format>, 1]
[2, 1, 3, 0, 1, 9, 5, 0, 3, 4.210563536373626, 1.0, -47.99, 19.48, <1x26405 sparse matrix of type '<class 'numpy.float64'>'
	with 8 stored elements in Compressed Sparse Row format>, 1]
[9, 2, 0, 0, 4, 11, 10, 0, 4, 4.047342384177141, 0.9333333333333333, 36.62, 19.48, <1x26405 sparse matrix of type '<class 'numpy.float64'>'
	with 8 stored elements in Compressed Sparse Row format>, 1]
[4, 0, 1, 0, 1, 5, 5, 0, 1, 3.9187395745050053, 1.0, 121.22, 19.48, <1x26405 sparse matrix of type '<class 'numpy.float64'>'
	with 8 stored elements in Compressed Sparse Row format>, 1]
[2, 0, 2, 0, 2, 7, 6, 0, 3, 4.069630874107453, 0.8888888888888888, 121.22, 0.05, <1x26405 sparse matrix of type '<class 'numpy.float64'>'
	with 8 stored elements in Compressed Sparse Row format>, 0]
[4, 2, 1, 0, 2, 7, 5, 2, 2, 3.883782853469269, 1.0, -47.99, 19.48, <1x26405 sparse matrix of type '<class 'numpy.float64'>'
	with 8 stored elements in Compressed Sparse Row format>, 0]
[5, 2, 5, 0, 2, 15, 12, 0, 5, 3.9789004341478917, 1.0, 121.22, 0.05, <1x26405 sparse matrix of type '<class 'numpy.float64'>'
	with 8 stored elements in Compressed Sparse Row format>, 1]
[1, 1, 3, 0, 0, 9, 2, 0, 4, 4.1818293780512565, 1.0, 36.62, 19.48, <1x26405 sparse matrix of type '<class 'numpy.float64'>'
	with 8 stored elements in Compressed Sparse Row format>, 0]
[3, 2, 1, 1, 0, 8, 5, 0, 1, 3.8162157470660176, 1.0, 36.62, 19.48, <1x26405 sparse matrix of type '<class 'numpy.float64'>'
	with 8 stored elements in Compressed Sparse Row format>, 0]
[3, 2, 2, 0, 1, 8, 6, 0, 2, 3.951713558574187, 1.0, 36.62, 19.48, <1x26405 sparse matrix of type '<class 'numpy.float64'>'
	with 8 stored elements in Compressed Sparse Row format>, 0]
[5, 2, 1, 0, 0, 9, 9, 0, 0, 3.976610918458385, 1.0, 121.22, 0.05, <1x26405 sparse matrix of type '<class 'numpy.float64'>'
	with 8 stored elements in Compressed Sparse Row format>, 1]
[5, 2, 1, 0, 0, 10, 6, 1, 2, 4.084300502181546, 1.0, -47.99, 19.48, <1x26405 sparse matrix of type '<class 'numpy.float64'>'
	with 8 stored elements in Compressed Sparse Row format>, 0]
[2, 1, 3, 1, 1, 10, 6, 0, 4, 3.8406747071147125, 1.0, 121.22, 0.05, <1x26405 sparse matrix of type '<class 'numpy.float64'>'
	with 8 stored elements in Compressed Sparse Row format>, 0]
[4, 0, 2, 0, 2, 8, 4, 1, 3, 4.322607350772819, 1.0, 121.22, 0.05, <1x26405 sparse matrix of type '<class 'numpy.float64'>'
	with 8 stored elements in Compressed Sparse Row format>, 1]
[3, 1, 1, 0, 0, 8, 5, 0, 2, 3.9004431535934487, 1.0, -47.99, 19.48, <1x26405 sparse matrix of type '<class 'numpy.float64'>'
	with 8 stored elements in Compressed Sparse Row format>, 0]
[0, 0, 1, 0, 0, 2, 2, 0, 0, 3.640223928941852, 1.0, 36.62, 0.05, <1x26405 sparse matrix of type '<class 'numpy.float64'>'
	with 8 stored elements in Compressed Sparse Row format>, 0]
[4, 0, 3, 0, 2, 14, 5, 1, 9, 4.030563394633235, 0.9375, 121.22, 0.05, <1x26405 sparse matrix of type '<class 'numpy.float64'>'
	with 8 stored elements in Compressed Sparse Row format>, 1]
[3, 1, 2, 0, 1, 10, 5, 0, 5, 4.042679968775807, 1.0, 121.22, 19.48, <1x26405 sparse matrix of type '<class 'numpy.float64'>'
	with 8 stored elements in Compressed Sparse Row format>, 0]
[4, 0, 1, 0, 0, 7, 2, 2, 1, 3.89430422026193, 1.0, 36.62, 19.48, <1x26405 sparse matrix of type '<class 'numpy.float64'>'
	with 8 stored elements in Compressed Sparse Row format>, 0]
[4, 3, 2, 0, 2, 8, 8, 0, 2, 3.9489052156325113, 1.0, 121.22, 0.05, <1x26405 sparse matrix of type '<class 'numpy.float64'>'
	with 8 stored elements in Compressed Sparse Row format>, 1]
[4, 1, 2, 1, 2, 9, 7, 3, 2, 4.0056480395246945, 1.0, -47.99, 19.48, <1x26405 sparse matrix of type '<class 'numpy.float64'>'
	with 8 stored elements in Compressed Sparse Row format>, 0]
[5, 1, 2, 0, 1, 10, 8, 0, 2, 3.957559022008378, 1.0, -47.99, 19.48, <1x26405 sparse matrix of type '<class 'numpy.float64'>'
	with 8 stored elements in Compressed Sparse Row format>, 1]
[3, 0, 2, 0, 0, 8, 3, 0, 4, 3.9629000008000372, 1.0, 36.62, 19.48, <1x26405 sparse matrix of type '<class 'numpy.float64'>'
	with 8 stored elements in Compressed Sparse Row format>, 0]
[2, 2, 0, 1, 0, 4, 2, 0, 1, 4.302340969796454, 1.0, -217.19, 0.05, <1x26405 sparse matrix of type '<class 'numpy.float64'>'
	with 8 stored elements in Compressed Sparse Row format>, 1]
[5, 1, 2, 0, 1, 9, 3, 0, 3, 3.9467123801297768, 1.0, 121.22, 0.05, <1x26405 sparse matrix of type '<class 'numpy.float64'>'
	with 8 stored elements in Compressed Sparse Row format>, 0]
[6, 0, 2, 0, 1, 10, 9, 0, 1, 4.150067652590092, 1.0, 121.22, 19.48, <1x26405 sparse matrix of type '<class 'numpy.float64'>'
	with 8 stored elements in Compressed Sparse Row format>, 0]
[5, 2, 0, 0, 1, 11, 3, 3, 2, 4.349832440564364, 1.0, -47.99, 19.48, <1x26405 sparse matrix of type '<class 'numpy.float64'>'
	with 8 stored elements in Compressed Sparse Row format>, 0]
[5, 0, 1, 1, 3, 8, 6, 1, 3, 3.80712202592482, 0.9166666666666666, 121.22, 19.48, <1x26405 sparse matrix of type '<class 'numpy.float64'>'
	with 8 stored elements in Compressed Sparse Row format>, 0]
[6, 0, 0, 1, 2, 10, 7, 0, 4, 3.907562524287628, 1.0, 36.62, 19.48, <1x26405 sparse matrix of type '<class 'numpy.float64'>'
	with 8 stored elements in Compressed Sparse Row format>, 1]
[4, 0, 0, 1, 2, 4, 4, 0, 3, 3.990082827788735, 1.0, -47.99, 0.05, <1x26405 sparse matrix of type '<class 'numpy.float64'>'
	with 8 stored elements in Compressed Sparse Row format>, 0]
[3, 1, 1, 1, 1, 6, 6, 0, 2, 3.7777739574676703, 1.0, 121.22, 0.05, <1x26405 sparse matrix of type '<class 'numpy.float64'>'
	with 8 stored elements in Compressed Sparse Row format>, 0]
[3, 1, 1, 0, 0, 6, 4, 0, 1, 3.930225265800904, 1.0, -132.59, 19.48, <1x26405 sparse matrix of type '<class 'numpy.float64'>'
	with 8 stored elements in Compressed Sparse Row format>, 1]
[3, 2, 2, 0, 2, 11, 9, 0, 3, 4.186241267531178, 0.9230769230769231, -301.79, 19.48, <1x26405 sparse matrix of type '<class 'numpy.float64'>'
	with 8 stored elements in Compressed Sparse Row format>, 1]
[5, 1, 1, 0, 2, 9, 6, 1, 4, 4.079376308455903, 1.0, -47.99, 19.48, <1x26405 sparse matrix of type '<class 'numpy.float64'>'
	with 8 stored elements in Compressed Sparse Row format>, 1]
[4, 2, 1, 0, 1, 10, 6, 1, 4, 3.887837006434598, 0.9090909090909091, 121.22, 0.05, <1x26405 sparse matrix of type '<class 'numpy.float64'>'
	with 8 stored elements in Compressed Sparse Row format>, 0]
[2, 0, 3, 0, 1, 7, 3, 0, 2, 4.054092078567128, 1.0, 121.22, 19.48, <1x26405 sparse matrix of type '<class 'numpy.float64'>'
	with 8 stored elements in Compressed Sparse Row format>, 1]
[7, 3, 0, 0, 2, 10, 9, 1, 2, 3.962522196902868, 1.0, 121.22, 19.48, <1x26405 sparse matrix of type '<class 'numpy.float64'>'
	with 8 stored elements in Compressed Sparse Row format>, 0]
[7, 0, 4, 0, 2, 18, 9, 1, 8, 4.136506125885709, 1.0, -47.99, 19.48, <1x26405 sparse matrix of type '<class 'numpy.float64'>'
	with 8 stored elements in Compressed Sparse Row format>, 1]
[3, 0, 1, 0, 0, 5, 3, 0, 1, 3.6820058147602137, 1.0, 121.22, 0.05, <1x26405 sparse matrix of type '<class 'numpy.float64'>'
	with 8 stored elements in Compressed Sparse Row format>, 1]
[5, 1, 1, 0, 1, 9, 6, 0, 2, 4.168456021191591, 1.0, -47.99, 19.48, <1x26405 sparse matrix of type '<class 'numpy.float64'>'
	with 8 stored elements in Compressed Sparse Row format>, 1]
[2, 1, 1, 0, 1, 4, 4, 0, 1, 3.8732358263763285, 1.0, 36.62, 19.48, <1x26405 sparse matrix of type '<class 'numpy.float64'>'
	with 8 stored elements in Compressed Sparse Row format>, 1]
[3, 1, 1, 0, 1, 6, 5, 0, 2, 4.089889603490044, 1.0, 36.62, 19.48, <1x26405 sparse matrix of type '<class 'numpy.float64'>'
	with 8 stored elements in Compressed Sparse Row format>, 1]
[5, 1, 2, 0, 1, 9, 6, 1, 2, 3.867072236634316, 1.0, 121.22, 19.48, <1x26405 sparse matrix of type '<class 'numpy.float64'>'
	with 8 stored elements in Compressed Sparse Row format>, 0]
[3, 2, 2, 1, 1, 10, 4, 0, 6, 4.123324339332079, 1.0, 121.22, 0.05, <1x26405 sparse matrix of type '<class 'numpy.float64'>'
	with 8 stored elements in Compressed Sparse Row format>, 0]
[8, 4, 1, 1, 3, 16, 9, 1, 7, 4.096223079598264, 1.0, 36.62, 19.48, <1x26405 sparse matrix of type '<class 'numpy.float64'>'
	with 8 stored elements in Compressed Sparse Row format>, 1]
[6, 3, 2, 0, 1, 15, 7, 0, 3, 4.2426231340483165, 0.9375, 121.22, 19.48, <1x26405 sparse matrix of type '<class 'numpy.float64'>'
	with 8 stored elements in Compressed Sparse Row format>, 1]
[3, 1, 3, 1, 4, 10, 9, 0, 6, 4.093773961009352, 1.0, 121.22, 19.48, <1x26405 sparse matrix of type '<class 'numpy.float64'>'
	with 8 stored elements in Compressed Sparse Row format>, 1]
[6, 1, 2, 0, 2, 10, 6, 1, 3, 4.143465992626923, 1.0, 121.22, 19.48, <1x26405 sparse matrix of type '<class 'numpy.float64'>'
	with 8 stored elements in Compressed Sparse Row format>, 0]
[4, 0, 1, 0, 0, 5, 5, 0, 0, 3.7049868557726664, 1.0, 36.62, 19.48, <1x26405 sparse matrix of type '<class 'numpy.float64'>'
	with 8 stored elements in Compressed Sparse Row format>, 1]
[6, 3, 0, 0, 3, 9, 8, 1, 3, 4.113398953233983, 0.8333333333333334, -47.99, 19.48, <1x26405 sparse matrix of type '<class 'numpy.float64'>'
	with 8 stored elements in Compressed Sparse Row format>, 1]
[2, 0, 1, 0, 1, 5, 3, 0, 3, 3.783014003266002, 1.0, -47.99, 19.48, <1x26405 sparse matrix of type '<class 'numpy.float64'>'
	with 8 stored elements in Compressed Sparse Row format>, 1]
[3, 1, 0, 1, 1, 7, 6, 0, 3, 3.8736489479369034, 1.0, 121.22, 0.05, <1x26405 sparse matrix of type '<class 'numpy.float64'>'
	with 8 stored elements in Compressed Sparse Row format>, 0]
[4, 2, 1, 0, 2, 10, 8, 0, 4, 4.168609276657263, 1.0, 36.62, 19.48, <1x26405 sparse matrix of type '<class 'numpy.float64'>'
	with 8 stored elements in Compressed Sparse Row format>, 1]
[3, 1, 3, 0, 3, 8, 6, 0, 5, 3.78275849362356, 1.0, 121.22, 0.05, <1x26405 sparse matrix of type '<class 'numpy.float64'>'
	with 8 stored elements in Compressed Sparse Row format>, 1]
[5, 3, 3, 0, 0, 12, 8, 0, 2, 4.0031104416155685, 1.0, 121.22, 0.05, <1x26405 sparse matrix of type '<class 'numpy.float64'>'
	with 8 stored elements in Compressed Sparse Row format>, 0]
[3, 2, 1, 0, 3, 10, 7, 0, 5, 4.050031408250569, 1.0, 121.22, 0.05, <1x26405 sparse matrix of type '<class 'numpy.float64'>'
	with 8 stored elements in Compressed Sparse Row format>, 0]
[8, 1, 1, 0, 2, 9, 7, 1, 1, 4.0510691291614105, 1.0, 36.62, 19.48, <1x26405 sparse matrix of type '<class 'numpy.float64'>'
	with 8 stored elements in Compressed Sparse Row format>, 0]
[3, 1, 2, 0, 0, 7, 6, 0, 1, 4.050766174277569, 1.0, 121.22, 0.05, <1x26405 sparse matrix of type '<class 'numpy.float64'>'
	with 8 stored elements in Compressed Sparse Row format>, 1]
[2, 1, 2, 0, 2, 6, 5, 0, 3, 3.5132850421150663, 1.0, -47.99, 19.48, <1x26405 sparse matrix of type '<class 'numpy.float64'>'
	with 8 stored elements in Compressed Sparse Row format>, 1]
[2, 0, 2, 0, 1, 13, 7, 0, 7, 3.7715485411537983, 0.9285714285714286, 121.22, 0.05, <1x26405 sparse matrix of type '<class 'numpy.float64'>'
	with 8 stored elements in Compressed Sparse Row format>, 1]
[4, 4, 4, 0, 1, 14, 11, 1, 3, 4.091808944491853, 1.0, 36.62, 0.05, <1x26405 sparse matrix of type '<class 'numpy.float64'>'
	with 8 stored elements in Compressed Sparse Row format>, 1]
[6, 2, 1, 0, 0, 10, 6, 2, 1, 4.038294611206031, 1.0, -47.99, 19.48, <1x26405 sparse matrix of type '<class 'numpy.float64'>'
	with 8 stored elements in Compressed Sparse Row format>, 1]
[3, 3, 0, 0, 0, 7, 4, 2, 1, 3.8434039763708974, 1.0, 121.22, 19.48, <1x26405 sparse matrix of type '<class 'numpy.float64'>'
	with 8 stored elements in Compressed Sparse Row format>, 1]
[3, 0, 0, 0, 0, 5, 3, 0, 2, 3.7889097655573916, 1.0, 36.62, 19.48, <1x26405 sparse matrix of type '<class 'numpy.float64'>'
	with 8 stored elements in Compressed Sparse Row format>, 0]
[6, 1, 4, 1, 6, 16, 7, 0, 12, 3.977364519323674, 0.9130434782608695, 121.22, 19.48, <1x26405 sparse matrix of type '<class 'numpy.float64'>'
	with 8 stored elements in Compressed Sparse Row format>, 1]
[2, 2, 1, 0, 1, 6, 3, 1, 2, 3.7586949695628413, 1.0, 121.22, 0.05, <1x26405 sparse matrix of type '<class 'numpy.float64'>'
	with 8 stored elements in Compressed Sparse Row format>, 1]
[1, 2, 2, 2, 2, 5, 3, 0, 5, 4.03548527421926, 0.8888888888888888, -47.99, 19.48, <1x26405 sparse matrix of type '<class 'numpy.float64'>'
	with 8 stored elements in Compressed Sparse Row format>, 0]
[6, 2, 3, 0, 2, 14, 12, 0, 4, 4.1113334387114335, 1.0, 121.22, 0.05, <1x26405 sparse matrix of type '<class 'numpy.float64'>'
	with 8 stored elements in Compressed Sparse Row format>, 1]
[6, 1, 1, 0, 1, 12, 7, 0, 4, 3.97605234678256, 0.9230769230769231, 121.22, 0.05, <1x26405 sparse matrix of type '<class 'numpy.float64'>'
	with 8 stored elements in Compressed Sparse Row format>, 0]
[6, 0, 1, 0, 1, 11, 6, 0, 3, 4.390320695445272, 1.0, 121.22, 0.05, <1x26405 sparse matrix of type '<class 'numpy.float64'>'
	with 8 stored elements in Compressed Sparse Row format>, 0]
[3, 1, 2, 0, 0, 8, 4, 0, 2, 3.922287209049607, 1.0, 36.62, 19.48, <1x26405 sparse matrix of type '<class 'numpy.float64'>'
	with 8 stored elements in Compressed Sparse Row format>, 0]
[3, 2, 1, 0, 1, 8, 5, 2, 2, 3.9966089367690834, 1.0, -47.99, 0.05, <1x26405 sparse matrix of type '<class 'numpy.float64'>'
	with 8 stored elements in Compressed Sparse Row format>, 0]
[2, 1, 1, 1, 1, 5, 5, 0, 2, 3.619559270611367, 1.0, 36.62, 19.48, <1x26405 sparse matrix of type '<class 'numpy.float64'>'
	with 8 stored elements in Compressed Sparse Row format>, 0]
[4, 0, 1, 0, 1, 5, 3, 0, 1, 3.8511494238930326, 1.0, -47.99, 0.05, <1x26405 sparse matrix of type '<class 'numpy.float64'>'
	with 8 stored elements in Compressed Sparse Row format>, 1]
[3, 1, 3, 0, 1, 9, 5, 0, 4, 3.8964374449551777, 1.0, 36.62, 0.05, <1x26405 sparse matrix of type '<class 'numpy.float64'>'
	with 8 stored elements in Compressed Sparse Row format>, 1]
[2, 2, 3, 0, 0, 9, 6, 0, 0, 3.9424387261281426, 1.0, 121.22, 19.48, <1x26405 sparse matrix of type '<class 'numpy.float64'>'
	with 8 stored elements in Compressed Sparse Row format>, 1]
[2, 2, 0, 0, 1, 5, 4, 0, 2, 3.5519705475093923, 1.0, 36.62, 19.48, <1x26405 sparse matrix of type '<class 'numpy.float64'>'
	with 8 stored elements in Compressed Sparse Row format>, 0]
[2, 1, 1, 0, 0, 4, 3, 1, 0, 4.012451091458582, 1.0, -47.99, 19.48, <1x26405 sparse matrix of type '<class 'numpy.float64'>'
	with 8 stored elements in Compressed Sparse Row format>, 0]
[2, 0, 1, 0, 1, 4, 2, 0, 2, 3.824533406881911, 1.0, -47.99, 19.48, <1x26405 sparse matrix of type '<class 'numpy.float64'>'
	with 8 stored elements in Compressed Sparse Row format>, 0]
[6, 3, 3, 0, 4, 13, 12, 1, 4, 4.0855715297108315, 0.9411764705882353, -47.99, 19.48, <1x26405 sparse matrix of type '<class 'numpy.float64'>'
	with 8 stored elements in Compressed Sparse Row format>, 1]
[5, 0, 0, 0, 2, 8, 5, 1, 3, 3.980502019846924, 1.0, 36.62, 0.05, <1x26405 sparse matrix of type '<class 'numpy.float64'>'
	with 8 stored elements in Compressed Sparse Row format>, 0]
[2, 1, 1, 0, 0, 5, 4, 0, 1, 3.641453029655882, 1.0, 36.62, 19.48, <1x26405 sparse matrix of type '<class 'numpy.float64'>'
	with 8 stored elements in Compressed Sparse Row format>, 1]
[5, 1, 4, 0, 4, 8, 5, 2, 4, 4.1305358128432115, 1.0, 121.22, 0.05, <1x26405 sparse matrix of type '<class 'numpy.float64'>'
	with 8 stored elements in Compressed Sparse Row format>, 0]
[3, 0, 3, 0, 1, 7, 6, 0, 2, 3.863144940981576, 1.0, 36.62, 0.05, <1x26405 sparse matrix of type '<class 'numpy.float64'>'
	with 8 stored elements in Compressed Sparse Row format>, 1]
[3, 1, 0, 0, 1, 4, 4, 0, 1, 3.771437029461127, 1.0, 121.22, 0.05, <1x26405 sparse matrix of type '<class 'numpy.float64'>'
	with 8 stored elements in Compressed Sparse Row format>, 0]
[5, 3, 2, 0, 2, 11, 9, 1, 3, 3.9650811550012666, 1.0, 121.22, 0.05, <1x26405 sparse matrix of type '<class 'numpy.float64'>'
	with 8 stored elements in Compressed Sparse Row format>, 0]
[4, 2, 1, 0, 1, 8, 4, 0, 3, 4.067200851359602, 1.0, 36.62, 19.48, <1x26405 sparse matrix of type '<class 'numpy.float64'>'
	with 8 stored elements in Compressed Sparse Row format>, 0]
[8, 3, 3, 0, 2, 17, 10, 1, 6, 4.224792555351949, 0.9473684210526315, 36.62, 19.48, <1x26405 sparse matrix of type '<class 'numpy.float64'>'
	with 8 stored elements in Compressed Sparse Row format>, 1]
[3, 1, 0, 1, 0, 6, 5, 0, 2, 3.9307917564631856, 1.0, 36.62, 19.48, <1x26405 sparse matrix of type '<class 'numpy.float64'>'
	with 8 stored elements in Compressed Sparse Row format>, 0]
[4, 1, 6, 0, 2, 15, 7, 0, 9, 4.0392080881473165, 0.9411764705882353, 121.22, 0.05, <1x26405 sparse matrix of type '<class 'numpy.float64'>'
	with 8 stored elements in Compressed Sparse Row format>, 0]
[4, 0, 3, 0, 4, 8, 6, 0, 6, 3.6970245356257725, 1.0, 36.62, 0.05, <1x26405 sparse matrix of type '<class 'numpy.float64'>'
	with 8 stored elements in Compressed Sparse Row format>, 1]
[7, 2, 2, 0, 2, 11, 11, 0, 2, 4.127868401676072, 1.0, 36.62, 19.48, <1x26405 sparse matrix of type '<class 'numpy.float64'>'
	with 8 stored elements in Compressed Sparse Row format>, 1]
[1, 3, 1, 1, 3, 7, 7, 0, 4, 3.9748461419557266, 1.0, 121.22, 19.48, <1x26405 sparse matrix of type '<class 'numpy.float64'>'
	with 8 stored elements in Compressed Sparse Row format>, 0]
[3, 2, 0, 0, 0, 6, 4, 0, 1, 3.998728057370606, 1.0, 36.62, 0.05, <1x26405 sparse matrix of type '<class 'numpy.float64'>'
	with 8 stored elements in Compressed Sparse Row format>, 1]
[1, 0, 2, 0, 5, 7, 3, 0, 8, 3.807236330241729, 0.9166666666666666, 121.22, 0.05, <1x26405 sparse matrix of type '<class 'numpy.float64'>'
	with 8 stored elements in Compressed Sparse Row format>, 0]
[3, 1, 1, 0, 1, 5, 3, 1, 1, 3.8179954344028952, 1.0, -47.99, 19.48, <1x26405 sparse matrix of type '<class 'numpy.float64'>'
	with 8 stored elements in Compressed Sparse Row format>, 0]
[9, 3, 3, 0, 5, 16, 11, 2, 6, 4.134925778812469, 0.9523809523809523, 36.62, 0.05, <1x26405 sparse matrix of type '<class 'numpy.float64'>'
	with 8 stored elements in Compressed Sparse Row format>, 1]
[6, 1, 3, 0, 4, 12, 9, 0, 5, 3.9114232305187198, 0.9375, 121.22, 19.48, <1x26405 sparse matrix of type '<class 'numpy.float64'>'
	with 8 stored elements in Compressed Sparse Row format>, 1]
[6, 2, 1, 1, 3, 9, 7, 0, 4, 4.016158151583715, 1.0, -47.99, 19.48, <1x26405 sparse matrix of type '<class 'numpy.float64'>'
	with 8 stored elements in Compressed Sparse Row format>, 0]
[2, 3, 1, 0, 1, 8, 3, 1, 3, 4.010383096578171, 1.0, 36.62, 19.48, <1x26405 sparse matrix of type '<class 'numpy.float64'>'
	with 8 stored elements in Compressed Sparse Row format>, 0]
[2, 0, 3, 0, 0, 5, 5, 0, 0, 3.7764925545842507, 1.0, 36.62, 19.48, <1x26405 sparse matrix of type '<class 'numpy.float64'>'
	with 8 stored elements in Compressed Sparse Row format>, 1]
[3, 1, 1, 0, 1, 9, 5, 0, 4, 4.005372202954971, 1.0, 121.22, 0.05, <1x26405 sparse matrix of type '<class 'numpy.float64'>'
	with 8 stored elements in Compressed Sparse Row format>, 0]
[6, 1, 2, 0, 1, 11, 8, 0, 2, 4.0113860882701955, 1.0, 36.62, 19.48, <1x26405 sparse matrix of type '<class 'numpy.float64'>'
	with 8 stored elements in Compressed Sparse Row format>, 0]
[3, 0, 2, 0, 1, 5, 5, 0, 1, 3.726198100024615, 1.0, 121.22, 0.05, <1x26405 sparse matrix of type '<class 'numpy.float64'>'
	with 8 stored elements in Compressed Sparse Row format>, 1]
[3, 1, 1, 0, 0, 7, 4, 0, 1, 4.086271361783632, 1.0, 36.62, 19.48, <1x26405 sparse matrix of type '<class 'numpy.float64'>'
	with 8 stored elements in Compressed Sparse Row format>, 1]
[6, 1, 3, 1, 1, 11, 9, 1, 3, 4.112227786821297, 1.0, 36.62, 19.48, <1x26405 sparse matrix of type '<class 'numpy.float64'>'
	with 8 stored elements in Compressed Sparse Row format>, 0]
[6, 2, 2, 0, 2, 11, 9, 0, 3, 4.210601436020863, 0.9230769230769231, -47.99, 19.48, <1x26405 sparse matrix of type '<class 'numpy.float64'>'
	with 8 stored elements in Compressed Sparse Row format>, 1]
[4, 1, 2, 0, 0, 11, 7, 1, 3, 4.103574191367525, 1.0, 121.22, 0.05, <1x26405 sparse matrix of type '<class 'numpy.float64'>'
	with 8 stored elements in Compressed Sparse Row format>, 0]
[2, 2, 0, 0, 0, 5, 3, 0, 1, 3.9217212310452396, 1.0, 36.62, 19.48, <1x26405 sparse matrix of type '<class 'numpy.float64'>'
	with 8 stored elements in Compressed Sparse Row format>, 0]
[5, 1, 3, 1, 3, 9, 6, 0, 6, 3.902236365881768, 1.0, -47.99, 19.48, <1x26405 sparse matrix of type '<class 'numpy.float64'>'
	with 8 stored elements in Compressed Sparse Row format>, 0]
[5, 0, 1, 0, 0, 8, 4, 0, 1, 3.9644113609447116, 1.0, -47.99, 19.48, <1x26405 sparse matrix of type '<class 'numpy.float64'>'
	with 8 stored elements in Compressed Sparse Row format>, 0]
[1, 1, 0, 0, 0, 5, 4, 0, 1, 3.8732214356139147, 1.0, 121.22, 0.05, <1x26405 sparse matrix of type '<class 'numpy.float64'>'
	with 8 stored elements in Compressed Sparse Row format>, 1]
[4, 1, 1, 0, 1, 9, 4, 0, 3, 3.8370195160444256, 1.0, 36.62, 0.05, <1x26405 sparse matrix of type '<class 'numpy.float64'>'
	with 8 stored elements in Compressed Sparse Row format>, 0]
[2, 2, 2, 0, 1, 7, 5, 0, 3, 4.07289262747035, 1.0, 121.22, 35.27, <1x26405 sparse matrix of type '<class 'numpy.float64'>'
	with 8 stored elements in Compressed Sparse Row format>, 0]
[4, 2, 1, 0, 1, 8, 7, 0, 1, 4.111893821222545, 1.0, -47.99, 19.48, <1x26405 sparse matrix of type '<class 'numpy.float64'>'
	with 8 stored elements in Compressed Sparse Row format>, 0]
[2, 1, 1, 0, 1, 4, 2, 0, 2, 3.533344921547774, 1.0, -47.99, 19.48, <1x26405 sparse matrix of type '<class 'numpy.float64'>'
	with 8 stored elements in Compressed Sparse Row format>, 0]
[6, 1, 1, 0, 1, 11, 9, 0, 2, 4.11264062289648, 1.0, -47.99, 19.48, <1x26405 sparse matrix of type '<class 'numpy.float64'>'
	with 8 stored elements in Compressed Sparse Row format>, 0]
[2, 3, 0, 0, 1, 7, 5, 0, 2, 4.166245929879213, 1.0, 121.22, 0.05, <1x26405 sparse matrix of type '<class 'numpy.float64'>'
	with 8 stored elements in Compressed Sparse Row format>, 1]
[4, 1, 3, 0, 1, 11, 8, 0, 4, 3.9933931058080097, 1.0, 121.22, 19.48, <1x26405 sparse matrix of type '<class 'numpy.float64'>'
	with 8 stored elements in Compressed Sparse Row format>, 0]
[4, 0, 4, 0, 1, 10, 7, 0, 2, 4.087498662815786, 1.0, 121.22, 0.05, <1x26405 sparse matrix of type '<class 'numpy.float64'>'
	with 8 stored elements in Compressed Sparse Row format>, 1]
[3, 0, 3, 0, 0, 9, 7, 0, 1, 3.99468048724138, 1.0, 121.22, 19.48, <1x26405 sparse matrix of type '<class 'numpy.float64'>'
	with 8 stored elements in Compressed Sparse Row format>, 1]
[5, 0, 2, 1, 2, 9, 6, 0, 6, 3.916243864254487, 1.0, 36.62, 19.48, <1x26405 sparse matrix of type '<class 'numpy.float64'>'
	with 8 stored elements in Compressed Sparse Row format>, 0]
[3, 1, 2, 0, 1, 9, 5, 0, 4, 4.1590902382648824, 1.0, 121.22, 19.48, <1x26405 sparse matrix of type '<class 'numpy.float64'>'
	with 8 stored elements in Compressed Sparse Row format>, 1]
[3, 2, 2, 0, 1, 7, 6, 0, 2, 3.7969154801907807, 1.0, 121.22, 0.05, <1x26405 sparse matrix of type '<class 'numpy.float64'>'
	with 8 stored elements in Compressed Sparse Row format>, 1]
[6, 2, 1, 0, 0, 11, 9, 0, 2, 3.9398434750342743, 1.0, -132.59, 19.48, <1x26405 sparse matrix of type '<class 'numpy.float64'>'
	with 8 stored elements in Compressed Sparse Row format>, 0]
[8, 4, 1, 0, 1, 15, 12, 1, 3, 4.152806944856819, 1.0, 36.62, 19.48, <1x26405 sparse matrix of type '<class 'numpy.float64'>'
	with 8 stored elements in Compressed Sparse Row format>, 1]
[1, 3, 1, 0, 1, 5, 3, 0, 1, 3.910324318093311, 1.0, 36.62, 0.05, <1x26405 sparse matrix of type '<class 'numpy.float64'>'
	with 8 stored elements in Compressed Sparse Row format>, 0]
[4, 3, 3, 0, 2, 13, 9, 0, 5, 3.962075743568452, 1.0, 121.22, 0.05, <1x26405 sparse matrix of type '<class 'numpy.float64'>'
	with 8 stored elements in Compressed Sparse Row format>, 1]
[6, 1, 2, 0, 1, 12, 10, 0, 3, 4.079735079969277, 1.0, 36.62, 0.05, <1x26405 sparse matrix of type '<class 'numpy.float64'>'
	with 8 stored elements in Compressed Sparse Row format>, 0]
[3, 1, 4, 0, 2, 9, 8, 0, 3, 3.7598527561714583, 1.0, 121.22, 0.05, <1x26405 sparse matrix of type '<class 'numpy.float64'>'
	with 8 stored elements in Compressed Sparse Row format>, 1]
[4, 3, 4, 0, 1, 13, 8, 0, 4, 4.154332012739711, 1.0, 121.22, 0.05, <1x26405 sparse matrix of type '<class 'numpy.float64'>'
	with 8 stored elements in Compressed Sparse Row format>, 0]
[3, 1, 2, 1, 1, 7, 6, 0, 2, 3.97657805478027, 1.0, 36.62, 0.05, <1x26405 sparse matrix of type '<class 'numpy.float64'>'
	with 8 stored elements in Compressed Sparse Row format>, 0]
[2, 1, 2, 0, 2, 6, 4, 0, 3, 3.754501774832252, 1.0, 36.62, 19.48, <1x26405 sparse matrix of type '<class 'numpy.float64'>'
	with 8 stored elements in Compressed Sparse Row format>, 1]
[2, 0, 2, 0, 1, 4, 2, 1, 2, 3.4790795706241733, 1.0, 121.22, 0.05, <1x26405 sparse matrix of type '<class 'numpy.float64'>'
	with 8 stored elements in Compressed Sparse Row format>, 0]
[6, 3, 3, 0, 0, 13, 7, 3, 1, 4.162912897259044, 1.0, 121.22, 19.48, <1x26405 sparse matrix of type '<class 'numpy.float64'>'
	with 8 stored elements in Compressed Sparse Row format>, 0]
[5, 0, 3, 1, 4, 10, 6, 1, 7, 4.012785470233515, 1.0, 121.22, 0.05, <1x26405 sparse matrix of type '<class 'numpy.float64'>'
	with 8 stored elements in Compressed Sparse Row format>, 0]
[6, 2, 2, 0, 1, 11, 8, 1, 2, 3.9232812085733033, 1.0, -47.99, 19.48, <1x26405 sparse matrix of type '<class 'numpy.float64'>'
	with 8 stored elements in Compressed Sparse Row format>, 0]
[5, 4, 3, 0, 2, 13, 11, 1, 2, 4.078585714772695, 1.0, 36.62, 19.48, <1x26405 sparse matrix of type '<class 'numpy.float64'>'
	with 8 stored elements in Compressed Sparse Row format>, 1]
[6, 1, 2, 0, 0, 12, 9, 1, 2, 4.066106905576899, 1.0, 121.22, 19.48, <1x26405 sparse matrix of type '<class 'numpy.float64'>'
	with 8 stored elements in Compressed Sparse Row format>, 0]
[3, 0, 2, 0, 2, 5, 5, 0, 2, 3.789896609060178, 1.0, 36.62, 19.48, <1x26405 sparse matrix of type '<class 'numpy.float64'>'
	with 8 stored elements in Compressed Sparse Row format>, 1]
[2, 1, 1, 0, 0, 4, 4, 0, 0, 3.6084585933443494, 1.0, 121.22, 19.48, <1x26405 sparse matrix of type '<class 'numpy.float64'>'
	with 8 stored elements in Compressed Sparse Row format>, 0]
[2, 2, 1, 0, 0, 5, 4, 0, 0, 3.481661512101756, 1.0, 121.22, 0.05, <1x26405 sparse matrix of type '<class 'numpy.float64'>'
	with 8 stored elements in Compressed Sparse Row format>, 1]
[4, 2, 2, 1, 0, 14, 8, 1, 5, 4.0592455742391005, 1.0, 121.22, 0.05, <1x26405 sparse matrix of type '<class 'numpy.float64'>'
	with 8 stored elements in Compressed Sparse Row format>, 0]
[1, 1, 0, 0, 0, 2, 2, 0, 0, 3.5039975273348474, 1.0, -47.99, 0.05, <1x26405 sparse matrix of type '<class 'numpy.float64'>'
	with 8 stored elements in Compressed Sparse Row format>, 0]
[2, 1, 1, 0, 1, 8, 5, 0, 4, 3.735568752113511, 1.0, 36.62, 0.05, <1x26405 sparse matrix of type '<class 'numpy.float64'>'
	with 8 stored elements in Compressed Sparse Row format>, 0]
[4, 3, 1, 0, 1, 8, 6, 0, 1, 3.8352585782581614, 1.0, 36.62, 0.05, <1x26405 sparse matrix of type '<class 'numpy.float64'>'
	with 8 stored elements in Compressed Sparse Row format>, 0]
[5, 0, 5, 0, 3, 13, 10, 0, 6, 4.1336815899247785, 1.0, 36.62, 19.48, <1x26405 sparse matrix of type '<class 'numpy.float64'>'
	with 8 stored elements in Compressed Sparse Row format>, 1]
[2, 2, 1, 0, 0, 6, 5, 0, 1, 3.9957242774854342, 1.0, 36.62, 19.48, <1x26405 sparse matrix of type '<class 'numpy.float64'>'
	with 8 stored elements in Compressed Sparse Row format>, 1]
[6, 2, 2, 1, 0, 8, 1, 1, 3, 4.135865969881295, 1.0, 121.22, 0.05, <1x26405 sparse matrix of type '<class 'numpy.float64'>'
	with 8 stored elements in Compressed Sparse Row format>, 0]
[4, 0, 0, 0, 0, 5, 3, 0, 1, 3.7289721408610004, 1.0, 121.22, 0.05, <1x26405 sparse matrix of type '<class 'numpy.float64'>'
	with 8 stored elements in Compressed Sparse Row format>, 0]
[4, 0, 1, 0, 3, 5, 5, 0, 3, 3.8869177791754286, 1.0, 121.22, 0.05, <1x26405 sparse matrix of type '<class 'numpy.float64'>'
	with 8 stored elements in Compressed Sparse Row format>, 1]
[5, 0, 3, 0, 2, 9, 5, 2, 3, 4.129115728914363, 1.0, 121.22, 0.05, <1x26405 sparse matrix of type '<class 'numpy.float64'>'
	with 8 stored elements in Compressed Sparse Row format>, 0]
[4, 1, 2, 1, 2, 8, 5, 0, 5, 4.104529092838118, 1.0, 121.22, 19.48, <1x26405 sparse matrix of type '<class 'numpy.float64'>'
	with 8 stored elements in Compressed Sparse Row format>, 0]
[3, 1, 0, 1, 0, 4, 4, 0, 1, 3.6151713102472964, 1.0, -132.59, 19.48, <1x26405 sparse matrix of type '<class 'numpy.float64'>'
	with 8 stored elements in Compressed Sparse Row format>, 0]
[10, 2, 0, 0, 0, 15, 5, 3, 2, 4.139432750241978, 1.0, 121.22, 19.48, <1x26405 sparse matrix of type '<class 'numpy.float64'>'
	with 8 stored elements in Compressed Sparse Row format>, 0]
[5, 0, 2, 1, 2, 10, 5, 0, 6, 4.147559855982178, 1.0, 121.22, 19.48, <1x26405 sparse matrix of type '<class 'numpy.float64'>'
	with 8 stored elements in Compressed Sparse Row format>, 0]
[5, 1, 1, 0, 1, 8, 7, 0, 2, 4.018498431865185, 1.0, 36.62, 19.48, <1x26405 sparse matrix of type '<class 'numpy.float64'>'
	with 8 stored elements in Compressed Sparse Row format>, 1]
[5, 3, 5, 0, 2, 15, 11, 2, 4, 4.127766864251184, 1.0, 121.22, 0.05, <1x26405 sparse matrix of type '<class 'numpy.float64'>'
	with 8 stored elements in Compressed Sparse Row format>, 1]
[2, 1, 3, 0, 1, 6, 6, 0, 1, 3.868453957701921, 1.0, 36.62, 19.48, <1x26405 sparse matrix of type '<class 'numpy.float64'>'
	with 8 stored elements in Compressed Sparse Row format>, 1]
[8, 1, 1, 0, 0, 13, 8, 0, 4, 4.046608764152168, 1.0, 121.22, 0.05, <1x26405 sparse matrix of type '<class 'numpy.float64'>'
	with 8 stored elements in Compressed Sparse Row format>, 0]
[5, 0, 1, 1, 1, 7, 7, 0, 1, 4.002069460649041, 1.0, 121.22, 19.48, <1x26405 sparse matrix of type '<class 'numpy.float64'>'
	with 8 stored elements in Compressed Sparse Row format>, 1]
[5, 0, 2, 0, 2, 11, 8, 0, 4, 4.093759448399385, 1.0, 36.62, 0.05, <1x26405 sparse matrix of type '<class 'numpy.float64'>'
	with 8 stored elements in Compressed Sparse Row format>, 1]
[5, 2, 1, 0, 2, 9, 7, 1, 3, 4.068310593426322, 1.0, 36.62, 19.48, <1x26405 sparse matrix of type '<class 'numpy.float64'>'
	with 8 stored elements in Compressed Sparse Row format>, 1]
[2, 0, 0, 0, 0, 2, 2, 0, 0, 3.4677201004745006, 1.0, 36.62, 19.48, <1x26405 sparse matrix of type '<class 'numpy.float64'>'
	with 8 stored elements in Compressed Sparse Row format>, 1]
[5, 2, 0, 0, 2, 10, 6, 0, 5, 3.782604416836518, 0.9166666666666666, 121.22, 0.05, <1x26405 sparse matrix of type '<class 'numpy.float64'>'
	with 8 stored elements in Compressed Sparse Row format>, 0]
[3, 0, 2, 0, 3, 8, 7, 0, 3, 4.192955520511988, 1.0, 121.22, 19.48, <1x26405 sparse matrix of type '<class 'numpy.float64'>'
	with 8 stored elements in Compressed Sparse Row format>, 1]
[7, 1, 2, 0, 1, 12, 6, 0, 4, 4.086220516275738, 1.0, 121.22, 0.05, <1x26405 sparse matrix of type '<class 'numpy.float64'>'
	with 8 stored elements in Compressed Sparse Row format>, 1]
[3, 1, 2, 1, 2, 7, 7, 0, 3, 3.928777074271214, 1.0, 36.62, 19.48, <1x26405 sparse matrix of type '<class 'numpy.float64'>'
	with 8 stored elements in Compressed Sparse Row format>, 1]
[5, 1, 0, 1, 1, 7, 6, 0, 1, 4.013927159282078, 1.0, 36.62, 0.05, <1x26405 sparse matrix of type '<class 'numpy.float64'>'
	with 8 stored elements in Compressed Sparse Row format>, 0]
[1, 1, 1, 1, 0, 3, 2, 0, 1, 3.454822399946607, 1.0, 121.22, 19.48, <1x26405 sparse matrix of type '<class 'numpy.float64'>'
	with 8 stored elements in Compressed Sparse Row format>, 1]
[2, 0, 1, 0, 0, 5, 4, 1, 0, 3.619656382366554, 1.0, 121.22, 0.05, <1x26405 sparse matrix of type '<class 'numpy.float64'>'
	with 8 stored elements in Compressed Sparse Row format>, 1]
[5, 0, 2, 0, 2, 11, 7, 1, 4, 4.1144419670534305, 1.0, -47.99, 19.48, <1x26405 sparse matrix of type '<class 'numpy.float64'>'
	with 8 stored elements in Compressed Sparse Row format>, 1]
[2, 3, 1, 0, 0, 8, 6, 1, 0, 4.181122661478621, 1.0, -217.19, 19.48, <1x26405 sparse matrix of type '<class 'numpy.float64'>'
	with 8 stored elements in Compressed Sparse Row format>, 1]
[3, 4, 0, 0, 1, 7, 4, 1, 2, 3.9340902343159794, 1.0, 121.22, 0.05, <1x26405 sparse matrix of type '<class 'numpy.float64'>'
	with 8 stored elements in Compressed Sparse Row format>, 1]
[3, 1, 2, 0, 2, 8, 8, 0, 2, 3.741029021563627, 1.0, 121.22, 0.05, <1x26405 sparse matrix of type '<class 'numpy.float64'>'
	with 8 stored elements in Compressed Sparse Row format>, 1]
[4, 3, 3, 0, 3, 11, 10, 0, 4, 3.880897660429955, 1.0, 121.22, 19.48, <1x26405 sparse matrix of type '<class 'numpy.float64'>'
	with 8 stored elements in Compressed Sparse Row format>, 1]
[1, 0, 2, 1, 1, 3, 3, 0, 2, 3.5818285888587442, 1.0, 121.22, 19.48, <1x26405 sparse matrix of type '<class 'numpy.float64'>'
	with 8 stored elements in Compressed Sparse Row format>, 0]
[4, 1, 2, 1, 0, 9, 5, 0, 4, 3.9188203870227802, 1.0, 36.62, 19.48, <1x26405 sparse matrix of type '<class 'numpy.float64'>'
	with 8 stored elements in Compressed Sparse Row format>, 0]
[2, 1, 1, 1, 0, 5, 5, 0, 1, 3.576166429919335, 1.0, 121.22, 0.05, <1x26405 sparse matrix of type '<class 'numpy.float64'>'
	with 8 stored elements in Compressed Sparse Row format>, 0]
[3, 1, 1, 0, 0, 10, 7, 0, 3, 4.03188783998559, 1.0, 121.22, 0.05, <1x26405 sparse matrix of type '<class 'numpy.float64'>'
	with 8 stored elements in Compressed Sparse Row format>, 0]
[4, 1, 2, 0, 2, 9, 7, 0, 3, 3.724559499522789, 1.0, 36.62, 0.05, <1x26405 sparse matrix of type '<class 'numpy.float64'>'
	with 8 stored elements in Compressed Sparse Row format>, 1]
[6, 3, 2, 0, 1, 12, 7, 0, 4, 4.021039033895928, 1.0, 121.22, 19.48, <1x26405 sparse matrix of type '<class 'numpy.float64'>'
	with 8 stored elements in Compressed Sparse Row format>, 0]
[9, 1, 2, 0, 1, 13, 10, 1, 2, 4.0238369416314415, 1.0, 36.62, 19.48, <1x26405 sparse matrix of type '<class 'numpy.float64'>'
	with 8 stored elements in Compressed Sparse Row format>, 1]
[5, 3, 3, 0, 2, 13, 9, 2, 2, 4.172407784777715, 1.0, 36.62, 19.48, <1x26405 sparse matrix of type '<class 'numpy.float64'>'
	with 8 stored elements in Compressed Sparse Row format>, 1]
[4, 1, 0, 0, 1, 5, 5, 0, 1, 4.007942895581382, 1.0, 36.62, 19.48, <1x26405 sparse matrix of type '<class 'numpy.float64'>'
	with 8 stored elements in Compressed Sparse Row format>, 1]
[2, 0, 2, 0, 0, 5, 4, 0, 1, 3.936891797757288, 1.0, 121.22, 0.05, <1x26405 sparse matrix of type '<class 'numpy.float64'>'
	with 8 stored elements in Compressed Sparse Row format>, 1]
[4, 1, 2, 0, 1, 9, 5, 0, 4, 3.904903061191902, 1.0, -217.19, 19.48, <1x26405 sparse matrix of type '<class 'numpy.float64'>'
	with 8 stored elements in Compressed Sparse Row format>, 0]
[3, 2, 3, 0, 1, 10, 8, 1, 2, 4.044928216179582, 1.0, 121.22, 19.48, <1x26405 sparse matrix of type '<class 'numpy.float64'>'
	with 8 stored elements in Compressed Sparse Row format>, 1]
[2, 1, 0, 0, 0, 8, 5, 1, 2, 3.965830108261739, 1.0, 121.22, 0.05, <1x26405 sparse matrix of type '<class 'numpy.float64'>'
	with 8 stored elements in Compressed Sparse Row format>, 0]
[1, 0, 1, 0, 0, 2, 2, 0, 0, 2.9312089489103235, 1.0, 121.22, 19.48, <1x26405 sparse matrix of type '<class 'numpy.float64'>'
	with 8 stored elements in Compressed Sparse Row format>, 1]
[6, 1, 2, 1, 2, 9, 7, 1, 3, 3.90414622151578, 0.9166666666666666, 36.62, 0.05, <1x26405 sparse matrix of type '<class 'numpy.float64'>'
	with 8 stored elements in Compressed Sparse Row format>, 0]
[4, 3, 0, 0, 0, 8, 5, 1, 1, 4.216686950278609, 1.0, 36.62, 19.48, <1x26405 sparse matrix of type '<class 'numpy.float64'>'
	with 8 stored elements in Compressed Sparse Row format>, 1]
[8, 0, 1, 0, 1, 11, 9, 0, 3, 4.048161941420991, 1.0, 121.22, 19.48, <1x26405 sparse matrix of type '<class 'numpy.float64'>'
	with 8 stored elements in Compressed Sparse Row format>, 1]
[6, 1, 1, 1, 1, 11, 6, 1, 3, 4.163914811782149, 1.0, 121.22, 0.05, <1x26405 sparse matrix of type '<class 'numpy.float64'>'
	with 8 stored elements in Compressed Sparse Row format>, 0]
[3, 2, 1, 0, 0, 8, 7, 0, 1, 4.047163198170179, 1.0, 36.62, 19.48, <1x26405 sparse matrix of type '<class 'numpy.float64'>'
	with 8 stored elements in Compressed Sparse Row format>, 0]
[7, 2, 1, 0, 1, 11, 7, 2, 2, 4.055834286483131, 1.0, 36.62, 19.48, <1x26405 sparse matrix of type '<class 'numpy.float64'>'
	with 8 stored elements in Compressed Sparse Row format>, 0]
[4, 1, 3, 1, 2, 11, 6, 0, 7, 4.0756479194081265, 1.0, 121.22, 0.05, <1x26405 sparse matrix of type '<class 'numpy.float64'>'
	with 8 stored elements in Compressed Sparse Row format>, 0]
[4, 3, 0, 0, 1, 8, 4, 2, 1, 4.062997422356984, 1.0, -47.99, 19.48, <1x26405 sparse matrix of type '<class 'numpy.float64'>'
	with 8 stored elements in Compressed Sparse Row format>, 1]
[4, 0, 1, 0, 2, 5, 4, 0, 2, 3.898768471512081, 1.0, 36.62, 0.05, <1x26405 sparse matrix of type '<class 'numpy.float64'>'
	with 8 stored elements in Compressed Sparse Row format>, 1]
[4, 1, 2, 0, 0, 9, 5, 0, 2, 3.839084689978686, 1.0, 121.22, 19.48, <1x26405 sparse matrix of type '<class 'numpy.float64'>'
	with 8 stored elements in Compressed Sparse Row format>, 0]
[3, 2, 3, 0, 2, 9, 5, 1, 2, 4.108381556174386, 1.0, 121.22, 0.05, <1x26405 sparse matrix of type '<class 'numpy.float64'>'
	with 8 stored elements in Compressed Sparse Row format>, 0]
[2, 0, 0, 0, 0, 4, 3, 0, 1, 3.556656707462823, 1.0, 36.62, 0.05, <1x26405 sparse matrix of type '<class 'numpy.float64'>'
	with 8 stored elements in Compressed Sparse Row format>, 1]
[3, 0, 2, 0, 0, 7, 3, 0, 3, 3.771277052658107, 0.8571428571428571, 36.62, 19.48, <1x26405 sparse matrix of type '<class 'numpy.float64'>'
	with 8 stored elements in Compressed Sparse Row format>, 0]
[6, 3, 1, 0, 0, 10, 6, 0, 0, 4.186638867995137, 1.0, 121.22, 19.48, <1x26405 sparse matrix of type '<class 'numpy.float64'>'
	with 8 stored elements in Compressed Sparse Row format>, 0]
[3, 0, 2, 0, 1, 8, 5, 0, 4, 3.90574961153114, 1.0, -47.99, 19.48, <1x26405 sparse matrix of type '<class 'numpy.float64'>'
	with 8 stored elements in Compressed Sparse Row format>, 0]
[6, 1, 0, 0, 2, 8, 5, 1, 3, 3.9545544916427207, 1.0, 36.62, 19.48, <1x26405 sparse matrix of type '<class 'numpy.float64'>'
	with 8 stored elements in Compressed Sparse Row format>, 0]
[8, 0, 1, 0, 0, 11, 7, 1, 1, 3.9401790395683007, 1.0, 121.22, 19.48, <1x26405 sparse matrix of type '<class 'numpy.float64'>'
	with 8 stored elements in Compressed Sparse Row format>, 0]
[3, 2, 0, 0, 0, 6, 4, 0, 1, 3.963887539819197, 1.0, 36.62, 19.48, <1x26405 sparse matrix of type '<class 'numpy.float64'>'
	with 8 stored elements in Compressed Sparse Row format>, 0]
[6, 1, 1, 0, 0, 10, 5, 2, 2, 4.121265264694933, 1.0, 121.22, 19.48, <1x26405 sparse matrix of type '<class 'numpy.float64'>'
	with 8 stored elements in Compressed Sparse Row format>, 0]
[7, 1, 2, 0, 3, 10, 4, 3, 4, 4.237339226316867, 1.0, -47.99, 19.48, <1x26405 sparse matrix of type '<class 'numpy.float64'>'
	with 8 stored elements in Compressed Sparse Row format>, 0]
[4, 1, 2, 0, 1, 9, 7, 0, 3, 3.8648537772397344, 1.0, 36.62, 0.05, <1x26405 sparse matrix of type '<class 'numpy.float64'>'
	with 8 stored elements in Compressed Sparse Row format>, 0]
[3, 2, 4, 0, 2, 10, 8, 0, 3, 4.335999254325841, 1.0, -301.79, 51.06, <1x26405 sparse matrix of type '<class 'numpy.float64'>'
	with 8 stored elements in Compressed Sparse Row format>, 1]
[8, 1, 2, 2, 1, 21, 11, 0, 9, 4.037151705392784, 0.9166666666666666, 36.62, 19.48, <1x26405 sparse matrix of type '<class 'numpy.float64'>'
	with 8 stored elements in Compressed Sparse Row format>, 1]
[5, 2, 2, 1, 0, 12, 11, 0, 1, 4.162906476982537, 1.0, -47.99, 19.48, <1x26405 sparse matrix of type '<class 'numpy.float64'>'
	with 8 stored elements in Compressed Sparse Row format>, 1]
[1, 0, 3, 0, 1, 9, 5, 0, 5, 4.021403699408589, 1.0, 121.22, 0.05, <1x26405 sparse matrix of type '<class 'numpy.float64'>'
	with 8 stored elements in Compressed Sparse Row format>, 0]
[6, 0, 3, 0, 5, 10, 9, 0, 4, 4.057746820465045, 0.9333333333333333, 36.62, 19.48, <1x26405 sparse matrix of type '<class 'numpy.float64'>'
	with 8 stored elements in Compressed Sparse Row format>, 1]
[6, 1, 2, 0, 1, 9, 6, 3, 1, 4.123335515261131, 1.0, -47.99, 19.48, <1x26405 sparse matrix of type '<class 'numpy.float64'>'
	with 8 stored elements in Compressed Sparse Row format>, 0]
[2, 0, 2, 0, 0, 6, 4, 0, 2, 3.804746110195515, 1.0, 121.22, 0.05, <1x26405 sparse matrix of type '<class 'numpy.float64'>'
	with 8 stored elements in Compressed Sparse Row format>, 0]
[3, 4, 0, 0, 0, 8, 5, 1, 1, 4.064921347932786, 1.0, -47.99, 19.48, <1x26405 sparse matrix of type '<class 'numpy.float64'>'
	with 8 stored elements in Compressed Sparse Row format>, 0]
[5, 2, 0, 1, 1, 9, 4, 1, 4, 3.842227675519696, 1.0, 36.62, 0.05, <1x26405 sparse matrix of type '<class 'numpy.float64'>'
	with 8 stored elements in Compressed Sparse Row format>, 0]
[2, 1, 2, 1, 1, 6, 5, 0, 2, 4.0055875858619325, 1.0, 121.22, 0.05, <1x26405 sparse matrix of type '<class 'numpy.float64'>'
	with 8 stored elements in Compressed Sparse Row format>, 0]
[6, 1, 1, 0, 0, 9, 6, 0, 0, 4.160324136950664, 1.0, 121.22, 0.05, <1x26405 sparse matrix of type '<class 'numpy.float64'>'
	with 8 stored elements in Compressed Sparse Row format>, 0]
[5, 2, 2, 1, 0, 11, 8, 0, 4, 3.9234599598455926, 1.0, 121.22, 0.05, <1x26405 sparse matrix of type '<class 'numpy.float64'>'
	with 8 stored elements in Compressed Sparse Row format>, 0]
[6, 2, 1, 0, 1, 11, 9, 0, 3, 3.980977424834566, 1.0, 121.22, 0.05, <1x26405 sparse matrix of type '<class 'numpy.float64'>'
	with 8 stored elements in Compressed Sparse Row format>, 0]
[4, 0, 3, 0, 1, 9, 7, 0, 3, 3.859849000253965, 0.9, 121.22, 0.05, <1x26405 sparse matrix of type '<class 'numpy.float64'>'
	with 8 stored elements in Compressed Sparse Row format>, 1]
[6, 2, 3, 0, 2, 13, 7, 0, 5, 4.2787024701563094, 1.0, 36.62, 19.48, <1x26405 sparse matrix of type '<class 'numpy.float64'>'
	with 8 stored elements in Compressed Sparse Row format>, 1]
[6, 2, 1, 0, 1, 10, 8, 1, 2, 4.045172393136558, 1.0, 36.62, 0.05, <1x26405 sparse matrix of type '<class 'numpy.float64'>'
	with 8 stored elements in Compressed Sparse Row format>, 0]
[3, 0, 0, 0, 0, 5, 2, 0, 1, 3.7264097655573916, 1.0, 36.62, 0.05, <1x26405 sparse matrix of type '<class 'numpy.float64'>'
	with 8 stored elements in Compressed Sparse Row format>, 0]
[6, 2, 1, 0, 1, 9, 7, 2, 1, 3.9461613260669903, 1.0, 36.62, 19.48, <1x26405 sparse matrix of type '<class 'numpy.float64'>'
	with 8 stored elements in Compressed Sparse Row format>, 1]
[3, 1, 2, 0, 1, 9, 3, 1, 6, 4.057541532606937, 1.0, 121.22, 0.05, <1x26405 sparse matrix of type '<class 'numpy.float64'>'
	with 8 stored elements in Compressed Sparse Row format>, 0]
[6, 0, 2, 0, 2, 11, 6, 0, 5, 4.085401148704927, 1.0, 36.62, 19.48, <1x26405 sparse matrix of type '<class 'numpy.float64'>'
	with 8 stored elements in Compressed Sparse Row format>, 1]
[3, 1, 1, 0, 1, 5, 2, 1, 1, 3.8820214465367484, 1.0, 36.62, 19.48, <1x26405 sparse matrix of type '<class 'numpy.float64'>'
	with 8 stored elements in Compressed Sparse Row format>, 1]
[4, 4, 3, 0, 1, 11, 4, 2, 2, 3.965664050407642, 1.0, 121.22, 19.48, <1x26405 sparse matrix of type '<class 'numpy.float64'>'
	with 8 stored elements in Compressed Sparse Row format>, 0]
[4, 0, 1, 0, 0, 5, 3, 1, 0, 3.68878681139948, 1.0, 121.22, 0.05, <1x26405 sparse matrix of type '<class 'numpy.float64'>'
	with 8 stored elements in Compressed Sparse Row format>, 1]
[4, 1, 2, 0, 2, 8, 6, 0, 3, 3.7733977616690537, 0.9, 36.62, 19.48, <1x26405 sparse matrix of type '<class 'numpy.float64'>'
	with 8 stored elements in Compressed Sparse Row format>, 1]
[3, 1, 2, 0, 1, 9, 7, 0, 3, 4.013901049045973, 1.0, 121.22, 0.05, <1x26405 sparse matrix of type '<class 'numpy.float64'>'
	with 8 stored elements in Compressed Sparse Row format>, 0]
[9, 1, 0, 0, 0, 11, 4, 1, 1, 4.001105863686463, 1.0, 36.62, 19.48, <1x26405 sparse matrix of type '<class 'numpy.float64'>'
	with 8 stored elements in Compressed Sparse Row format>, 0]
[3, 1, 2, 0, 0, 7, 5, 0, 2, 3.948191816013771, 1.0, 121.22, 19.48, <1x26405 sparse matrix of type '<class 'numpy.float64'>'
	with 8 stored elements in Compressed Sparse Row format>, 1]
[3, 0, 2, 0, 2, 6, 4, 0, 3, 3.680212981857914, 1.0, 121.22, 0.05, <1x26405 sparse matrix of type '<class 'numpy.float64'>'
	with 8 stored elements in Compressed Sparse Row format>, 0]
[2, 2, 7, 0, 1, 12, 7, 0, 3, 3.976230920102405, 1.0, 36.62, 19.48, <1x26405 sparse matrix of type '<class 'numpy.float64'>'
	with 8 stored elements in Compressed Sparse Row format>, 1]
[6, 0, 1, 1, 1, 8, 5, 0, 4, 4.047204475088166, 1.0, -132.59, 19.48, <1x26405 sparse matrix of type '<class 'numpy.float64'>'
	with 8 stored elements in Compressed Sparse Row format>, 0]
[6, 1, 1, 0, 1, 9, 5, 2, 2, 4.130482511000852, 1.0, 36.62, 19.48, <1x26405 sparse matrix of type '<class 'numpy.float64'>'
	with 8 stored elements in Compressed Sparse Row format>, 0]
[4, 0, 1, 0, 1, 8, 5, 0, 4, 4.03548527421926, 1.0, 121.22, 0.05, <1x26405 sparse matrix of type '<class 'numpy.float64'>'
	with 8 stored elements in Compressed Sparse Row format>, 0]
[5, 4, 2, 0, 2, 10, 9, 1, 1, 4.020969692163598, 0.9166666666666666, 36.62, 19.48, <1x26405 sparse matrix of type '<class 'numpy.float64'>'
	with 8 stored elements in Compressed Sparse Row format>, 1]
[5, 2, 1, 0, 1, 11, 7, 0, 3, 4.185099476626137, 0.9166666666666666, 36.62, 0.05, <1x26405 sparse matrix of type '<class 'numpy.float64'>'
	with 8 stored elements in Compressed Sparse Row format>, 0]
[6, 0, 3, 0, 1, 13, 10, 0, 4, 4.059648103017833, 1.0, 121.22, 0.05, <1x26405 sparse matrix of type '<class 'numpy.float64'>'
	with 8 stored elements in Compressed Sparse Row format>, 1]
[1, 2, 1, 0, 1, 6, 4, 0, 3, 3.862948816520147, 1.0, 121.22, 0.05, <1x26405 sparse matrix of type '<class 'numpy.float64'>'
	with 8 stored elements in Compressed Sparse Row format>, 0]
[4, 1, 2, 1, 1, 10, 8, 0, 4, 3.8779180502114765, 1.0, 36.62, 0.05, <1x26405 sparse matrix of type '<class 'numpy.float64'>'
	with 8 stored elements in Compressed Sparse Row format>, 0]
[4, 1, 1, 0, 1, 6, 5, 0, 1, 3.734064642253351, 1.0, 36.62, 19.48, <1x26405 sparse matrix of type '<class 'numpy.float64'>'
	with 8 stored elements in Compressed Sparse Row format>, 1]
[2, 0, 0, 1, 0, 4, 2, 0, 2, 3.6211755429194716, 1.0, 121.22, 0.05, <1x26405 sparse matrix of type '<class 'numpy.float64'>'
	with 8 stored elements in Compressed Sparse Row format>, 1]
[1, 0, 1, 0, 1, 3, 3, 0, 1, 3.5739348962840563, 1.0, 121.22, 0.05, <1x26405 sparse matrix of type '<class 'numpy.float64'>'
	with 8 stored elements in Compressed Sparse Row format>, 0]
[5, 1, 3, 2, 2, 10, 7, 0, 6, 3.89768843953771, 0.9285714285714286, 121.22, 19.48, <1x26405 sparse matrix of type '<class 'numpy.float64'>'
	with 8 stored elements in Compressed Sparse Row format>, 0]
[6, 1, 2, 0, 2, 9, 7, 2, 2, 4.098765161620244, 1.0, -47.99, 19.48, <1x26405 sparse matrix of type '<class 'numpy.float64'>'
	with 8 stored elements in Compressed Sparse Row format>, 1]
[4, 1, 3, 0, 3, 9, 6, 1, 5, 3.7866148282478114, 1.0, 121.22, 19.48, <1x26405 sparse matrix of type '<class 'numpy.float64'>'
	with 8 stored elements in Compressed Sparse Row format>, 0]
[5, 1, 3, 2, 2, 10, 5, 1, 6, 3.7953213313199194, 0.7857142857142857, 36.62, 19.48, <1x26405 sparse matrix of type '<class 'numpy.float64'>'
	with 8 stored elements in Compressed Sparse Row format>, 0]
[5, 2, 2, 0, 0, 9, 7, 1, 0, 3.9832949192108997, 1.0, 121.22, 19.48, <1x26405 sparse matrix of type '<class 'numpy.float64'>'
	with 8 stored elements in Compressed Sparse Row format>, 1]
[3, 2, 0, 0, 1, 5, 4, 1, 1, 3.8856158754964776, 1.0, -47.99, 19.48, <1x26405 sparse matrix of type '<class 'numpy.float64'>'
	with 8 stored elements in Compressed Sparse Row format>, 1]
[4, 0, 0, 0, 0, 4, 4, 0, 0, 3.4193819456463714, 1.0, 121.22, 0.05, <1x26405 sparse matrix of type '<class 'numpy.float64'>'
	with 8 stored elements in Compressed Sparse Row format>, 1]
[7, 2, 1, 0, 0, 11, 5, 2, 1, 4.178037010314926, 1.0, 121.22, 19.48, <1x26405 sparse matrix of type '<class 'numpy.float64'>'
	with 8 stored elements in Compressed Sparse Row format>, 0]
[3, 0, 4, 0, 1, 8, 7, 0, 2, 4.065945132377803, 1.0, 121.22, 0.05, <1x26405 sparse matrix of type '<class 'numpy.float64'>'
	with 8 stored elements in Compressed Sparse Row format>, 1]
[5, 1, 0, 0, 2, 8, 7, 0, 3, 3.979842113228824, 1.0, 121.22, 19.48, <1x26405 sparse matrix of type '<class 'numpy.float64'>'
	with 8 stored elements in Compressed Sparse Row format>, 1]
[3, 1, 3, 1, 3, 10, 9, 0, 5, 4.0647762140986154, 1.0, 121.22, 0.05, <1x26405 sparse matrix of type '<class 'numpy.float64'>'
	with 8 stored elements in Compressed Sparse Row format>, 1]
[5, 0, 2, 0, 0, 9, 6, 0, 2, 3.9436801253681, 1.0, 121.22, 0.05, <1x26405 sparse matrix of type '<class 'numpy.float64'>'
	with 8 stored elements in Compressed Sparse Row format>, 0]
[6, 2, 2, 0, 2, 13, 12, 0, 2, 4.0162892776076475, 1.0, 121.22, 0.05, <1x26405 sparse matrix of type '<class 'numpy.float64'>'
	with 8 stored elements in Compressed Sparse Row format>, 1]
[4, 3, 1, 0, 1, 9, 2, 2, 3, 4.1168733328881295, 1.0, 121.22, 35.27, <1x26405 sparse matrix of type '<class 'numpy.float64'>'
	with 8 stored elements in Compressed Sparse Row format>, 0]
[3, 3, 1, 2, 1, 6, 2, 1, 3, 3.9558660856904813, 0.8888888888888888, 121.22, 19.48, <1x26405 sparse matrix of type '<class 'numpy.float64'>'
	with 8 stored elements in Compressed Sparse Row format>, 0]
[3, 0, 4, 0, 0, 10, 6, 0, 4, 3.937977614414309, 0.9, 121.22, 19.48, <1x26405 sparse matrix of type '<class 'numpy.float64'>'
	with 8 stored elements in Compressed Sparse Row format>, 1]
[3, 3, 0, 0, 0, 7, 5, 0, 1, 4.118866472615572, 1.0, 121.22, 0.05, <1x26405 sparse matrix of type '<class 'numpy.float64'>'
	with 8 stored elements in Compressed Sparse Row format>, 1]
[4, 0, 1, 0, 2, 8, 2, 1, 5, 3.840877653273673, 0.9, -132.59, 19.48, <1x26405 sparse matrix of type '<class 'numpy.float64'>'
	with 8 stored elements in Compressed Sparse Row format>, 0]
[7, 1, 1, 0, 2, 9, 7, 0, 2, 3.909269297910713, 1.0, -47.99, 19.48, <1x26405 sparse matrix of type '<class 'numpy.float64'>'
	with 8 stored elements in Compressed Sparse Row format>, 1]
[3, 1, 1, 0, 1, 8, 4, 1, 3, 3.9390908078646256, 1.0, 121.22, 19.48, <1x26405 sparse matrix of type '<class 'numpy.float64'>'
	with 8 stored elements in Compressed Sparse Row format>, 0]
[3, 0, 5, 0, 3, 9, 4, 0, 7, 3.769513094219476, 0.9166666666666666, -47.99, 19.48, <1x26405 sparse matrix of type '<class 'numpy.float64'>'
	with 8 stored elements in Compressed Sparse Row format>, 0]
[6, 3, 2, 0, 2, 14, 11, 0, 5, 4.153017824874765, 1.0, 36.62, 0.05, <1x26405 sparse matrix of type '<class 'numpy.float64'>'
	with 8 stored elements in Compressed Sparse Row format>, 1]
[2, 0, 5, 0, 1, 12, 7, 0, 6, 3.9889136337062183, 0.9230769230769231, 121.22, 0.05, <1x26405 sparse matrix of type '<class 'numpy.float64'>'
	with 8 stored elements in Compressed Sparse Row format>, 0]
[2, 0, 2, 0, 2, 4, 2, 0, 2, 3.4830050302680133, 1.0, 121.22, 19.48, <1x26405 sparse matrix of type '<class 'numpy.float64'>'
	with 8 stored elements in Compressed Sparse Row format>, 0]
[3, 2, 1, 0, 1, 7, 5, 1, 2, 3.995710420564019, 1.0, 36.62, 0.05, <1x26405 sparse matrix of type '<class 'numpy.float64'>'
	with 8 stored elements in Compressed Sparse Row format>, 0]
[7, 1, 0, 0, 0, 8, 7, 0, 0, 3.924922438240905, 1.0, 121.22, 19.48, <1x26405 sparse matrix of type '<class 'numpy.float64'>'
	with 8 stored elements in Compressed Sparse Row format>, 0]
[3, 2, 2, 1, 0, 9, 7, 0, 3, 4.049837628899153, 1.0, 121.22, 0.05, <1x26405 sparse matrix of type '<class 'numpy.float64'>'
	with 8 stored elements in Compressed Sparse Row format>, 0]
[6, 1, 1, 0, 2, 8, 2, 2, 2, 4.007933560380448, 1.0, 121.22, 19.48, <1x26405 sparse matrix of type '<class 'numpy.float64'>'
	with 8 stored elements in Compressed Sparse Row format>, 0]
[6, 0, 0, 0, 1, 9, 6, 0, 4, 3.9313850596727598, 1.0, 121.22, 0.05, <1x26405 sparse matrix of type '<class 'numpy.float64'>'
	with 8 stored elements in Compressed Sparse Row format>, 1]
[3, 0, 1, 1, 2, 5, 5, 0, 3, 4.039528970150656, 1.0, -132.59, 19.48, <1x26405 sparse matrix of type '<class 'numpy.float64'>'
	with 8 stored elements in Compressed Sparse Row format>, 0]
[4, 1, 3, 0, 1, 9, 5, 0, 3, 3.9079251401844797, 1.0, -47.99, 19.48, <1x26405 sparse matrix of type '<class 'numpy.float64'>'
	with 8 stored elements in Compressed Sparse Row format>, 0]
[3, 1, 1, 0, 0, 5, 4, 0, 0, 3.557605347445475, 1.0, 121.22, 0.05, <1x26405 sparse matrix of type '<class 'numpy.float64'>'
	with 8 stored elements in Compressed Sparse Row format>, 0]
[3, 1, 2, 0, 0, 8, 6, 0, 2, 3.9328597701536268, 1.0, 121.22, 0.05, <1x26405 sparse matrix of type '<class 'numpy.float64'>'
	with 8 stored elements in Compressed Sparse Row format>, 1]
[2, 1, 0, 0, 0, 6, 4, 0, 1, 4.0746987351738495, 1.0, 121.22, 19.48, <1x26405 sparse matrix of type '<class 'numpy.float64'>'
	with 8 stored elements in Compressed Sparse Row format>, 0]
[4, 2, 4, 0, 2, 10, 7, 0, 4, 3.9244957543329155, 1.0, -132.59, 19.48, <1x26405 sparse matrix of type '<class 'numpy.float64'>'
	with 8 stored elements in Compressed Sparse Row format>, 0]
[2, 0, 2, 0, 0, 6, 5, 0, 1, 4.126149643439027, 1.0, 36.62, 0.05, <1x26405 sparse matrix of type '<class 'numpy.float64'>'
	with 8 stored elements in Compressed Sparse Row format>, 1]
[3, 3, 1, 1, 1, 8, 6, 0, 4, 4.024627643551982, 1.0, 121.22, 0.05, <1x26405 sparse matrix of type '<class 'numpy.float64'>'
	with 8 stored elements in Compressed Sparse Row format>, 1]
[1, 1, 1, 0, 0, 4, 1, 0, 1, 3.820589856666546, 1.0, 36.62, 0.05, <1x26405 sparse matrix of type '<class 'numpy.float64'>'
	with 8 stored elements in Compressed Sparse Row format>, 0]
[4, 1, 2, 0, 1, 9, 6, 0, 2, 3.8099983034731, 1.0, 36.62, 0.05, <1x26405 sparse matrix of type '<class 'numpy.float64'>'
	with 8 stored elements in Compressed Sparse Row format>, 1]
[2, 0, 4, 1, 2, 10, 6, 0, 7, 3.891643809725648, 0.8461538461538461, 121.22, 0.05, <1x26405 sparse matrix of type '<class 'numpy.float64'>'
	with 8 stored elements in Compressed Sparse Row format>, 0]
[1, 3, 1, 0, 0, 7, 4, 0, 2, 3.8054967936988744, 1.0, 121.22, 0.05, <1x26405 sparse matrix of type '<class 'numpy.float64'>'
	with 8 stored elements in Compressed Sparse Row format>, 0]
[3, 1, 2, 1, 0, 12, 4, 0, 4, 4.1298915892874355, 1.0, 36.62, 19.48, <1x26405 sparse matrix of type '<class 'numpy.float64'>'
	with 8 stored elements in Compressed Sparse Row format>, 0]
[5, 0, 1, 1, 0, 11, 7, 0, 5, 4.192549543398436, 1.0, -47.99, 19.48, <1x26405 sparse matrix of type '<class 'numpy.float64'>'
	with 8 stored elements in Compressed Sparse Row format>, 0]
[6, 1, 1, 0, 0, 10, 5, 1, 1, 4.132097260081905, 1.0, 121.22, 19.48, <1x26405 sparse matrix of type '<class 'numpy.float64'>'
	with 8 stored elements in Compressed Sparse Row format>, 0]
[4, 2, 1, 0, 1, 8, 7, 0, 1, 4.074221202169004, 1.0, 36.62, 0.05, <1x26405 sparse matrix of type '<class 'numpy.float64'>'
	with 8 stored elements in Compressed Sparse Row format>, 1]
[1, 0, 1, 0, 0, 2, 1, 1, 0, 3.7256507561120933, 1.0, 36.62, 0.05, <1x26405 sparse matrix of type '<class 'numpy.float64'>'
	with 8 stored elements in Compressed Sparse Row format>, 0]
[5, 0, 4, 0, 4, 11, 11, 0, 4, 3.963243991614177, 1.0, 121.22, 0.05, <1x26405 sparse matrix of type '<class 'numpy.float64'>'
	with 8 stored elements in Compressed Sparse Row format>, 1]
[6, 1, 2, 1, 3, 11, 5, 2, 6, 3.838616414328624, 1.0, 121.22, 19.48, <1x26405 sparse matrix of type '<class 'numpy.float64'>'
	with 8 stored elements in Compressed Sparse Row format>, 0]
[4, 1, 4, 0, 2, 11, 7, 1, 4, 3.9423445992444552, 1.0, 121.22, 0.05, <1x26405 sparse matrix of type '<class 'numpy.float64'>'
	with 8 stored elements in Compressed Sparse Row format>, 1]
[3, 3, 2, 0, 2, 9, 8, 1, 2, 3.943073690875833, 1.0, 121.22, 0.05, <1x26405 sparse matrix of type '<class 'numpy.float64'>'
	with 8 stored elements in Compressed Sparse Row format>, 1]
[7, 1, 1, 0, 0, 10, 7, 1, 1, 3.892479218257504, 1.0, 36.62, 19.48, <1x26405 sparse matrix of type '<class 'numpy.float64'>'
	with 8 stored elements in Compressed Sparse Row format>, 0]
[1, 1, 1, 0, 1, 4, 2, 0, 1, 4.004364184708142, 1.0, -47.99, 19.48, <1x26405 sparse matrix of type '<class 'numpy.float64'>'
	with 8 stored elements in Compressed Sparse Row format>, 0]
[5, 2, 1, 0, 2, 8, 6, 0, 2, 4.1087182390173345, 0.9, 121.22, 19.48, <1x26405 sparse matrix of type '<class 'numpy.float64'>'
	with 8 stored elements in Compressed Sparse Row format>, 1]
[6, 0, 3, 2, 0, 11, 6, 2, 5, 3.9452470364762116, 1.0, 36.62, 19.48, <1x26405 sparse matrix of type '<class 'numpy.float64'>'
	with 8 stored elements in Compressed Sparse Row format>, 0]
[6, 2, 3, 1, 3, 13, 9, 0, 7, 4.006121159963168, 0.9411764705882353, 121.22, 0.05, <1x26405 sparse matrix of type '<class 'numpy.float64'>'
	with 8 stored elements in Compressed Sparse Row format>, 0]
[7, 0, 1, 0, 0, 11, 3, 2, 2, 4.1011654930623545, 1.0, 36.62, 19.48, <1x26405 sparse matrix of type '<class 'numpy.float64'>'
	with 8 stored elements in Compressed Sparse Row format>, 0]
[6, 2, 2, 1, 1, 13, 9, 0, 5, 3.7183266606963414, 1.0, -47.99, 19.48, <1x26405 sparse matrix of type '<class 'numpy.float64'>'
	with 8 stored elements in Compressed Sparse Row format>, 0]
[1, 0, 0, 0, 3, 3, 2, 0, 4, 3.6194705707972514, 1.0, 121.22, 0.05, <1x26405 sparse matrix of type '<class 'numpy.float64'>'
	with 8 stored elements in Compressed Sparse Row format>, 0]
[4, 0, 2, 0, 0, 11, 7, 0, 4, 3.8138506333689395, 0.9090909090909091, 121.22, 0.05, <1x26405 sparse matrix of type '<class 'numpy.float64'>'
	with 8 stored elements in Compressed Sparse Row format>, 0]
[4, 4, 1, 1, 2, 11, 5, 0, 6, 4.083422115702401, 0.9285714285714286, 121.22, 0.05, <1x26405 sparse matrix of type '<class 'numpy.float64'>'
	with 8 stored elements in Compressed Sparse Row format>, 0]
[3, 0, 1, 0, 0, 5, 5, 0, 0, 3.975176777217263, 1.0, -47.99, 19.48, <1x26405 sparse matrix of type '<class 'numpy.float64'>'
	with 8 stored elements in Compressed Sparse Row format>, 1]
[4, 2, 1, 0, 0, 8, 7, 0, 1, 3.843122809943523, 1.0, 36.62, 19.48, <1x26405 sparse matrix of type '<class 'numpy.float64'>'
	with 8 stored elements in Compressed Sparse Row format>, 1]
[2, 1, 1, 0, 1, 6, 5, 0, 2, 3.837326145256008, 1.0, 121.22, 0.05, <1x26405 sparse matrix of type '<class 'numpy.float64'>'
	with 8 stored elements in Compressed Sparse Row format>, 0]
[7, 1, 3, 0, 1, 14, 9, 0, 4, 4.042074437340347, 1.0, 121.22, 19.48, <1x26405 sparse matrix of type '<class 'numpy.float64'>'
	with 8 stored elements in Compressed Sparse Row format>, 1]
[6, 2, 1, 0, 1, 11, 7, 1, 3, 4.154681025957567, 1.0, 36.62, 19.48, <1x26405 sparse matrix of type '<class 'numpy.float64'>'
	with 8 stored elements in Compressed Sparse Row format>, 1]
[3, 2, 1, 0, 0, 6, 4, 1, 0, 3.863902104941715, 1.0, 36.62, 19.48, <1x26405 sparse matrix of type '<class 'numpy.float64'>'
	with 8 stored elements in Compressed Sparse Row format>, 1]
[5, 0, 1, 0, 2, 6, 3, 1, 3, 3.9046103859914405, 1.0, 36.62, 19.48, <1x26405 sparse matrix of type '<class 'numpy.float64'>'
	with 8 stored elements in Compressed Sparse Row format>, 0]
[2, 1, 1, 0, 1, 4, 4, 0, 1, 3.8980685120588383, 1.0, 36.62, 19.48, <1x26405 sparse matrix of type '<class 'numpy.float64'>'
	with 8 stored elements in Compressed Sparse Row format>, 0]
[4, 0, 1, 0, 2, 9, 4, 0, 6, 4.091026920090057, 1.0, 121.22, 0.05, <1x26405 sparse matrix of type '<class 'numpy.float64'>'
	with 8 stored elements in Compressed Sparse Row format>, 0]
[5, 1, 3, 0, 2, 11, 10, 0, 3, 4.155302767285254, 0.9230769230769231, 36.62, 0.05, <1x26405 sparse matrix of type '<class 'numpy.float64'>'
	with 8 stored elements in Compressed Sparse Row format>, 1]
[9, 0, 2, 0, 1, 13, 8, 3, 3, 4.01748492921573, 0.9285714285714286, -47.99, 19.48, <1x26405 sparse matrix of type '<class 'numpy.float64'>'
	with 8 stored elements in Compressed Sparse Row format>, 0]
[4, 2, 1, 0, 1, 7, 6, 0, 1, 3.8820281164162704, 1.0, 121.22, 19.48, <1x26405 sparse matrix of type '<class 'numpy.float64'>'
	with 8 stored elements in Compressed Sparse Row format>, 1]
[6, 1, 3, 1, 2, 11, 9, 0, 5, 4.006493955042451, 1.0, 36.62, 19.48, <1x26405 sparse matrix of type '<class 'numpy.float64'>'
	with 8 stored elements in Compressed Sparse Row format>, 1]
[6, 2, 3, 0, 1, 13, 8, 1, 3, 4.000223465880022, 1.0, 121.22, 19.48, <1x26405 sparse matrix of type '<class 'numpy.float64'>'
	with 8 stored elements in Compressed Sparse Row format>, 0]
[5, 1, 2, 0, 1, 9, 7, 2, 1, 3.9921819113189843, 1.0, 36.62, 0.05, <1x26405 sparse matrix of type '<class 'numpy.float64'>'
	with 8 stored elements in Compressed Sparse Row format>, 1]
[5, 1, 0, 0, 1, 5, 5, 0, 0, 3.975014651451345, 1.0, -132.59, 19.48, <1x26405 sparse matrix of type '<class 'numpy.float64'>'
	with 8 stored elements in Compressed Sparse Row format>, 0]
[6, 1, 0, 0, 1, 9, 5, 2, 2, 3.7802581103624915, 1.0, 121.22, 19.48, <1x26405 sparse matrix of type '<class 'numpy.float64'>'
	with 8 stored elements in Compressed Sparse Row format>, 0]
[3, 1, 3, 0, 1, 10, 9, 0, 2, 3.8341629829402306, 1.0, 121.22, 0.05, <1x26405 sparse matrix of type '<class 'numpy.float64'>'
	with 8 stored elements in Compressed Sparse Row format>, 1]
[5, 2, 1, 0, 0, 9, 5, 1, 0, 3.9649438457885435, 1.0, -132.59, 19.48, <1x26405 sparse matrix of type '<class 'numpy.float64'>'
	with 8 stored elements in Compressed Sparse Row format>, 1]
[3, 2, 0, 0, 1, 6, 5, 0, 2, 3.7603826520482295, 1.0, 121.22, 0.05, <1x26405 sparse matrix of type '<class 'numpy.float64'>'
	with 8 stored elements in Compressed Sparse Row format>, 0]
[3, 1, 3, 1, 1, 11, 9, 0, 4, 3.9673286772434007, 1.0, 121.22, 19.48, <1x26405 sparse matrix of type '<class 'numpy.float64'>'
	with 8 stored elements in Compressed Sparse Row format>, 1]
[4, 3, 2, 0, 4, 10, 8, 0, 5, 4.012896938519621, 0.9285714285714286, 121.22, 0.05, <1x26405 sparse matrix of type '<class 'numpy.float64'>'
	with 8 stored elements in Compressed Sparse Row format>, 1]
[4, 2, 1, 0, 1, 7, 6, 0, 1, 3.906593686326495, 1.0, 121.22, 0.05, <1x26405 sparse matrix of type '<class 'numpy.float64'>'
	with 8 stored elements in Compressed Sparse Row format>, 0]
[1, 2, 3, 0, 0, 7, 5, 0, 2, 3.9273280297983852, 1.0, 36.62, 19.48, <1x26405 sparse matrix of type '<class 'numpy.float64'>'
	with 8 stored elements in Compressed Sparse Row format>, 0]
[7, 0, 1, 0, 2, 12, 6, 0, 6, 4.085538415954299, 1.0, 121.22, 0.05, <1x26405 sparse matrix of type '<class 'numpy.float64'>'
	with 8 stored elements in Compressed Sparse Row format>, 1]
[5, 1, 3, 0, 0, 11, 9, 0, 2, 4.085029778475723, 1.0, 36.62, 0.05, <1x26405 sparse matrix of type '<class 'numpy.float64'>'
	with 8 stored elements in Compressed Sparse Row format>, 1]
[6, 1, 4, 0, 3, 8, 2, 1, 4, 4.300698784097876, 1.0, 36.62, 19.48, <1x26405 sparse matrix of type '<class 'numpy.float64'>'
	with 8 stored elements in Compressed Sparse Row format>, 0]
[6, 3, 1, 0, 3, 11, 9, 0, 4, 3.9869139923176315, 1.0, 121.22, 19.48, <1x26405 sparse matrix of type '<class 'numpy.float64'>'
	with 8 stored elements in Compressed Sparse Row format>, 1]
[2, 1, 2, 1, 3, 7, 4, 0, 6, 4.037826637596876, 1.0, 36.62, 0.05, <1x26405 sparse matrix of type '<class 'numpy.float64'>'
	with 8 stored elements in Compressed Sparse Row format>, 0]
[5, 1, 2, 0, 1, 9, 7, 1, 2, 3.9098456425270696, 1.0, 121.22, 19.48, <1x26405 sparse matrix of type '<class 'numpy.float64'>'
	with 8 stored elements in Compressed Sparse Row format>, 0]
[3, 1, 1, 1, 2, 8, 5, 1, 4, 4.1013958641109785, 1.0, 36.62, 0.05, <1x26405 sparse matrix of type '<class 'numpy.float64'>'
	with 8 stored elements in Compressed Sparse Row format>, 0]
[2, 0, 3, 0, 0, 9, 4, 0, 4, 4.064131596688028, 1.0, 121.22, 0.05, <1x26405 sparse matrix of type '<class 'numpy.float64'>'
	with 8 stored elements in Compressed Sparse Row format>, 0]
[6, 2, 0, 0, 0, 11, 7, 2, 2, 4.1205729758688365, 1.0, 121.22, 0.05, <1x26405 sparse matrix of type '<class 'numpy.float64'>'
	with 8 stored elements in Compressed Sparse Row format>, 0]
[5, 0, 1, 0, 1, 6, 5, 1, 1, 3.855152912549533, 1.0, -132.59, 19.48, <1x26405 sparse matrix of type '<class 'numpy.float64'>'
	with 8 stored elements in Compressed Sparse Row format>, 0]
[4, 0, 4, 0, 1, 11, 6, 0, 4, 4.071162116119603, 1.0, 121.22, 19.48, <1x26405 sparse matrix of type '<class 'numpy.float64'>'
	with 8 stored elements in Compressed Sparse Row format>, 0]
[4, 1, 4, 0, 4, 14, 6, 0, 9, 3.8703165986224017, 0.9444444444444444, 121.22, 0.05, <1x26405 sparse matrix of type '<class 'numpy.float64'>'
	with 8 stored elements in Compressed Sparse Row format>, 0]
[3, 2, 2, 0, 2, 8, 6, 0, 3, 4.056639319892359, 1.0, 121.22, 0.05, <1x26405 sparse matrix of type '<class 'numpy.float64'>'
	with 8 stored elements in Compressed Sparse Row format>, 0]
[2, 1, 2, 0, 1, 7, 6, 0, 1, 3.8308413360314746, 1.0, 36.62, 19.48, <1x26405 sparse matrix of type '<class 'numpy.float64'>'
	with 8 stored elements in Compressed Sparse Row format>, 1]
[4, 3, 2, 0, 0, 10, 5, 2, 1, 4.1283271293437975, 1.0, -132.59, 19.48, <1x26405 sparse matrix of type '<class 'numpy.float64'>'
	with 8 stored elements in Compressed Sparse Row format>, 1]
[4, 0, 2, 0, 1, 10, 6, 1, 4, 4.173490996100602, 0.9090909090909091, 121.22, 19.48, <1x26405 sparse matrix of type '<class 'numpy.float64'>'
	with 8 stored elements in Compressed Sparse Row format>, 1]
[4, 3, 0, 1, 1, 8, 6, 1, 3, 3.809967211962292, 1.0, 36.62, 19.48, <1x26405 sparse matrix of type '<class 'numpy.float64'>'
	with 8 stored elements in Compressed Sparse Row format>, 1]
[7, 1, 2, 0, 1, 14, 9, 1, 5, 3.8370056616370016, 0.9333333333333333, 121.22, 0.05, <1x26405 sparse matrix of type '<class 'numpy.float64'>'
	with 8 stored elements in Compressed Sparse Row format>, 1]
[4, 2, 2, 0, 1, 11, 7, 0, 3, 4.164645099766032, 1.0, 121.22, 0.05, <1x26405 sparse matrix of type '<class 'numpy.float64'>'
	with 8 stored elements in Compressed Sparse Row format>, 1]
[5, 0, 2, 0, 1, 7, 7, 0, 1, 3.6248212682969156, 0.875, 36.62, 19.48, <1x26405 sparse matrix of type '<class 'numpy.float64'>'
	with 8 stored elements in Compressed Sparse Row format>, 1]
[5, 1, 0, 0, 0, 10, 4, 0, 4, 3.959603521310294, 1.0, -47.99, 0.05, <1x26405 sparse matrix of type '<class 'numpy.float64'>'
	with 8 stored elements in Compressed Sparse Row format>, 1]
[4, 1, 2, 0, 2, 9, 7, 0, 2, 4.3083360595525955, 1.0, -47.99, 19.48, <1x26405 sparse matrix of type '<class 'numpy.float64'>'
	with 8 stored elements in Compressed Sparse Row format>, 1]
[4, 1, 2, 0, 5, 8, 5, 0, 8, 3.8781484458393054, 1.0, 121.22, 0.05, <1x26405 sparse matrix of type '<class 'numpy.float64'>'
	with 8 stored elements in Compressed Sparse Row format>, 1]
[3, 2, 1, 0, 1, 9, 5, 0, 5, 4.065220400113786, 1.0, 121.22, 0.05, <1x26405 sparse matrix of type '<class 'numpy.float64'>'
	with 8 stored elements in Compressed Sparse Row format>, 1]
[1, 3, 1, 0, 4, 5, 4, 0, 3, 3.7746473126403797, 1.0, 121.22, 19.48, <1x26405 sparse matrix of type '<class 'numpy.float64'>'
	with 8 stored elements in Compressed Sparse Row format>, 1]
[2, 0, 1, 0, 2, 4, 4, 0, 2, 3.7614063297218423, 1.0, 36.62, 19.48, <1x26405 sparse matrix of type '<class 'numpy.float64'>'
	with 8 stored elements in Compressed Sparse Row format>, 0]
[4, 1, 1, 0, 1, 8, 5, 0, 3, 3.9700687954387046, 1.0, 36.62, 19.48, <1x26405 sparse matrix of type '<class 'numpy.float64'>'
	with 8 stored elements in Compressed Sparse Row format>, 0]
[5, 2, 2, 0, 2, 10, 9, 0, 3, 3.877177149575114, 1.0, 121.22, 0.05, <1x26405 sparse matrix of type '<class 'numpy.float64'>'
	with 8 stored elements in Compressed Sparse Row format>, 1]
[3, 1, 3, 0, 1, 9, 2, 0, 4, 4.081747562960808, 1.0, 36.62, 0.05, <1x26405 sparse matrix of type '<class 'numpy.float64'>'
	with 8 stored elements in Compressed Sparse Row format>, 0]
[7, 0, 3, 0, 2, 10, 9, 0, 2, 3.9356765370029936, 1.0, 36.62, 0.05, <1x26405 sparse matrix of type '<class 'numpy.float64'>'
	with 8 stored elements in Compressed Sparse Row format>, 1]
[3, 2, 2, 0, 0, 7, 5, 1, 0, 3.8897472847035406, 1.0, 36.62, 19.48, <1x26405 sparse matrix of type '<class 'numpy.float64'>'
	with 8 stored elements in Compressed Sparse Row format>, 1]
[5, 1, 0, 0, 0, 9, 4, 2, 2, 4.111168182485986, 1.0, 36.62, 0.05, <1x26405 sparse matrix of type '<class 'numpy.float64'>'
	with 8 stored elements in Compressed Sparse Row format>, 0]
[3, 1, 1, 0, 2, 6, 3, 1, 2, 4.157719259958335, 1.0, 36.62, 19.48, <1x26405 sparse matrix of type '<class 'numpy.float64'>'
	with 8 stored elements in Compressed Sparse Row format>, 0]
[1, 2, 1, 0, 0, 6, 5, 0, 1, 3.783014003266002, 1.0, 121.22, 19.48, <1x26405 sparse matrix of type '<class 'numpy.float64'>'
	with 8 stored elements in Compressed Sparse Row format>, 1]
[3, 0, 3, 0, 2, 6, 5, 0, 2, 3.990267970638149, 0.875, 121.22, 19.48, <1x26405 sparse matrix of type '<class 'numpy.float64'>'
	with 8 stored elements in Compressed Sparse Row format>, 1]
[6, 2, 1, 0, 3, 11, 10, 0, 4, 4.0091008253865015, 0.9285714285714286, 121.22, 19.48, <1x26405 sparse matrix of type '<class 'numpy.float64'>'
	with 8 stored elements in Compressed Sparse Row format>, 1]
[1, 0, 2, 1, 3, 4, 3, 0, 4, 3.1600115303896286, 0.875, 121.22, 19.48, <1x26405 sparse matrix of type '<class 'numpy.float64'>'
	with 8 stored elements in Compressed Sparse Row format>, 0]
[3, 3, 1, 0, 1, 8, 7, 0, 2, 4.146430769455624, 1.0, 121.22, 19.48, <1x26405 sparse matrix of type '<class 'numpy.float64'>'
	with 8 stored elements in Compressed Sparse Row format>, 1]
[3, 1, 0, 0, 1, 7, 5, 0, 3, 3.67795610610364, 1.0, 121.22, 0.05, <1x26405 sparse matrix of type '<class 'numpy.float64'>'
	with 8 stored elements in Compressed Sparse Row format>, 0]
[5, 2, 1, 0, 2, 9, 7, 0, 2, 4.1305873275744736, 1.0, 36.62, 19.48, <1x26405 sparse matrix of type '<class 'numpy.float64'>'
	with 8 stored elements in Compressed Sparse Row format>, 1]
[7, 2, 2, 0, 3, 13, 11, 0, 5, 4.087903537267572, 1.0, 36.62, 0.05, <1x26405 sparse matrix of type '<class 'numpy.float64'>'
	with 8 stored elements in Compressed Sparse Row format>, 1]
[3, 1, 2, 0, 1, 10, 6, 0, 5, 3.960331473010424, 1.0, 121.22, 0.05, <1x26405 sparse matrix of type '<class 'numpy.float64'>'
	with 8 stored elements in Compressed Sparse Row format>, 0]
[0, 0, 3, 0, 3, 7, 3, 0, 7, 3.776968665493096, 0.9, 36.62, 0.05, <1x26405 sparse matrix of type '<class 'numpy.float64'>'
	with 8 stored elements in Compressed Sparse Row format>, 0]
[1, 1, 0, 0, 1, 3, 1, 0, 2, 3.878928031846024, 1.0, -47.99, 19.48, <1x26405 sparse matrix of type '<class 'numpy.float64'>'
	with 8 stored elements in Compressed Sparse Row format>, 0]
[4, 1, 3, 1, 3, 8, 7, 0, 5, 3.835956227082782, 0.9166666666666666, 121.22, 19.48, <1x26405 sparse matrix of type '<class 'numpy.float64'>'
	with 8 stored elements in Compressed Sparse Row format>, 1]
[6, 0, 0, 1, 1, 7, 4, 0, 2, 4.137907837484891, 1.0, 121.22, 19.48, <1x26405 sparse matrix of type '<class 'numpy.float64'>'
	with 8 stored elements in Compressed Sparse Row format>, 0]
[3, 1, 0, 0, 1, 4, 3, 1, 1, 3.952819531114783, 1.0, 36.62, 19.48, <1x26405 sparse matrix of type '<class 'numpy.float64'>'
	with 8 stored elements in Compressed Sparse Row format>, 0]
[1, 3, 2, 0, 1, 6, 4, 1, 1, 3.863826390090815, 1.0, 121.22, 0.05, <1x26405 sparse matrix of type '<class 'numpy.float64'>'
	with 8 stored elements in Compressed Sparse Row format>, 0]
[3, 0, 1, 0, 1, 6, 4, 0, 3, 4.099436412484688, 1.0, -47.99, 19.48, <1x26405 sparse matrix of type '<class 'numpy.float64'>'
	with 8 stored elements in Compressed Sparse Row format>, 0]
[5, 2, 1, 0, 2, 9, 7, 0, 4, 4.003101360213843, 1.0, 121.22, 0.05, <1x26405 sparse matrix of type '<class 'numpy.float64'>'
	with 8 stored elements in Compressed Sparse Row format>, 1]
[3, 0, 2, 0, 3, 4, 4, 0, 3, 3.908549096875309, 1.0, 121.22, 0.05, <1x26405 sparse matrix of type '<class 'numpy.float64'>'
	with 8 stored elements in Compressed Sparse Row format>, 1]
[8, 2, 5, 0, 1, 16, 14, 0, 2, 4.243130808750545, 1.0, 121.22, 19.48, <1x26405 sparse matrix of type '<class 'numpy.float64'>'
	with 8 stored elements in Compressed Sparse Row format>, 1]
[4, 2, 0, 1, 0, 7, 2, 1, 2, 3.9656545976526774, 1.0, 36.62, 19.48, <1x26405 sparse matrix of type '<class 'numpy.float64'>'
	with 8 stored elements in Compressed Sparse Row format>, 0]
[3, 1, 4, 0, 2, 8, 7, 0, 3, 3.8100935239808127, 1.0, 121.22, 19.48, <1x26405 sparse matrix of type '<class 'numpy.float64'>'
	with 8 stored elements in Compressed Sparse Row format>, 1]
[3, 0, 0, 0, 0, 3, 1, 0, 0, 3.880179922675737, 1.0, 121.22, 19.48, <1x26405 sparse matrix of type '<class 'numpy.float64'>'
	with 8 stored elements in Compressed Sparse Row format>, 1]
[4, 0, 2, 0, 2, 6, 5, 0, 2, 3.831195636817322, 1.0, 36.62, 0.05, <1x26405 sparse matrix of type '<class 'numpy.float64'>'
	with 8 stored elements in Compressed Sparse Row format>, 1]
[2, 2, 1, 0, 0, 6, 5, 0, 1, 3.6694802116922145, 1.0, 121.22, 0.05, <1x26405 sparse matrix of type '<class 'numpy.float64'>'
	with 8 stored elements in Compressed Sparse Row format>, 1]
[3, 0, 3, 0, 3, 5, 4, 1, 3, 3.5921729702862844, 1.0, 121.22, 19.48, <1x26405 sparse matrix of type '<class 'numpy.float64'>'
	with 8 stored elements in Compressed Sparse Row format>, 0]
[3, 1, 3, 0, 1, 9, 5, 0, 4, 4.0672606548594334, 1.0, 121.22, 0.05, <1x26405 sparse matrix of type '<class 'numpy.float64'>'
	with 8 stored elements in Compressed Sparse Row format>, 0]
[5, 2, 2, 0, 1, 11, 8, 0, 3, 4.1177180808466645, 1.0, 36.62, 19.48, <1x26405 sparse matrix of type '<class 'numpy.float64'>'
	with 8 stored elements in Compressed Sparse Row format>, 0]
[3, 0, 1, 0, 1, 8, 2, 0, 5, 4.097910137154547, 1.0, -217.19, 19.48, <1x26405 sparse matrix of type '<class 'numpy.float64'>'
	with 8 stored elements in Compressed Sparse Row format>, 0]
[2, 0, 1, 1, 1, 4, 1, 0, 3, 3.619226052798031, 1.0, 36.62, 19.48, <1x26405 sparse matrix of type '<class 'numpy.float64'>'
	with 8 stored elements in Compressed Sparse Row format>, 0]
[6, 1, 1, 0, 0, 11, 7, 2, 1, 3.974354089228963, 1.0, 36.62, 19.48, <1x26405 sparse matrix of type '<class 'numpy.float64'>'
	with 8 stored elements in Compressed Sparse Row format>, 0]
[3, 2, 2, 0, 0, 8, 6, 1, 0, 4.012855126722911, 1.0, -47.99, 0.05, <1x26405 sparse matrix of type '<class 'numpy.float64'>'
	with 8 stored elements in Compressed Sparse Row format>, 0]
[5, 0, 2, 0, 0, 8, 7, 0, 0, 3.948608396241828, 1.0, 121.22, 19.48, <1x26405 sparse matrix of type '<class 'numpy.float64'>'
	with 8 stored elements in Compressed Sparse Row format>, 1]
[1, 3, 1, 0, 0, 5, 3, 1, 0, 4.044591028076322, 1.0, 121.22, 35.27, <1x26405 sparse matrix of type '<class 'numpy.float64'>'
	with 8 stored elements in Compressed Sparse Row format>, 1]
[3, 0, 1, 0, 0, 5, 4, 1, 0, 3.780881575003209, 1.0, 121.22, 19.48, <1x26405 sparse matrix of type '<class 'numpy.float64'>'
	with 8 stored elements in Compressed Sparse Row format>, 1]
[3, 0, 2, 0, 1, 6, 6, 0, 1, 4.094000160564932, 1.0, 36.62, 19.48, <1x26405 sparse matrix of type '<class 'numpy.float64'>'
	with 8 stored elements in Compressed Sparse Row format>, 1]
[2, 0, 2, 0, 3, 7, 4, 1, 4, 4.036526564885099, 1.0, 121.22, 19.48, <1x26405 sparse matrix of type '<class 'numpy.float64'>'
	with 8 stored elements in Compressed Sparse Row format>, 0]
[3, 1, 3, 0, 0, 10, 7, 0, 3, 3.9442926213631604, 1.0, 121.22, 19.48, <1x26405 sparse matrix of type '<class 'numpy.float64'>'
	with 8 stored elements in Compressed Sparse Row format>, 0]
[4, 1, 1, 1, 0, 9, 6, 0, 3, 3.8535670012070478, 1.0, 121.22, 0.05, <1x26405 sparse matrix of type '<class 'numpy.float64'>'
	with 8 stored elements in Compressed Sparse Row format>, 0]
[4, 0, 1, 0, 0, 8, 5, 0, 2, 3.8383420817371228, 0.875, 121.22, 19.48, <1x26405 sparse matrix of type '<class 'numpy.float64'>'
	with 8 stored elements in Compressed Sparse Row format>, 0]
[2, 0, 1, 1, 0, 4, 2, 1, 2, 3.4266160458809476, 1.0, 121.22, 0.05, <1x26405 sparse matrix of type '<class 'numpy.float64'>'
	with 8 stored elements in Compressed Sparse Row format>, 0]
[5, 2, 2, 0, 0, 10, 6, 1, 1, 4.082009239979205, 1.0, -132.59, 19.48, <1x26405 sparse matrix of type '<class 'numpy.float64'>'
	with 8 stored elements in Compressed Sparse Row format>, 0]
[2, 1, 3, 1, 2, 9, 6, 0, 6, 3.965136245195666, 1.0, 36.62, 19.48, <1x26405 sparse matrix of type '<class 'numpy.float64'>'
	with 8 stored elements in Compressed Sparse Row format>, 0]
[4, 1, 3, 0, 2, 10, 7, 1, 3, 3.9281392929844596, 0.9166666666666666, 121.22, 0.05, <1x26405 sparse matrix of type '<class 'numpy.float64'>'
	with 8 stored elements in Compressed Sparse Row format>, 0]
[4, 1, 1, 0, 1, 6, 4, 1, 1, 4.15639777085397, 1.0, -47.99, 19.48, <1x26405 sparse matrix of type '<class 'numpy.float64'>'
	with 8 stored elements in Compressed Sparse Row format>, 1]
[1, 4, 3, 0, 4, 10, 7, 0, 6, 3.9611963381099287, 1.0, 121.22, 19.48, <1x26405 sparse matrix of type '<class 'numpy.float64'>'
	with 8 stored elements in Compressed Sparse Row format>, 0]
[3, 0, 3, 0, 3, 9, 6, 0, 6, 3.7016677374940246, 1.0, 121.22, 0.05, <1x26405 sparse matrix of type '<class 'numpy.float64'>'
	with 8 stored elements in Compressed Sparse Row format>, 1]
[5, 2, 2, 0, 2, 14, 10, 0, 6, 3.9815340368173144, 1.0, 121.22, 19.48, <1x26405 sparse matrix of type '<class 'numpy.float64'>'
	with 8 stored elements in Compressed Sparse Row format>, 1]
[4, 1, 0, 0, 1, 7, 4, 0, 3, 3.666454714346447, 0.875, 121.22, 19.48, <1x26405 sparse matrix of type '<class 'numpy.float64'>'
	with 8 stored elements in Compressed Sparse Row format>, 0]
[5, 1, 3, 1, 3, 11, 9, 0, 6, 4.045735216790844, 1.0, 36.62, 19.48, <1x26405 sparse matrix of type '<class 'numpy.float64'>'
	with 8 stored elements in Compressed Sparse Row format>, 1]
[3, 0, 0, 0, 1, 5, 1, 0, 2, 3.917837797403416, 1.0, 121.22, 0.05, <1x26405 sparse matrix of type '<class 'numpy.float64'>'
	with 8 stored elements in Compressed Sparse Row format>, 0]
[3, 2, 2, 0, 3, 7, 7, 0, 3, 3.5959904234396554, 1.0, 36.62, 0.05, <1x26405 sparse matrix of type '<class 'numpy.float64'>'
	with 8 stored elements in Compressed Sparse Row format>, 1]
[5, 2, 2, 0, 1, 11, 8, 1, 3, 4.03042433997469, 1.0, 121.22, 19.48, <1x26405 sparse matrix of type '<class 'numpy.float64'>'
	with 8 stored elements in Compressed Sparse Row format>, 0]
[3, 0, 2, 0, 1, 5, 4, 1, 1, 3.755057619938308, 1.0, 36.62, 19.48, <1x26405 sparse matrix of type '<class 'numpy.float64'>'
	with 8 stored elements in Compressed Sparse Row format>, 1]
[5, 2, 2, 0, 1, 11, 6, 2, 3, 3.978128144890045, 1.0, -47.99, 19.48, <1x26405 sparse matrix of type '<class 'numpy.float64'>'
	with 8 stored elements in Compressed Sparse Row format>, 0]
[2, 0, 0, 0, 1, 3, 2, 0, 2, 3.9210296217376146, 1.0, 36.62, 0.05, <1x26405 sparse matrix of type '<class 'numpy.float64'>'
	with 8 stored elements in Compressed Sparse Row format>, 0]
[4, 1, 1, 0, 1, 6, 6, 0, 1, 4.0627759586012555, 1.0, 121.22, 0.05, <1x26405 sparse matrix of type '<class 'numpy.float64'>'
	with 8 stored elements in Compressed Sparse Row format>, 1]
[2, 2, 3, 0, 2, 10, 8, 0, 4, 3.886108731486134, 1.0, 121.22, 0.05, <1x26405 sparse matrix of type '<class 'numpy.float64'>'
	with 8 stored elements in Compressed Sparse Row format>, 1]
[1, 1, 3, 0, 1, 7, 3, 0, 4, 3.9664825450691796, 1.0, 121.22, 0.05, <1x26405 sparse matrix of type '<class 'numpy.float64'>'
	with 8 stored elements in Compressed Sparse Row format>, 0]
[5, 2, 0, 0, 0, 10, 7, 1, 2, 4.033042081514928, 1.0, 121.22, 0.05, <1x26405 sparse matrix of type '<class 'numpy.float64'>'
	with 8 stored elements in Compressed Sparse Row format>, 0]
[4, 2, 1, 0, 0, 10, 8, 0, 2, 3.8636526934035422, 1.0, 121.22, 0.05, <1x26405 sparse matrix of type '<class 'numpy.float64'>'
	with 8 stored elements in Compressed Sparse Row format>, 0]
[2, 1, 1, 0, 0, 5, 5, 0, 0, 4.0510701186176235, 1.0, 121.22, 0.05, <1x26405 sparse matrix of type '<class 'numpy.float64'>'
	with 8 stored elements in Compressed Sparse Row format>, 1]
[5, 2, 1, 0, 0, 9, 8, 0, 1, 3.966878176926599, 1.0, 36.62, 19.48, <1x26405 sparse matrix of type '<class 'numpy.float64'>'
	with 8 stored elements in Compressed Sparse Row format>, 1]
[4, 1, 1, 0, 1, 9, 6, 0, 2, 4.06011806806287, 1.0, 121.22, 0.05, <1x26405 sparse matrix of type '<class 'numpy.float64'>'
	with 8 stored elements in Compressed Sparse Row format>, 1]
[6, 1, 1, 0, 1, 8, 8, 0, 1, 4.083368389304139, 1.0, 121.22, 19.48, <1x26405 sparse matrix of type '<class 'numpy.float64'>'
	with 8 stored elements in Compressed Sparse Row format>, 1]
[6, 3, 2, 0, 1, 14, 7, 1, 3, 4.224190907181182, 1.0, 36.62, 19.48, <1x26405 sparse matrix of type '<class 'numpy.float64'>'
	with 8 stored elements in Compressed Sparse Row format>, 1]
[3, 0, 4, 0, 0, 12, 4, 1, 6, 3.9624398294417347, 0.9166666666666666, 121.22, 0.05, <1x26405 sparse matrix of type '<class 'numpy.float64'>'
	with 8 stored elements in Compressed Sparse Row format>, 0]
[3, 2, 1, 0, 1, 6, 3, 1, 2, 4.046381112945884, 1.0, 121.22, 0.05, <1x26405 sparse matrix of type '<class 'numpy.float64'>'
	with 8 stored elements in Compressed Sparse Row format>, 0]
[3, 0, 2, 1, 0, 9, 6, 0, 3, 4.027880447234185, 0.9, 121.22, 0.05, <1x26405 sparse matrix of type '<class 'numpy.float64'>'
	with 8 stored elements in Compressed Sparse Row format>, 0]
[2, 2, 2, 0, 1, 8, 6, 0, 3, 3.846918795286884, 1.0, 121.22, 0.05, <1x26405 sparse matrix of type '<class 'numpy.float64'>'
	with 8 stored elements in Compressed Sparse Row format>, 1]
[6, 1, 3, 0, 0, 16, 10, 1, 5, 4.026329770571425, 1.0, 121.22, 19.48, <1x26405 sparse matrix of type '<class 'numpy.float64'>'
	with 8 stored elements in Compressed Sparse Row format>, 1]
[4, 3, 1, 0, 1, 8, 8, 0, 1, 4.109102105323984, 1.0, 121.22, 0.05, <1x26405 sparse matrix of type '<class 'numpy.float64'>'
	with 8 stored elements in Compressed Sparse Row format>, 1]
[3, 2, 2, 0, 2, 11, 9, 0, 4, 4.2376794441409045, 1.0, -132.59, 19.48, <1x26405 sparse matrix of type '<class 'numpy.float64'>'
	with 8 stored elements in Compressed Sparse Row format>, 1]
[3, 2, 3, 0, 1, 11, 8, 1, 3, 4.104026617996703, 1.0, 121.22, 0.05, <1x26405 sparse matrix of type '<class 'numpy.float64'>'
	with 8 stored elements in Compressed Sparse Row format>, 1]
[5, 0, 1, 0, 1, 9, 3, 1, 3, 4.22366775462873, 1.0, 121.22, 19.48, <1x26405 sparse matrix of type '<class 'numpy.float64'>'
	with 8 stored elements in Compressed Sparse Row format>, 0]
[7, 0, 2, 0, 1, 10, 2, 3, 2, 4.015011527582746, 1.0, 121.22, 19.48, <1x26405 sparse matrix of type '<class 'numpy.float64'>'
	with 8 stored elements in Compressed Sparse Row format>, 1]
[3, 1, 4, 0, 1, 10, 5, 0, 4, 4.170938384231636, 1.0, 121.22, 0.05, <1x26405 sparse matrix of type '<class 'numpy.float64'>'
	with 8 stored elements in Compressed Sparse Row format>, 0]
[1, 1, 1, 0, 0, 3, 3, 0, 0, 3.703465189601646, 1.0, 36.62, 19.48, <1x26405 sparse matrix of type '<class 'numpy.float64'>'
	with 8 stored elements in Compressed Sparse Row format>, 1]
[6, 2, 2, 0, 1, 15, 9, 2, 3, 4.122441677707933, 1.0, 36.62, 19.48, <1x26405 sparse matrix of type '<class 'numpy.float64'>'
	with 8 stored elements in Compressed Sparse Row format>, 1]
[0, 1, 2, 0, 1, 5, 2, 0, 3, 3.2673757978160416, 1.0, 121.22, 0.05, <1x26405 sparse matrix of type '<class 'numpy.float64'>'
	with 8 stored elements in Compressed Sparse Row format>, 0]
[7, 4, 2, 0, 0, 15, 11, 0, 1, 4.133147170665197, 1.0, -301.79, 19.48, <1x26405 sparse matrix of type '<class 'numpy.float64'>'
	with 8 stored elements in Compressed Sparse Row format>, 1]
[3, 1, 1, 0, 0, 8, 4, 0, 3, 3.812347228383706, 1.0, -47.99, 19.48, <1x26405 sparse matrix of type '<class 'numpy.float64'>'
	with 8 stored elements in Compressed Sparse Row format>, 0]
[8, 0, 1, 0, 1, 10, 4, 2, 2, 4.080075124986862, 1.0, 121.22, 19.48, <1x26405 sparse matrix of type '<class 'numpy.float64'>'
	with 8 stored elements in Compressed Sparse Row format>, 0]
[5, 1, 2, 0, 0, 9, 6, 1, 1, 3.858474880459797, 1.0, 36.62, 19.48, <1x26405 sparse matrix of type '<class 'numpy.float64'>'
	with 8 stored elements in Compressed Sparse Row format>, 0]
[4, 2, 1, 0, 2, 7, 4, 1, 2, 4.170543771152118, 1.0, 121.22, 0.05, <1x26405 sparse matrix of type '<class 'numpy.float64'>'
	with 8 stored elements in Compressed Sparse Row format>, 0]
[6, 1, 2, 0, 1, 10, 6, 0, 1, 4.041044472779778, 1.0, -132.59, 19.48, <1x26405 sparse matrix of type '<class 'numpy.float64'>'
	with 8 stored elements in Compressed Sparse Row format>, 0]
[6, 2, 2, 0, 1, 11, 9, 0, 2, 3.919085241626069, 1.0, 36.62, 19.48, <1x26405 sparse matrix of type '<class 'numpy.float64'>'
	with 8 stored elements in Compressed Sparse Row format>, 1]
[2, 1, 1, 0, 1, 6, 4, 0, 3, 3.9359357962188968, 1.0, 36.62, 19.48, <1x26405 sparse matrix of type '<class 'numpy.float64'>'
	with 8 stored elements in Compressed Sparse Row format>, 0]
[5, 0, 1, 0, 0, 8, 4, 0, 2, 3.902363643403254, 1.0, 36.62, 19.48, <1x26405 sparse matrix of type '<class 'numpy.float64'>'
	with 8 stored elements in Compressed Sparse Row format>, 0]
[5, 3, 3, 0, 2, 12, 10, 0, 4, 3.957489328598433, 1.0, 36.62, 19.48, <1x26405 sparse matrix of type '<class 'numpy.float64'>'
	with 8 stored elements in Compressed Sparse Row format>, 0]
[5, 0, 0, 1, 1, 6, 5, 0, 3, 3.904854106677527, 1.0, 36.62, 0.05, <1x26405 sparse matrix of type '<class 'numpy.float64'>'
	with 8 stored elements in Compressed Sparse Row format>, 0]
[2, 1, 3, 0, 1, 9, 4, 0, 5, 3.7233243344781153, 1.0, 121.22, 19.48, <1x26405 sparse matrix of type '<class 'numpy.float64'>'
	with 8 stored elements in Compressed Sparse Row format>, 0]
[5, 2, 2, 0, 1, 10, 8, 0, 2, 4.099464411380797, 1.0, 121.22, 0.05, <1x26405 sparse matrix of type '<class 'numpy.float64'>'
	with 8 stored elements in Compressed Sparse Row format>, 0]
[5, 2, 1, 0, 2, 12, 10, 0, 4, 4.142252110014805, 1.0, 121.22, 0.05, <1x26405 sparse matrix of type '<class 'numpy.float64'>'
	with 8 stored elements in Compressed Sparse Row format>, 1]
[3, 2, 1, 0, 3, 8, 5, 1, 4, 3.9957242774854334, 1.0, 121.22, 0.05, <1x26405 sparse matrix of type '<class 'numpy.float64'>'
	with 8 stored elements in Compressed Sparse Row format>, 1]
[3, 1, 1, 0, 1, 7, 6, 0, 2, 3.724613375544554, 1.0, 121.22, 19.48, <1x26405 sparse matrix of type '<class 'numpy.float64'>'
	with 8 stored elements in Compressed Sparse Row format>, 0]
[4, 3, 3, 0, 3, 11, 5, 2, 4, 3.924365439997744, 1.0, 121.22, 0.05, <1x26405 sparse matrix of type '<class 'numpy.float64'>'
	with 8 stored elements in Compressed Sparse Row format>, 0]
[2, 3, 2, 0, 0, 9, 7, 0, 2, 4.220560405627463, 1.0, 121.22, 0.05, <1x26405 sparse matrix of type '<class 'numpy.float64'>'
	with 8 stored elements in Compressed Sparse Row format>, 1]
[6, 3, 2, 0, 4, 17, 11, 1, 9, 4.017761008508831, 1.0, 36.62, 19.48, <1x26405 sparse matrix of type '<class 'numpy.float64'>'
	with 8 stored elements in Compressed Sparse Row format>, 0]
[4, 3, 1, 0, 0, 9, 5, 1, 1, 4.285638577043016, 1.0, 121.22, 19.48, <1x26405 sparse matrix of type '<class 'numpy.float64'>'
	with 8 stored elements in Compressed Sparse Row format>, 1]
[3, 0, 0, 0, 0, 4, 1, 1, 1, 3.865764637179023, 1.0, -47.99, 19.48, <1x26405 sparse matrix of type '<class 'numpy.float64'>'
	with 8 stored elements in Compressed Sparse Row format>, 0]
[6, 1, 4, 0, 2, 15, 5, 1, 6, 4.052369225993603, 0.9411764705882353, 121.22, 19.48, <1x26405 sparse matrix of type '<class 'numpy.float64'>'
	with 8 stored elements in Compressed Sparse Row format>, 1]
[7, 2, 2, 0, 1, 12, 9, 0, 2, 4.078648468789147, 1.0, 121.22, 0.05, <1x26405 sparse matrix of type '<class 'numpy.float64'>'
	with 8 stored elements in Compressed Sparse Row format>, 1]
[6, 2, 3, 0, 4, 12, 12, 0, 4, 4.019020576108617, 0.9375, 36.62, 19.48, <1x26405 sparse matrix of type '<class 'numpy.float64'>'
	with 8 stored elements in Compressed Sparse Row format>, 1]
[4, 2, 1, 0, 2, 9, 4, 3, 4, 3.8712228054708566, 0.9090909090909091, 121.22, 0.05, <1x26405 sparse matrix of type '<class 'numpy.float64'>'
	with 8 stored elements in Compressed Sparse Row format>, 0]
[2, 2, 0, 1, 0, 4, 2, 2, 1, 3.8471282101364253, 1.0, 36.62, 0.05, <1x26405 sparse matrix of type '<class 'numpy.float64'>'
	with 8 stored elements in Compressed Sparse Row format>, 0]
[6, 2, 4, 0, 1, 15, 13, 1, 2, 4.198412709320615, 1.0, 36.62, 19.48, <1x26405 sparse matrix of type '<class 'numpy.float64'>'
	with 8 stored elements in Compressed Sparse Row format>, 1]
[7, 1, 2, 0, 0, 11, 6, 1, 1, 4.020008766570328, 1.0, 121.22, 19.48, <1x26405 sparse matrix of type '<class 'numpy.float64'>'
	with 8 stored elements in Compressed Sparse Row format>, 0]
[4, 2, 1, 0, 1, 8, 7, 0, 2, 3.8601144458897845, 1.0, 121.22, 0.05, <1x26405 sparse matrix of type '<class 'numpy.float64'>'
	with 8 stored elements in Compressed Sparse Row format>, 1]
[6, 2, 2, 1, 1, 13, 8, 1, 5, 4.073234984740974, 1.0, 121.22, 19.48, <1x26405 sparse matrix of type '<class 'numpy.float64'>'
	with 8 stored elements in Compressed Sparse Row format>, 0]
[4, 0, 3, 0, 1, 11, 7, 2, 3, 4.096690090534615, 1.0, 36.62, 0.05, <1x26405 sparse matrix of type '<class 'numpy.float64'>'
	with 8 stored elements in Compressed Sparse Row format>, 0]
[2, 0, 0, 0, 1, 5, 3, 0, 2, 3.9801694078807643, 1.0, -47.99, 19.48, <1x26405 sparse matrix of type '<class 'numpy.float64'>'
	with 8 stored elements in Compressed Sparse Row format>, 0]
[3, 1, 2, 1, 1, 8, 7, 0, 3, 3.9844557754328576, 1.0, 36.62, 0.05, <1x26405 sparse matrix of type '<class 'numpy.float64'>'
	with 8 stored elements in Compressed Sparse Row format>, 0]
[4, 1, 2, 1, 2, 8, 4, 3, 3, 3.925815901809695, 1.0, 121.22, 19.48, <1x26405 sparse matrix of type '<class 'numpy.float64'>'
	with 8 stored elements in Compressed Sparse Row format>, 0]
[5, 1, 3, 1, 2, 11, 5, 2, 4, 4.09882867904932, 1.0, 36.62, 19.48, <1x26405 sparse matrix of type '<class 'numpy.float64'>'
	with 8 stored elements in Compressed Sparse Row format>, 0]
[3, 2, 1, 0, 2, 10, 9, 0, 3, 4.198803699366801, 1.0, 121.22, 19.48, <1x26405 sparse matrix of type '<class 'numpy.float64'>'
	with 8 stored elements in Compressed Sparse Row format>, 1]
[5, 1, 1, 0, 1, 9, 5, 1, 2, 4.0861785626377785, 1.0, -47.99, 19.48, <1x26405 sparse matrix of type '<class 'numpy.float64'>'
	with 8 stored elements in Compressed Sparse Row format>, 0]
[5, 0, 3, 0, 1, 16, 8, 0, 7, 4.038800581450787, 1.0, 121.22, 19.48, <1x26405 sparse matrix of type '<class 'numpy.float64'>'
	with 8 stored elements in Compressed Sparse Row format>, 0]
[1, 1, 4, 0, 3, 9, 6, 1, 4, 3.8107990585418507, 1.0, 121.22, 0.05, <1x26405 sparse matrix of type '<class 'numpy.float64'>'
	with 8 stored elements in Compressed Sparse Row format>, 1]
[2, 1, 3, 0, 2, 7, 5, 1, 3, 3.8705672784373704, 1.0, -47.99, 19.48, <1x26405 sparse matrix of type '<class 'numpy.float64'>'
	with 8 stored elements in Compressed Sparse Row format>, 1]
[1, 0, 1, 0, 0, 6, 3, 0, 3, 3.8511494238930326, 1.0, 121.22, 0.05, <1x26405 sparse matrix of type '<class 'numpy.float64'>'
	with 8 stored elements in Compressed Sparse Row format>, 1]
[4, 1, 2, 0, 0, 9, 4, 2, 1, 4.0518267785334166, 1.0, -47.99, 19.48, <1x26405 sparse matrix of type '<class 'numpy.float64'>'
	with 8 stored elements in Compressed Sparse Row format>, 0]
[6, 1, 2, 0, 2, 10, 8, 0, 2, 3.9672368870605688, 1.0, 121.22, 19.48, <1x26405 sparse matrix of type '<class 'numpy.float64'>'
	with 8 stored elements in Compressed Sparse Row format>, 0]
[6, 0, 3, 0, 0, 12, 8, 0, 2, 4.169450573664072, 1.0, 121.22, 0.05, <1x26405 sparse matrix of type '<class 'numpy.float64'>'
	with 8 stored elements in Compressed Sparse Row format>, 0]
[3, 0, 5, 0, 4, 11, 8, 0, 4, 3.992382648274625, 1.0, -47.99, 0.05, <1x26405 sparse matrix of type '<class 'numpy.float64'>'
	with 8 stored elements in Compressed Sparse Row format>, 1]
[4, 3, 1, 0, 0, 8, 6, 1, 0, 4.029203004336652, 1.0, 121.22, 19.48, <1x26405 sparse matrix of type '<class 'numpy.float64'>'
	with 8 stored elements in Compressed Sparse Row format>, 0]
[5, 1, 2, 0, 1, 14, 8, 0, 6, 4.099702041357219, 0.9333333333333333, 121.22, 0.05, <1x26405 sparse matrix of type '<class 'numpy.float64'>'
	with 8 stored elements in Compressed Sparse Row format>, 0]
[4, 0, 0, 0, 0, 5, 5, 0, 0, 3.9312089489103226, 1.0, 121.22, 0.05, <1x26405 sparse matrix of type '<class 'numpy.float64'>'
	with 8 stored elements in Compressed Sparse Row format>, 0]
[5, 1, 1, 0, 1, 8, 7, 0, 2, 3.842186055004732, 1.0, -47.99, 19.48, <1x26405 sparse matrix of type '<class 'numpy.float64'>'
	with 8 stored elements in Compressed Sparse Row format>, 1]
[3, 0, 3, 0, 1, 11, 8, 0, 4, 3.861545789794598, 1.0, 121.22, 0.05, <1x26405 sparse matrix of type '<class 'numpy.float64'>'
	with 8 stored elements in Compressed Sparse Row format>, 0]
[4, 0, 3, 0, 1, 9, 7, 0, 3, 3.8989973963322795, 1.0, 36.62, 19.48, <1x26405 sparse matrix of type '<class 'numpy.float64'>'
	with 8 stored elements in Compressed Sparse Row format>, 1]
[2, 0, 3, 1, 1, 9, 6, 0, 5, 4.098248545630947, 1.0, -132.59, 19.48, <1x26405 sparse matrix of type '<class 'numpy.float64'>'
	with 8 stored elements in Compressed Sparse Row format>, 0]
[4, 0, 2, 0, 2, 9, 5, 0, 4, 3.901829126639498, 1.0, -47.99, 19.48, <1x26405 sparse matrix of type '<class 'numpy.float64'>'
	with 8 stored elements in Compressed Sparse Row format>, 0]
[5, 1, 0, 0, 1, 7, 6, 1, 1, 3.9958710926405994, 1.0, -47.99, 19.48, <1x26405 sparse matrix of type '<class 'numpy.float64'>'
	with 8 stored elements in Compressed Sparse Row format>, 1]
[4, 4, 1, 0, 1, 9, 7, 0, 1, 4.096405118540381, 1.0, 36.62, 19.48, <1x26405 sparse matrix of type '<class 'numpy.float64'>'
	with 8 stored elements in Compressed Sparse Row format>, 1]
[5, 0, 2, 0, 2, 7, 5, 0, 1, 4.151982805092122, 1.0, 36.62, 0.05, <1x26405 sparse matrix of type '<class 'numpy.float64'>'
	with 8 stored elements in Compressed Sparse Row format>, 0]
[2, 1, 1, 0, 1, 6, 3, 1, 3, 3.570132187175541, 1.0, 36.62, 19.48, <1x26405 sparse matrix of type '<class 'numpy.float64'>'
	with 8 stored elements in Compressed Sparse Row format>, 0]
[5, 1, 1, 0, 3, 10, 7, 0, 5, 4.016982840391501, 0.9230769230769231, 36.62, 19.48, <1x26405 sparse matrix of type '<class 'numpy.float64'>'
	with 8 stored elements in Compressed Sparse Row format>, 1]
[3, 2, 3, 0, 2, 8, 8, 0, 2, 4.012478046896051, 1.0, -47.99, 0.05, <1x26405 sparse matrix of type '<class 'numpy.float64'>'
	with 8 stored elements in Compressed Sparse Row format>, 1]
[3, 0, 2, 0, 3, 9, 5, 0, 5, 3.8309910787736845, 1.0, 121.22, 0.05, <1x26405 sparse matrix of type '<class 'numpy.float64'>'
	with 8 stored elements in Compressed Sparse Row format>, 0]
[4, 3, 2, 0, 1, 11, 10, 0, 2, 3.9740136753062067, 1.0, 36.62, 0.05, <1x26405 sparse matrix of type '<class 'numpy.float64'>'
	with 8 stored elements in Compressed Sparse Row format>, 1]
[6, 1, 2, 1, 4, 10, 6, 1, 7, 4.050087555022923, 0.9333333333333333, 121.22, 0.05, <1x26405 sparse matrix of type '<class 'numpy.float64'>'
	with 8 stored elements in Compressed Sparse Row format>, 0]
[5, 2, 2, 2, 1, 11, 7, 1, 5, 3.8898770756244687, 0.9285714285714286, 36.62, 19.48, <1x26405 sparse matrix of type '<class 'numpy.float64'>'
	with 8 stored elements in Compressed Sparse Row format>, 0]
[3, 0, 1, 0, 0, 6, 5, 0, 1, 3.9473925229268274, 1.0, 121.22, 19.48, <1x26405 sparse matrix of type '<class 'numpy.float64'>'
	with 8 stored elements in Compressed Sparse Row format>, 1]
[3, 2, 3, 1, 2, 11, 8, 0, 4, 4.0273791052212, 1.0, 121.22, 19.48, <1x26405 sparse matrix of type '<class 'numpy.float64'>'
	with 8 stored elements in Compressed Sparse Row format>, 1]
[4, 2, 4, 1, 3, 12, 8, 1, 5, 4.168136854137169, 0.9375, 36.62, 19.48, <1x26405 sparse matrix of type '<class 'numpy.float64'>'
	with 8 stored elements in Compressed Sparse Row format>, 1]
[6, 0, 2, 0, 2, 11, 8, 0, 4, 4.09771563387436, 1.0, 121.22, 0.05, <1x26405 sparse matrix of type '<class 'numpy.float64'>'
	with 8 stored elements in Compressed Sparse Row format>, 1]
[10, 0, 1, 0, 2, 11, 11, 0, 1, 4.262513597075533, 1.0, 36.62, 19.48, <1x26405 sparse matrix of type '<class 'numpy.float64'>'
	with 8 stored elements in Compressed Sparse Row format>, 1]
[6, 1, 3, 0, 1, 13, 12, 0, 2, 4.017634663775298, 1.0, 121.22, 19.48, <1x26405 sparse matrix of type '<class 'numpy.float64'>'
	with 8 stored elements in Compressed Sparse Row format>, 1]
[6, 0, 3, 0, 2, 13, 10, 1, 4, 3.987248343069594, 1.0, 36.62, 19.48, <1x26405 sparse matrix of type '<class 'numpy.float64'>'
	with 8 stored elements in Compressed Sparse Row format>, 1]
[4, 1, 3, 0, 0, 15, 7, 0, 8, 3.979909162394689, 0.9333333333333333, 36.62, 0.05, <1x26405 sparse matrix of type '<class 'numpy.float64'>'
	with 8 stored elements in Compressed Sparse Row format>, 0]
[3, 0, 1, 0, 0, 4, 4, 0, 0, 3.7091479170272454, 1.0, 121.22, 19.48, <1x26405 sparse matrix of type '<class 'numpy.float64'>'
	with 8 stored elements in Compressed Sparse Row format>, 1]
[5, 2, 1, 0, 2, 9, 9, 1, 1, 4.14510330101223, 1.0, 121.22, 0.05, <1x26405 sparse matrix of type '<class 'numpy.float64'>'
	with 8 stored elements in Compressed Sparse Row format>, 1]
[1, 2, 2, 0, 1, 5, 4, 0, 1, 3.7754522173662757, 1.0, 121.22, 0.05, <1x26405 sparse matrix of type '<class 'numpy.float64'>'
	with 8 stored elements in Compressed Sparse Row format>, 1]
[3, 1, 0, 0, 1, 4, 3, 0, 1, 3.474380085195674, 1.0, 121.22, 19.48, <1x26405 sparse matrix of type '<class 'numpy.float64'>'
	with 8 stored elements in Compressed Sparse Row format>, 0]
[4, 2, 4, 0, 5, 10, 6, 1, 7, 3.79118448813528, 1.0, 121.22, 19.48, <1x26405 sparse matrix of type '<class 'numpy.float64'>'
	with 8 stored elements in Compressed Sparse Row format>, 1]
[5, 0, 1, 0, 0, 9, 6, 0, 3, 3.8606053384101835, 1.0, 121.22, 0.05, <1x26405 sparse matrix of type '<class 'numpy.float64'>'
	with 8 stored elements in Compressed Sparse Row format>, 0]
[4, 0, 1, 0, 0, 8, 4, 1, 2, 3.762113146575015, 0.875, 36.62, 19.48, <1x26405 sparse matrix of type '<class 'numpy.float64'>'
	with 8 stored elements in Compressed Sparse Row format>, 0]
[3, 1, 1, 0, 0, 11, 4, 0, 6, 4.020898183564816, 0.9090909090909091, -47.99, 19.48, <1x26405 sparse matrix of type '<class 'numpy.float64'>'
	with 8 stored elements in Compressed Sparse Row format>, 0]
[5, 1, 0, 0, 0, 7, 4, 2, 1, 3.9544139241573597, 1.0, 36.62, 19.48, <1x26405 sparse matrix of type '<class 'numpy.float64'>'
	with 8 stored elements in Compressed Sparse Row format>, 0]
[3, 2, 2, 0, 1, 9, 5, 0, 3, 3.715258047285586, 1.0, 36.62, 19.48, <1x26405 sparse matrix of type '<class 'numpy.float64'>'
	with 8 stored elements in Compressed Sparse Row format>, 0]
[3, 1, 4, 0, 2, 10, 9, 0, 3, 4.126778681920788, 1.0, -132.59, 19.48, <1x26405 sparse matrix of type '<class 'numpy.float64'>'
	with 8 stored elements in Compressed Sparse Row format>, 1]
[2, 0, 3, 0, 1, 6, 3, 1, 2, 4.018606033469986, 1.0, 121.22, 19.48, <1x26405 sparse matrix of type '<class 'numpy.float64'>'
	with 8 stored elements in Compressed Sparse Row format>, 0]
[3, 1, 1, 0, 1, 7, 5, 0, 2, 3.8616570981373797, 1.0, 36.62, 0.05, <1x26405 sparse matrix of type '<class 'numpy.float64'>'
	with 8 stored elements in Compressed Sparse Row format>, 1]
[4, 0, 2, 0, 0, 6, 6, 0, 0, 3.7639413803488413, 1.0, 121.22, 0.05, <1x26405 sparse matrix of type '<class 'numpy.float64'>'
	with 8 stored elements in Compressed Sparse Row format>, 1]
[5, 3, 2, 0, 1, 11, 10, 0, 2, 4.154422622371038, 1.0, 121.22, 19.48, <1x26405 sparse matrix of type '<class 'numpy.float64'>'
	with 8 stored elements in Compressed Sparse Row format>, 1]
[6, 2, 0, 0, 1, 9, 4, 3, 2, 4.079483525348492, 1.0, 36.62, 19.48, <1x26405 sparse matrix of type '<class 'numpy.float64'>'
	with 8 stored elements in Compressed Sparse Row format>, 1]
[3, 4, 2, 1, 2, 10, 10, 0, 3, 4.097024219659049, 0.9230769230769231, 121.22, 0.05, <1x26405 sparse matrix of type '<class 'numpy.float64'>'
	with 8 stored elements in Compressed Sparse Row format>, 0]
[6, 1, 1, 1, 0, 9, 5, 2, 2, 4.414249181435643, 1.0, 36.62, 0.05, <1x26405 sparse matrix of type '<class 'numpy.float64'>'
	with 8 stored elements in Compressed Sparse Row format>, 0]
[6, 2, 2, 0, 1, 12, 7, 1, 3, 4.129138369855338, 1.0, 121.22, 0.05, <1x26405 sparse matrix of type '<class 'numpy.float64'>'
	with 8 stored elements in Compressed Sparse Row format>, 0]
[1, 2, 4, 0, 4, 12, 8, 0, 8, 4.032044854372514, 1.0, 36.62, 19.48, <1x26405 sparse matrix of type '<class 'numpy.float64'>'
	with 8 stored elements in Compressed Sparse Row format>, 1]
[4, 4, 1, 0, 2, 9, 6, 2, 2, 3.9097061768002352, 0.9090909090909091, 121.22, 19.48, <1x26405 sparse matrix of type '<class 'numpy.float64'>'
	with 8 stored elements in Compressed Sparse Row format>, 1]
[4, 2, 4, 0, 0, 13, 12, 0, 1, 4.1901592416713305, 1.0, 121.22, 0.05, <1x26405 sparse matrix of type '<class 'numpy.float64'>'
	with 8 stored elements in Compressed Sparse Row format>, 1]
[6, 1, 1, 0, 0, 9, 6, 0, 1, 3.952947125856424, 1.0, 121.22, 19.48, <1x26405 sparse matrix of type '<class 'numpy.float64'>'
	with 8 stored elements in Compressed Sparse Row format>, 1]
[5, 0, 2, 1, 1, 10, 6, 0, 5, 4.000001071162794, 1.0, 121.22, 0.05, <1x26405 sparse matrix of type '<class 'numpy.float64'>'
	with 8 stored elements in Compressed Sparse Row format>, 0]
[5, 1, 2, 1, 0, 13, 11, 0, 3, 3.9702894498289125, 0.9285714285714286, -132.59, 19.48, <1x26405 sparse matrix of type '<class 'numpy.float64'>'
	with 8 stored elements in Compressed Sparse Row format>, 1]
[6, 1, 2, 0, 2, 12, 9, 1, 4, 4.149276332385201, 1.0, -132.59, 19.48, <1x26405 sparse matrix of type '<class 'numpy.float64'>'
	with 8 stored elements in Compressed Sparse Row format>, 1]
[3, 0, 4, 0, 3, 11, 9, 0, 5, 4.165377423627015, 1.0, 36.62, 0.05, <1x26405 sparse matrix of type '<class 'numpy.float64'>'
	with 8 stored elements in Compressed Sparse Row format>, 0]
[4, 1, 2, 0, 1, 8, 6, 1, 2, 4.021168704467279, 1.0, -47.99, 19.48, <1x26405 sparse matrix of type '<class 'numpy.float64'>'
	with 8 stored elements in Compressed Sparse Row format>, 1]
[4, 3, 2, 0, 4, 9, 7, 0, 4, 4.002381574649868, 1.0, 121.22, 19.48, <1x26405 sparse matrix of type '<class 'numpy.float64'>'
	with 8 stored elements in Compressed Sparse Row format>, 0]
[4, 0, 0, 0, 2, 5, 3, 1, 3, 3.5243505544051534, 1.0, -132.59, 19.48, <1x26405 sparse matrix of type '<class 'numpy.float64'>'
	with 8 stored elements in Compressed Sparse Row format>, 1]
[3, 0, 2, 0, 2, 8, 4, 0, 5, 3.8110813452387773, 0.9, 36.62, 19.48, <1x26405 sparse matrix of type '<class 'numpy.float64'>'
	with 8 stored elements in Compressed Sparse Row format>, 0]
[7, 1, 0, 0, 0, 10, 6, 1, 2, 3.814320990371965, 1.0, 36.62, 19.48, <1x26405 sparse matrix of type '<class 'numpy.float64'>'
	with 8 stored elements in Compressed Sparse Row format>, 0]
[3, 2, 3, 0, 3, 9, 7, 0, 5, 3.801262434461918, 1.0, 36.62, 19.48, <1x26405 sparse matrix of type '<class 'numpy.float64'>'
	with 8 stored elements in Compressed Sparse Row format>, 1]
[4, 1, 0, 0, 1, 6, 3, 1, 2, 3.901146220800411, 1.0, 36.62, 0.05, <1x26405 sparse matrix of type '<class 'numpy.float64'>'
	with 8 stored elements in Compressed Sparse Row format>, 0]
[4, 1, 1, 0, 0, 7, 5, 0, 1, 4.022593366144261, 1.0, 121.22, 0.05, <1x26405 sparse matrix of type '<class 'numpy.float64'>'
	with 8 stored elements in Compressed Sparse Row format>, 1]
[2, 1, 2, 0, 1, 6, 3, 0, 3, 3.718446188316212, 1.0, -47.99, 19.48, <1x26405 sparse matrix of type '<class 'numpy.float64'>'
	with 8 stored elements in Compressed Sparse Row format>, 0]
[6, 1, 0, 0, 2, 9, 8, 0, 3, 4.158367439641128, 0.9090909090909091, 121.22, 0.05, <1x26405 sparse matrix of type '<class 'numpy.float64'>'
	with 8 stored elements in Compressed Sparse Row format>, 1]
[7, 1, 0, 0, 0, 10, 7, 0, 2, 4.0122569357428715, 1.0, 121.22, 0.05, <1x26405 sparse matrix of type '<class 'numpy.float64'>'
	with 8 stored elements in Compressed Sparse Row format>, 1]
[3, 2, 1, 1, 1, 6, 6, 0, 2, 3.8864143912334366, 1.0, -132.59, 19.48, <1x26405 sparse matrix of type '<class 'numpy.float64'>'
	with 8 stored elements in Compressed Sparse Row format>, 1]
[3, 1, 1, 0, 3, 5, 3, 1, 3, 4.022762437151869, 1.0, -47.99, 19.48, <1x26405 sparse matrix of type '<class 'numpy.float64'>'
	with 8 stored elements in Compressed Sparse Row format>, 0]
[7, 3, 5, 0, 3, 19, 12, 1, 8, 3.9049974402711927, 0.9545454545454546, 121.22, 0.05, <1x26405 sparse matrix of type '<class 'numpy.float64'>'
	with 8 stored elements in Compressed Sparse Row format>, 1]
[7, 1, 2, 0, 3, 11, 8, 1, 3, 4.035033289339856, 1.0, 36.62, 19.48, <1x26405 sparse matrix of type '<class 'numpy.float64'>'
	with 8 stored elements in Compressed Sparse Row format>, 0]
[3, 1, 1, 0, 1, 7, 6, 0, 2, 3.795162556862432, 1.0, -217.19, 19.48, <1x26405 sparse matrix of type '<class 'numpy.float64'>'
	with 8 stored elements in Compressed Sparse Row format>, 0]
[3, 5, 1, 1, 2, 9, 6, 1, 4, 3.7766784568353473, 1.0, 121.22, 0.05, <1x26405 sparse matrix of type '<class 'numpy.float64'>'
	with 8 stored elements in Compressed Sparse Row format>, 0]
[2, 3, 1, 0, 0, 7, 6, 0, 1, 3.897588099474032, 1.0, -47.99, 19.48, <1x26405 sparse matrix of type '<class 'numpy.float64'>'
	with 8 stored elements in Compressed Sparse Row format>, 1]
[4, 1, 2, 0, 0, 8, 4, 0, 2, 4.146811529564779, 1.0, 36.62, 0.05, <1x26405 sparse matrix of type '<class 'numpy.float64'>'
	with 8 stored elements in Compressed Sparse Row format>, 0]
[5, 1, 2, 0, 1, 10, 5, 2, 3, 3.9945836469826994, 1.0, 121.22, 0.05, <1x26405 sparse matrix of type '<class 'numpy.float64'>'
	with 8 stored elements in Compressed Sparse Row format>, 0]
[6, 1, 2, 0, 2, 9, 8, 1, 2, 4.089232443805879, 1.0, 36.62, 19.48, <1x26405 sparse matrix of type '<class 'numpy.float64'>'
	with 8 stored elements in Compressed Sparse Row format>, 0]
[3, 1, 3, 0, 2, 12, 10, 0, 4, 3.9537012904348336, 1.0, 121.22, 19.48, <1x26405 sparse matrix of type '<class 'numpy.float64'>'
	with 8 stored elements in Compressed Sparse Row format>, 1]
[5, 3, 4, 0, 4, 13, 9, 2, 5, 4.089005446712511, 1.0, 36.62, 19.48, <1x26405 sparse matrix of type '<class 'numpy.float64'>'
	with 8 stored elements in Compressed Sparse Row format>, 1]
[6, 1, 0, 0, 1, 8, 6, 1, 2, 3.9819826173717114, 1.0, -47.99, 19.48, <1x26405 sparse matrix of type '<class 'numpy.float64'>'
	with 8 stored elements in Compressed Sparse Row format>, 0]
[5, 2, 2, 0, 1, 10, 7, 1, 3, 4.069137075744921, 1.0, 121.22, 0.05, <1x26405 sparse matrix of type '<class 'numpy.float64'>'
	with 8 stored elements in Compressed Sparse Row format>, 1]
[5, 2, 3, 0, 3, 10, 8, 1, 4, 3.9826223316627214, 1.0, 36.62, 0.05, <1x26405 sparse matrix of type '<class 'numpy.float64'>'
	with 8 stored elements in Compressed Sparse Row format>, 0]
[2, 2, 1, 0, 2, 8, 8, 0, 1, 3.872739634031215, 1.0, 121.22, 19.48, <1x26405 sparse matrix of type '<class 'numpy.float64'>'
	with 8 stored elements in Compressed Sparse Row format>, 1]
[5, 1, 1, 0, 2, 7, 6, 1, 2, 3.9505605169931877, 1.0, 121.22, 19.48, <1x26405 sparse matrix of type '<class 'numpy.float64'>'
	with 8 stored elements in Compressed Sparse Row format>, 1]
[4, 2, 0, 0, 2, 6, 6, 0, 2, 3.968610632596644, 1.0, 121.22, 19.48, <1x26405 sparse matrix of type '<class 'numpy.float64'>'
	with 8 stored elements in Compressed Sparse Row format>, 0]
[5, 2, 1, 1, 1, 9, 3, 1, 3, 4.187486200072949, 1.0, 121.22, 19.48, <1x26405 sparse matrix of type '<class 'numpy.float64'>'
	with 8 stored elements in Compressed Sparse Row format>, 0]
[3, 0, 2, 0, 1, 7, 4, 0, 4, 3.850156773941154, 1.0, -47.99, 19.48, <1x26405 sparse matrix of type '<class 'numpy.float64'>'
	with 8 stored elements in Compressed Sparse Row format>, 0]
[1, 0, 2, 0, 0, 3, 1, 1, 0, 3.642149881636906, 1.0, 121.22, 19.48, <1x26405 sparse matrix of type '<class 'numpy.float64'>'
	with 8 stored elements in Compressed Sparse Row format>, 1]
[5, 1, 2, 0, 1, 8, 2, 4, 2, 4.0502943613370945, 0.8888888888888888, 36.62, 0.05, <1x26405 sparse matrix of type '<class 'numpy.float64'>'
	with 8 stored elements in Compressed Sparse Row format>, 0]
[4, 1, 2, 1, 1, 9, 7, 0, 3, 3.957051416436364, 1.0, 121.22, 0.05, <1x26405 sparse matrix of type '<class 'numpy.float64'>'
	with 8 stored elements in Compressed Sparse Row format>, 1]
[2, 0, 1, 0, 1, 4, 4, 0, 1, 4.023661393171458, 1.0, 121.22, 19.48, <1x26405 sparse matrix of type '<class 'numpy.float64'>'
	with 8 stored elements in Compressed Sparse Row format>, 0]
[1, 0, 2, 0, 0, 6, 1, 0, 4, 3.6542637259970228, 1.0, 121.22, 0.05, <1x26405 sparse matrix of type '<class 'numpy.float64'>'
	with 8 stored elements in Compressed Sparse Row format>, 0]
[4, 0, 0, 0, 0, 5, 5, 0, 0, 3.9964393446710145, 1.0, -47.99, 19.48, <1x26405 sparse matrix of type '<class 'numpy.float64'>'
	with 8 stored elements in Compressed Sparse Row format>, 1]
[2, 0, 1, 0, 2, 7, 4, 0, 4, 4.099114931039585, 1.0, 121.22, 0.05, <1x26405 sparse matrix of type '<class 'numpy.float64'>'
	with 8 stored elements in Compressed Sparse Row format>, 0]
[2, 2, 3, 0, 1, 10, 5, 1, 5, 4.125642397108809, 1.0, 36.62, 19.48, <1x26405 sparse matrix of type '<class 'numpy.float64'>'
	with 8 stored elements in Compressed Sparse Row format>, 1]
[3, 0, 2, 0, 1, 6, 4, 0, 2, 3.6348888221036773, 1.0, -47.99, 19.48, <1x26405 sparse matrix of type '<class 'numpy.float64'>'
	with 8 stored elements in Compressed Sparse Row format>, 1]
[5, 2, 0, 0, 1, 9, 7, 0, 2, 3.866204383529783, 1.0, 121.22, 0.05, <1x26405 sparse matrix of type '<class 'numpy.float64'>'
	with 8 stored elements in Compressed Sparse Row format>, 1]
[3, 1, 1, 0, 2, 7, 7, 0, 2, 3.644190557420919, 1.0, 121.22, 19.48, <1x26405 sparse matrix of type '<class 'numpy.float64'>'
	with 8 stored elements in Compressed Sparse Row format>, 0]
[3, 2, 2, 0, 1, 8, 5, 0, 3, 3.9443494873490708, 1.0, 121.22, 19.48, <1x26405 sparse matrix of type '<class 'numpy.float64'>'
	with 8 stored elements in Compressed Sparse Row format>, 0]
[3, 2, 2, 0, 1, 11, 2, 0, 6, 3.8733857637646305, 0.9166666666666666, 36.62, 19.48, <1x26405 sparse matrix of type '<class 'numpy.float64'>'
	with 8 stored elements in Compressed Sparse Row format>, 0]
[4, 2, 3, 0, 1, 14, 8, 0, 6, 3.939534401144306, 1.0, 36.62, 0.05, <1x26405 sparse matrix of type '<class 'numpy.float64'>'
	with 8 stored elements in Compressed Sparse Row format>, 0]
[6, 1, 2, 0, 2, 12, 6, 2, 5, 3.9730368493487545, 0.9285714285714286, 121.22, 0.05, <1x26405 sparse matrix of type '<class 'numpy.float64'>'
	with 8 stored elements in Compressed Sparse Row format>, 1]
[3, 3, 1, 1, 0, 8, 7, 0, 2, 3.8685477764837573, 1.0, 121.22, 0.05, <1x26405 sparse matrix of type '<class 'numpy.float64'>'
	with 8 stored elements in Compressed Sparse Row format>, 0]
[2, 2, 0, 0, 1, 4, 3, 1, 1, 3.7390979179887855, 1.0, 121.22, 0.05, <1x26405 sparse matrix of type '<class 'numpy.float64'>'
	with 8 stored elements in Compressed Sparse Row format>, 0]
[3, 0, 3, 0, 1, 7, 5, 0, 3, 3.7280675589340975, 1.0, 121.22, 19.48, <1x26405 sparse matrix of type '<class 'numpy.float64'>'
	with 8 stored elements in Compressed Sparse Row format>, 0]
[5, 0, 3, 0, 2, 12, 10, 1, 3, 4.108734837349624, 1.0, -132.59, 19.48, <1x26405 sparse matrix of type '<class 'numpy.float64'>'
	with 8 stored elements in Compressed Sparse Row format>, 1]
[2, 1, 0, 0, 0, 4, 2, 0, 0, 3.435755433941628, 1.0, 121.22, 0.05, <1x26405 sparse matrix of type '<class 'numpy.float64'>'
	with 8 stored elements in Compressed Sparse Row format>, 0]
[5, 3, 1, 0, 0, 13, 6, 0, 5, 3.972655179814791, 1.0, 36.62, 19.48, <1x26405 sparse matrix of type '<class 'numpy.float64'>'
	with 8 stored elements in Compressed Sparse Row format>, 0]
[3, 0, 2, 0, 2, 7, 3, 0, 2, 3.9397902671449545, 1.0, 121.22, 19.48, <1x26405 sparse matrix of type '<class 'numpy.float64'>'
	with 8 stored elements in Compressed Sparse Row format>, 1]
[2, 2, 1, 0, 3, 8, 4, 0, 6, 3.5726473544085104, 0.9090909090909091, 121.22, 0.05, <1x26405 sparse matrix of type '<class 'numpy.float64'>'
	with 8 stored elements in Compressed Sparse Row format>, 0]
[4, 2, 2, 0, 2, 9, 6, 0, 3, 4.067081906416134, 1.0, -47.99, 19.48, <1x26405 sparse matrix of type '<class 'numpy.float64'>'
	with 8 stored elements in Compressed Sparse Row format>, 0]
[5, 2, 1, 0, 1, 8, 6, 0, 1, 3.9776975357634234, 1.0, 121.22, 0.05, <1x26405 sparse matrix of type '<class 'numpy.float64'>'
	with 8 stored elements in Compressed Sparse Row format>, 0]
[4, 2, 3, 0, 2, 16, 10, 0, 8, 3.948313436903807, 1.0, -47.99, 19.48, <1x26405 sparse matrix of type '<class 'numpy.float64'>'
	with 8 stored elements in Compressed Sparse Row format>, 1]
[2, 2, 2, 1, 2, 7, 4, 0, 6, 3.734349727278792, 1.0, 36.62, 0.05, <1x26405 sparse matrix of type '<class 'numpy.float64'>'
	with 8 stored elements in Compressed Sparse Row format>, 0]
[2, 0, 0, 0, 1, 3, 2, 0, 2, 3.784941827437642, 1.0, 121.22, 0.05, <1x26405 sparse matrix of type '<class 'numpy.float64'>'
	with 8 stored elements in Compressed Sparse Row format>, 0]
[4, 2, 2, 0, 1, 7, 6, 0, 1, 3.831674315208082, 1.0, 36.62, 0.05, <1x26405 sparse matrix of type '<class 'numpy.float64'>'
	with 8 stored elements in Compressed Sparse Row format>, 1]
[4, 1, 0, 0, 1, 5, 3, 1, 1, 3.9155532850633494, 1.0, 121.22, 19.48, <1x26405 sparse matrix of type '<class 'numpy.float64'>'
	with 8 stored elements in Compressed Sparse Row format>, 1]
[3, 0, 2, 0, 2, 6, 4, 1, 3, 3.843461864327505, 1.0, -132.59, 19.48, <1x26405 sparse matrix of type '<class 'numpy.float64'>'
	with 8 stored elements in Compressed Sparse Row format>, 1]
[6, 2, 3, 0, 2, 12, 7, 1, 4, 3.957920909553291, 1.0, 121.22, 19.48, <1x26405 sparse matrix of type '<class 'numpy.float64'>'
	with 8 stored elements in Compressed Sparse Row format>, 1]
[4, 1, 2, 0, 1, 9, 5, 1, 2, 3.9505479591761707, 1.0, -47.99, 19.48, <1x26405 sparse matrix of type '<class 'numpy.float64'>'
	with 8 stored elements in Compressed Sparse Row format>, 0]
[5, 1, 3, 1, 4, 10, 4, 1, 6, 4.023975618380616, 0.9333333333333333, 121.22, 0.05, <1x26405 sparse matrix of type '<class 'numpy.float64'>'
	with 8 stored elements in Compressed Sparse Row format>, 0]
[6, 1, 1, 0, 1, 8, 7, 0, 1, 4.15639777085397, 1.0, 121.22, 0.05, <1x26405 sparse matrix of type '<class 'numpy.float64'>'
	with 8 stored elements in Compressed Sparse Row format>, 1]
[3, 1, 1, 0, 1, 5, 5, 0, 1, 3.8628214475995346, 1.0, 121.22, 19.48, <1x26405 sparse matrix of type '<class 'numpy.float64'>'
	with 8 stored elements in Compressed Sparse Row format>, 1]
[3, 3, 1, 0, 1, 8, 5, 0, 2, 4.300759553873419, 1.0, 121.22, 0.05, <1x26405 sparse matrix of type '<class 'numpy.float64'>'
	with 8 stored elements in Compressed Sparse Row format>, 0]
[3, 1, 3, 0, 0, 9, 6, 1, 2, 4.057555831676768, 1.0, 36.62, 19.48, <1x26405 sparse matrix of type '<class 'numpy.float64'>'
	with 8 stored elements in Compressed Sparse Row format>, 0]
[4, 1, 0, 0, 0, 7, 6, 0, 1, 3.6460405576769204, 1.0, 36.62, 19.48, <1x26405 sparse matrix of type '<class 'numpy.float64'>'
	with 8 stored elements in Compressed Sparse Row format>, 1]
[3, 2, 2, 0, 2, 8, 7, 0, 3, 3.880329868517695, 1.0, -47.99, 0.05, <1x26405 sparse matrix of type '<class 'numpy.float64'>'
	with 8 stored elements in Compressed Sparse Row format>, 1]
[6, 0, 3, 0, 1, 11, 9, 0, 3, 3.93865134532285, 1.0, 121.22, 19.48, <1x26405 sparse matrix of type '<class 'numpy.float64'>'
	with 8 stored elements in Compressed Sparse Row format>, 0]
[4, 0, 1, 2, 1, 5, 3, 0, 4, 3.933687790344329, 0.875, 121.22, 0.05, <1x26405 sparse matrix of type '<class 'numpy.float64'>'
	with 8 stored elements in Compressed Sparse Row format>, 0]
[4, 0, 3, 0, 0, 10, 6, 0, 3, 3.9052798833385096, 1.0, 121.22, 0.05, <1x26405 sparse matrix of type '<class 'numpy.float64'>'
	with 8 stored elements in Compressed Sparse Row format>, 0]
[3, 0, 0, 0, 1, 4, 3, 0, 2, 3.4116022179746714, 1.0, 121.22, 0.05, <1x26405 sparse matrix of type '<class 'numpy.float64'>'
	with 8 stored elements in Compressed Sparse Row format>, 1]
[7, 2, 3, 0, 2, 12, 6, 1, 3, 3.9230214708233926, 1.0, 121.22, 19.48, <1x26405 sparse matrix of type '<class 'numpy.float64'>'
	with 8 stored elements in Compressed Sparse Row format>, 0]
[4, 1, 1, 0, 1, 6, 3, 3, 1, 3.74615711897243, 1.0, -47.99, 19.48, <1x26405 sparse matrix of type '<class 'numpy.float64'>'
	with 8 stored elements in Compressed Sparse Row format>, 1]
[4, 2, 1, 0, 3, 10, 7, 0, 6, 3.837835113714094, 1.0, 121.22, 19.48, <1x26405 sparse matrix of type '<class 'numpy.float64'>'
	with 8 stored elements in Compressed Sparse Row format>, 0]
[4, 1, 0, 0, 0, 7, 2, 0, 1, 4.3570751751387204, 1.0, 121.22, 19.48, <1x26405 sparse matrix of type '<class 'numpy.float64'>'
	with 8 stored elements in Compressed Sparse Row format>, 0]
[5, 1, 1, 0, 0, 10, 9, 0, 1, 3.9673937339713254, 1.0, -47.99, 19.48, <1x26405 sparse matrix of type '<class 'numpy.float64'>'
	with 8 stored elements in Compressed Sparse Row format>, 1]
[2, 1, 4, 0, 1, 9, 7, 0, 3, 3.9681852789818985, 1.0, 121.22, 0.05, <1x26405 sparse matrix of type '<class 'numpy.float64'>'
	with 8 stored elements in Compressed Sparse Row format>, 1]
[5, 1, 3, 0, 1, 11, 9, 0, 3, 4.0585322704013285, 1.0, 36.62, 0.05, <1x26405 sparse matrix of type '<class 'numpy.float64'>'
	with 8 stored elements in Compressed Sparse Row format>, 1]
[5, 0, 2, 0, 2, 8, 7, 0, 2, 3.8374177866432237, 1.0, 121.22, 0.05, <1x26405 sparse matrix of type '<class 'numpy.float64'>'
	with 8 stored elements in Compressed Sparse Row format>, 1]
[6, 0, 0, 0, 1, 8, 4, 0, 3, 4.020095330515557, 1.0, 121.22, 19.48, <1x26405 sparse matrix of type '<class 'numpy.float64'>'
	with 8 stored elements in Compressed Sparse Row format>, 0]
[3, 1, 1, 0, 1, 6, 5, 1, 1, 3.8967341406992073, 1.0, 36.62, 19.48, <1x26405 sparse matrix of type '<class 'numpy.float64'>'
	with 8 stored elements in Compressed Sparse Row format>, 0]
[4, 0, 1, 0, 0, 6, 5, 0, 1, 3.7895562311268356, 1.0, 36.62, 19.48, <1x26405 sparse matrix of type '<class 'numpy.float64'>'
	with 8 stored elements in Compressed Sparse Row format>, 1]
[4, 1, 2, 0, 1, 8, 8, 0, 1, 4.081868997804824, 1.0, 36.62, 0.05, <1x26405 sparse matrix of type '<class 'numpy.float64'>'
	with 8 stored elements in Compressed Sparse Row format>, 1]
[5, 2, 1, 0, 2, 11, 6, 1, 5, 3.8790939940533944, 1.0, 36.62, 19.48, <1x26405 sparse matrix of type '<class 'numpy.float64'>'
	with 8 stored elements in Compressed Sparse Row format>, 0]
[3, 1, 2, 0, 1, 7, 4, 2, 1, 4.096137213706949, 1.0, 36.62, 19.48, <1x26405 sparse matrix of type '<class 'numpy.float64'>'
	with 8 stored elements in Compressed Sparse Row format>, 1]
[4, 1, 3, 1, 2, 10, 4, 0, 6, 4.026405286634105, 1.0, 121.22, 0.05, <1x26405 sparse matrix of type '<class 'numpy.float64'>'
	with 8 stored elements in Compressed Sparse Row format>, 0]
[3, 3, 1, 0, 0, 11, 6, 0, 2, 4.117218798571536, 1.0, 121.22, 0.05, <1x26405 sparse matrix of type '<class 'numpy.float64'>'
	with 8 stored elements in Compressed Sparse Row format>, 0]
[3, 2, 3, 1, 1, 9, 4, 2, 5, 3.931789790731961, 0.9090909090909091, 121.22, 0.05, <1x26405 sparse matrix of type '<class 'numpy.float64'>'
	with 8 stored elements in Compressed Sparse Row format>, 0]
[6, 2, 2, 0, 1, 13, 12, 0, 2, 4.058633649580164, 1.0, 121.22, 0.05, <1x26405 sparse matrix of type '<class 'numpy.float64'>'
	with 8 stored elements in Compressed Sparse Row format>, 1]
[2, 0, 2, 0, 0, 6, 4, 0, 1, 3.7510307038727513, 1.0, 121.22, 0.05, <1x26405 sparse matrix of type '<class 'numpy.float64'>'
	with 8 stored elements in Compressed Sparse Row format>, 0]
[3, 1, 1, 1, 0, 6, 5, 0, 2, 3.8089009117307153, 1.0, -132.59, 19.48, <1x26405 sparse matrix of type '<class 'numpy.float64'>'
	with 8 stored elements in Compressed Sparse Row format>, 0]
[6, 1, 1, 0, 2, 8, 2, 2, 2, 3.9774793374779795, 1.0, 121.22, 19.48, <1x26405 sparse matrix of type '<class 'numpy.float64'>'
	with 8 stored elements in Compressed Sparse Row format>, 0]
[3, 2, 2, 1, 0, 10, 7, 0, 4, 3.978897387892527, 1.0, -47.99, 19.48, <1x26405 sparse matrix of type '<class 'numpy.float64'>'
	with 8 stored elements in Compressed Sparse Row format>, 1]
[5, 0, 2, 0, 2, 9, 6, 0, 3, 4.102537289315817, 1.0, 121.22, 0.05, <1x26405 sparse matrix of type '<class 'numpy.float64'>'
	with 8 stored elements in Compressed Sparse Row format>, 0]
[4, 1, 1, 0, 1, 7, 6, 0, 2, 3.819049450414413, 1.0, 121.22, 0.05, <1x26405 sparse matrix of type '<class 'numpy.float64'>'
	with 8 stored elements in Compressed Sparse Row format>, 1]
[4, 0, 0, 0, 1, 6, 3, 1, 3, 3.6445884966423403, 1.0, 36.62, 19.48, <1x26405 sparse matrix of type '<class 'numpy.float64'>'
	with 8 stored elements in Compressed Sparse Row format>, 0]
[6, 1, 2, 0, 2, 8, 8, 0, 2, 4.009371461574271, 0.9, 36.62, 19.48, <1x26405 sparse matrix of type '<class 'numpy.float64'>'
	with 8 stored elements in Compressed Sparse Row format>, 1]
[4, 4, 2, 0, 1, 12, 9, 0, 3, 4.0961934483093545, 1.0, 121.22, 0.05, <1x26405 sparse matrix of type '<class 'numpy.float64'>'
	with 8 stored elements in Compressed Sparse Row format>, 1]
[1, 1, 2, 0, 0, 8, 2, 0, 6, 3.624396318000477, 0.75, 121.22, 0.05, <1x26405 sparse matrix of type '<class 'numpy.float64'>'
	with 8 stored elements in Compressed Sparse Row format>, 0]
[6, 1, 1, 0, 1, 8, 7, 1, 1, 3.6346756606353137, 1.0, 121.22, 0.05, <1x26405 sparse matrix of type '<class 'numpy.float64'>'
	with 8 stored elements in Compressed Sparse Row format>, 0]
[5, 1, 1, 0, 0, 8, 8, 0, 0, 3.998109216055825, 1.0, 121.22, 19.48, <1x26405 sparse matrix of type '<class 'numpy.float64'>'
	with 8 stored elements in Compressed Sparse Row format>, 1]
[2, 1, 1, 0, 0, 7, 3, 1, 2, 4.069347760631337, 1.0, 36.62, 19.48, <1x26405 sparse matrix of type '<class 'numpy.float64'>'
	with 8 stored elements in Compressed Sparse Row format>, 0]
[5, 2, 2, 0, 3, 12, 7, 0, 5, 4.104433395231775, 1.0, 121.22, 19.48, <1x26405 sparse matrix of type '<class 'numpy.float64'>'
	with 8 stored elements in Compressed Sparse Row format>, 1]
[3, 0, 2, 1, 1, 8, 5, 1, 4, 4.004116141958806, 1.0, 36.62, 19.48, <1x26405 sparse matrix of type '<class 'numpy.float64'>'
	with 8 stored elements in Compressed Sparse Row format>, 1]
[6, 3, 0, 0, 1, 11, 7, 0, 2, 4.000562907202892, 1.0, -132.59, 19.48, <1x26405 sparse matrix of type '<class 'numpy.float64'>'
	with 8 stored elements in Compressed Sparse Row format>, 0]
[5, 2, 3, 0, 0, 11, 9, 0, 1, 4.161217039904138, 1.0, 121.22, 0.05, <1x26405 sparse matrix of type '<class 'numpy.float64'>'
	with 8 stored elements in Compressed Sparse Row format>, 0]
[2, 1, 1, 0, 1, 7, 3, 1, 4, 4.164932341707098, 1.0, -47.99, 19.48, <1x26405 sparse matrix of type '<class 'numpy.float64'>'
	with 8 stored elements in Compressed Sparse Row format>, 0]
[7, 1, 1, 1, 2, 10, 7, 1, 3, 4.023797781209643, 1.0, 121.22, 19.48, <1x26405 sparse matrix of type '<class 'numpy.float64'>'
	with 8 stored elements in Compressed Sparse Row format>, 0]
[4, 3, 1, 0, 0, 10, 7, 1, 0, 4.1905703054451795, 0.9, -132.59, 19.48, <1x26405 sparse matrix of type '<class 'numpy.float64'>'
	with 8 stored elements in Compressed Sparse Row format>, 0]
[4, 1, 2, 0, 1, 8, 7, 0, 2, 3.924174352300442, 1.0, 36.62, 19.48, <1x26405 sparse matrix of type '<class 'numpy.float64'>'
	with 8 stored elements in Compressed Sparse Row format>, 0]
[3, 1, 4, 1, 3, 9, 5, 0, 7, 3.8897620997187423, 1.0, 121.22, 0.05, <1x26405 sparse matrix of type '<class 'numpy.float64'>'
	with 8 stored elements in Compressed Sparse Row format>, 0]
[3, 0, 1, 0, 1, 4, 4, 0, 1, 3.5121884039686613, 1.0, -47.99, 19.48, <1x26405 sparse matrix of type '<class 'numpy.float64'>'
	with 8 stored elements in Compressed Sparse Row format>, 1]
[3, 2, 1, 0, 0, 7, 5, 1, 1, 3.9580674309463264, 1.0, 121.22, 19.48, <1x26405 sparse matrix of type '<class 'numpy.float64'>'
	with 8 stored elements in Compressed Sparse Row format>, 1]
[5, 1, 1, 1, 0, 8, 6, 0, 2, 4.178305516512272, 1.0, 121.22, 19.48, <1x26405 sparse matrix of type '<class 'numpy.float64'>'
	with 8 stored elements in Compressed Sparse Row format>, 0]
[6, 0, 1, 0, 1, 7, 5, 1, 1, 3.991734590332954, 0.875, 121.22, 0.05, <1x26405 sparse matrix of type '<class 'numpy.float64'>'
	with 8 stored elements in Compressed Sparse Row format>, 0]
[1, 1, 1, 1, 2, 6, 4, 0, 4, 4.1786020303345115, 1.0, 121.22, 35.27, <1x26405 sparse matrix of type '<class 'numpy.float64'>'
	with 8 stored elements in Compressed Sparse Row format>, 0]
[4, 0, 1, 1, 2, 8, 6, 0, 4, 4.115539408700329, 1.0, 121.22, 19.48, <1x26405 sparse matrix of type '<class 'numpy.float64'>'
	with 8 stored elements in Compressed Sparse Row format>, 0]
[2, 0, 0, 0, 0, 2, 1, 1, 0, 3.182005814760214, 1.0, 121.22, 19.48, <1x26405 sparse matrix of type '<class 'numpy.float64'>'
	with 8 stored elements in Compressed Sparse Row format>, 0]
[3, 1, 1, 0, 1, 6, 5, 0, 1, 3.7916116644269757, 1.0, -47.99, 0.05, <1x26405 sparse matrix of type '<class 'numpy.float64'>'
	with 8 stored elements in Compressed Sparse Row format>, 0]
[4, 2, 2, 0, 1, 11, 7, 0, 4, 4.176983748995558, 1.0, 121.22, 0.05, <1x26405 sparse matrix of type '<class 'numpy.float64'>'
	with 8 stored elements in Compressed Sparse Row format>, 1]
[6, 2, 1, 1, 1, 10, 8, 1, 3, 3.9923860603560497, 1.0, 36.62, 0.05, <1x26405 sparse matrix of type '<class 'numpy.float64'>'
	with 8 stored elements in Compressed Sparse Row format>, 0]
[1, 1, 2, 0, 1, 5, 2, 0, 2, 3.688307235905091, 1.0, 36.62, 19.48, <1x26405 sparse matrix of type '<class 'numpy.float64'>'
	with 8 stored elements in Compressed Sparse Row format>, 1]
[7, 2, 2, 1, 1, 12, 6, 2, 2, 4.131458152437587, 1.0, 121.22, 19.48, <1x26405 sparse matrix of type '<class 'numpy.float64'>'
	with 8 stored elements in Compressed Sparse Row format>, 0]
[2, 1, 0, 0, 1, 4, 4, 0, 1, 3.917626443873359, 1.0, 36.62, 19.48, <1x26405 sparse matrix of type '<class 'numpy.float64'>'
	with 8 stored elements in Compressed Sparse Row format>, 0]
[3, 1, 1, 0, 1, 6, 5, 0, 2, 4.029404083726071, 1.0, 121.22, 0.05, <1x26405 sparse matrix of type '<class 'numpy.float64'>'
	with 8 stored elements in Compressed Sparse Row format>, 1]
[5, 3, 3, 0, 3, 14, 12, 0, 5, 4.106508635848211, 0.9411764705882353, 121.22, 0.05, <1x26405 sparse matrix of type '<class 'numpy.float64'>'
	with 8 stored elements in Compressed Sparse Row format>, 1]
[4, 1, 2, 0, 1, 7, 7, 0, 1, 4.0045334798453736, 1.0, 121.22, 0.05, <1x26405 sparse matrix of type '<class 'numpy.float64'>'
	with 8 stored elements in Compressed Sparse Row format>, 1]
[4, 0, 3, 1, 2, 8, 6, 0, 5, 3.7976568528290646, 1.0, 121.22, 0.05, <1x26405 sparse matrix of type '<class 'numpy.float64'>'
	with 8 stored elements in Compressed Sparse Row format>, 1]
[7, 1, 1, 0, 2, 9, 7, 0, 2, 3.7447078683181663, 1.0, 36.62, 19.48, <1x26405 sparse matrix of type '<class 'numpy.float64'>'
	with 8 stored elements in Compressed Sparse Row format>, 0]
[4, 1, 0, 0, 0, 6, 4, 0, 1, 3.9333751431391573, 1.0, 121.22, 19.48, <1x26405 sparse matrix of type '<class 'numpy.float64'>'
	with 8 stored elements in Compressed Sparse Row format>, 0]
[2, 3, 2, 0, 3, 10, 8, 0, 5, 3.880985783847901, 0.9230769230769231, 121.22, 19.48, <1x26405 sparse matrix of type '<class 'numpy.float64'>'
	with 8 stored elements in Compressed Sparse Row format>, 1]
[4, 1, 1, 0, 1, 6, 5, 1, 1, 4.039532122846976, 1.0, 121.22, 19.48, <1x26405 sparse matrix of type '<class 'numpy.float64'>'
	with 8 stored elements in Compressed Sparse Row format>, 1]
[5, 0, 5, 0, 2, 12, 9, 0, 4, 4.030630313682372, 0.9285714285714286, 121.22, 0.05, <1x26405 sparse matrix of type '<class 'numpy.float64'>'
	with 8 stored elements in Compressed Sparse Row format>, 1]
[2, 1, 1, 0, 1, 4, 2, 0, 1, 3.764735178725505, 1.0, -47.99, 19.48, <1x26405 sparse matrix of type '<class 'numpy.float64'>'
	with 8 stored elements in Compressed Sparse Row format>, 0]
[6, 1, 3, 0, 1, 11, 8, 1, 2, 4.193997956809327, 1.0, 36.62, 19.48, <1x26405 sparse matrix of type '<class 'numpy.float64'>'
	with 8 stored elements in Compressed Sparse Row format>, 0]
[7, 3, 1, 0, 0, 13, 10, 0, 2, 4.071239189283472, 1.0, 36.62, 19.48, <1x26405 sparse matrix of type '<class 'numpy.float64'>'
	with 8 stored elements in Compressed Sparse Row format>, 1]
[2, 3, 1, 0, 0, 6, 6, 0, 0, 3.888600766726142, 1.0, 121.22, 19.48, <1x26405 sparse matrix of type '<class 'numpy.float64'>'
	with 8 stored elements in Compressed Sparse Row format>, 1]
[4, 1, 0, 0, 2, 6, 3, 1, 3, 4.043116459152937, 1.0, 121.22, 35.27, <1x26405 sparse matrix of type '<class 'numpy.float64'>'
	with 8 stored elements in Compressed Sparse Row format>, 0]
[4, 1, 1, 0, 2, 7, 6, 1, 2, 4.056332478093421, 1.0, 121.22, 19.48, <1x26405 sparse matrix of type '<class 'numpy.float64'>'
	with 8 stored elements in Compressed Sparse Row format>, 0]
[7, 1, 0, 0, 1, 10, 9, 0, 2, 4.196369320594469, 1.0, 121.22, 0.05, <1x26405 sparse matrix of type '<class 'numpy.float64'>'
	with 8 stored elements in Compressed Sparse Row format>, 1]
[8, 3, 2, 0, 0, 15, 7, 0, 1, 4.353534464715957, 0.9333333333333333, 36.62, 0.05, <1x26405 sparse matrix of type '<class 'numpy.float64'>'
	with 8 stored elements in Compressed Sparse Row format>, 1]
[3, 1, 1, 0, 1, 6, 5, 0, 2, 3.9711042232812135, 1.0, 36.62, 19.48, <1x26405 sparse matrix of type '<class 'numpy.float64'>'
	with 8 stored elements in Compressed Sparse Row format>, 0]
[4, 2, 0, 0, 1, 6, 6, 0, 1, 4.026360459931184, 1.0, 121.22, 0.05, <1x26405 sparse matrix of type '<class 'numpy.float64'>'
	with 8 stored elements in Compressed Sparse Row format>, 1]
[5, 2, 2, 0, 3, 11, 8, 0, 5, 3.8980829155562233, 1.0, 36.62, 19.48, <1x26405 sparse matrix of type '<class 'numpy.float64'>'
	with 8 stored elements in Compressed Sparse Row format>, 1]
[2, 4, 2, 0, 1, 9, 8, 1, 1, 4.212621142392477, 1.0, 121.22, 19.48, <1x26405 sparse matrix of type '<class 'numpy.float64'>'
	with 8 stored elements in Compressed Sparse Row format>, 1]
[4, 1, 4, 0, 2, 12, 9, 0, 5, 3.944774265839701, 1.0, 36.62, 0.05, <1x26405 sparse matrix of type '<class 'numpy.float64'>'
	with 8 stored elements in Compressed Sparse Row format>, 1]
[4, 2, 1, 0, 0, 9, 6, 1, 0, 4.1808210724095165, 1.0, 36.62, 0.05, <1x26405 sparse matrix of type '<class 'numpy.float64'>'
	with 8 stored elements in Compressed Sparse Row format>, 1]
[2, 2, 5, 1, 1, 13, 8, 0, 5, 4.104645248446565, 1.0, 121.22, 0.05, <1x26405 sparse matrix of type '<class 'numpy.float64'>'
	with 8 stored elements in Compressed Sparse Row format>, 0]
[3, 1, 1, 0, 1, 6, 5, 0, 1, 3.850115045148206, 1.0, 121.22, 19.48, <1x26405 sparse matrix of type '<class 'numpy.float64'>'
	with 8 stored elements in Compressed Sparse Row format>, 0]
[4, 1, 2, 0, 1, 10, 3, 3, 4, 3.89609579758822, 1.0, 121.22, 0.05, <1x26405 sparse matrix of type '<class 'numpy.float64'>'
	with 8 stored elements in Compressed Sparse Row format>, 0]
[4, 2, 1, 1, 2, 7, 7, 0, 3, 3.8750005456379353, 1.0, 36.62, 0.05, <1x26405 sparse matrix of type '<class 'numpy.float64'>'
	with 8 stored elements in Compressed Sparse Row format>, 0]
[5, 0, 2, 0, 1, 8, 7, 0, 2, 3.879010795650283, 1.0, 121.22, 19.48, <1x26405 sparse matrix of type '<class 'numpy.float64'>'
	with 8 stored elements in Compressed Sparse Row format>, 1]
[4, 2, 3, 0, 1, 9, 6, 1, 1, 4.0917859262004885, 1.0, 121.22, 19.48, <1x26405 sparse matrix of type '<class 'numpy.float64'>'
	with 8 stored elements in Compressed Sparse Row format>, 1]
[5, 2, 3, 0, 2, 13, 10, 0, 4, 4.007085833902693, 1.0, -47.99, 19.48, <1x26405 sparse matrix of type '<class 'numpy.float64'>'
	with 8 stored elements in Compressed Sparse Row format>, 1]
[18, 5, 3, 0, 3, 27, 4, 6, 4, 4.260076837093229, 0.9666666666666667, 121.22, 19.48, <1x26405 sparse matrix of type '<class 'numpy.float64'>'
	with 8 stored elements in Compressed Sparse Row format>, 1]
[3, 3, 3, 0, 2, 11, 8, 0, 4, 3.968507380904427, 0.9230769230769231, 121.22, 0.05, <1x26405 sparse matrix of type '<class 'numpy.float64'>'
	with 8 stored elements in Compressed Sparse Row format>, 1]
[7, 1, 2, 0, 2, 11, 10, 0, 3, 4.0555014359460495, 1.0, 36.62, 19.48, <1x26405 sparse matrix of type '<class 'numpy.float64'>'
	with 8 stored elements in Compressed Sparse Row format>, 1]
[5, 3, 0, 0, 2, 8, 5, 1, 2, 4.036335137078635, 1.0, 36.62, 19.48, <1x26405 sparse matrix of type '<class 'numpy.float64'>'
	with 8 stored elements in Compressed Sparse Row format>, 0]
[7, 1, 2, 0, 1, 10, 9, 1, 1, 3.9041229559507156, 1.0, 121.22, 0.05, <1x26405 sparse matrix of type '<class 'numpy.float64'>'
	with 8 stored elements in Compressed Sparse Row format>, 1]
[1, 2, 2, 0, 0, 5, 5, 0, 0, 3.8746445263326614, 1.0, 36.62, 19.48, <1x26405 sparse matrix of type '<class 'numpy.float64'>'
	with 8 stored elements in Compressed Sparse Row format>, 1]
[4, 2, 1, 0, 1, 11, 7, 2, 3, 4.2231208651503716, 1.0, 36.62, 19.48, <1x26405 sparse matrix of type '<class 'numpy.float64'>'
	with 8 stored elements in Compressed Sparse Row format>, 1]
[6, 0, 3, 0, 2, 9, 9, 0, 2, 3.9242044041088078, 1.0, 121.22, 19.48, <1x26405 sparse matrix of type '<class 'numpy.float64'>'
	with 8 stored elements in Compressed Sparse Row format>, 0]
[3, 0, 0, 0, 0, 4, 3, 0, 1, 3.4332696895151082, 1.0, 121.22, 0.05, <1x26405 sparse matrix of type '<class 'numpy.float64'>'
	with 8 stored elements in Compressed Sparse Row format>, 0]
[8, 3, 2, 0, 2, 15, 11, 2, 3, 4.062915045731441, 1.0, -47.99, 19.48, <1x26405 sparse matrix of type '<class 'numpy.float64'>'
	with 8 stored elements in Compressed Sparse Row format>, 1]
[3, 0, 0, 1, 2, 4, 3, 0, 4, 3.5664688907528785, 1.0, 36.62, 19.48, <1x26405 sparse matrix of type '<class 'numpy.float64'>'
	with 8 stored elements in Compressed Sparse Row format>, 0]
[2, 0, 0, 1, 0, 3, 0, 0, 0, 3.740601562950723, 1.0, -47.99, 19.48, <1x26405 sparse matrix of type '<class 'numpy.float64'>'
	with 8 stored elements in Compressed Sparse Row format>, 0]
[7, 1, 2, 0, 2, 12, 8, 2, 4, 3.9797835373153725, 1.0, 36.62, 19.48, <1x26405 sparse matrix of type '<class 'numpy.float64'>'
	with 8 stored elements in Compressed Sparse Row format>, 1]
[2, 2, 1, 0, 2, 6, 4, 0, 2, 4.000169822925871, 1.0, -47.99, 19.48, <1x26405 sparse matrix of type '<class 'numpy.float64'>'
	with 8 stored elements in Compressed Sparse Row format>, 1]
[5, 4, 2, 1, 3, 11, 5, 1, 6, 4.120786475426411, 1.0, 121.22, 19.48, <1x26405 sparse matrix of type '<class 'numpy.float64'>'
	with 8 stored elements in Compressed Sparse Row format>, 0]
[7, 1, 3, 0, 2, 13, 11, 0, 4, 4.023718176363788, 1.0, 121.22, 19.48, <1x26405 sparse matrix of type '<class 'numpy.float64'>'
	with 8 stored elements in Compressed Sparse Row format>, 1]
[7, 2, 1, 0, 0, 14, 9, 0, 3, 3.9308008458260577, 1.0, 121.22, 19.48, <1x26405 sparse matrix of type '<class 'numpy.float64'>'
	with 8 stored elements in Compressed Sparse Row format>, 1]
[5, 2, 1, 0, 1, 10, 7, 0, 2, 4.085234400595296, 1.0, -47.99, 19.48, <1x26405 sparse matrix of type '<class 'numpy.float64'>'
	with 8 stored elements in Compressed Sparse Row format>, 1]
[3, 0, 1, 0, 1, 5, 2, 0, 1, 3.9498939766703756, 1.0, -132.59, 19.48, <1x26405 sparse matrix of type '<class 'numpy.float64'>'
	with 8 stored elements in Compressed Sparse Row format>, 0]
[4, 4, 0, 0, 0, 8, 8, 0, 0, 4.0486283508674275, 1.0, 121.22, 0.05, <1x26405 sparse matrix of type '<class 'numpy.float64'>'
	with 8 stored elements in Compressed Sparse Row format>, 1]
[4, 1, 1, 0, 1, 8, 5, 0, 3, 3.7431630849593502, 1.0, 36.62, 19.48, <1x26405 sparse matrix of type '<class 'numpy.float64'>'
	with 8 stored elements in Compressed Sparse Row format>, 0]
[6, 1, 0, 0, 1, 9, 6, 0, 2, 3.8506503129335012, 1.0, 121.22, 0.05, <1x26405 sparse matrix of type '<class 'numpy.float64'>'
	with 8 stored elements in Compressed Sparse Row format>, 0]
[7, 3, 2, 0, 3, 12, 8, 0, 4, 4.125434623591685, 1.0, 36.62, 19.48, <1x26405 sparse matrix of type '<class 'numpy.float64'>'
	with 8 stored elements in Compressed Sparse Row format>, 1]
[4, 1, 1, 0, 1, 7, 4, 0, 2, 4.161488704806757, 1.0, -132.59, 19.48, <1x26405 sparse matrix of type '<class 'numpy.float64'>'
	with 8 stored elements in Compressed Sparse Row format>, 0]
[6, 1, 2, 0, 2, 11, 10, 0, 3, 3.9953137652691333, 1.0, 121.22, 0.05, <1x26405 sparse matrix of type '<class 'numpy.float64'>'
	with 8 stored elements in Compressed Sparse Row format>, 1]
[1, 2, 1, 0, 1, 7, 2, 2, 3, 3.7961802790373347, 1.0, 121.22, 0.05, <1x26405 sparse matrix of type '<class 'numpy.float64'>'
	with 8 stored elements in Compressed Sparse Row format>, 1]
[3, 1, 1, 0, 1, 6, 3, 1, 2, 4.02467389677155, 1.0, 121.22, 19.48, <1x26405 sparse matrix of type '<class 'numpy.float64'>'
	with 8 stored elements in Compressed Sparse Row format>, 0]
[3, 1, 0, 0, 2, 5, 5, 0, 2, 3.680165331217427, 1.0, 121.22, 0.05, <1x26405 sparse matrix of type '<class 'numpy.float64'>'
	with 8 stored elements in Compressed Sparse Row format>, 1]
[5, 1, 1, 0, 1, 8, 2, 3, 2, 4.089309698633967, 1.0, 121.22, 19.48, <1x26405 sparse matrix of type '<class 'numpy.float64'>'
	with 8 stored elements in Compressed Sparse Row format>, 0]
[6, 0, 2, 0, 2, 9, 9, 0, 2, 4.1260744999952434, 1.0, 36.62, 19.48, <1x26405 sparse matrix of type '<class 'numpy.float64'>'
	with 8 stored elements in Compressed Sparse Row format>, 1]
[11, 1, 2, 0, 5, 15, 8, 1, 5, 4.140755974568063, 1.0, 121.22, 19.48, <1x26405 sparse matrix of type '<class 'numpy.float64'>'
	with 8 stored elements in Compressed Sparse Row format>, 0]
[4, 0, 1, 0, 1, 8, 4, 0, 3, 4.164702734332651, 1.0, 121.22, 0.05, <1x26405 sparse matrix of type '<class 'numpy.float64'>'
	with 8 stored elements in Compressed Sparse Row format>, 1]
[2, 1, 2, 0, 1, 6, 1, 0, 2, 4.061976875613826, 1.0, 121.22, 19.48, <1x26405 sparse matrix of type '<class 'numpy.float64'>'
	with 8 stored elements in Compressed Sparse Row format>, 1]
[4, 1, 2, 0, 2, 10, 8, 0, 4, 4.068283935982854, 1.0, 121.22, 19.48, <1x26405 sparse matrix of type '<class 'numpy.float64'>'
	with 8 stored elements in Compressed Sparse Row format>, 0]
[4, 1, 0, 0, 0, 7, 4, 0, 2, 3.9410839665032906, 1.0, 121.22, 19.48, <1x26405 sparse matrix of type '<class 'numpy.float64'>'
	with 8 stored elements in Compressed Sparse Row format>, 1]
[4, 0, 2, 0, 1, 10, 5, 0, 5, 3.890243378552403, 1.0, 121.22, 19.48, <1x26405 sparse matrix of type '<class 'numpy.float64'>'
	with 8 stored elements in Compressed Sparse Row format>, 1]
[3, 2, 3, 0, 4, 9, 7, 1, 4, 4.058446231479287, 0.9230769230769231, 36.62, 19.48, <1x26405 sparse matrix of type '<class 'numpy.float64'>'
	with 8 stored elements in Compressed Sparse Row format>, 0]
[5, 0, 2, 0, 0, 8, 7, 0, 1, 4.0728220698369695, 1.0, 36.62, 19.48, <1x26405 sparse matrix of type '<class 'numpy.float64'>'
	with 8 stored elements in Compressed Sparse Row format>, 1]
[2, 2, 1, 0, 2, 9, 4, 2, 5, 3.5530946299178257, 0.9090909090909091, -47.99, 19.48, <1x26405 sparse matrix of type '<class 'numpy.float64'>'
	with 8 stored elements in Compressed Sparse Row format>, 0]
[4, 1, 2, 0, 1, 8, 6, 1, 2, 3.8758018969227206, 1.0, 36.62, 19.48, <1x26405 sparse matrix of type '<class 'numpy.float64'>'
	with 8 stored elements in Compressed Sparse Row format>, 1]
[5, 2, 0, 0, 3, 11, 9, 0, 5, 4.111141229744802, 0.9285714285714286, 121.22, 19.48, <1x26405 sparse matrix of type '<class 'numpy.float64'>'
	with 8 stored elements in Compressed Sparse Row format>, 1]
[5, 3, 3, 0, 2, 14, 11, 1, 4, 4.122757042665299, 1.0, 36.62, 0.05, <1x26405 sparse matrix of type '<class 'numpy.float64'>'
	with 8 stored elements in Compressed Sparse Row format>, 1]
[3, 2, 2, 0, 1, 9, 8, 0, 2, 3.8025878269134608, 1.0, 121.22, 19.48, <1x26405 sparse matrix of type '<class 'numpy.float64'>'
	with 8 stored elements in Compressed Sparse Row format>, 1]
[3, 1, 4, 0, 1, 8, 7, 1, 1, 4.018548329591064, 1.0, 121.22, 0.05, <1x26405 sparse matrix of type '<class 'numpy.float64'>'
	with 8 stored elements in Compressed Sparse Row format>, 1]
[6, 0, 2, 0, 1, 8, 8, 0, 1, 3.9981791328059133, 1.0, -47.99, 19.48, <1x26405 sparse matrix of type '<class 'numpy.float64'>'
	with 8 stored elements in Compressed Sparse Row format>, 0]
[3, 0, 0, 0, 0, 4, 1, 1, 1, 3.7192945256669794, 1.0, 121.22, 0.05, <1x26405 sparse matrix of type '<class 'numpy.float64'>'
	with 8 stored elements in Compressed Sparse Row format>, 0]
[2, 2, 3, 0, 3, 7, 4, 1, 4, 3.7252448242879215, 1.0, -47.99, 19.48, <1x26405 sparse matrix of type '<class 'numpy.float64'>'
	with 8 stored elements in Compressed Sparse Row format>, 1]
[4, 0, 0, 0, 1, 6, 4, 0, 3, 3.531941205546659, 1.0, 121.22, 0.05, <1x26405 sparse matrix of type '<class 'numpy.float64'>'
	with 8 stored elements in Compressed Sparse Row format>, 1]
[5, 1, 3, 0, 4, 10, 9, 0, 5, 4.013470967417974, 0.9285714285714286, 121.22, 0.05, <1x26405 sparse matrix of type '<class 'numpy.float64'>'
	with 8 stored elements in Compressed Sparse Row format>, 1]
[3, 1, 2, 0, 2, 11, 4, 0, 7, 3.9300028709258545, 0.9230769230769231, 36.62, 19.48, <1x26405 sparse matrix of type '<class 'numpy.float64'>'
	with 8 stored elements in Compressed Sparse Row format>, 0]
[4, 2, 2, 0, 1, 9, 2, 3, 1, 4.008443867770404, 1.0, 36.62, 19.48, <1x26405 sparse matrix of type '<class 'numpy.float64'>'
	with 8 stored elements in Compressed Sparse Row format>, 0]
[6, 0, 2, 0, 1, 11, 7, 0, 4, 3.9243484332634035, 1.0, 36.62, 19.48, <1x26405 sparse matrix of type '<class 'numpy.float64'>'
	with 8 stored elements in Compressed Sparse Row format>, 1]
[3, 1, 0, 0, 1, 5, 3, 0, 2, 3.766126767019874, 1.0, 121.22, 19.48, <1x26405 sparse matrix of type '<class 'numpy.float64'>'
	with 8 stored elements in Compressed Sparse Row format>, 0]
[5, 1, 4, 0, 3, 12, 9, 0, 4, 4.180826283144465, 1.0, 121.22, 19.48, <1x26405 sparse matrix of type '<class 'numpy.float64'>'
	with 8 stored elements in Compressed Sparse Row format>, 1]
[7, 2, 3, 0, 2, 12, 4, 3, 3, 4.165172977059041, 1.0, 36.62, 0.05, <1x26405 sparse matrix of type '<class 'numpy.float64'>'
	with 8 stored elements in Compressed Sparse Row format>, 0]
[3, 1, 2, 0, 1, 8, 7, 0, 2, 3.911951662439949, 1.0, 121.22, 0.05, <1x26405 sparse matrix of type '<class 'numpy.float64'>'
	with 8 stored elements in Compressed Sparse Row format>, 1]
[6, 1, 1, 0, 2, 9, 6, 1, 3, 4.007944812001273, 1.0, 121.22, 19.48, <1x26405 sparse matrix of type '<class 'numpy.float64'>'
	with 8 stored elements in Compressed Sparse Row format>, 0]
[6, 1, 1, 0, 1, 6, 4, 1, 0, 4.0949066182439395, 1.0, 121.22, 19.48, <1x26405 sparse matrix of type '<class 'numpy.float64'>'
	with 8 stored elements in Compressed Sparse Row format>, 0]
[4, 1, 3, 0, 1, 9, 5, 1, 2, 3.824410319937514, 1.0, 121.22, 19.48, <1x26405 sparse matrix of type '<class 'numpy.float64'>'
	with 8 stored elements in Compressed Sparse Row format>, 0]
[4, 1, 1, 0, 2, 8, 2, 1, 4, 3.818688570451096, 1.0, 121.22, 19.48, <1x26405 sparse matrix of type '<class 'numpy.float64'>'
	with 8 stored elements in Compressed Sparse Row format>, 0]
[6, 0, 3, 0, 1, 11, 9, 0, 1, 4.250839537448838, 1.0, 121.22, 0.05, <1x26405 sparse matrix of type '<class 'numpy.float64'>'
	with 8 stored elements in Compressed Sparse Row format>, 1]
[6, 1, 1, 1, 1, 9, 8, 1, 2, 3.8120424859476825, 1.0, 36.62, 0.05, <1x26405 sparse matrix of type '<class 'numpy.float64'>'
	with 8 stored elements in Compressed Sparse Row format>, 0]
[3, 1, 1, 0, 1, 6, 6, 0, 1, 4.041530904948096, 1.0, 36.62, 19.48, <1x26405 sparse matrix of type '<class 'numpy.float64'>'
	with 8 stored elements in Compressed Sparse Row format>, 1]
[3, 1, 0, 0, 1, 7, 5, 0, 3, 3.67795610610364, 1.0, 121.22, 0.05, <1x26405 sparse matrix of type '<class 'numpy.float64'>'
	with 8 stored elements in Compressed Sparse Row format>, 0]
[6, 2, 2, 0, 2, 14, 8, 1, 5, 4.157394233432921, 1.0, 121.22, 19.48, <1x26405 sparse matrix of type '<class 'numpy.float64'>'
	with 8 stored elements in Compressed Sparse Row format>, 1]
[6, 0, 2, 0, 0, 10, 6, 1, 1, 4.186169979221132, 1.0, 36.62, 19.48, <1x26405 sparse matrix of type '<class 'numpy.float64'>'
	with 8 stored elements in Compressed Sparse Row format>, 0]
[3, 2, 2, 0, 2, 8, 7, 0, 2, 4.227579651196678, 1.0, 121.22, 0.05, <1x26405 sparse matrix of type '<class 'numpy.float64'>'
	with 8 stored elements in Compressed Sparse Row format>, 1]
[3, 1, 1, 0, 0, 5, 4, 1, 0, 3.810144243714968, 1.0, 36.62, 19.48, <1x26405 sparse matrix of type '<class 'numpy.float64'>'
	with 8 stored elements in Compressed Sparse Row format>, 1]
[5, 1, 0, 0, 0, 7, 5, 0, 0, 3.975457941109059, 1.0, 36.62, 19.48, <1x26405 sparse matrix of type '<class 'numpy.float64'>'
	with 8 stored elements in Compressed Sparse Row format>, 1]
[4, 0, 1, 0, 0, 7, 2, 2, 2, 3.862507470762515, 1.0, 36.62, 19.48, <1x26405 sparse matrix of type '<class 'numpy.float64'>'
	with 8 stored elements in Compressed Sparse Row format>, 0]
[4, 2, 2, 0, 3, 7, 3, 3, 3, 3.970974296968166, 1.0, 36.62, 19.48, <1x26405 sparse matrix of type '<class 'numpy.float64'>'
	with 8 stored elements in Compressed Sparse Row format>, 1]
[3, 2, 4, 1, 1, 13, 10, 0, 5, 4.085274632722953, 1.0, 121.22, 0.05, <1x26405 sparse matrix of type '<class 'numpy.float64'>'
	with 8 stored elements in Compressed Sparse Row format>, 1]
[4, 1, 2, 0, 1, 8, 5, 0, 3, 3.7691591097822905, 1.0, 121.22, 0.05, <1x26405 sparse matrix of type '<class 'numpy.float64'>'
	with 8 stored elements in Compressed Sparse Row format>, 0]
[8, 4, 2, 0, 3, 14, 14, 1, 2, 3.979936518504437, 1.0, -47.99, 19.48, <1x26405 sparse matrix of type '<class 'numpy.float64'>'
	with 8 stored elements in Compressed Sparse Row format>, 0]
[4, 2, 3, 1, 2, 9, 7, 1, 4, 4.028523418378132, 1.0, 121.22, 0.05, <1x26405 sparse matrix of type '<class 'numpy.float64'>'
	with 8 stored elements in Compressed Sparse Row format>, 0]
[6, 1, 0, 0, 2, 10, 6, 0, 4, 4.00973143382981, 1.0, 121.22, 19.48, <1x26405 sparse matrix of type '<class 'numpy.float64'>'
	with 8 stored elements in Compressed Sparse Row format>, 1]
[5, 0, 2, 0, 1, 8, 6, 0, 1, 3.7877308229808673, 1.0, 121.22, 0.05, <1x26405 sparse matrix of type '<class 'numpy.float64'>'
	with 8 stored elements in Compressed Sparse Row format>, 1]
[3, 3, 2, 0, 2, 9, 7, 0, 4, 3.9189869584530608, 1.0, 121.22, 19.48, <1x26405 sparse matrix of type '<class 'numpy.float64'>'
	with 8 stored elements in Compressed Sparse Row format>, 0]
[6, 2, 1, 0, 4, 11, 6, 0, 5, 3.8459394744182394, 0.8666666666666667, -47.99, 19.48, <1x26405 sparse matrix of type '<class 'numpy.float64'>'
	with 8 stored elements in Compressed Sparse Row format>, 1]
[4, 0, 1, 0, 0, 6, 4, 2, 0, 3.906724115462864, 1.0, 36.62, 0.05, <1x26405 sparse matrix of type '<class 'numpy.float64'>'
	with 8 stored elements in Compressed Sparse Row format>, 1]
[4, 2, 0, 0, 0, 7, 7, 0, 0, 3.915844754823244, 1.0, 36.62, 19.48, <1x26405 sparse matrix of type '<class 'numpy.float64'>'
	with 8 stored elements in Compressed Sparse Row format>, 0]
[5, 1, 1, 0, 1, 8, 6, 1, 2, 3.9177211487190973, 1.0, 36.62, 0.05, <1x26405 sparse matrix of type '<class 'numpy.float64'>'
	with 8 stored elements in Compressed Sparse Row format>, 0]
[5, 0, 2, 0, 2, 11, 7, 0, 6, 3.9431480020787535, 1.0, 121.22, 0.05, <1x26405 sparse matrix of type '<class 'numpy.float64'>'
	with 8 stored elements in Compressed Sparse Row format>, 1]
[3, 0, 4, 0, 2, 8, 7, 0, 2, 4.06126789379645, 1.0, -217.19, 19.48, <1x26405 sparse matrix of type '<class 'numpy.float64'>'
	with 8 stored elements in Compressed Sparse Row format>, 1]
[5, 1, 1, 0, 1, 8, 5, 0, 2, 4.023382914624721, 1.0, 121.22, 19.48, <1x26405 sparse matrix of type '<class 'numpy.float64'>'
	with 8 stored elements in Compressed Sparse Row format>, 1]
[3, 2, 2, 0, 4, 9, 6, 0, 6, 3.9914919282038377, 0.9230769230769231, 121.22, 0.05, <1x26405 sparse matrix of type '<class 'numpy.float64'>'
	with 8 stored elements in Compressed Sparse Row format>, 0]
[1, 0, 3, 1, 2, 2, 2, 0, 3, 3.383465189601647, 1.0, 36.62, 19.48, <1x26405 sparse matrix of type '<class 'numpy.float64'>'
	with 8 stored elements in Compressed Sparse Row format>, 0]
[3, 3, 1, 0, 0, 8, 5, 1, 2, 3.943389862218868, 1.0, 121.22, 0.05, <1x26405 sparse matrix of type '<class 'numpy.float64'>'
	with 8 stored elements in Compressed Sparse Row format>, 1]
[5, 1, 2, 1, 3, 9, 7, 1, 5, 4.0533930162294896, 0.9230769230769231, 121.22, 0.05, <1x26405 sparse matrix of type '<class 'numpy.float64'>'
	with 8 stored elements in Compressed Sparse Row format>, 1]
[5, 2, 2, 0, 1, 9, 8, 0, 1, 4.064138668312915, 1.0, 121.22, 19.48, <1x26405 sparse matrix of type '<class 'numpy.float64'>'
	with 8 stored elements in Compressed Sparse Row format>, 1]
[2, 1, 0, 0, 0, 5, 3, 0, 2, 3.544097907106122, 1.0, 36.62, 19.48, <1x26405 sparse matrix of type '<class 'numpy.float64'>'
	with 8 stored elements in Compressed Sparse Row format>, 0]
[4, 1, 1, 0, 1, 8, 5, 1, 1, 4.187582004007327, 1.0, 36.62, 19.48, <1x26405 sparse matrix of type '<class 'numpy.float64'>'
	with 8 stored elements in Compressed Sparse Row format>, 0]
[6, 0, 3, 0, 5, 12, 11, 0, 6, 4.008870968874562, 1.0, -47.99, 0.05, <1x26405 sparse matrix of type '<class 'numpy.float64'>'
	with 8 stored elements in Compressed Sparse Row format>, 1]
[4, 1, 0, 0, 1, 5, 0, 0, 0, 3.974695407915898, 1.0, 121.22, 19.48, <1x26405 sparse matrix of type '<class 'numpy.float64'>'
	with 8 stored elements in Compressed Sparse Row format>, 0]
[3, 0, 1, 0, 1, 5, 2, 0, 2, 3.8846537449368466, 1.0, 121.22, 0.05, <1x26405 sparse matrix of type '<class 'numpy.float64'>'
	with 8 stored elements in Compressed Sparse Row format>, 0]
[4, 1, 1, 0, 0, 10, 5, 2, 3, 3.992421973553845, 1.0, 36.62, 19.48, <1x26405 sparse matrix of type '<class 'numpy.float64'>'
	with 8 stored elements in Compressed Sparse Row format>, 0]
[4, 3, 2, 0, 0, 10, 5, 1, 1, 4.159768696746745, 1.0, 121.22, 19.48, <1x26405 sparse matrix of type '<class 'numpy.float64'>'
	with 8 stored elements in Compressed Sparse Row format>, 0]
[4, 0, 3, 0, 0, 8, 2, 1, 1, 4.239316973008482, 1.0, 121.22, 19.48, <1x26405 sparse matrix of type '<class 'numpy.float64'>'
	with 8 stored elements in Compressed Sparse Row format>, 0]
[5, 1, 3, 0, 0, 10, 5, 2, 1, 4.115631717658729, 1.0, 36.62, 19.48, <1x26405 sparse matrix of type '<class 'numpy.float64'>'
	with 8 stored elements in Compressed Sparse Row format>, 0]
[4, 1, 1, 1, 0, 5, 3, 0, 1, 3.8610523492544297, 1.0, -47.99, 19.48, <1x26405 sparse matrix of type '<class 'numpy.float64'>'
	with 8 stored elements in Compressed Sparse Row format>, 0]
[3, 1, 0, 0, 1, 7, 5, 0, 3, 3.67795610610364, 1.0, 121.22, 0.05, <1x26405 sparse matrix of type '<class 'numpy.float64'>'
	with 8 stored elements in Compressed Sparse Row format>, 0]
[4, 2, 1, 1, 2, 9, 7, 1, 3, 4.017327663118202, 1.0, 36.62, 19.48, <1x26405 sparse matrix of type '<class 'numpy.float64'>'
	with 8 stored elements in Compressed Sparse Row format>, 0]
[7, 1, 1, 0, 0, 10, 3, 5, 1, 4.085730446483444, 1.0, 36.62, 19.48, <1x26405 sparse matrix of type '<class 'numpy.float64'>'
	with 8 stored elements in Compressed Sparse Row format>, 0]
[3, 0, 1, 0, 2, 4, 2, 0, 2, 3.763809173883547, 1.0, 121.22, 0.05, <1x26405 sparse matrix of type '<class 'numpy.float64'>'
	with 8 stored elements in Compressed Sparse Row format>, 0]
[3, 1, 1, 0, 0, 7, 4, 1, 1, 3.9011730424784994, 1.0, 36.62, 19.48, <1x26405 sparse matrix of type '<class 'numpy.float64'>'
	with 8 stored elements in Compressed Sparse Row format>, 1]
[2, 0, 1, 0, 1, 6, 4, 0, 1, 3.9225895736416696, 1.0, 121.22, 0.05, <1x26405 sparse matrix of type '<class 'numpy.float64'>'
	with 8 stored elements in Compressed Sparse Row format>, 1]
[5, 1, 1, 0, 3, 8, 6, 0, 4, 3.941029411384319, 1.0, 36.62, 19.48, <1x26405 sparse matrix of type '<class 'numpy.float64'>'
	with 8 stored elements in Compressed Sparse Row format>, 1]
[7, 2, 1, 0, 1, 10, 9, 1, 1, 4.089049778864293, 1.0, -47.99, 19.48, <1x26405 sparse matrix of type '<class 'numpy.float64'>'
	with 8 stored elements in Compressed Sparse Row format>, 0]
[3, 3, 2, 0, 1, 9, 6, 1, 2, 4.083307960931275, 1.0, -47.99, 19.48, <1x26405 sparse matrix of type '<class 'numpy.float64'>'
	with 8 stored elements in Compressed Sparse Row format>, 1]
[10, 2, 4, 2, 4, 23, 14, 0, 11, 4.224258477825296, 0.9310344827586207, 36.62, 19.48, <1x26405 sparse matrix of type '<class 'numpy.float64'>'
	with 8 stored elements in Compressed Sparse Row format>, 0]
[2, 0, 2, 0, 0, 5, 2, 0, 2, 3.8100810205217317, 1.0, 36.62, 19.48, <1x26405 sparse matrix of type '<class 'numpy.float64'>'
	with 8 stored elements in Compressed Sparse Row format>, 0]
[2, 1, 3, 0, 2, 9, 5, 0, 6, 3.845256284845052, 1.0, 121.22, 0.05, <1x26405 sparse matrix of type '<class 'numpy.float64'>'
	with 8 stored elements in Compressed Sparse Row format>, 1]
[2, 1, 1, 0, 1, 4, 4, 0, 1, 3.743377462774617, 1.0, -132.59, 19.48, <1x26405 sparse matrix of type '<class 'numpy.float64'>'
	with 8 stored elements in Compressed Sparse Row format>, 1]
[3, 1, 1, 0, 2, 5, 6, 0, 1, 3.9708245220304788, 1.0, 121.22, 0.05, <1x26405 sparse matrix of type '<class 'numpy.float64'>'
	with 8 stored elements in Compressed Sparse Row format>, 1]
[4, 0, 1, 0, 0, 10, 4, 0, 4, 3.799876085498173, 1.0, 121.22, 0.05, <1x26405 sparse matrix of type '<class 'numpy.float64'>'
	with 8 stored elements in Compressed Sparse Row format>, 1]
[5, 4, 3, 0, 2, 11, 7, 2, 1, 4.059713843082152, 1.0, -132.59, 0.05, <1x26405 sparse matrix of type '<class 'numpy.float64'>'
	with 8 stored elements in Compressed Sparse Row format>, 0]
[5, 1, 1, 0, 2, 8, 8, 0, 2, 4.047934385875065, 1.0, 121.22, 19.48, <1x26405 sparse matrix of type '<class 'numpy.float64'>'
	with 8 stored elements in Compressed Sparse Row format>, 1]
[4, 4, 2, 1, 0, 10, 5, 2, 2, 3.9668328040215926, 1.0, 121.22, 19.48, <1x26405 sparse matrix of type '<class 'numpy.float64'>'
	with 8 stored elements in Compressed Sparse Row format>, 0]
[3, 0, 2, 0, 0, 5, 5, 0, 0, 3.6964393446710146, 1.0, -47.99, 19.48, <1x26405 sparse matrix of type '<class 'numpy.float64'>'
	with 8 stored elements in Compressed Sparse Row format>, 1]
[4, 0, 4, 1, 2, 9, 6, 0, 4, 3.9041352354060406, 1.0, 121.22, 19.48, <1x26405 sparse matrix of type '<class 'numpy.float64'>'
	with 8 stored elements in Compressed Sparse Row format>, 1]
[5, 1, 1, 0, 0, 8, 4, 1, 0, 4.095463821688583, 1.0, 36.62, 19.48, <1x26405 sparse matrix of type '<class 'numpy.float64'>'
	with 8 stored elements in Compressed Sparse Row format>, 0]
[2, 1, 3, 0, 1, 12, 9, 0, 4, 4.087794404244604, 1.0, 121.22, 0.05, <1x26405 sparse matrix of type '<class 'numpy.float64'>'
	with 8 stored elements in Compressed Sparse Row format>, 0]
[1, 1, 0, 0, 0, 2, 2, 0, 0, 3.337175341123077, 1.0, -132.59, 19.48, <1x26405 sparse matrix of type '<class 'numpy.float64'>'
	with 8 stored elements in Compressed Sparse Row format>, 1]
[5, 0, 2, 1, 1, 8, 3, 1, 3, 3.7248429316015237, 1.0, 121.22, 0.05, <1x26405 sparse matrix of type '<class 'numpy.float64'>'
	with 8 stored elements in Compressed Sparse Row format>, 1]
[2, 1, 2, 0, 0, 5, 3, 1, 1, 3.869331261111518, 1.0, 36.62, 19.48, <1x26405 sparse matrix of type '<class 'numpy.float64'>'
	with 8 stored elements in Compressed Sparse Row format>, 1]
[2, 1, 2, 0, 1, 8, 3, 0, 2, 3.769767254919391, 1.0, 36.62, 19.48, <1x26405 sparse matrix of type '<class 'numpy.float64'>'
	with 8 stored elements in Compressed Sparse Row format>, 1]
[7, 3, 3, 0, 4, 16, 12, 0, 6, 4.136465487903373, 1.0, 121.22, 19.48, <1x26405 sparse matrix of type '<class 'numpy.float64'>'
	with 8 stored elements in Compressed Sparse Row format>, 1]
[2, 0, 0, 0, 1, 3, 2, 0, 2, 3.3320953986601696, 1.0, 121.22, 0.05, <1x26405 sparse matrix of type '<class 'numpy.float64'>'
	with 8 stored elements in Compressed Sparse Row format>, 0]
[5, 2, 1, 0, 1, 8, 5, 2, 1, 4.012807526748281, 1.0, 36.62, 19.48, <1x26405 sparse matrix of type '<class 'numpy.float64'>'
	with 8 stored elements in Compressed Sparse Row format>, 1]
[6, 0, 3, 0, 2, 10, 5, 1, 4, 3.9272327072009685, 1.0, 121.22, 19.48, <1x26405 sparse matrix of type '<class 'numpy.float64'>'
	with 8 stored elements in Compressed Sparse Row format>, 0]
[2, 0, 3, 1, 2, 7, 5, 0, 5, 3.8467482954536036, 1.0, 121.22, 0.05, <1x26405 sparse matrix of type '<class 'numpy.float64'>'
	with 8 stored elements in Compressed Sparse Row format>, 1]
[2, 1, 2, 0, 3, 5, 4, 1, 3, 3.7615085958184387, 1.0, 121.22, 0.05, <1x26405 sparse matrix of type '<class 'numpy.float64'>'
	with 8 stored elements in Compressed Sparse Row format>, 1]
[1, 1, 0, 0, 0, 3, 2, 0, 1, 3.1898980954642866, 1.0, 121.22, 0.05, <1x26405 sparse matrix of type '<class 'numpy.float64'>'
	with 8 stored elements in Compressed Sparse Row format>, 0]
[4, 3, 1, 0, 2, 8, 8, 0, 2, 3.882308423420417, 1.0, -47.99, 19.48, <1x26405 sparse matrix of type '<class 'numpy.float64'>'
	with 8 stored elements in Compressed Sparse Row format>, 1]
[10, 0, 0, 0, 3, 10, 8, 0, 2, 4.371490859047583, 1.0, 121.22, 0.05, <1x26405 sparse matrix of type '<class 'numpy.float64'>'
	with 8 stored elements in Compressed Sparse Row format>, 0]
[5, 1, 1, 0, 2, 7, 7, 0, 2, 3.9091127711333087, 1.0, -47.99, 0.05, <1x26405 sparse matrix of type '<class 'numpy.float64'>'
	with 8 stored elements in Compressed Sparse Row format>, 1]
[6, 1, 1, 0, 1, 10, 6, 0, 2, 3.9960180720542033, 1.0, 36.62, 0.05, <1x26405 sparse matrix of type '<class 'numpy.float64'>'
	with 8 stored elements in Compressed Sparse Row format>, 1]
[4, 1, 3, 0, 0, 10, 6, 0, 2, 4.031145930086683, 1.0, 36.62, 0.05, <1x26405 sparse matrix of type '<class 'numpy.float64'>'
	with 8 stored elements in Compressed Sparse Row format>, 0]
[4, 2, 1, 0, 1, 8, 6, 0, 2, 3.7073047111418242, 1.0, 121.22, 19.48, <1x26405 sparse matrix of type '<class 'numpy.float64'>'
	with 8 stored elements in Compressed Sparse Row format>, 0]
[5, 1, 1, 0, 1, 8, 6, 0, 2, 4.1550904795155335, 1.0, -47.99, 19.48, <1x26405 sparse matrix of type '<class 'numpy.float64'>'
	with 8 stored elements in Compressed Sparse Row format>, 1]
[5, 0, 3, 0, 3, 11, 9, 0, 3, 4.259380394588028, 1.0, 36.62, 19.48, <1x26405 sparse matrix of type '<class 'numpy.float64'>'
	with 8 stored elements in Compressed Sparse Row format>, 1]
[7, 1, 1, 1, 1, 12, 7, 1, 2, 4.282059984833334, 1.0, 36.62, 0.05, <1x26405 sparse matrix of type '<class 'numpy.float64'>'
	with 8 stored elements in Compressed Sparse Row format>, 0]
[3, 1, 2, 0, 3, 9, 5, 1, 6, 3.7679835499001153, 1.0, 121.22, 0.05, <1x26405 sparse matrix of type '<class 'numpy.float64'>'
	with 8 stored elements in Compressed Sparse Row format>, 1]
[6, 1, 3, 0, 5, 11, 8, 0, 6, 3.8095136348628027, 0.9375, 121.22, 19.48, <1x26405 sparse matrix of type '<class 'numpy.float64'>'
	with 8 stored elements in Compressed Sparse Row format>, 1]
[5, 0, 3, 0, 0, 11, 8, 0, 3, 4.030019719447935, 1.0, 121.22, 0.05, <1x26405 sparse matrix of type '<class 'numpy.float64'>'
	with 8 stored elements in Compressed Sparse Row format>, 1]
[5, 2, 0, 0, 2, 9, 6, 0, 3, 3.9487947287524445, 1.0, -47.99, 19.48, <1x26405 sparse matrix of type '<class 'numpy.float64'>'
	with 8 stored elements in Compressed Sparse Row format>, 1]
[4, 1, 0, 0, 0, 5, 4, 1, 0, 3.592172970286284, 1.0, 36.62, 19.48, <1x26405 sparse matrix of type '<class 'numpy.float64'>'
	with 8 stored elements in Compressed Sparse Row format>, 1]
[4, 1, 2, 0, 2, 8, 4, 2, 3, 3.887363849594389, 1.0, 36.62, 19.48, <1x26405 sparse matrix of type '<class 'numpy.float64'>'
	with 8 stored elements in Compressed Sparse Row format>, 0]
[2, 2, 2, 0, 2, 8, 6, 0, 4, 4.087737326060898, 1.0, 121.22, 19.48, <1x26405 sparse matrix of type '<class 'numpy.float64'>'
	with 8 stored elements in Compressed Sparse Row format>, 1]
[8, 1, 0, 0, 2, 10, 7, 0, 2, 4.0942854102691175, 0.9166666666666666, 36.62, 19.48, <1x26405 sparse matrix of type '<class 'numpy.float64'>'
	with 8 stored elements in Compressed Sparse Row format>, 1]
[6, 0, 2, 0, 2, 9, 8, 0, 3, 4.097437919566124, 1.0, 121.22, 19.48, <1x26405 sparse matrix of type '<class 'numpy.float64'>'
	with 8 stored elements in Compressed Sparse Row format>, 1]
[4, 3, 1, 0, 0, 10, 7, 0, 2, 3.9658660107511743, 1.0, 36.62, 19.48, <1x26405 sparse matrix of type '<class 'numpy.float64'>'
	with 8 stored elements in Compressed Sparse Row format>, 0]
[3, 2, 2, 0, 1, 8, 6, 1, 1, 4.012807526748281, 1.0, 121.22, 19.48, <1x26405 sparse matrix of type '<class 'numpy.float64'>'
	with 8 stored elements in Compressed Sparse Row format>, 1]
[4, 1, 2, 0, 2, 8, 7, 0, 2, 3.9504470885716434, 1.0, 121.22, 19.48, <1x26405 sparse matrix of type '<class 'numpy.float64'>'
	with 8 stored elements in Compressed Sparse Row format>, 0]
[5, 3, 2, 0, 1, 12, 6, 1, 3, 4.252252251412621, 1.0, -47.99, 0.05, <1x26405 sparse matrix of type '<class 'numpy.float64'>'
	with 8 stored elements in Compressed Sparse Row format>, 0]
[5, 1, 2, 0, 4, 11, 8, 0, 6, 3.9037470194501447, 1.0, 121.22, 0.05, <1x26405 sparse matrix of type '<class 'numpy.float64'>'
	with 8 stored elements in Compressed Sparse Row format>, 0]
[5, 0, 2, 0, 3, 10, 4, 3, 6, 4.044471696996842, 1.0, 121.22, 0.05, <1x26405 sparse matrix of type '<class 'numpy.float64'>'
	with 8 stored elements in Compressed Sparse Row format>, 0]
[4, 1, 2, 0, 2, 9, 3, 1, 4, 4.070956163602281, 1.0, 36.62, 0.05, <1x26405 sparse matrix of type '<class 'numpy.float64'>'
	with 8 stored elements in Compressed Sparse Row format>, 0]
[5, 1, 1, 0, 1, 8, 6, 1, 2, 3.971241170818224, 1.0, 121.22, 19.48, <1x26405 sparse matrix of type '<class 'numpy.float64'>'
	with 8 stored elements in Compressed Sparse Row format>, 0]
[3, 1, 1, 0, 0, 8, 6, 0, 2, 3.8721712308152583, 1.0, 121.22, 19.48, <1x26405 sparse matrix of type '<class 'numpy.float64'>'
	with 8 stored elements in Compressed Sparse Row format>, 1]
[2, 1, 4, 1, 1, 8, 6, 0, 4, 3.7553524628505044, 1.0, 36.62, 19.48, <1x26405 sparse matrix of type '<class 'numpy.float64'>'
	with 8 stored elements in Compressed Sparse Row format>, 0]
[3, 1, 3, 1, 2, 8, 4, 0, 5, 3.803256851737017, 1.0, 121.22, 0.05, <1x26405 sparse matrix of type '<class 'numpy.float64'>'
	with 8 stored elements in Compressed Sparse Row format>, 0]
[2, 0, 2, 0, 2, 6, 1, 0, 5, 3.896182566547508, 1.0, 121.22, 19.48, <1x26405 sparse matrix of type '<class 'numpy.float64'>'
	with 8 stored elements in Compressed Sparse Row format>, 0]
[4, 3, 2, 0, 1, 10, 5, 1, 2, 4.150188706645516, 1.0, 121.22, 19.48, <1x26405 sparse matrix of type '<class 'numpy.float64'>'
	with 8 stored elements in Compressed Sparse Row format>, 1]
[4, 2, 3, 0, 2, 9, 6, 1, 2, 3.9538062719011218, 1.0, 121.22, 19.48, <1x26405 sparse matrix of type '<class 'numpy.float64'>'
	with 8 stored elements in Compressed Sparse Row format>, 0]
[3, 0, 2, 2, 1, 7, 4, 0, 5, 4.054679196490042, 1.0, -47.99, 19.48, <1x26405 sparse matrix of type '<class 'numpy.float64'>'
	with 8 stored elements in Compressed Sparse Row format>, 0]
[5, 2, 0, 0, 1, 8, 8, 0, 1, 4.1192509128388295, 1.0, 36.62, 19.48, <1x26405 sparse matrix of type '<class 'numpy.float64'>'
	with 8 stored elements in Compressed Sparse Row format>, 1]
[4, 1, 2, 0, 3, 10, 8, 0, 4, 4.254100587528874, 1.0, 121.22, 19.48, <1x26405 sparse matrix of type '<class 'numpy.float64'>'
	with 8 stored elements in Compressed Sparse Row format>, 0]
[1, 0, 2, 0, 2, 7, 5, 0, 4, 3.764650461427789, 1.0, 121.22, 0.05, <1x26405 sparse matrix of type '<class 'numpy.float64'>'
	with 8 stored elements in Compressed Sparse Row format>, 0]
[5, 0, 4, 0, 1, 16, 11, 0, 6, 4.134166468839717, 1.0, 36.62, 19.48, <1x26405 sparse matrix of type '<class 'numpy.float64'>'
	with 8 stored elements in Compressed Sparse Row format>, 1]
[2, 5, 2, 0, 1, 11, 7, 0, 4, 3.9866937212274705, 1.0, 121.22, 0.05, <1x26405 sparse matrix of type '<class 'numpy.float64'>'
	with 8 stored elements in Compressed Sparse Row format>, 0]
[3, 3, 1, 0, 2, 8, 6, 1, 3, 3.9575050942752923, 1.0, 36.62, 0.05, <1x26405 sparse matrix of type '<class 'numpy.float64'>'
	with 8 stored elements in Compressed Sparse Row format>, 0]
[5, 1, 0, 0, 2, 7, 6, 1, 1, 4.116709987201866, 1.0, -47.99, 19.48, <1x26405 sparse matrix of type '<class 'numpy.float64'>'
	with 8 stored elements in Compressed Sparse Row format>, 0]
[3, 0, 1, 0, 1, 4, 3, 1, 1, 3.7810760119146067, 1.0, 121.22, 0.05, <1x26405 sparse matrix of type '<class 'numpy.float64'>'
	with 8 stored elements in Compressed Sparse Row format>, 1]
[3, 1, 0, 0, 1, 6, 6, 0, 1, 4.267183467891461, 1.0, 121.22, 19.48, <1x26405 sparse matrix of type '<class 'numpy.float64'>'
	with 8 stored elements in Compressed Sparse Row format>, 1]
[6, 1, 1, 0, 0, 9, 7, 0, 1, 4.10950765399705, 1.0, 36.62, 19.48, <1x26405 sparse matrix of type '<class 'numpy.float64'>'
	with 8 stored elements in Compressed Sparse Row format>, 1]
[5, 1, 5, 1, 4, 14, 10, 0, 7, 4.163525832228907, 1.0, 36.62, 0.05, <1x26405 sparse matrix of type '<class 'numpy.float64'>'
	with 8 stored elements in Compressed Sparse Row format>, 1]
[4, 2, 2, 0, 1, 9, 5, 1, 2, 3.9847548652179396, 1.0, 121.22, 19.48, <1x26405 sparse matrix of type '<class 'numpy.float64'>'
	with 8 stored elements in Compressed Sparse Row format>, 1]
[4, 1, 2, 0, 1, 9, 8, 0, 2, 4.007692149306873, 1.0, 36.62, 19.48, <1x26405 sparse matrix of type '<class 'numpy.float64'>'
	with 8 stored elements in Compressed Sparse Row format>, 1]
[3, 1, 3, 1, 0, 11, 6, 0, 4, 3.910728910638477, 1.0, 36.62, 0.05, <1x26405 sparse matrix of type '<class 'numpy.float64'>'
	with 8 stored elements in Compressed Sparse Row format>, 0]
[6, 1, 2, 0, 1, 12, 10, 0, 3, 3.9232881597340947, 1.0, 36.62, 19.48, <1x26405 sparse matrix of type '<class 'numpy.float64'>'
	with 8 stored elements in Compressed Sparse Row format>, 1]
[4, 2, 3, 0, 1, 9, 9, 0, 1, 3.8826547130451354, 1.0, 121.22, 0.05, <1x26405 sparse matrix of type '<class 'numpy.float64'>'
	with 8 stored elements in Compressed Sparse Row format>, 1]
[2, 2, 0, 0, 1, 5, 4, 0, 2, 3.7204375837424406, 1.0, 36.62, 19.48, <1x26405 sparse matrix of type '<class 'numpy.float64'>'
	with 8 stored elements in Compressed Sparse Row format>, 1]
[4, 0, 1, 0, 1, 7, 8, 0, 0, 3.9116572393641187, 1.0, 121.22, 19.48, <1x26405 sparse matrix of type '<class 'numpy.float64'>'
	with 8 stored elements in Compressed Sparse Row format>, 0]
[4, 1, 2, 0, 1, 7, 6, 1, 1, 4.062293235195735, 1.0, 36.62, 0.05, <1x26405 sparse matrix of type '<class 'numpy.float64'>'
	with 8 stored elements in Compressed Sparse Row format>, 0]
[2, 1, 3, 0, 1, 7, 6, 0, 1, 4.054718997150629, 1.0, 121.22, 0.05, <1x26405 sparse matrix of type '<class 'numpy.float64'>'
	with 8 stored elements in Compressed Sparse Row format>, 1]
[3, 2, 0, 1, 0, 5, 4, 0, 1, 3.8529951860662432, 1.0, -47.99, 19.48, <1x26405 sparse matrix of type '<class 'numpy.float64'>'
	with 8 stored elements in Compressed Sparse Row format>, 0]
[2, 1, 3, 0, 3, 9, 5, 0, 6, 4.04763688489294, 1.0, 121.22, 0.05, <1x26405 sparse matrix of type '<class 'numpy.float64'>'
	with 8 stored elements in Compressed Sparse Row format>, 0]
[5, 0, 3, 1, 0, 11, 9, 0, 2, 4.036676141633104, 1.0, -47.99, 19.48, <1x26405 sparse matrix of type '<class 'numpy.float64'>'
	with 8 stored elements in Compressed Sparse Row format>, 1]
[2, 1, 0, 0, 1, 6, 4, 0, 3, 3.7462919417363416, 1.0, -47.99, 19.48, <1x26405 sparse matrix of type '<class 'numpy.float64'>'
	with 8 stored elements in Compressed Sparse Row format>, 1]
[2, 0, 5, 0, 2, 9, 3, 1, 5, 3.9788030129738083, 1.0, 121.22, 19.48, <1x26405 sparse matrix of type '<class 'numpy.float64'>'
	with 8 stored elements in Compressed Sparse Row format>, 0]
[4, 2, 2, 0, 1, 9, 7, 0, 3, 4.034136619447823, 1.0, 36.62, 0.05, <1x26405 sparse matrix of type '<class 'numpy.float64'>'
	with 8 stored elements in Compressed Sparse Row format>, 1]
[6, 1, 0, 0, 3, 9, 8, 1, 3, 3.925274849685611, 1.0, 36.62, 0.05, <1x26405 sparse matrix of type '<class 'numpy.float64'>'
	with 8 stored elements in Compressed Sparse Row format>, 1]
[3, 1, 2, 0, 1, 9, 6, 0, 4, 4.118030971958509, 1.0, 121.22, 0.05, <1x26405 sparse matrix of type '<class 'numpy.float64'>'
	with 8 stored elements in Compressed Sparse Row format>, 1]
[3, 1, 3, 0, 1, 10, 3, 1, 4, 3.8215706647946672, 1.0, 121.22, 19.48, <1x26405 sparse matrix of type '<class 'numpy.float64'>'
	with 8 stored elements in Compressed Sparse Row format>, 0]
[6, 1, 2, 1, 0, 13, 7, 0, 4, 4.094261317248584, 1.0, 36.62, 0.05, <1x26405 sparse matrix of type '<class 'numpy.float64'>'
	with 8 stored elements in Compressed Sparse Row format>, 0]
[2, 2, 0, 0, 0, 4, 3, 0, 0, 3.689703732199547, 1.0, 121.22, 0.05, <1x26405 sparse matrix of type '<class 'numpy.float64'>'
	with 8 stored elements in Compressed Sparse Row format>, 0]
[5, 1, 0, 0, 1, 6, 5, 0, 1, 3.731021291568824, 1.0, 36.62, 19.48, <1x26405 sparse matrix of type '<class 'numpy.float64'>'
	with 8 stored elements in Compressed Sparse Row format>, 0]
[6, 1, 2, 0, 2, 9, 8, 0, 2, 3.8760762732560172, 1.0, -47.99, 19.48, <1x26405 sparse matrix of type '<class 'numpy.float64'>'
	with 8 stored elements in Compressed Sparse Row format>, 1]
[3, 1, 1, 0, 0, 6, 5, 0, 1, 3.8787912611280673, 1.0, 121.22, 19.48, <1x26405 sparse matrix of type '<class 'numpy.float64'>'
	with 8 stored elements in Compressed Sparse Row format>, 1]
[4, 0, 3, 0, 2, 8, 5, 0, 3, 4.176736143761539, 1.0, 121.22, 0.05, <1x26405 sparse matrix of type '<class 'numpy.float64'>'
	with 8 stored elements in Compressed Sparse Row format>, 0]
[4, 0, 1, 0, 1, 5, 5, 0, 1, 4.11568926330007, 1.0, -132.59, 19.48, <1x26405 sparse matrix of type '<class 'numpy.float64'>'
	with 8 stored elements in Compressed Sparse Row format>, 1]
[4, 1, 2, 0, 2, 8, 6, 1, 3, 3.8183920477690365, 1.0, 121.22, 0.05, <1x26405 sparse matrix of type '<class 'numpy.float64'>'
	with 8 stored elements in Compressed Sparse Row format>, 0]
[5, 1, 1, 0, 1, 8, 7, 1, 1, 4.112805321340246, 1.0, 121.22, 19.48, <1x26405 sparse matrix of type '<class 'numpy.float64'>'
	with 8 stored elements in Compressed Sparse Row format>, 0]
[7, 0, 3, 0, 1, 14, 8, 0, 5, 3.9925448051163595, 1.0, 121.22, 19.48, <1x26405 sparse matrix of type '<class 'numpy.float64'>'
	with 8 stored elements in Compressed Sparse Row format>, 0]
[3, 1, 2, 0, 0, 6, 5, 0, 0, 4.045514545577869, 1.0, 36.62, 0.05, <1x26405 sparse matrix of type '<class 'numpy.float64'>'
	with 8 stored elements in Compressed Sparse Row format>, 1]
[4, 3, 1, 0, 1, 9, 6, 1, 2, 4.0174564444421526, 1.0, 36.62, 0.05, <1x26405 sparse matrix of type '<class 'numpy.float64'>'
	with 8 stored elements in Compressed Sparse Row format>, 0]
[4, 1, 4, 0, 1, 13, 10, 0, 4, 3.880718042949438, 1.0, 121.22, 0.05, <1x26405 sparse matrix of type '<class 'numpy.float64'>'
	with 8 stored elements in Compressed Sparse Row format>, 1]
[5, 0, 0, 0, 1, 7, 6, 1, 1, 3.907764412954551, 1.0, -47.99, 0.05, <1x26405 sparse matrix of type '<class 'numpy.float64'>'
	with 8 stored elements in Compressed Sparse Row format>, 0]
[3, 0, 1, 0, 2, 5, 3, 0, 3, 3.474380085195674, 1.0, 36.62, 19.48, <1x26405 sparse matrix of type '<class 'numpy.float64'>'
	with 8 stored elements in Compressed Sparse Row format>, 0]
[6, 0, 1, 0, 0, 10, 6, 1, 2, 4.109305512324781, 1.0, 121.22, 0.05, <1x26405 sparse matrix of type '<class 'numpy.float64'>'
	with 8 stored elements in Compressed Sparse Row format>, 0]
[3, 2, 4, 0, 3, 11, 6, 2, 6, 4.020783945697439, 0.9285714285714286, 121.22, 0.05, <1x26405 sparse matrix of type '<class 'numpy.float64'>'
	with 8 stored elements in Compressed Sparse Row format>, 0]
[2, 1, 1, 0, 0, 5, 4, 0, 1, 3.9959065984842446, 1.0, 121.22, 0.05, <1x26405 sparse matrix of type '<class 'numpy.float64'>'
	with 8 stored elements in Compressed Sparse Row format>, 1]
[6, 1, 2, 0, 0, 11, 4, 3, 1, 4.162651840464662, 1.0, 36.62, 19.48, <1x26405 sparse matrix of type '<class 'numpy.float64'>'
	with 8 stored elements in Compressed Sparse Row format>, 0]
[3, 0, 2, 0, 1, 7, 5, 1, 0, 4.033731643871981, 1.0, 121.22, 0.05, <1x26405 sparse matrix of type '<class 'numpy.float64'>'
	with 8 stored elements in Compressed Sparse Row format>, 1]
[3, 0, 1, 0, 0, 7, 4, 0, 3, 3.9398285768856725, 1.0, -47.99, 19.48, <1x26405 sparse matrix of type '<class 'numpy.float64'>'
	with 8 stored elements in Compressed Sparse Row format>, 0]
[5, 0, 3, 0, 1, 8, 7, 0, 1, 3.9990603880253914, 1.0, 36.62, 19.48, <1x26405 sparse matrix of type '<class 'numpy.float64'>'
	with 8 stored elements in Compressed Sparse Row format>, 0]
[6, 0, 3, 0, 2, 10, 6, 2, 2, 4.079783802502676, 1.0, -132.59, 19.48, <1x26405 sparse matrix of type '<class 'numpy.float64'>'
	with 8 stored elements in Compressed Sparse Row format>, 0]
[5, 2, 0, 0, 2, 8, 6, 1, 3, 3.98485752194575, 1.0, -47.99, 19.48, <1x26405 sparse matrix of type '<class 'numpy.float64'>'
	with 8 stored elements in Compressed Sparse Row format>, 0]
[1, 0, 2, 0, 2, 5, 4, 0, 3, 3.775303424257605, 1.0, -47.99, 19.48, <1x26405 sparse matrix of type '<class 'numpy.float64'>'
	with 8 stored elements in Compressed Sparse Row format>, 1]
[1, 0, 0, 0, 0, 5, 2, 0, 3, 3.7950885863977324, 1.0, 121.22, 0.05, <1x26405 sparse matrix of type '<class 'numpy.float64'>'
	with 8 stored elements in Compressed Sparse Row format>, 0]
[5, 1, 2, 0, 3, 9, 6, 0, 4, 4.071014707234243, 1.0, 121.22, 19.48, <1x26405 sparse matrix of type '<class 'numpy.float64'>'
	with 8 stored elements in Compressed Sparse Row format>, 1]
[1, 2, 2, 0, 1, 8, 4, 0, 4, 4.07305362555291, 1.0, 121.22, 0.05, <1x26405 sparse matrix of type '<class 'numpy.float64'>'
	with 8 stored elements in Compressed Sparse Row format>, 0]
[2, 1, 1, 0, 0, 7, 5, 0, 1, 3.9830072301048833, 1.0, 36.62, 0.05, <1x26405 sparse matrix of type '<class 'numpy.float64'>'
	with 8 stored elements in Compressed Sparse Row format>, 0]
[3, 0, 1, 0, 0, 5, 4, 0, 0, 3.7259160889243037, 1.0, 121.22, 0.05, <1x26405 sparse matrix of type '<class 'numpy.float64'>'
	with 8 stored elements in Compressed Sparse Row format>, 1]
[5, 3, 2, 1, 3, 12, 7, 1, 6, 4.116864989604312, 1.0, 121.22, 19.48, <1x26405 sparse matrix of type '<class 'numpy.float64'>'
	with 8 stored elements in Compressed Sparse Row format>, 1]
[3, 1, 1, 0, 0, 5, 5, 0, 0, 3.5800503514647373, 1.0, 121.22, 0.05, <1x26405 sparse matrix of type '<class 'numpy.float64'>'
	with 8 stored elements in Compressed Sparse Row format>, 0]
[3, 2, 4, 1, 0, 14, 7, 0, 8, 4.037836877145191, 1.0, 36.62, 0.05, <1x26405 sparse matrix of type '<class 'numpy.float64'>'
	with 8 stored elements in Compressed Sparse Row format>, 0]
[5, 0, 1, 0, 1, 11, 3, 1, 4, 3.8979713104589586, 0.9166666666666666, 121.22, 0.05, <1x26405 sparse matrix of type '<class 'numpy.float64'>'
	with 8 stored elements in Compressed Sparse Row format>, 0]
[11, 3, 1, 0, 2, 17, 10, 2, 4, 4.088138339229715, 1.0, 36.62, 0.05, <1x26405 sparse matrix of type '<class 'numpy.float64'>'
	with 8 stored elements in Compressed Sparse Row format>, 0]
[4, 2, 2, 0, 2, 8, 8, 0, 2, 3.8977158564228245, 1.0, -47.99, 19.48, <1x26405 sparse matrix of type '<class 'numpy.float64'>'
	with 8 stored elements in Compressed Sparse Row format>, 1]
[6, 0, 1, 0, 1, 10, 7, 0, 3, 3.979430973294077, 1.0, 121.22, 0.05, <1x26405 sparse matrix of type '<class 'numpy.float64'>'
	with 8 stored elements in Compressed Sparse Row format>, 0]
[3, 2, 3, 0, 2, 10, 5, 0, 5, 4.062945997320717, 1.0, -132.59, 19.48, <1x26405 sparse matrix of type '<class 'numpy.float64'>'
	with 8 stored elements in Compressed Sparse Row format>, 1]
[6, 4, 1, 0, 3, 11, 6, 0, 3, 4.111230199086021, 1.0, 121.22, 0.05, <1x26405 sparse matrix of type '<class 'numpy.float64'>'
	with 8 stored elements in Compressed Sparse Row format>, 1]
[5, 1, 0, 0, 1, 6, 6, 0, 1, 4.119331261111518, 1.0, 36.62, 19.48, <1x26405 sparse matrix of type '<class 'numpy.float64'>'
	with 8 stored elements in Compressed Sparse Row format>, 1]
[5, 2, 2, 0, 1, 12, 4, 1, 4, 4.015784567915594, 1.0, 36.62, 19.48, <1x26405 sparse matrix of type '<class 'numpy.float64'>'
	with 8 stored elements in Compressed Sparse Row format>, 0]
[6, 0, 2, 1, 0, 9, 6, 0, 2, 4.042855651483864, 1.0, 36.62, 19.48, <1x26405 sparse matrix of type '<class 'numpy.float64'>'
	with 8 stored elements in Compressed Sparse Row format>, 0]
[4, 1, 1, 0, 0, 8, 7, 0, 1, 3.7108930511475817, 1.0, 36.62, 0.05, <1x26405 sparse matrix of type '<class 'numpy.float64'>'
	with 8 stored elements in Compressed Sparse Row format>, 0]
[5, 1, 1, 0, 0, 11, 7, 1, 3, 4.086785965671393, 1.0, 36.62, 0.05, <1x26405 sparse matrix of type '<class 'numpy.float64'>'
	with 8 stored elements in Compressed Sparse Row format>, 1]
[6, 2, 1, 0, 1, 10, 9, 0, 2, 4.094692012593906, 1.0, -47.99, 19.48, <1x26405 sparse matrix of type '<class 'numpy.float64'>'
	with 8 stored elements in Compressed Sparse Row format>, 0]
[7, 3, 1, 2, 2, 15, 9, 2, 4, 4.272330244038216, 0.9473684210526315, 121.22, 19.48, <1x26405 sparse matrix of type '<class 'numpy.float64'>'
	with 8 stored elements in Compressed Sparse Row format>, 0]
[4, 2, 2, 0, 4, 8, 5, 1, 4, 3.9016878476925902, 1.0, -47.99, 0.05, <1x26405 sparse matrix of type '<class 'numpy.float64'>'
	with 8 stored elements in Compressed Sparse Row format>, 0]
[3, 3, 1, 1, 1, 7, 7, 0, 1, 4.202021869005986, 1.0, 36.62, 19.48, <1x26405 sparse matrix of type '<class 'numpy.float64'>'
	with 8 stored elements in Compressed Sparse Row format>, 0]
[2, 2, 1, 0, 0, 6, 5, 0, 1, 4.0323362829877745, 1.0, 36.62, 0.05, <1x26405 sparse matrix of type '<class 'numpy.float64'>'
	with 8 stored elements in Compressed Sparse Row format>, 1]
[2, 0, 3, 0, 1, 7, 5, 0, 3, 3.80971756922833, 1.0, 36.62, 0.05, <1x26405 sparse matrix of type '<class 'numpy.float64'>'
	with 8 stored elements in Compressed Sparse Row format>, 0]
[5, 2, 1, 0, 0, 9, 8, 0, 1, 4.2626478052485925, 1.0, 121.22, 0.05, <1x26405 sparse matrix of type '<class 'numpy.float64'>'
	with 8 stored elements in Compressed Sparse Row format>, 1]
[5, 1, 1, 0, 3, 7, 6, 2, 2, 3.9066960308676593, 1.0, 121.22, 19.48, <1x26405 sparse matrix of type '<class 'numpy.float64'>'
	with 8 stored elements in Compressed Sparse Row format>, 1]
[3, 1, 0, 0, 2, 5, 5, 0, 2, 3.7378201980421606, 1.0, -47.99, 19.48, <1x26405 sparse matrix of type '<class 'numpy.float64'>'
	with 8 stored elements in Compressed Sparse Row format>, 0]
[4, 2, 2, 0, 2, 10, 8, 0, 4, 3.9404472869867067, 1.0, 36.62, 19.48, <1x26405 sparse matrix of type '<class 'numpy.float64'>'
	with 8 stored elements in Compressed Sparse Row format>, 1]
[6, 1, 0, 0, 1, 8, 5, 0, 2, 3.9903650481793167, 1.0, 121.22, 0.05, <1x26405 sparse matrix of type '<class 'numpy.float64'>'
	with 8 stored elements in Compressed Sparse Row format>, 0]
[5, 0, 4, 0, 2, 13, 7, 1, 4, 4.275440489329, 1.0, 36.62, 19.48, <1x26405 sparse matrix of type '<class 'numpy.float64'>'
	with 8 stored elements in Compressed Sparse Row format>, 1]
[5, 1, 1, 0, 0, 9, 4, 1, 2, 4.029609694861223, 1.0, 36.62, 19.48, <1x26405 sparse matrix of type '<class 'numpy.float64'>'
	with 8 stored elements in Compressed Sparse Row format>, 0]
[3, 1, 3, 0, 1, 9, 7, 1, 2, 4.052499846895905, 1.0, 36.62, 0.05, <1x26405 sparse matrix of type '<class 'numpy.float64'>'
	with 8 stored elements in Compressed Sparse Row format>, 0]
[5, 2, 2, 0, 2, 13, 8, 0, 6, 3.7349772600929882, 0.8666666666666667, 121.22, 19.48, <1x26405 sparse matrix of type '<class 'numpy.float64'>'
	with 8 stored elements in Compressed Sparse Row format>, 1]
[7, 1, 2, 0, 3, 13, 11, 0, 4, 4.106040362915347, 0.9375, 121.22, 0.05, <1x26405 sparse matrix of type '<class 'numpy.float64'>'
	with 8 stored elements in Compressed Sparse Row format>, 1]
[3, 0, 2, 0, 2, 6, 5, 0, 3, 3.6826487250313256, 1.0, 36.62, 0.05, <1x26405 sparse matrix of type '<class 'numpy.float64'>'
	with 8 stored elements in Compressed Sparse Row format>, 1]
[5, 3, 2, 0, 1, 10, 10, 0, 1, 4.032666840638472, 1.0, 121.22, 19.48, <1x26405 sparse matrix of type '<class 'numpy.float64'>'
	with 8 stored elements in Compressed Sparse Row format>, 1]
[6, 1, 1, 0, 1, 10, 8, 0, 3, 3.8441488486157724, 1.0, 121.22, 0.05, <1x26405 sparse matrix of type '<class 'numpy.float64'>'
	with 8 stored elements in Compressed Sparse Row format>, 1]
[5, 0, 2, 0, 1, 6, 3, 0, 1, 3.889695511823188, 1.0, 36.62, 19.48, <1x26405 sparse matrix of type '<class 'numpy.float64'>'
	with 8 stored elements in Compressed Sparse Row format>, 1]
[3, 4, 3, 0, 2, 11, 6, 1, 4, 4.180629294452101, 1.0, 121.22, 0.05, <1x26405 sparse matrix of type '<class 'numpy.float64'>'
	with 8 stored elements in Compressed Sparse Row format>, 0]
[4, 0, 3, 0, 1, 8, 7, 0, 2, 3.828665049737478, 1.0, 121.22, 19.48, <1x26405 sparse matrix of type '<class 'numpy.float64'>'
	with 8 stored elements in Compressed Sparse Row format>, 1]
[3, 1, 4, 0, 3, 8, 7, 0, 4, 3.9695767463163936, 1.0, 121.22, 0.05, <1x26405 sparse matrix of type '<class 'numpy.float64'>'
	with 8 stored elements in Compressed Sparse Row format>, 1]
[2, 2, 1, 0, 1, 7, 5, 0, 2, 3.8663935811477237, 1.0, 121.22, 19.48, <1x26405 sparse matrix of type '<class 'numpy.float64'>'
	with 8 stored elements in Compressed Sparse Row format>, 1]
[4, 2, 0, 0, 0, 7, 6, 0, 1, 3.9966535224393334, 1.0, 121.22, 0.05, <1x26405 sparse matrix of type '<class 'numpy.float64'>'
	with 8 stored elements in Compressed Sparse Row format>, 1]
[3, 1, 2, 0, 1, 8, 1, 2, 5, 3.932887753774428, 1.0, -47.99, 0.05, <1x26405 sparse matrix of type '<class 'numpy.float64'>'
	with 8 stored elements in Compressed Sparse Row format>, 0]
[4, 4, 2, 0, 1, 11, 9, 1, 2, 3.9704683585588034, 1.0, 121.22, 0.05, <1x26405 sparse matrix of type '<class 'numpy.float64'>'
	with 8 stored elements in Compressed Sparse Row format>, 0]
[2, 1, 3, 0, 2, 9, 2, 1, 6, 3.994327199443817, 1.0, 36.62, 19.48, <1x26405 sparse matrix of type '<class 'numpy.float64'>'
	with 8 stored elements in Compressed Sparse Row format>, 0]
[3, 3, 1, 0, 1, 7, 6, 1, 1, 3.8861211843238923, 1.0, -132.59, 19.48, <1x26405 sparse matrix of type '<class 'numpy.float64'>'
	with 8 stored elements in Compressed Sparse Row format>, 0]
[2, 0, 2, 1, 0, 8, 3, 0, 5, 3.806198332810094, 1.0, 121.22, 0.05, <1x26405 sparse matrix of type '<class 'numpy.float64'>'
	with 8 stored elements in Compressed Sparse Row format>, 0]
[4, 0, 0, 0, 2, 4, 2, 1, 1, 4.087221296985311, 1.0, 121.22, 19.48, <1x26405 sparse matrix of type '<class 'numpy.float64'>'
	with 8 stored elements in Compressed Sparse Row format>, 0]
[2, 1, 2, 1, 0, 8, 6, 0, 3, 3.8961746300696403, 1.0, 121.22, 19.48, <1x26405 sparse matrix of type '<class 'numpy.float64'>'
	with 8 stored elements in Compressed Sparse Row format>, 0]
[6, 1, 3, 0, 1, 10, 6, 2, 1, 3.91593842741854, 1.0, 36.62, 0.05, <1x26405 sparse matrix of type '<class 'numpy.float64'>'
	with 8 stored elements in Compressed Sparse Row format>, 0]
[3, 1, 1, 0, 1, 5, 5, 0, 1, 3.772609520609756, 1.0, 121.22, 0.05, <1x26405 sparse matrix of type '<class 'numpy.float64'>'
	with 8 stored elements in Compressed Sparse Row format>, 1]
[3, 2, 1, 0, 0, 9, 5, 1, 1, 4.1651078409868205, 1.0, 121.22, 0.05, <1x26405 sparse matrix of type '<class 'numpy.float64'>'
	with 8 stored elements in Compressed Sparse Row format>, 0]
[5, 1, 2, 0, 1, 9, 7, 0, 2, 4.0616388679951365, 1.0, 36.62, 19.48, <1x26405 sparse matrix of type '<class 'numpy.float64'>'
	with 8 stored elements in Compressed Sparse Row format>, 1]
[4, 1, 1, 0, 2, 6, 6, 0, 2, 3.933039358211612, 1.0, 121.22, 0.05, <1x26405 sparse matrix of type '<class 'numpy.float64'>'
	with 8 stored elements in Compressed Sparse Row format>, 1]
[6, 1, 2, 0, 0, 11, 8, 1, 2, 4.021183442164396, 1.0, 36.62, 19.48, <1x26405 sparse matrix of type '<class 'numpy.float64'>'
	with 8 stored elements in Compressed Sparse Row format>, 0]
[6, 0, 1, 0, 0, 9, 5, 1, 2, 3.808667189411318, 1.0, 36.62, 19.48, <1x26405 sparse matrix of type '<class 'numpy.float64'>'
	with 8 stored elements in Compressed Sparse Row format>, 0]
[5, 1, 1, 0, 3, 7, 4, 1, 3, 3.9850481897557466, 1.0, 36.62, 19.48, <1x26405 sparse matrix of type '<class 'numpy.float64'>'
	with 8 stored elements in Compressed Sparse Row format>, 0]
[4, 2, 0, 0, 0, 6, 5, 0, 0, 4.039016238466063, 1.0, -47.99, 19.48, <1x26405 sparse matrix of type '<class 'numpy.float64'>'
	with 8 stored elements in Compressed Sparse Row format>, 1]
[5, 1, 5, 0, 0, 14, 11, 0, 3, 4.1161248171806095, 1.0, -132.59, 19.48, <1x26405 sparse matrix of type '<class 'numpy.float64'>'
	with 8 stored elements in Compressed Sparse Row format>, 1]
[5, 1, 2, 0, 2, 10, 8, 0, 3, 4.041579301681132, 0.9166666666666666, 36.62, 0.05, <1x26405 sparse matrix of type '<class 'numpy.float64'>'
	with 8 stored elements in Compressed Sparse Row format>, 1]
[1, 2, 1, 0, 1, 7, 4, 0, 4, 3.623729924267001, 1.0, 121.22, 0.05, <1x26405 sparse matrix of type '<class 'numpy.float64'>'
	with 8 stored elements in Compressed Sparse Row format>, 1]
[2, 2, 0, 0, 0, 5, 5, 0, 0, 3.5263039714678297, 1.0, 36.62, 19.48, <1x26405 sparse matrix of type '<class 'numpy.float64'>'
	with 8 stored elements in Compressed Sparse Row format>, 1]
[7, 1, 1, 0, 3, 10, 8, 1, 2, 4.293373232602428, 1.0, 121.22, 51.06, <1x26405 sparse matrix of type '<class 'numpy.float64'>'
	with 8 stored elements in Compressed Sparse Row format>, 1]
[6, 2, 1, 1, 2, 9, 4, 0, 2, 4.010758911680717, 1.0, 121.22, 19.48, <1x26405 sparse matrix of type '<class 'numpy.float64'>'
	with 8 stored elements in Compressed Sparse Row format>, 0]
[3, 2, 1, 0, 1, 6, 3, 0, 2, 3.9142998318946405, 1.0, 121.22, 0.05, <1x26405 sparse matrix of type '<class 'numpy.float64'>'
	with 8 stored elements in Compressed Sparse Row format>, 1]
[6, 1, 2, 0, 2, 10, 7, 0, 2, 4.060957248970525, 1.0, 121.22, 19.48, <1x26405 sparse matrix of type '<class 'numpy.float64'>'
	with 8 stored elements in Compressed Sparse Row format>, 0]
[4, 0, 0, 0, 2, 5, 4, 0, 3, 3.687033946296363, 1.0, 36.62, 0.05, <1x26405 sparse matrix of type '<class 'numpy.float64'>'
	with 8 stored elements in Compressed Sparse Row format>, 0]
[3, 1, 2, 0, 1, 12, 4, 2, 4, 4.180052309547909, 1.0, 36.62, 19.48, <1x26405 sparse matrix of type '<class 'numpy.float64'>'
	with 8 stored elements in Compressed Sparse Row format>, 1]
[6, 2, 1, 0, 2, 9, 7, 0, 3, 4.061936696757616, 1.0, 121.22, 0.05, <1x26405 sparse matrix of type '<class 'numpy.float64'>'
	with 8 stored elements in Compressed Sparse Row format>, 0]
[5, 1, 1, 0, 1, 9, 4, 1, 2, 3.8585213883014706, 1.0, 36.62, 19.48, <1x26405 sparse matrix of type '<class 'numpy.float64'>'
	with 8 stored elements in Compressed Sparse Row format>, 0]
[0, 0, 2, 0, 0, 4, 3, 0, 1, 3.623465189601646, 1.0, 121.22, 0.05, <1x26405 sparse matrix of type '<class 'numpy.float64'>'
	with 8 stored elements in Compressed Sparse Row format>, 0]
[4, 3, 2, 0, 1, 9, 5, 3, 1, 4.1344681731719195, 1.0, -47.99, 19.48, <1x26405 sparse matrix of type '<class 'numpy.float64'>'
	with 8 stored elements in Compressed Sparse Row format>, 1]
[3, 1, 3, 0, 1, 10, 8, 0, 3, 4.123817130317244, 1.0, -132.59, 19.48, <1x26405 sparse matrix of type '<class 'numpy.float64'>'
	with 8 stored elements in Compressed Sparse Row format>, 1]
[4, 2, 2, 0, 2, 9, 6, 0, 4, 3.8474322561105643, 1.0, -132.59, 19.48, <1x26405 sparse matrix of type '<class 'numpy.float64'>'
	with 8 stored elements in Compressed Sparse Row format>, 1]
[4, 1, 1, 0, 1, 7, 4, 1, 2, 4.109703574157613, 1.0, -217.19, 19.48, <1x26405 sparse matrix of type '<class 'numpy.float64'>'
	with 8 stored elements in Compressed Sparse Row format>, 0]
[2, 0, 3, 0, 2, 6, 3, 0, 4, 3.785911893654434, 1.0, 121.22, 0.05, <1x26405 sparse matrix of type '<class 'numpy.float64'>'
	with 8 stored elements in Compressed Sparse Row format>, 0]
[5, 3, 3, 0, 1, 11, 10, 0, 1, 4.191747685325186, 0.9166666666666666, 36.62, 19.48, <1x26405 sparse matrix of type '<class 'numpy.float64'>'
	with 8 stored elements in Compressed Sparse Row format>, 1]
[4, 0, 2, 0, 1, 8, 5, 0, 4, 3.839074160548048, 1.0, 121.22, 0.05, <1x26405 sparse matrix of type '<class 'numpy.float64'>'
	with 8 stored elements in Compressed Sparse Row format>, 1]
[5, 0, 3, 0, 1, 9, 6, 0, 2, 4.130106680375941, 0.9, 121.22, 0.05, <1x26405 sparse matrix of type '<class 'numpy.float64'>'
	with 8 stored elements in Compressed Sparse Row format>, 0]
[5, 2, 2, 0, 0, 9, 8, 0, 0, 4.087392400163661, 0.8888888888888888, 121.22, 0.05, <1x26405 sparse matrix of type '<class 'numpy.float64'>'
	with 8 stored elements in Compressed Sparse Row format>, 1]
[1, 2, 1, 0, 0, 6, 4, 0, 0, 4.030157355686298, 1.0, 36.62, 19.48, <1x26405 sparse matrix of type '<class 'numpy.float64'>'
	with 8 stored elements in Compressed Sparse Row format>, 0]
[7, 1, 1, 0, 1, 11, 7, 1, 3, 4.0206780549457015, 1.0, 121.22, 0.05, <1x26405 sparse matrix of type '<class 'numpy.float64'>'
	with 8 stored elements in Compressed Sparse Row format>, 1]
[5, 2, 1, 0, 0, 10, 6, 2, 2, 4.055786465853746, 1.0, 36.62, 19.48, <1x26405 sparse matrix of type '<class 'numpy.float64'>'
	with 8 stored elements in Compressed Sparse Row format>, 0]
[4, 1, 4, 1, 5, 11, 7, 2, 7, 3.943715153137137, 1.0, -47.99, 19.48, <1x26405 sparse matrix of type '<class 'numpy.float64'>'
	with 8 stored elements in Compressed Sparse Row format>, 0]
[4, 0, 3, 0, 2, 8, 8, 0, 2, 4.091533603353029, 1.0, 36.62, 19.48, <1x26405 sparse matrix of type '<class 'numpy.float64'>'
	with 8 stored elements in Compressed Sparse Row format>, 1]
[3, 0, 4, 0, 1, 8, 4, 1, 2, 3.831473199065982, 1.0, 36.62, 19.48, <1x26405 sparse matrix of type '<class 'numpy.float64'>'
	with 8 stored elements in Compressed Sparse Row format>, 0]
[5, 3, 2, 0, 1, 12, 9, 0, 4, 3.9380142740982294, 1.0, 121.22, 19.48, <1x26405 sparse matrix of type '<class 'numpy.float64'>'
	with 8 stored elements in Compressed Sparse Row format>, 1]
[3, 0, 2, 0, 1, 6, 6, 0, 1, 4.083932391854022, 1.0, 36.62, 19.48, <1x26405 sparse matrix of type '<class 'numpy.float64'>'
	with 8 stored elements in Compressed Sparse Row format>, 1]
[5, 0, 2, 0, 1, 13, 8, 1, 3, 4.214330519104489, 1.0, 121.22, 0.05, <1x26405 sparse matrix of type '<class 'numpy.float64'>'
	with 8 stored elements in Compressed Sparse Row format>, 1]
[3, 0, 2, 0, 2, 10, 7, 0, 4, 4.097916886187414, 1.0, 36.62, 0.05, <1x26405 sparse matrix of type '<class 'numpy.float64'>'
	with 8 stored elements in Compressed Sparse Row format>, 1]
[5, 2, 2, 0, 2, 15, 11, 1, 4, 4.1952241669641435, 1.0, 121.22, 0.05, <1x26405 sparse matrix of type '<class 'numpy.float64'>'
	with 8 stored elements in Compressed Sparse Row format>, 1]
[4, 3, 0, 0, 1, 7, 5, 0, 1, 4.200203553521289, 1.0, 121.22, 35.27, <1x26405 sparse matrix of type '<class 'numpy.float64'>'
	with 8 stored elements in Compressed Sparse Row format>, 1]
[4, 3, 3, 0, 4, 13, 9, 0, 7, 3.9568706681934644, 0.9411764705882353, 121.22, 0.05, <1x26405 sparse matrix of type '<class 'numpy.float64'>'
	with 8 stored elements in Compressed Sparse Row format>, 1]
[4, 1, 2, 0, 1, 9, 5, 1, 3, 3.994542131312329, 1.0, -47.99, 19.48, <1x26405 sparse matrix of type '<class 'numpy.float64'>'
	with 8 stored elements in Compressed Sparse Row format>, 0]
[4, 0, 1, 0, 0, 5, 4, 1, 0, 3.8278475418785787, 1.0, 121.22, 19.48, <1x26405 sparse matrix of type '<class 'numpy.float64'>'
	with 8 stored elements in Compressed Sparse Row format>, 1]
[2, 1, 1, 0, 2, 5, 3, 0, 3, 3.9811725340644784, 1.0, 36.62, 0.05, <1x26405 sparse matrix of type '<class 'numpy.float64'>'
	with 8 stored elements in Compressed Sparse Row format>, 1]
[4, 0, 2, 0, 0, 8, 7, 0, 1, 3.9974072642220735, 1.0, 36.62, 19.48, <1x26405 sparse matrix of type '<class 'numpy.float64'>'
	with 8 stored elements in Compressed Sparse Row format>, 1]
[4, 2, 3, 0, 0, 10, 4, 1, 2, 4.083058390746742, 1.0, 36.62, 19.48, <1x26405 sparse matrix of type '<class 'numpy.float64'>'
	with 8 stored elements in Compressed Sparse Row format>, 0]
[4, 2, 1, 0, 0, 7, 7, 0, 0, 4.05583924361061, 1.0, -47.99, 19.48, <1x26405 sparse matrix of type '<class 'numpy.float64'>'
	with 8 stored elements in Compressed Sparse Row format>, 1]
[5, 1, 2, 0, 1, 10, 6, 2, 3, 3.9101081413959795, 1.0, 121.22, 0.05, <1x26405 sparse matrix of type '<class 'numpy.float64'>'
	with 8 stored elements in Compressed Sparse Row format>, 1]
[3, 1, 2, 0, 2, 6, 6, 0, 2, 3.8209826160741334, 0.875, 121.22, 19.48, <1x26405 sparse matrix of type '<class 'numpy.float64'>'
	with 8 stored elements in Compressed Sparse Row format>, 1]
[4, 2, 2, 0, 1, 11, 9, 0, 2, 3.9749769235664303, 1.0, -132.59, 19.48, <1x26405 sparse matrix of type '<class 'numpy.float64'>'
	with 8 stored elements in Compressed Sparse Row format>, 1]
[2, 0, 1, 0, 1, 5, 2, 0, 4, 3.204986855772667, 0.8333333333333334, 121.22, 0.05, <1x26405 sparse matrix of type '<class 'numpy.float64'>'
	with 8 stored elements in Compressed Sparse Row format>, 0]
[5, 2, 3, 0, 0, 13, 9, 0, 3, 3.9784754313762605, 1.0, 36.62, 19.48, <1x26405 sparse matrix of type '<class 'numpy.float64'>'
	with 8 stored elements in Compressed Sparse Row format>, 0]
[3, 2, 2, 1, 1, 9, 8, 0, 2, 3.798150188663418, 1.0, 36.62, 0.05, <1x26405 sparse matrix of type '<class 'numpy.float64'>'
	with 8 stored elements in Compressed Sparse Row format>, 0]
[3, 0, 3, 0, 5, 9, 6, 0, 6, 3.856496502416162, 0.9285714285714286, 121.22, 19.48, <1x26405 sparse matrix of type '<class 'numpy.float64'>'
	with 8 stored elements in Compressed Sparse Row format>, 0]
[4, 2, 0, 1, 1, 6, 5, 0, 2, 3.7928966084191074, 1.0, 121.22, 19.48, <1x26405 sparse matrix of type '<class 'numpy.float64'>'
	with 8 stored elements in Compressed Sparse Row format>, 0]
[2, 1, 1, 0, 1, 10, 6, 0, 5, 4.125257814686031, 1.0, 36.62, 19.48, <1x26405 sparse matrix of type '<class 'numpy.float64'>'
	with 8 stored elements in Compressed Sparse Row format>, 0]
[5, 3, 1, 0, 1, 11, 3, 2, 4, 3.9167360106401325, 1.0, 36.62, 19.48, <1x26405 sparse matrix of type '<class 'numpy.float64'>'
	with 8 stored elements in Compressed Sparse Row format>, 0]
[3, 1, 1, 0, 1, 7, 5, 0, 2, 4.140864190061681, 1.0, 36.62, 19.48, <1x26405 sparse matrix of type '<class 'numpy.float64'>'
	with 8 stored elements in Compressed Sparse Row format>, 0]
[5, 2, 0, 1, 1, 9, 6, 0, 4, 3.8697082488269605, 1.0, 121.22, 19.48, <1x26405 sparse matrix of type '<class 'numpy.float64'>'
	with 8 stored elements in Compressed Sparse Row format>, 0]
[4, 1, 3, 0, 2, 8, 4, 0, 2, 4.141598294973372, 1.0, 36.62, 19.48, <1x26405 sparse matrix of type '<class 'numpy.float64'>'
	with 8 stored elements in Compressed Sparse Row format>, 0]
[3, 0, 1, 1, 0, 5, 3, 1, 2, 3.718309360223419, 1.0, 121.22, 0.05, <1x26405 sparse matrix of type '<class 'numpy.float64'>'
	with 8 stored elements in Compressed Sparse Row format>, 0]
[2, 0, 1, 0, 0, 3, 2, 1, 0, 3.3263604079526945, 1.0, 36.62, 19.48, <1x26405 sparse matrix of type '<class 'numpy.float64'>'
	with 8 stored elements in Compressed Sparse Row format>, 1]
[3, 2, 3, 0, 1, 8, 7, 1, 1, 4.168254981228964, 1.0, 36.62, 19.48, <1x26405 sparse matrix of type '<class 'numpy.float64'>'
	with 8 stored elements in Compressed Sparse Row format>, 1]
[7, 1, 2, 1, 1, 12, 4, 2, 5, 4.018545767048119, 1.0, 121.22, 19.48, <1x26405 sparse matrix of type '<class 'numpy.float64'>'
	with 8 stored elements in Compressed Sparse Row format>, 0]
[2, 1, 1, 1, 2, 9, 5, 0, 7, 3.8319744938608613, 0.9166666666666666, 121.22, 19.48, <1x26405 sparse matrix of type '<class 'numpy.float64'>'
	with 8 stored elements in Compressed Sparse Row format>, 0]
[5, 0, 1, 0, 2, 5, 4, 1, 1, 3.609079510808665, 1.0, 121.22, 19.48, <1x26405 sparse matrix of type '<class 'numpy.float64'>'
	with 8 stored elements in Compressed Sparse Row format>, 0]
[2, 1, 2, 0, 1, 5, 5, 0, 1, 3.7920988609769277, 1.0, 121.22, 19.48, <1x26405 sparse matrix of type '<class 'numpy.float64'>'
	with 8 stored elements in Compressed Sparse Row format>, 1]
[4, 2, 2, 0, 1, 11, 5, 2, 5, 4.115924290339371, 1.0, -217.19, 19.48, <1x26405 sparse matrix of type '<class 'numpy.float64'>'
	with 8 stored elements in Compressed Sparse Row format>, 0]
[5, 1, 1, 0, 3, 7, 5, 1, 4, 3.7364021180472125, 1.0, 36.62, 0.05, <1x26405 sparse matrix of type '<class 'numpy.float64'>'
	with 8 stored elements in Compressed Sparse Row format>, 0]
[5, 1, 1, 0, 1, 7, 5, 1, 1, 4.0320598152671785, 1.0, -132.59, 19.48, <1x26405 sparse matrix of type '<class 'numpy.float64'>'
	with 8 stored elements in Compressed Sparse Row format>, 0]
[4, 2, 2, 0, 1, 9, 9, 0, 1, 4.280672639072972, 1.0, -47.99, 19.48, <1x26405 sparse matrix of type '<class 'numpy.float64'>'
	with 8 stored elements in Compressed Sparse Row format>, 1]
[3, 0, 2, 0, 1, 6, 4, 1, 1, 3.646526655762411, 1.0, 121.22, 19.48, <1x26405 sparse matrix of type '<class 'numpy.float64'>'
	with 8 stored elements in Compressed Sparse Row format>, 1]
[5, 1, 1, 1, 0, 7, 3, 0, 3, 3.990210395606776, 1.0, -47.99, 19.48, <1x26405 sparse matrix of type '<class 'numpy.float64'>'
	with 8 stored elements in Compressed Sparse Row format>, 0]
[3, 1, 4, 0, 1, 8, 6, 1, 0, 3.9973577716638897, 0.8888888888888888, -47.99, 19.48, <1x26405 sparse matrix of type '<class 'numpy.float64'>'
	with 8 stored elements in Compressed Sparse Row format>, 0]
[5, 1, 0, 0, 2, 7, 6, 0, 3, 4.01001258430054, 1.0, 36.62, 19.48, <1x26405 sparse matrix of type '<class 'numpy.float64'>'
	with 8 stored elements in Compressed Sparse Row format>, 1]
[4, 0, 2, 0, 1, 9, 6, 0, 2, 4.010044500340504, 1.0, 121.22, 0.05, <1x26405 sparse matrix of type '<class 'numpy.float64'>'
	with 8 stored elements in Compressed Sparse Row format>, 1]
[1, 1, 0, 0, 0, 5, 4, 0, 1, 3.8471282101364253, 1.0, 36.62, 0.05, <1x26405 sparse matrix of type '<class 'numpy.float64'>'
	with 8 stored elements in Compressed Sparse Row format>, 1]
[3, 2, 2, 0, 4, 11, 9, 0, 6, 4.174598698637136, 1.0, -47.99, 19.48, <1x26405 sparse matrix of type '<class 'numpy.float64'>'
	with 8 stored elements in Compressed Sparse Row format>, 0]
[3, 0, 3, 0, 0, 8, 5, 0, 1, 4.087861735831626, 1.0, 36.62, 0.05, <1x26405 sparse matrix of type '<class 'numpy.float64'>'
	with 8 stored elements in Compressed Sparse Row format>, 0]
[3, 0, 0, 0, 0, 6, 1, 0, 3, 4.100916685694773, 1.0, 36.62, 19.48, <1x26405 sparse matrix of type '<class 'numpy.float64'>'
	with 8 stored elements in Compressed Sparse Row format>, 0]
[3, 1, 3, 0, 1, 9, 6, 1, 3, 4.052566435427008, 1.0, -47.99, 19.48, <1x26405 sparse matrix of type '<class 'numpy.float64'>'
	with 8 stored elements in Compressed Sparse Row format>, 0]
[5, 1, 2, 0, 2, 10, 7, 1, 2, 4.150832016090119, 1.0, 36.62, 19.48, <1x26405 sparse matrix of type '<class 'numpy.float64'>'
	with 8 stored elements in Compressed Sparse Row format>, 1]
[5, 0, 1, 0, 0, 9, 3, 0, 1, 3.984816966506546, 1.0, 36.62, 19.48, <1x26405 sparse matrix of type '<class 'numpy.float64'>'
	with 8 stored elements in Compressed Sparse Row format>, 0]
[2, 2, 3, 0, 0, 8, 6, 0, 2, 3.7772354187801778, 1.0, 121.22, 0.05, <1x26405 sparse matrix of type '<class 'numpy.float64'>'
	with 8 stored elements in Compressed Sparse Row format>, 1]
[1, 1, 2, 0, 1, 7, 4, 0, 4, 3.741388653370409, 1.0, -47.99, 19.48, <1x26405 sparse matrix of type '<class 'numpy.float64'>'
	with 8 stored elements in Compressed Sparse Row format>, 0]
[3, 1, 3, 0, 3, 10, 5, 2, 6, 3.8909921250289736, 1.0, 121.22, 0.05, <1x26405 sparse matrix of type '<class 'numpy.float64'>'
	with 8 stored elements in Compressed Sparse Row format>, 0]
[4, 1, 2, 0, 2, 10, 8, 0, 4, 4.078744281437256, 1.0, 121.22, 0.05, <1x26405 sparse matrix of type '<class 'numpy.float64'>'
	with 8 stored elements in Compressed Sparse Row format>, 1]
[5, 1, 2, 0, 2, 9, 7, 0, 4, 3.9054760439621363, 1.0, 121.22, 19.48, <1x26405 sparse matrix of type '<class 'numpy.float64'>'
	with 8 stored elements in Compressed Sparse Row format>, 1]
[2, 2, 1, 0, 1, 6, 3, 0, 2, 3.8603793708313976, 1.0, 206.84, 0.0, <1x26405 sparse matrix of type '<class 'numpy.float64'>'
	with 8 stored elements in Compressed Sparse Row format>, 0]
[3, 2, 2, 1, 2, 8, 6, 0, 5, 3.6868867611354372, 1.0, 121.22, 19.48, <1x26405 sparse matrix of type '<class 'numpy.float64'>'
	with 8 stored elements in Compressed Sparse Row format>, 0]
[3, 0, 3, 0, 2, 8, 5, 1, 3, 4.016492070934483, 1.0, -47.99, 19.48, <1x26405 sparse matrix of type '<class 'numpy.float64'>'
	with 8 stored elements in Compressed Sparse Row format>, 0]
[4, 1, 2, 0, 1, 10, 6, 0, 5, 4.03936990981847, 1.0, 36.62, 19.48, <1x26405 sparse matrix of type '<class 'numpy.float64'>'
	with 8 stored elements in Compressed Sparse Row format>, 0]
[1, 1, 2, 0, 1, 7, 5, 0, 3, 3.7698438155557716, 1.0, -47.99, 19.48, <1x26405 sparse matrix of type '<class 'numpy.float64'>'
	with 8 stored elements in Compressed Sparse Row format>, 1]
[2, 0, 1, 0, 0, 5, 4, 0, 1, 3.7166308917868656, 1.0, 121.22, 19.48, <1x26405 sparse matrix of type '<class 'numpy.float64'>'
	with 8 stored elements in Compressed Sparse Row format>, 1]
[2, 1, 0, 0, 1, 4, 3, 0, 2, 3.46610072007239, 1.0, 121.22, 0.05, <1x26405 sparse matrix of type '<class 'numpy.float64'>'
	with 8 stored elements in Compressed Sparse Row format>, 0]
[6, 1, 1, 1, 3, 10, 6, 0, 6, 4.154753647362892, 1.0, -47.99, 0.05, <1x26405 sparse matrix of type '<class 'numpy.float64'>'
	with 8 stored elements in Compressed Sparse Row format>, 0]
[4, 0, 2, 0, 1, 6, 5, 0, 2, 3.6445884966423403, 1.0, 36.62, 19.48, <1x26405 sparse matrix of type '<class 'numpy.float64'>'
	with 8 stored elements in Compressed Sparse Row format>, 0]
[5, 2, 0, 0, 0, 9, 8, 0, 1, 4.093135652778337, 1.0, -47.99, 19.48, <1x26405 sparse matrix of type '<class 'numpy.float64'>'
	with 8 stored elements in Compressed Sparse Row format>, 1]
[4, 5, 1, 0, 0, 14, 8, 2, 3, 4.12002717811419, 1.0, 36.62, 19.48, <1x26405 sparse matrix of type '<class 'numpy.float64'>'
	with 8 stored elements in Compressed Sparse Row format>, 1]
[4, 1, 1, 1, 0, 8, 4, 1, 4, 3.7714444872703985, 1.0, -47.99, 19.48, <1x26405 sparse matrix of type '<class 'numpy.float64'>'
	with 8 stored elements in Compressed Sparse Row format>, 0]
[3, 2, 1, 0, 2, 9, 5, 0, 5, 3.766685176641819, 1.0, -47.99, 19.48, <1x26405 sparse matrix of type '<class 'numpy.float64'>'
	with 8 stored elements in Compressed Sparse Row format>, 1]
[3, 2, 1, 0, 1, 8, 6, 0, 3, 3.7953721637887283, 1.0, 121.22, 0.05, <1x26405 sparse matrix of type '<class 'numpy.float64'>'
	with 8 stored elements in Compressed Sparse Row format>, 1]
[6, 1, 1, 0, 1, 9, 6, 1, 2, 3.9354245310031213, 1.0, -132.59, 19.48, <1x26405 sparse matrix of type '<class 'numpy.float64'>'
	with 8 stored elements in Compressed Sparse Row format>, 0]
[4, 0, 2, 0, 3, 8, 4, 0, 6, 4.0121800112652455, 1.0, 121.22, 0.05, <1x26405 sparse matrix of type '<class 'numpy.float64'>'
	with 8 stored elements in Compressed Sparse Row format>, 0]
[4, 1, 0, 0, 1, 5, 4, 0, 1, 4.051995360985799, 1.0, 36.62, 19.48, <1x26405 sparse matrix of type '<class 'numpy.float64'>'
	with 8 stored elements in Compressed Sparse Row format>, 0]
[3, 2, 2, 1, 2, 8, 5, 0, 5, 3.9823439976686346, 1.0, 36.62, 19.48, <1x26405 sparse matrix of type '<class 'numpy.float64'>'
	with 8 stored elements in Compressed Sparse Row format>, 0]
[4, 1, 3, 0, 2, 11, 2, 0, 6, 4.04821742910843, 1.0, 121.22, 19.48, <1x26405 sparse matrix of type '<class 'numpy.float64'>'
	with 8 stored elements in Compressed Sparse Row format>, 0]
[2, 1, 1, 0, 0, 7, 4, 0, 3, 3.9191403594995746, 1.0, 121.22, 0.05, <1x26405 sparse matrix of type '<class 'numpy.float64'>'
	with 8 stored elements in Compressed Sparse Row format>, 1]
[6, 2, 2, 0, 1, 14, 10, 0, 5, 4.027978490920223, 1.0, 121.22, 19.48, <1x26405 sparse matrix of type '<class 'numpy.float64'>'
	with 8 stored elements in Compressed Sparse Row format>, 0]
[3, 2, 4, 0, 4, 9, 6, 1, 4, 3.968081203564966, 1.0, 36.62, 19.48, <1x26405 sparse matrix of type '<class 'numpy.float64'>'
	with 8 stored elements in Compressed Sparse Row format>, 0]
[2, 1, 1, 0, 3, 7, 4, 0, 6, 3.7285961945290005, 1.0, 121.22, 0.05, <1x26405 sparse matrix of type '<class 'numpy.float64'>'
	with 8 stored elements in Compressed Sparse Row format>, 1]
[4, 2, 0, 0, 3, 8, 7, 0, 4, 3.937294582179746, 1.0, -47.99, 19.48, <1x26405 sparse matrix of type '<class 'numpy.float64'>'
	with 8 stored elements in Compressed Sparse Row format>, 1]
[4, 0, 1, 0, 1, 7, 5, 0, 3, 3.838218750941133, 1.0, 36.62, 19.48, <1x26405 sparse matrix of type '<class 'numpy.float64'>'
	with 8 stored elements in Compressed Sparse Row format>, 0]
[5, 1, 0, 0, 0, 9, 5, 0, 2, 4.014987596618932, 1.0, -47.99, 0.05, <1x26405 sparse matrix of type '<class 'numpy.float64'>'
	with 8 stored elements in Compressed Sparse Row format>, 0]
[1, 0, 1, 0, 1, 2, 1, 0, 1, 3.6841837197791882, 1.0, 121.22, 19.48, <1x26405 sparse matrix of type '<class 'numpy.float64'>'
	with 8 stored elements in Compressed Sparse Row format>, 0]
[4, 0, 3, 0, 1, 9, 4, 2, 2, 4.0142296817605, 1.0, 121.22, 19.48, <1x26405 sparse matrix of type '<class 'numpy.float64'>'
	with 8 stored elements in Compressed Sparse Row format>, 0]
[2, 2, 0, 0, 0, 4, 3, 0, 0, 3.862948816520147, 1.0, -47.99, 19.48, <1x26405 sparse matrix of type '<class 'numpy.float64'>'
	with 8 stored elements in Compressed Sparse Row format>, 0]
[2, 1, 1, 0, 1, 7, 4, 0, 4, 3.737493848823689, 1.0, 121.22, 19.48, <1x26405 sparse matrix of type '<class 'numpy.float64'>'
	with 8 stored elements in Compressed Sparse Row format>, 0]
[4, 3, 2, 0, 2, 11, 10, 0, 3, 4.087402810035615, 1.0, 36.62, 19.48, <1x26405 sparse matrix of type '<class 'numpy.float64'>'
	with 8 stored elements in Compressed Sparse Row format>, 1]
[6, 1, 2, 0, 2, 11, 5, 3, 5, 3.7881911649748856, 0.9230769230769231, 121.22, 0.05, <1x26405 sparse matrix of type '<class 'numpy.float64'>'
	with 8 stored elements in Compressed Sparse Row format>, 0]
[7, 1, 1, 0, 2, 10, 5, 2, 4, 3.9834344558035095, 1.0, -47.99, 19.48, <1x26405 sparse matrix of type '<class 'numpy.float64'>'
	with 8 stored elements in Compressed Sparse Row format>, 0]
[9, 1, 1, 0, 1, 11, 9, 0, 1, 4.169590780513888, 1.0, 36.62, 19.48, <1x26405 sparse matrix of type '<class 'numpy.float64'>'
	with 8 stored elements in Compressed Sparse Row format>, 1]
[4, 2, 3, 0, 4, 10, 8, 1, 5, 3.993710309426542, 0.9285714285714286, -47.99, 19.48, <1x26405 sparse matrix of type '<class 'numpy.float64'>'
	with 8 stored elements in Compressed Sparse Row format>, 1]
[1, 0, 1, 0, 1, 3, 1, 1, 2, 3.5086949695628413, 1.0, -47.99, 19.48, <1x26405 sparse matrix of type '<class 'numpy.float64'>'
	with 8 stored elements in Compressed Sparse Row format>, 0]
[4, 0, 2, 1, 2, 6, 3, 1, 5, 3.737932271547934, 1.0, -47.99, 19.48, <1x26405 sparse matrix of type '<class 'numpy.float64'>'
	with 8 stored elements in Compressed Sparse Row format>, 0]
[4, 0, 1, 0, 1, 7, 4, 0, 3, 3.7252695077548665, 0.875, 121.22, 0.05, <1x26405 sparse matrix of type '<class 'numpy.float64'>'
	with 8 stored elements in Compressed Sparse Row format>, 0]
[3, 1, 4, 0, 0, 9, 5, 2, 2, 4.080045202304194, 1.0, 121.22, 19.48, <1x26405 sparse matrix of type '<class 'numpy.float64'>'
	with 8 stored elements in Compressed Sparse Row format>, 1]
[6, 1, 2, 0, 1, 10, 6, 1, 2, 4.158390879555432, 0.9090909090909091, 121.22, 0.05, <1x26405 sparse matrix of type '<class 'numpy.float64'>'
	with 8 stored elements in Compressed Sparse Row format>, 0]
[3, 1, 1, 1, 1, 9, 6, 1, 4, 3.947126840193128, 1.0, 36.62, 19.48, <1x26405 sparse matrix of type '<class 'numpy.float64'>'
	with 8 stored elements in Compressed Sparse Row format>, 0]
[7, 1, 2, 0, 3, 13, 10, 1, 5, 3.871496202098685, 1.0, 121.22, 0.05, <1x26405 sparse matrix of type '<class 'numpy.float64'>'
	with 8 stored elements in Compressed Sparse Row format>, 1]
[2, 0, 0, 0, 0, 2, 2, 0, 0, 1.950212064914747, 0.5, 121.22, 0.05, <1x26405 sparse matrix of type '<class 'numpy.float64'>'
	with 8 stored elements in Compressed Sparse Row format>, 0]
[5, 3, 2, 0, 3, 13, 11, 0, 5, 4.163661571960835, 1.0, 121.22, 0.05, <1x26405 sparse matrix of type '<class 'numpy.float64'>'
	with 8 stored elements in Compressed Sparse Row format>, 1]
[2, 1, 2, 0, 1, 5, 5, 0, 1, 3.9215277841122735, 1.0, 36.62, 19.48, <1x26405 sparse matrix of type '<class 'numpy.float64'>'
	with 8 stored elements in Compressed Sparse Row format>, 1]
[4, 0, 3, 0, 1, 10, 6, 0, 5, 3.695910470709337, 1.0, 121.22, 0.05, <1x26405 sparse matrix of type '<class 'numpy.float64'>'
	with 8 stored elements in Compressed Sparse Row format>, 1]
[4, 1, 2, 0, 1, 9, 6, 1, 3, 4.069247145468534, 1.0, 121.22, 0.05, <1x26405 sparse matrix of type '<class 'numpy.float64'>'
	with 8 stored elements in Compressed Sparse Row format>, 0]
[4, 0, 1, 0, 1, 8, 5, 0, 4, 3.5426430634637205, 1.0, 121.22, 0.05, <1x26405 sparse matrix of type '<class 'numpy.float64'>'
	with 8 stored elements in Compressed Sparse Row format>, 1]
[6, 1, 3, 0, 3, 11, 10, 0, 4, 4.09262125372034, 1.0, 121.22, 0.05, <1x26405 sparse matrix of type '<class 'numpy.float64'>'
	with 8 stored elements in Compressed Sparse Row format>, 1]
[4, 0, 1, 0, 1, 6, 6, 0, 1, 3.8696206391312256, 1.0, 36.62, 19.48, <1x26405 sparse matrix of type '<class 'numpy.float64'>'
	with 8 stored elements in Compressed Sparse Row format>, 1]
[4, 0, 3, 0, 1, 9, 6, 1, 3, 3.9453744741902, 1.0, 121.22, 19.48, <1x26405 sparse matrix of type '<class 'numpy.float64'>'
	with 8 stored elements in Compressed Sparse Row format>, 0]
[4, 1, 1, 0, 1, 10, 8, 0, 3, 3.9939029847019647, 1.0, 36.62, 19.48, <1x26405 sparse matrix of type '<class 'numpy.float64'>'
	with 8 stored elements in Compressed Sparse Row format>, 0]
[4, 0, 2, 0, 2, 10, 5, 0, 4, 4.023173868632864, 1.0, 121.22, 19.48, <1x26405 sparse matrix of type '<class 'numpy.float64'>'
	with 8 stored elements in Compressed Sparse Row format>, 1]
[5, 1, 1, 0, 3, 8, 3, 3, 3, 4.186935169329571, 1.0, 36.62, 19.48, <1x26405 sparse matrix of type '<class 'numpy.float64'>'
	with 8 stored elements in Compressed Sparse Row format>, 1]
[6, 1, 3, 0, 1, 13, 9, 0, 2, 4.201584716923918, 1.0, 36.62, 19.48, <1x26405 sparse matrix of type '<class 'numpy.float64'>'
	with 8 stored elements in Compressed Sparse Row format>, 1]
[3, 3, 2, 0, 1, 10, 8, 0, 3, 4.087123025678526, 1.0, 121.22, 0.05, <1x26405 sparse matrix of type '<class 'numpy.float64'>'
	with 8 stored elements in Compressed Sparse Row format>, 0]
[3, 1, 2, 1, 1, 11, 5, 0, 6, 3.9958287776366537, 1.0, 121.22, 0.05, <1x26405 sparse matrix of type '<class 'numpy.float64'>'
	with 8 stored elements in Compressed Sparse Row format>, 0]
[2, 3, 1, 1, 1, 11, 9, 0, 3, 4.032683564091017, 1.0, 36.62, 0.05, <1x26405 sparse matrix of type '<class 'numpy.float64'>'
	with 8 stored elements in Compressed Sparse Row format>, 0]
[3, 0, 3, 0, 1, 6, 4, 0, 2, 3.929047012067739, 1.0, -47.99, 19.48, <1x26405 sparse matrix of type '<class 'numpy.float64'>'
	with 8 stored elements in Compressed Sparse Row format>, 0]
[3, 1, 3, 0, 0, 10, 8, 0, 2, 4.050127270325182, 1.0, 121.22, 19.48, <1x26405 sparse matrix of type '<class 'numpy.float64'>'
	with 8 stored elements in Compressed Sparse Row format>, 1]
[5, 1, 3, 0, 0, 14, 13, 0, 1, 4.203086432324334, 1.0, 121.22, 0.05, <1x26405 sparse matrix of type '<class 'numpy.float64'>'
	with 8 stored elements in Compressed Sparse Row format>, 1]
[3, 0, 3, 0, 3, 8, 4, 0, 5, 3.9751520839481804, 1.0, 36.62, 19.48, <1x26405 sparse matrix of type '<class 'numpy.float64'>'
	with 8 stored elements in Compressed Sparse Row format>, 0]
[2, 1, 1, 0, 2, 8, 5, 0, 5, 3.765588129810024, 1.0, 121.22, 0.05, <1x26405 sparse matrix of type '<class 'numpy.float64'>'
	with 8 stored elements in Compressed Sparse Row format>, 1]
[3, 1, 1, 0, 1, 6, 5, 0, 2, 3.643374013290255, 1.0, 121.22, 0.05, <1x26405 sparse matrix of type '<class 'numpy.float64'>'
	with 8 stored elements in Compressed Sparse Row format>, 1]
[7, 1, 2, 0, 1, 12, 6, 0, 3, 4.132971442983235, 1.0, -132.59, 19.48, <1x26405 sparse matrix of type '<class 'numpy.float64'>'
	with 8 stored elements in Compressed Sparse Row format>, 0]
[5, 0, 0, 0, 0, 9, 4, 0, 4, 3.6926965183679474, 0.8888888888888888, 121.22, 0.05, <1x26405 sparse matrix of type '<class 'numpy.float64'>'
	with 8 stored elements in Compressed Sparse Row format>, 0]
[5, 3, 2, 0, 1, 10, 8, 0, 2, 4.019247562960809, 1.0, 36.62, 19.48, <1x26405 sparse matrix of type '<class 'numpy.float64'>'
	with 8 stored elements in Compressed Sparse Row format>, 0]
[4, 2, 3, 0, 1, 12, 8, 0, 5, 3.9120302614085967, 1.0, 121.22, 0.05, <1x26405 sparse matrix of type '<class 'numpy.float64'>'
	with 8 stored elements in Compressed Sparse Row format>, 1]
[2, 3, 1, 0, 0, 10, 3, 1, 4, 3.9999216508577606, 1.0, 121.22, 0.05, <1x26405 sparse matrix of type '<class 'numpy.float64'>'
	with 8 stored elements in Compressed Sparse Row format>, 0]
[4, 0, 1, 0, 2, 8, 8, 0, 2, 3.9465208304336574, 1.0, 121.22, 0.05, <1x26405 sparse matrix of type '<class 'numpy.float64'>'
	with 8 stored elements in Compressed Sparse Row format>, 0]
[1, 0, 1, 1, 1, 2, 1, 0, 2, 3.4104172527605203, 1.0, 121.22, 0.05, <1x26405 sparse matrix of type '<class 'numpy.float64'>'
	with 8 stored elements in Compressed Sparse Row format>, 0]
[5, 2, 0, 1, 1, 8, 8, 0, 2, 4.088367603551344, 1.0, 36.62, 0.05, <1x26405 sparse matrix of type '<class 'numpy.float64'>'
	with 8 stored elements in Compressed Sparse Row format>, 1]
[6, 1, 4, 0, 2, 13, 10, 1, 3, 3.9199935624473152, 0.9333333333333333, 121.22, 0.05, <1x26405 sparse matrix of type '<class 'numpy.float64'>'
	with 8 stored elements in Compressed Sparse Row format>, 1]
[3, 2, 1, 0, 1, 11, 7, 1, 3, 4.019581068808432, 1.0, -217.19, 19.48, <1x26405 sparse matrix of type '<class 'numpy.float64'>'
	with 8 stored elements in Compressed Sparse Row format>, 1]
[6, 1, 3, 0, 2, 10, 5, 3, 2, 4.094078740050458, 1.0, 121.22, 0.05, <1x26405 sparse matrix of type '<class 'numpy.float64'>'
	with 8 stored elements in Compressed Sparse Row format>, 0]
[4, 0, 1, 1, 0, 8, 4, 1, 3, 3.903036499667036, 1.0, 36.62, 19.48, <1x26405 sparse matrix of type '<class 'numpy.float64'>'
	with 8 stored elements in Compressed Sparse Row format>, 0]
[3, 1, 1, 0, 0, 6, 5, 0, 1, 3.7160160623359078, 1.0, 121.22, 19.48, <1x26405 sparse matrix of type '<class 'numpy.float64'>'
	with 8 stored elements in Compressed Sparse Row format>, 1]
[6, 2, 1, 0, 1, 12, 8, 0, 3, 4.1827666706058, 1.0, 121.22, 0.05, <1x26405 sparse matrix of type '<class 'numpy.float64'>'
	with 8 stored elements in Compressed Sparse Row format>, 1]
[6, 1, 2, 0, 1, 10, 7, 0, 2, 4.006048731217844, 1.0, 36.62, 19.48, <1x26405 sparse matrix of type '<class 'numpy.float64'>'
	with 8 stored elements in Compressed Sparse Row format>, 0]
[5, 1, 1, 2, 2, 9, 8, 0, 5, 4.107386327807777, 0.9230769230769231, -47.99, 0.05, <1x26405 sparse matrix of type '<class 'numpy.float64'>'
	with 8 stored elements in Compressed Sparse Row format>, 0]
[3, 1, 2, 0, 2, 9, 6, 0, 4, 4.092799263961991, 1.0, 121.22, 19.48, <1x26405 sparse matrix of type '<class 'numpy.float64'>'
	with 8 stored elements in Compressed Sparse Row format>, 1]
[2, 1, 1, 1, 1, 7, 5, 0, 4, 3.804047012067739, 1.0, 121.22, 0.05, <1x26405 sparse matrix of type '<class 'numpy.float64'>'
	with 8 stored elements in Compressed Sparse Row format>, 0]
[5, 0, 2, 0, 3, 8, 8, 0, 3, 3.746463047184513, 1.0, 121.22, 19.48, <1x26405 sparse matrix of type '<class 'numpy.float64'>'
	with 8 stored elements in Compressed Sparse Row format>, 1]
[2, 2, 2, 2, 0, 7, 5, 0, 4, 3.877404576510615, 1.0, -47.99, 19.48, <1x26405 sparse matrix of type '<class 'numpy.float64'>'
	with 8 stored elements in Compressed Sparse Row format>, 0]
[3, 1, 2, 0, 1, 7, 6, 0, 1, 4.4219513634739736, 1.0, 36.62, 19.48, <1x26405 sparse matrix of type '<class 'numpy.float64'>'
	with 8 stored elements in Compressed Sparse Row format>, 1]
[7, 0, 0, 1, 2, 8, 6, 0, 4, 3.903528470363931, 1.0, 36.62, 19.48, <1x26405 sparse matrix of type '<class 'numpy.float64'>'
	with 8 stored elements in Compressed Sparse Row format>, 1]
[4, 0, 3, 1, 3, 10, 6, 0, 6, 4.059723651432209, 1.0, 121.22, 0.05, <1x26405 sparse matrix of type '<class 'numpy.float64'>'
	with 8 stored elements in Compressed Sparse Row format>, 0]
[2, 0, 1, 0, 0, 4, 2, 1, 1, 3.849223912390625, 1.0, 121.22, 0.05, <1x26405 sparse matrix of type '<class 'numpy.float64'>'
	with 8 stored elements in Compressed Sparse Row format>, 0]
[4, 0, 1, 0, 0, 5, 4, 0, 0, 3.783666028691723, 1.0, 36.62, 19.48, <1x26405 sparse matrix of type '<class 'numpy.float64'>'
	with 8 stored elements in Compressed Sparse Row format>, 1]
[4, 2, 2, 0, 1, 8, 7, 0, 1, 3.9449524457395033, 1.0, -47.99, 0.05, <1x26405 sparse matrix of type '<class 'numpy.float64'>'
	with 8 stored elements in Compressed Sparse Row format>, 0]
[3, 1, 0, 0, 0, 4, 2, 0, 0, 4.0980685120588385, 1.0, 121.22, 19.48, <1x26405 sparse matrix of type '<class 'numpy.float64'>'
	with 8 stored elements in Compressed Sparse Row format>, 0]
[3, 2, 1, 0, 0, 8, 6, 0, 2, 3.8848537096440996, 1.0, 121.22, 0.05, <1x26405 sparse matrix of type '<class 'numpy.float64'>'
	with 8 stored elements in Compressed Sparse Row format>, 1]
[2, 2, 1, 0, 0, 7, 6, 0, 1, 3.9834260186887978, 1.0, 121.22, 19.48, <1x26405 sparse matrix of type '<class 'numpy.float64'>'
	with 8 stored elements in Compressed Sparse Row format>, 1]
[3, 1, 2, 0, 2, 9, 8, 0, 3, 4.097848182486861, 1.0, 121.22, 19.48, <1x26405 sparse matrix of type '<class 'numpy.float64'>'
	with 8 stored elements in Compressed Sparse Row format>, 1]
[4, 1, 2, 0, 1, 10, 5, 0, 6, 3.9551884913391806, 1.0, -47.99, 19.48, <1x26405 sparse matrix of type '<class 'numpy.float64'>'
	with 8 stored elements in Compressed Sparse Row format>, 0]
[4, 3, 2, 0, 1, 10, 8, 1, 2, 4.089951285640375, 1.0, 36.62, 0.05, <1x26405 sparse matrix of type '<class 'numpy.float64'>'
	with 8 stored elements in Compressed Sparse Row format>, 1]
[4, 2, 0, 0, 4, 9, 7, 0, 4, 4.291960019645558, 1.0, 121.22, 19.48, <1x26405 sparse matrix of type '<class 'numpy.float64'>'
	with 8 stored elements in Compressed Sparse Row format>, 0]
[6, 2, 1, 0, 0, 12, 7, 0, 3, 4.085701308530453, 1.0, 36.62, 0.05, <1x26405 sparse matrix of type '<class 'numpy.float64'>'
	with 8 stored elements in Compressed Sparse Row format>, 0]
[3, 1, 1, 0, 0, 5, 5, 0, 0, 3.8610523492544297, 1.0, 121.22, 19.48, <1x26405 sparse matrix of type '<class 'numpy.float64'>'
	with 8 stored elements in Compressed Sparse Row format>, 0]
[3, 2, 2, 0, 0, 8, 5, 1, 2, 4.083855777020421, 1.0, 36.62, 0.05, <1x26405 sparse matrix of type '<class 'numpy.float64'>'
	with 8 stored elements in Compressed Sparse Row format>, 1]
[5, 0, 3, 0, 1, 10, 7, 1, 2, 4.018103449297849, 1.0, 121.22, 0.05, <1x26405 sparse matrix of type '<class 'numpy.float64'>'
	with 8 stored elements in Compressed Sparse Row format>, 1]
[5, 1, 0, 0, 3, 7, 5, 1, 4, 3.948130327114614, 1.0, -47.99, 35.27, <1x26405 sparse matrix of type '<class 'numpy.float64'>'
	with 8 stored elements in Compressed Sparse Row format>, 1]
[2, 1, 4, 0, 1, 10, 6, 0, 5, 3.84938682932931, 1.0, 36.62, 0.05, <1x26405 sparse matrix of type '<class 'numpy.float64'>'
	with 8 stored elements in Compressed Sparse Row format>, 1]
[4, 3, 3, 0, 3, 10, 8, 0, 4, 4.004250961035754, 1.0, 121.22, 19.48, <1x26405 sparse matrix of type '<class 'numpy.float64'>'
	with 8 stored elements in Compressed Sparse Row format>, 1]
[5, 2, 3, 0, 2, 10, 9, 0, 3, 3.925322583894676, 1.0, 121.22, 0.05, <1x26405 sparse matrix of type '<class 'numpy.float64'>'
	with 8 stored elements in Compressed Sparse Row format>, 1]
[5, 2, 2, 0, 0, 10, 9, 0, 1, 4.084860467748141, 1.0, 36.62, 19.48, <1x26405 sparse matrix of type '<class 'numpy.float64'>'
	with 8 stored elements in Compressed Sparse Row format>, 1]
[4, 2, 3, 0, 2, 11, 9, 0, 4, 3.8236066390364085, 1.0, 121.22, 0.05, <1x26405 sparse matrix of type '<class 'numpy.float64'>'
	with 8 stored elements in Compressed Sparse Row format>, 1]
[5, 1, 2, 0, 2, 8, 8, 0, 2, 4.019121860389402, 1.0, 36.62, 0.05, <1x26405 sparse matrix of type '<class 'numpy.float64'>'
	with 8 stored elements in Compressed Sparse Row format>, 1]
[6, 2, 4, 0, 2, 16, 9, 1, 5, 4.173340846501765, 0.9444444444444444, 121.22, 0.05, <1x26405 sparse matrix of type '<class 'numpy.float64'>'
	with 8 stored elements in Compressed Sparse Row format>, 1]
[6, 1, 2, 0, 2, 10, 9, 1, 2, 4.270141503417933, 0.9166666666666666, -301.79, 19.48, <1x26405 sparse matrix of type '<class 'numpy.float64'>'
	with 8 stored elements in Compressed Sparse Row format>, 1]
[3, 3, 3, 0, 2, 10, 8, 1, 3, 4.062776313084468, 1.0, 36.62, 19.48, <1x26405 sparse matrix of type '<class 'numpy.float64'>'
	with 8 stored elements in Compressed Sparse Row format>, 1]
[4, 1, 4, 0, 3, 14, 9, 0, 8, 4.185972285942155, 1.0, 121.22, 0.05, <1x26405 sparse matrix of type '<class 'numpy.float64'>'
	with 8 stored elements in Compressed Sparse Row format>, 1]
[3, 1, 2, 0, 1, 9, 4, 0, 5, 3.949227914052047, 1.0, -47.99, 19.48, <1x26405 sparse matrix of type '<class 'numpy.float64'>'
	with 8 stored elements in Compressed Sparse Row format>, 0]
[8, 3, 2, 0, 3, 14, 12, 0, 3, 4.26558623151047, 1.0, 36.62, 19.48, <1x26405 sparse matrix of type '<class 'numpy.float64'>'
	with 8 stored elements in Compressed Sparse Row format>, 1]
[7, 1, 1, 0, 1, 10, 9, 0, 2, 4.030636647107231, 1.0, 121.22, 19.48, <1x26405 sparse matrix of type '<class 'numpy.float64'>'
	with 8 stored elements in Compressed Sparse Row format>, 1]
[2, 0, 2, 0, 2, 4, 5, 0, 1, 3.7148697866030838, 1.0, 121.22, 19.48, <1x26405 sparse matrix of type '<class 'numpy.float64'>'
	with 8 stored elements in Compressed Sparse Row format>, 1]
[3, 1, 3, 0, 2, 10, 4, 1, 4, 4.3569156031695435, 1.0, 121.22, 19.48, <1x26405 sparse matrix of type '<class 'numpy.float64'>'
	with 8 stored elements in Compressed Sparse Row format>, 0]
[6, 2, 1, 0, 2, 11, 8, 0, 5, 4.010400510829519, 0.9230769230769231, 121.22, 0.05, <1x26405 sparse matrix of type '<class 'numpy.float64'>'
	with 8 stored elements in Compressed Sparse Row format>, 0]
[3, 1, 5, 0, 2, 9, 8, 1, 2, 4.027717354647761, 1.0, 121.22, 0.05, <1x26405 sparse matrix of type '<class 'numpy.float64'>'
	with 8 stored elements in Compressed Sparse Row format>, 0]
[6, 1, 2, 0, 2, 12, 9, 0, 4, 4.145890274801907, 0.9285714285714286, -47.99, 19.48, <1x26405 sparse matrix of type '<class 'numpy.float64'>'
	with 8 stored elements in Compressed Sparse Row format>, 1]
[7, 2, 2, 0, 1, 14, 8, 3, 3, 4.154249827494392, 1.0, 121.22, 19.48, <1x26405 sparse matrix of type '<class 'numpy.float64'>'
	with 8 stored elements in Compressed Sparse Row format>, 1]
[6, 0, 1, 0, 2, 9, 4, 1, 4, 4.002112351882589, 1.0, 36.62, 0.05, <1x26405 sparse matrix of type '<class 'numpy.float64'>'
	with 8 stored elements in Compressed Sparse Row format>, 0]
[4, 0, 3, 0, 0, 7, 7, 0, 0, 3.9414244434958796, 1.0, -217.19, 19.48, <1x26405 sparse matrix of type '<class 'numpy.float64'>'
	with 8 stored elements in Compressed Sparse Row format>, 1]
[2, 1, 1, 0, 1, 5, 3, 0, 3, 3.7943721485946105, 1.0, -132.59, 19.48, <1x26405 sparse matrix of type '<class 'numpy.float64'>'
	with 8 stored elements in Compressed Sparse Row format>, 0]
[2, 4, 1, 0, 2, 7, 5, 0, 3, 3.793942707918268, 1.0, 36.62, 0.05, <1x26405 sparse matrix of type '<class 'numpy.float64'>'
	with 8 stored elements in Compressed Sparse Row format>, 0]
[3, 0, 2, 0, 1, 7, 2, 2, 2, 4.090674657837695, 1.0, -47.99, 19.48, <1x26405 sparse matrix of type '<class 'numpy.float64'>'
	with 8 stored elements in Compressed Sparse Row format>, 1]
[3, 0, 2, 0, 0, 11, 4, 1, 6, 3.7163525896512146, 1.0, 121.22, 0.05, <1x26405 sparse matrix of type '<class 'numpy.float64'>'
	with 8 stored elements in Compressed Sparse Row format>, 0]
[4, 0, 3, 0, 0, 9, 7, 0, 2, 3.949209662268535, 1.0, 121.22, 0.05, <1x26405 sparse matrix of type '<class 'numpy.float64'>'
	with 8 stored elements in Compressed Sparse Row format>, 1]
[4, 2, 2, 0, 1, 8, 5, 1, 1, 4.024581135710309, 1.0, 121.22, 19.48, <1x26405 sparse matrix of type '<class 'numpy.float64'>'
	with 8 stored elements in Compressed Sparse Row format>, 0]
[4, 0, 2, 0, 2, 10, 7, 1, 4, 3.9966621273903677, 1.0, 36.62, 0.05, <1x26405 sparse matrix of type '<class 'numpy.float64'>'
	with 8 stored elements in Compressed Sparse Row format>, 1]
[3, 1, 0, 0, 0, 4, 4, 0, 0, 3.74014206200674, 1.0, -47.99, 19.48, <1x26405 sparse matrix of type '<class 'numpy.float64'>'
	with 8 stored elements in Compressed Sparse Row format>, 1]
[9, 0, 2, 0, 1, 14, 11, 0, 3, 4.2585609468143035, 1.0, 36.62, 0.05, <1x26405 sparse matrix of type '<class 'numpy.float64'>'
	with 8 stored elements in Compressed Sparse Row format>, 1]
[4, 2, 2, 0, 0, 10, 7, 1, 2, 4.2376436356744245, 1.0, 121.22, 0.05, <1x26405 sparse matrix of type '<class 'numpy.float64'>'
	with 8 stored elements in Compressed Sparse Row format>, 1]
[7, 4, 2, 1, 1, 18, 10, 1, 6, 4.169569241651338, 0.95, -47.99, 19.48, <1x26405 sparse matrix of type '<class 'numpy.float64'>'
	with 8 stored elements in Compressed Sparse Row format>, 0]
[4, 2, 4, 0, 3, 13, 11, 0, 4, 4.19685303615067, 1.0, 36.62, 19.48, <1x26405 sparse matrix of type '<class 'numpy.float64'>'
	with 8 stored elements in Compressed Sparse Row format>, 1]
[3, 0, 0, 0, 0, 6, 3, 0, 2, 3.9542678026603597, 1.0, 121.22, 19.48, <1x26405 sparse matrix of type '<class 'numpy.float64'>'
	with 8 stored elements in Compressed Sparse Row format>, 0]
[3, 2, 2, 0, 0, 8, 6, 0, 1, 3.9749686217118576, 1.0, 121.22, 19.48, <1x26405 sparse matrix of type '<class 'numpy.float64'>'
	with 8 stored elements in Compressed Sparse Row format>, 0]
[6, 0, 5, 0, 3, 13, 9, 1, 5, 4.1261171023976555, 1.0, 121.22, 19.48, <1x26405 sparse matrix of type '<class 'numpy.float64'>'
	with 8 stored elements in Compressed Sparse Row format>, 1]
[5, 0, 4, 0, 5, 12, 9, 0, 8, 3.994770090487416, 0.8823529411764706, 121.22, 0.05, <1x26405 sparse matrix of type '<class 'numpy.float64'>'
	with 8 stored elements in Compressed Sparse Row format>, 1]
[4, 0, 2, 0, 1, 6, 6, 0, 1, 3.8996772894761453, 1.0, 121.22, 0.05, <1x26405 sparse matrix of type '<class 'numpy.float64'>'
	with 8 stored elements in Compressed Sparse Row format>, 1]
[1, 1, 2, 0, 0, 7, 5, 0, 2, 3.5359342310940916, 1.0, 36.62, 19.48, <1x26405 sparse matrix of type '<class 'numpy.float64'>'
	with 8 stored elements in Compressed Sparse Row format>, 0]
[6, 2, 1, 0, 2, 9, 7, 1, 3, 3.974626795323854, 1.0, 121.22, 19.48, <1x26405 sparse matrix of type '<class 'numpy.float64'>'
	with 8 stored elements in Compressed Sparse Row format>, 0]
[2, 1, 3, 0, 3, 7, 5, 0, 5, 4.116556818163728, 0.9, 121.22, 0.05, <1x26405 sparse matrix of type '<class 'numpy.float64'>'
	with 8 stored elements in Compressed Sparse Row format>, 1]
[3, 2, 0, 0, 0, 5, 4, 1, 0, 4.136248672727249, 1.0, 121.22, 0.05, <1x26405 sparse matrix of type '<class 'numpy.float64'>'
	with 8 stored elements in Compressed Sparse Row format>, 1]
[3, 1, 3, 1, 2, 10, 6, 0, 4, 3.8852801730294657, 1.0, 36.62, 19.48, <1x26405 sparse matrix of type '<class 'numpy.float64'>'
	with 8 stored elements in Compressed Sparse Row format>, 1]
[6, 1, 1, 0, 0, 12, 9, 0, 1, 4.164276554906804, 1.0, 121.22, 0.05, <1x26405 sparse matrix of type '<class 'numpy.float64'>'
	with 8 stored elements in Compressed Sparse Row format>, 0]
[3, 0, 1, 0, 1, 6, 2, 2, 1, 4.10092167520963, 1.0, 121.22, 0.05, <1x26405 sparse matrix of type '<class 'numpy.float64'>'
	with 8 stored elements in Compressed Sparse Row format>, 0]
[5, 1, 1, 0, 1, 8, 6, 0, 1, 4.031579168349365, 0.8888888888888888, -47.99, 19.48, <1x26405 sparse matrix of type '<class 'numpy.float64'>'
	with 8 stored elements in Compressed Sparse Row format>, 1]
[5, 0, 2, 0, 1, 11, 10, 0, 2, 4.0627529206715645, 1.0, 121.22, 0.05, <1x26405 sparse matrix of type '<class 'numpy.float64'>'
	with 8 stored elements in Compressed Sparse Row format>, 1]
[4, 2, 0, 0, 0, 7, 5, 0, 1, 4.090328621280336, 1.0, -47.99, 19.48, <1x26405 sparse matrix of type '<class 'numpy.float64'>'
	with 8 stored elements in Compressed Sparse Row format>, 1]
[4, 1, 0, 0, 1, 6, 6, 0, 1, 3.994626619926348, 1.0, -132.59, 19.48, <1x26405 sparse matrix of type '<class 'numpy.float64'>'
	with 8 stored elements in Compressed Sparse Row format>, 1]
[2, 0, 1, 0, 1, 5, 3, 0, 3, 3.750807235905091, 0.8333333333333334, 36.62, 0.05, <1x26405 sparse matrix of type '<class 'numpy.float64'>'
	with 8 stored elements in Compressed Sparse Row format>, 0]
[3, 1, 2, 2, 3, 6, 5, 0, 3, 3.9050888251354907, 0.9090909090909091, 121.22, 19.48, <1x26405 sparse matrix of type '<class 'numpy.float64'>'
	with 8 stored elements in Compressed Sparse Row format>, 0]
[5, 2, 3, 0, 1, 10, 9, 0, 1, 3.973941405966879, 1.0, 36.62, 19.48, <1x26405 sparse matrix of type '<class 'numpy.float64'>'
	with 8 stored elements in Compressed Sparse Row format>, 0]
[4, 2, 4, 0, 1, 11, 6, 0, 4, 3.8251003582990317, 1.0, 121.22, 0.05, <1x26405 sparse matrix of type '<class 'numpy.float64'>'
	with 8 stored elements in Compressed Sparse Row format>, 0]
[3, 0, 1, 1, 0, 5, 4, 0, 2, 3.527518266288633, 1.0, 121.22, 19.48, <1x26405 sparse matrix of type '<class 'numpy.float64'>'
	with 8 stored elements in Compressed Sparse Row format>, 1]
[6, 0, 2, 0, 1, 13, 9, 0, 5, 4.160370265727599, 1.0, 36.62, 0.05, <1x26405 sparse matrix of type '<class 'numpy.float64'>'
	with 8 stored elements in Compressed Sparse Row format>, 1]
[7, 1, 1, 0, 1, 12, 7, 1, 4, 4.213276022235319, 1.0, 121.22, 19.48, <1x26405 sparse matrix of type '<class 'numpy.float64'>'
	with 8 stored elements in Compressed Sparse Row format>, 0]
[3, 1, 3, 0, 1, 8, 5, 0, 1, 4.087021057278367, 1.0, 121.22, 19.48, <1x26405 sparse matrix of type '<class 'numpy.float64'>'
	with 8 stored elements in Compressed Sparse Row format>, 0]
[5, 0, 2, 0, 1, 8, 5, 3, 0, 3.829218794873095, 1.0, -47.99, 19.48, <1x26405 sparse matrix of type '<class 'numpy.float64'>'
	with 8 stored elements in Compressed Sparse Row format>, 1]
[3, 2, 2, 0, 2, 8, 7, 0, 3, 3.849518424051847, 1.0, -132.59, 19.48, <1x26405 sparse matrix of type '<class 'numpy.float64'>'
	with 8 stored elements in Compressed Sparse Row format>, 0]
[5, 0, 2, 0, 1, 9, 5, 0, 4, 3.977038483390659, 1.0, 36.62, 0.05, <1x26405 sparse matrix of type '<class 'numpy.float64'>'
	with 8 stored elements in Compressed Sparse Row format>, 1]
[5, 0, 1, 0, 0, 7, 4, 0, 1, 3.878445120015724, 1.0, -47.99, 19.48, <1x26405 sparse matrix of type '<class 'numpy.float64'>'
	with 8 stored elements in Compressed Sparse Row format>, 0]
[5, 1, 4, 0, 2, 12, 10, 0, 3, 3.958461200545339, 0.9285714285714286, 121.22, 0.05, <1x26405 sparse matrix of type '<class 'numpy.float64'>'
	with 8 stored elements in Compressed Sparse Row format>, 1]
[5, 3, 2, 1, 1, 11, 7, 2, 1, 4.176297174193855, 0.9230769230769231, 121.22, 0.05, <1x26405 sparse matrix of type '<class 'numpy.float64'>'
	with 8 stored elements in Compressed Sparse Row format>, 0]
[7, 1, 2, 0, 1, 11, 9, 0, 2, 3.979158980977307, 1.0, 36.62, 0.05, <1x26405 sparse matrix of type '<class 'numpy.float64'>'
	with 8 stored elements in Compressed Sparse Row format>, 1]
[7, 1, 0, 0, 1, 10, 7, 0, 3, 3.7581925369068365, 1.0, 36.62, 0.05, <1x26405 sparse matrix of type '<class 'numpy.float64'>'
	with 8 stored elements in Compressed Sparse Row format>, 0]
[1, 1, 1, 0, 1, 4, 2, 0, 2, 3.5645404777369882, 1.0, 121.22, 19.48, <1x26405 sparse matrix of type '<class 'numpy.float64'>'
	with 8 stored elements in Compressed Sparse Row format>, 0]
[4, 1, 4, 1, 5, 9, 6, 1, 8, 3.9148400541954493, 0.9333333333333333, 36.62, 19.48, <1x26405 sparse matrix of type '<class 'numpy.float64'>'
	with 8 stored elements in Compressed Sparse Row format>, 1]
[7, 0, 4, 0, 5, 11, 10, 1, 5, 4.002983165879805, 1.0, 121.22, 19.48, <1x26405 sparse matrix of type '<class 'numpy.float64'>'
	with 8 stored elements in Compressed Sparse Row format>, 1]
[4, 2, 1, 0, 0, 8, 7, 0, 1, 4.045301203579862, 1.0, 121.22, 0.05, <1x26405 sparse matrix of type '<class 'numpy.float64'>'
	with 8 stored elements in Compressed Sparse Row format>, 0]
[3, 0, 3, 0, 2, 7, 6, 0, 3, 4.000011196233075, 1.0, 36.62, 0.05, <1x26405 sparse matrix of type '<class 'numpy.float64'>'
	with 8 stored elements in Compressed Sparse Row format>, 1]
[2, 3, 4, 0, 0, 12, 8, 0, 3, 3.981791247207156, 1.0, 121.22, 0.05, <1x26405 sparse matrix of type '<class 'numpy.float64'>'
	with 8 stored elements in Compressed Sparse Row format>, 0]
[5, 3, 1, 0, 1, 9, 8, 0, 1, 3.986435828221155, 1.0, 121.22, 0.05, <1x26405 sparse matrix of type '<class 'numpy.float64'>'
	with 8 stored elements in Compressed Sparse Row format>, 1]
[3, 1, 3, 3, 1, 6, 5, 0, 4, 3.8013201709561892, 0.9, 121.22, 19.48, <1x26405 sparse matrix of type '<class 'numpy.float64'>'
	with 8 stored elements in Compressed Sparse Row format>, 0]
[4, 1, 2, 0, 2, 10, 8, 1, 3, 4.008051835223775, 1.0, 121.22, 19.48, <1x26405 sparse matrix of type '<class 'numpy.float64'>'
	with 8 stored elements in Compressed Sparse Row format>, 1]
[3, 3, 1, 0, 2, 8, 4, 0, 4, 3.7859453829771352, 1.0, 36.62, 19.48, <1x26405 sparse matrix of type '<class 'numpy.float64'>'
	with 8 stored elements in Compressed Sparse Row format>, 0]
[4, 1, 1, 0, 1, 11, 5, 0, 4, 4.254033887118261, 1.0, 121.22, 0.05, <1x26405 sparse matrix of type '<class 'numpy.float64'>'
	with 8 stored elements in Compressed Sparse Row format>, 0]
[2, 0, 1, 0, 0, 5, 4, 0, 0, 3.7154535460473683, 1.0, 121.22, 0.05, <1x26405 sparse matrix of type '<class 'numpy.float64'>'
	with 8 stored elements in Compressed Sparse Row format>, 1]
[3, 2, 4, 0, 3, 10, 7, 1, 5, 4.122183407713843, 1.0, -47.99, 0.05, <1x26405 sparse matrix of type '<class 'numpy.float64'>'
	with 8 stored elements in Compressed Sparse Row format>, 0]
[7, 2, 2, 0, 3, 13, 12, 0, 3, 4.109720974480857, 1.0, 121.22, 19.48, <1x26405 sparse matrix of type '<class 'numpy.float64'>'
	with 8 stored elements in Compressed Sparse Row format>, 1]
[3, 1, 2, 0, 0, 6, 5, 1, 0, 3.75275925659637, 1.0, 121.22, 19.48, <1x26405 sparse matrix of type '<class 'numpy.float64'>'
	with 8 stored elements in Compressed Sparse Row format>, 0]
[6, 1, 4, 1, 2, 12, 4, 1, 4, 3.9825658884792965, 1.0, 121.22, 19.48, <1x26405 sparse matrix of type '<class 'numpy.float64'>'
	with 8 stored elements in Compressed Sparse Row format>, 0]
[5, 1, 1, 0, 1, 8, 7, 1, 1, 4.094454247917889, 1.0, 36.62, 19.48, <1x26405 sparse matrix of type '<class 'numpy.float64'>'
	with 8 stored elements in Compressed Sparse Row format>, 1]
[3, 1, 3, 0, 2, 8, 4, 0, 2, 4.1123437507738325, 1.0, 36.62, 19.48, <1x26405 sparse matrix of type '<class 'numpy.float64'>'
	with 8 stored elements in Compressed Sparse Row format>, 0]
[4, 0, 3, 0, 3, 9, 5, 0, 5, 3.8971614113618003, 1.0, 36.62, 0.05, <1x26405 sparse matrix of type '<class 'numpy.float64'>'
	with 8 stored elements in Compressed Sparse Row format>, 0]
[3, 1, 2, 0, 2, 7, 6, 2, 1, 4.218747914876499, 1.0, 121.22, 19.48, <1x26405 sparse matrix of type '<class 'numpy.float64'>'
	with 8 stored elements in Compressed Sparse Row format>, 1]
[2, 1, 1, 0, 0, 5, 4, 0, 0, 3.752260204523717, 1.0, -47.99, 19.48, <1x26405 sparse matrix of type '<class 'numpy.float64'>'
	with 8 stored elements in Compressed Sparse Row format>, 1]
[5, 1, 1, 0, 2, 9, 5, 0, 4, 3.752086782871317, 1.0, 121.22, 0.05, <1x26405 sparse matrix of type '<class 'numpy.float64'>'
	with 8 stored elements in Compressed Sparse Row format>, 0]
[5, 2, 2, 1, 0, 9, 7, 1, 1, 3.998417069951644, 1.0, 121.22, 19.48, <1x26405 sparse matrix of type '<class 'numpy.float64'>'
	with 8 stored elements in Compressed Sparse Row format>, 1]
[4, 1, 5, 0, 1, 12, 5, 2, 5, 4.007225860744843, 1.0, -47.99, 19.48, <1x26405 sparse matrix of type '<class 'numpy.float64'>'
	with 8 stored elements in Compressed Sparse Row format>, 1]
[5, 1, 2, 0, 3, 15, 9, 0, 8, 3.7607734045401235, 1.0, 121.22, 0.05, <1x26405 sparse matrix of type '<class 'numpy.float64'>'
	with 8 stored elements in Compressed Sparse Row format>, 1]
[5, 0, 2, 1, 1, 10, 7, 2, 3, 3.766485635071759, 1.0, 36.62, 19.48, <1x26405 sparse matrix of type '<class 'numpy.float64'>'
	with 8 stored elements in Compressed Sparse Row format>, 0]
[2, 2, 2, 0, 1, 8, 6, 0, 2, 3.8638208133925263, 1.0, -47.99, 19.48, <1x26405 sparse matrix of type '<class 'numpy.float64'>'
	with 8 stored elements in Compressed Sparse Row format>, 1]
[2, 2, 1, 2, 0, 6, 3, 0, 3, 3.5873989756018285, 1.0, 121.22, 0.05, <1x26405 sparse matrix of type '<class 'numpy.float64'>'
	with 8 stored elements in Compressed Sparse Row format>, 0]
[3, 3, 3, 0, 3, 10, 8, 0, 5, 3.7769073285181993, 1.0, 36.62, 0.05, <1x26405 sparse matrix of type '<class 'numpy.float64'>'
	with 8 stored elements in Compressed Sparse Row format>, 1]
[4, 2, 0, 0, 1, 9, 6, 1, 3, 3.9133230838277195, 1.0, 36.62, 19.48, <1x26405 sparse matrix of type '<class 'numpy.float64'>'
	with 8 stored elements in Compressed Sparse Row format>, 1]
[4, 1, 1, 0, 0, 6, 4, 2, 0, 3.9342272219737158, 1.0, 36.62, 0.05, <1x26405 sparse matrix of type '<class 'numpy.float64'>'
	with 8 stored elements in Compressed Sparse Row format>, 1]
[3, 2, 4, 1, 2, 12, 8, 0, 6, 4.010120166821733, 1.0, 121.22, 0.05, <1x26405 sparse matrix of type '<class 'numpy.float64'>'
	with 8 stored elements in Compressed Sparse Row format>, 0]
[3, 1, 2, 1, 1, 8, 5, 0, 3, 3.8831086937254065, 1.0, 121.22, 19.48, <1x26405 sparse matrix of type '<class 'numpy.float64'>'
	with 8 stored elements in Compressed Sparse Row format>, 0]
[4, 1, 0, 0, 1, 8, 5, 1, 3, 3.8015346655073863, 1.0, -132.59, 19.48, <1x26405 sparse matrix of type '<class 'numpy.float64'>'
	with 8 stored elements in Compressed Sparse Row format>, 0]
[6, 0, 3, 0, 3, 11, 7, 2, 3, 4.052729842293692, 0.9285714285714286, 36.62, 19.48, <1x26405 sparse matrix of type '<class 'numpy.float64'>'
	with 8 stored elements in Compressed Sparse Row format>, 0]
[3, 4, 2, 0, 4, 11, 10, 0, 4, 4.086937208489572, 1.0, 121.22, 0.05, <1x26405 sparse matrix of type '<class 'numpy.float64'>'
	with 8 stored elements in Compressed Sparse Row format>, 1]
[4, 1, 2, 0, 1, 11, 8, 0, 3, 4.289193990345099, 1.0, 121.22, 19.48, <1x26405 sparse matrix of type '<class 'numpy.float64'>'
	with 8 stored elements in Compressed Sparse Row format>, 1]
[5, 0, 3, 1, 2, 11, 4, 2, 6, 3.9441359794969646, 0.9285714285714286, -47.99, 19.48, <1x26405 sparse matrix of type '<class 'numpy.float64'>'
	with 8 stored elements in Compressed Sparse Row format>, 0]
[4, 2, 1, 0, 2, 9, 6, 1, 4, 4.114029411504424, 1.0, -47.99, 19.48, <1x26405 sparse matrix of type '<class 'numpy.float64'>'
	with 8 stored elements in Compressed Sparse Row format>, 1]
[4, 2, 1, 2, 1, 8, 7, 0, 4, 3.853191522917071, 1.0, 121.22, 0.05, <1x26405 sparse matrix of type '<class 'numpy.float64'>'
	with 8 stored elements in Compressed Sparse Row format>, 0]
[4, 1, 1, 0, 1, 9, 5, 0, 4, 4.07713507740389, 1.0, 36.62, 19.48, <1x26405 sparse matrix of type '<class 'numpy.float64'>'
	with 8 stored elements in Compressed Sparse Row format>, 1]
[6, 1, 3, 0, 1, 13, 8, 1, 4, 4.104561092201444, 1.0, 121.22, 19.48, <1x26405 sparse matrix of type '<class 'numpy.float64'>'
	with 8 stored elements in Compressed Sparse Row format>, 0]
[3, 1, 2, 1, 0, 8, 3, 1, 2, 4.262188403968663, 1.0, 121.22, 19.48, <1x26405 sparse matrix of type '<class 'numpy.float64'>'
	with 8 stored elements in Compressed Sparse Row format>, 0]
[6, 4, 2, 1, 0, 14, 11, 0, 3, 3.97164268270548, 1.0, 36.62, 19.48, <1x26405 sparse matrix of type '<class 'numpy.float64'>'
	with 8 stored elements in Compressed Sparse Row format>, 1]
[3, 2, 1, 0, 1, 8, 8, 0, 1, 3.9957153271690515, 1.0, -132.59, 19.48, <1x26405 sparse matrix of type '<class 'numpy.float64'>'
	with 8 stored elements in Compressed Sparse Row format>, 1]
[3, 0, 1, 1, 0, 5, 3, 0, 3, 3.781147020819124, 1.0, 121.22, 19.48, <1x26405 sparse matrix of type '<class 'numpy.float64'>'
	with 8 stored elements in Compressed Sparse Row format>, 0]
[5, 1, 0, 0, 0, 7, 4, 0, 1, 3.824888793287065, 1.0, 121.22, 19.48, <1x26405 sparse matrix of type '<class 'numpy.float64'>'
	with 8 stored elements in Compressed Sparse Row format>, 0]
[2, 1, 1, 0, 1, 4, 4, 0, 1, 3.5100860031102545, 1.0, 121.22, 0.05, <1x26405 sparse matrix of type '<class 'numpy.float64'>'
	with 8 stored elements in Compressed Sparse Row format>, 1]
[4, 1, 2, 0, 1, 7, 5, 0, 2, 4.032820256519866, 1.0, 36.62, 19.48, <1x26405 sparse matrix of type '<class 'numpy.float64'>'
	with 8 stored elements in Compressed Sparse Row format>, 1]
[7, 2, 3, 0, 2, 13, 11, 0, 3, 4.051930366718701, 1.0, 36.62, 19.48, <1x26405 sparse matrix of type '<class 'numpy.float64'>'
	with 8 stored elements in Compressed Sparse Row format>, 1]
[3, 0, 2, 0, 0, 7, 5, 1, 0, 4.088413794382422, 1.0, -132.59, 19.48, <1x26405 sparse matrix of type '<class 'numpy.float64'>'
	with 8 stored elements in Compressed Sparse Row format>, 1]
[4, 2, 0, 0, 0, 8, 4, 1, 2, 4.165653789637553, 1.0, 121.22, 0.05, <1x26405 sparse matrix of type '<class 'numpy.float64'>'
	with 8 stored elements in Compressed Sparse Row format>, 0]
[4, 0, 1, 0, 0, 7, 4, 1, 2, 3.9807885533705636, 1.0, -47.99, 0.05, <1x26405 sparse matrix of type '<class 'numpy.float64'>'
	with 8 stored elements in Compressed Sparse Row format>, 0]
[3, 0, 2, 1, 0, 9, 4, 1, 5, 3.976965347863651, 1.0, 121.22, 0.05, <1x26405 sparse matrix of type '<class 'numpy.float64'>'
	with 8 stored elements in Compressed Sparse Row format>, 0]
[3, 0, 1, 1, 2, 7, 6, 0, 4, 3.8551208136918524, 1.0, -217.19, 19.48, <1x26405 sparse matrix of type '<class 'numpy.float64'>'
	with 8 stored elements in Compressed Sparse Row format>, 0]
[5, 2, 4, 0, 2, 13, 8, 2, 5, 3.923789995220906, 1.0, 121.22, 0.05, <1x26405 sparse matrix of type '<class 'numpy.float64'>'
	with 8 stored elements in Compressed Sparse Row format>, 0]
[4, 1, 3, 0, 3, 10, 4, 3, 5, 3.966511473156873, 1.0, 121.22, 0.05, <1x26405 sparse matrix of type '<class 'numpy.float64'>'
	with 8 stored elements in Compressed Sparse Row format>, 0]
[5, 1, 2, 1, 2, 10, 6, 0, 5, 4.063348191048822, 0.9230769230769231, 121.22, 19.48, <1x26405 sparse matrix of type '<class 'numpy.float64'>'
	with 8 stored elements in Compressed Sparse Row format>, 0]
[4, 1, 1, 0, 1, 9, 4, 0, 3, 3.9728786893420294, 1.0, 36.62, 19.48, <1x26405 sparse matrix of type '<class 'numpy.float64'>'
	with 8 stored elements in Compressed Sparse Row format>, 0]
[6, 2, 2, 0, 2, 11, 7, 2, 3, 3.8534318899665982, 1.0, 36.62, 19.48, <1x26405 sparse matrix of type '<class 'numpy.float64'>'
	with 8 stored elements in Compressed Sparse Row format>, 1]
[7, 1, 4, 0, 1, 12, 9, 1, 2, 4.0323042480712, 1.0, 121.22, 19.48, <1x26405 sparse matrix of type '<class 'numpy.float64'>'
	with 8 stored elements in Compressed Sparse Row format>, 0]
[6, 0, 1, 1, 0, 9, 5, 0, 2, 4.201481947477223, 1.0, -47.99, 19.48, <1x26405 sparse matrix of type '<class 'numpy.float64'>'
	with 8 stored elements in Compressed Sparse Row format>, 0]
[4, 0, 1, 0, 0, 6, 4, 0, 1, 4.013857072047372, 1.0, -47.99, 19.48, <1x26405 sparse matrix of type '<class 'numpy.float64'>'
	with 8 stored elements in Compressed Sparse Row format>, 0]
[3, 1, 2, 0, 2, 6, 4, 2, 2, 3.9459148454511466, 1.0, -47.99, 19.48, <1x26405 sparse matrix of type '<class 'numpy.float64'>'
	with 8 stored elements in Compressed Sparse Row format>, 1]
[3, 1, 1, 0, 1, 6, 5, 0, 2, 3.836280045756847, 1.0, -47.99, 19.48, <1x26405 sparse matrix of type '<class 'numpy.float64'>'
	with 8 stored elements in Compressed Sparse Row format>, 1]
[3, 1, 1, 0, 2, 5, 5, 0, 2, 4.06035870823447, 1.0, 36.62, 35.27, <1x26405 sparse matrix of type '<class 'numpy.float64'>'
	with 8 stored elements in Compressed Sparse Row format>, 1]
[3, 1, 0, 0, 1, 5, 3, 0, 2, 3.5525842461721626, 1.0, 121.22, 0.05, <1x26405 sparse matrix of type '<class 'numpy.float64'>'
	with 8 stored elements in Compressed Sparse Row format>, 1]
[5, 0, 2, 1, 0, 11, 4, 2, 3, 4.285914069529626, 1.0, 121.22, 0.05, <1x26405 sparse matrix of type '<class 'numpy.float64'>'
	with 8 stored elements in Compressed Sparse Row format>, 0]
[4, 0, 1, 0, 0, 8, 7, 0, 1, 4.066226381953974, 1.0, 121.22, 19.48, <1x26405 sparse matrix of type '<class 'numpy.float64'>'
	with 8 stored elements in Compressed Sparse Row format>, 1]
[3, 3, 1, 0, 1, 9, 9, 0, 1, 4.036493484749203, 1.0, 121.22, 19.48, <1x26405 sparse matrix of type '<class 'numpy.float64'>'
	with 8 stored elements in Compressed Sparse Row format>, 1]
[2, 0, 0, 0, 0, 2, 2, 0, 0, 2.9312089489103235, 1.0, 121.22, 19.48, <1x26405 sparse matrix of type '<class 'numpy.float64'>'
	with 8 stored elements in Compressed Sparse Row format>, 0]
[4, 0, 1, 0, 0, 7, 4, 0, 2, 3.915882824071533, 0.8571428571428571, 121.22, 19.48, <1x26405 sparse matrix of type '<class 'numpy.float64'>'
	with 8 stored elements in Compressed Sparse Row format>, 0]
[2, 1, 1, 0, 1, 4, 4, 0, 1, 3.5275182662886326, 1.0, 36.62, 0.05, <1x26405 sparse matrix of type '<class 'numpy.float64'>'
	with 8 stored elements in Compressed Sparse Row format>, 1]
[4, 2, 1, 0, 0, 9, 5, 3, 1, 4.0992384298164914, 1.0, 36.62, 19.48, <1x26405 sparse matrix of type '<class 'numpy.float64'>'
	with 8 stored elements in Compressed Sparse Row format>, 0]
[3, 1, 2, 0, 1, 6, 6, 0, 1, 3.918701022185142, 1.0, 36.62, 19.48, <1x26405 sparse matrix of type '<class 'numpy.float64'>'
	with 8 stored elements in Compressed Sparse Row format>, 1]
[3, 1, 5, 0, 3, 10, 7, 1, 5, 3.7893786764523667, 0.8461538461538461, 121.22, 19.48, <1x26405 sparse matrix of type '<class 'numpy.float64'>'
	with 8 stored elements in Compressed Sparse Row format>, 0]
[5, 2, 1, 1, 1, 9, 8, 0, 3, 3.9966004987664094, 1.0, 121.22, 19.48, <1x26405 sparse matrix of type '<class 'numpy.float64'>'
	with 8 stored elements in Compressed Sparse Row format>, 0]
[6, 3, 0, 0, 0, 11, 5, 0, 2, 4.023098996850684, 1.0, 121.22, 19.48, <1x26405 sparse matrix of type '<class 'numpy.float64'>'
	with 8 stored elements in Compressed Sparse Row format>, 1]
[3, 1, 1, 0, 0, 6, 6, 0, 0, 3.865948849357892, 1.0, 36.62, 0.05, <1x26405 sparse matrix of type '<class 'numpy.float64'>'
	with 8 stored elements in Compressed Sparse Row format>, 1]
[4, 0, 1, 0, 1, 5, 4, 1, 1, 3.930225265800904, 1.0, -47.99, 19.48, <1x26405 sparse matrix of type '<class 'numpy.float64'>'
	with 8 stored elements in Compressed Sparse Row format>, 0]
[4, 1, 4, 0, 0, 14, 8, 2, 4, 3.9836718074821142, 1.0, 121.22, 0.05, <1x26405 sparse matrix of type '<class 'numpy.float64'>'
	with 8 stored elements in Compressed Sparse Row format>, 1]
[5, 2, 2, 0, 2, 11, 8, 0, 5, 3.9096828173552383, 1.0, 121.22, 0.05, <1x26405 sparse matrix of type '<class 'numpy.float64'>'
	with 8 stored elements in Compressed Sparse Row format>, 0]
[3, 1, 1, 0, 0, 8, 6, 0, 2, 3.8959886057263624, 1.0, 36.62, 19.48, <1x26405 sparse matrix of type '<class 'numpy.float64'>'
	with 8 stored elements in Compressed Sparse Row format>, 0]
[4, 3, 3, 0, 1, 13, 4, 1, 5, 3.99248143820624, 1.0, 36.62, 19.48, <1x26405 sparse matrix of type '<class 'numpy.float64'>'
	with 8 stored elements in Compressed Sparse Row format>, 1]
[2, 0, 3, 1, 2, 8, 4, 0, 7, 3.883272672738776, 0.9090909090909091, 36.62, 0.05, <1x26405 sparse matrix of type '<class 'numpy.float64'>'
	with 8 stored elements in Compressed Sparse Row format>, 1]
[4, 2, 1, 1, 2, 8, 3, 3, 4, 3.768997368726378, 1.0, 121.22, 0.05, <1x26405 sparse matrix of type '<class 'numpy.float64'>'
	with 8 stored elements in Compressed Sparse Row format>, 0]
[4, 1, 0, 0, 2, 8, 4, 0, 3, 3.857810001425415, 1.0, 121.22, 19.48, <1x26405 sparse matrix of type '<class 'numpy.float64'>'
	with 8 stored elements in Compressed Sparse Row format>, 0]
[5, 1, 1, 0, 0, 10, 6, 1, 2, 3.9191480011394533, 1.0, 121.22, 0.05, <1x26405 sparse matrix of type '<class 'numpy.float64'>'
	with 8 stored elements in Compressed Sparse Row format>, 1]
[7, 2, 2, 0, 2, 13, 9, 0, 4, 4.236616312988793, 0.9333333333333333, 36.62, 0.05, <1x26405 sparse matrix of type '<class 'numpy.float64'>'
	with 8 stored elements in Compressed Sparse Row format>, 1]
[5, 4, 1, 0, 0, 11, 6, 0, 1, 3.8564258504232467, 1.0, 121.22, 0.05, <1x26405 sparse matrix of type '<class 'numpy.float64'>'
	with 8 stored elements in Compressed Sparse Row format>, 1]
[6, 0, 1, 0, 0, 8, 6, 0, 1, 3.941674521297971, 1.0, 121.22, 19.48, <1x26405 sparse matrix of type '<class 'numpy.float64'>'
	with 8 stored elements in Compressed Sparse Row format>, 0]
[2, 4, 2, 1, 0, 10, 6, 1, 4, 3.84273272972386, 1.0, 121.22, 0.05, <1x26405 sparse matrix of type '<class 'numpy.float64'>'
	with 8 stored elements in Compressed Sparse Row format>, 0]
[3, 1, 1, 0, 1, 8, 5, 0, 3, 4.153007937189824, 1.0, -47.99, 19.48, <1x26405 sparse matrix of type '<class 'numpy.float64'>'
	with 8 stored elements in Compressed Sparse Row format>, 0]
[6, 2, 2, 1, 1, 13, 5, 1, 3, 4.184407204794782, 1.0, 36.62, 0.05, <1x26405 sparse matrix of type '<class 'numpy.float64'>'
	with 8 stored elements in Compressed Sparse Row format>, 0]
[4, 3, 2, 1, 2, 8, 7, 0, 3, 4.027079623851015, 1.0, 121.22, 19.48, <1x26405 sparse matrix of type '<class 'numpy.float64'>'
	with 8 stored elements in Compressed Sparse Row format>, 1]
[2, 0, 1, 0, 0, 5, 3, 0, 2, 3.7232314287976207, 1.0, 121.22, 0.05, <1x26405 sparse matrix of type '<class 'numpy.float64'>'
	with 8 stored elements in Compressed Sparse Row format>, 0]
[4, 1, 2, 1, 2, 7, 5, 2, 3, 4.046681037260584, 1.0, -47.99, 19.48, <1x26405 sparse matrix of type '<class 'numpy.float64'>'
	with 8 stored elements in Compressed Sparse Row format>, 0]
[5, 3, 2, 0, 1, 10, 6, 2, 1, 4.018194656148719, 1.0, 121.22, 0.05, <1x26405 sparse matrix of type '<class 'numpy.float64'>'
	with 8 stored elements in Compressed Sparse Row format>, 0]
[3, 2, 1, 0, 1, 8, 5, 1, 2, 4.090587681210861, 1.0, 36.62, 19.48, <1x26405 sparse matrix of type '<class 'numpy.float64'>'
	with 8 stored elements in Compressed Sparse Row format>, 0]
[3, 1, 1, 0, 0, 7, 5, 0, 2, 3.981714572986072, 1.0, 36.62, 19.48, <1x26405 sparse matrix of type '<class 'numpy.float64'>'
	with 8 stored elements in Compressed Sparse Row format>, 0]
[6, 2, 2, 2, 2, 12, 5, 1, 6, 4.183328514032585, 0.9375, 36.62, 0.05, <1x26405 sparse matrix of type '<class 'numpy.float64'>'
	with 8 stored elements in Compressed Sparse Row format>, 0]
[3, 0, 3, 1, 1, 11, 3, 1, 6, 4.032016453813999, 1.0, 121.22, 19.48, <1x26405 sparse matrix of type '<class 'numpy.float64'>'
	with 8 stored elements in Compressed Sparse Row format>, 0]
[4, 0, 0, 1, 0, 5, 5, 0, 1, 3.50440400542277, 1.0, -47.99, 19.48, <1x26405 sparse matrix of type '<class 'numpy.float64'>'
	with 8 stored elements in Compressed Sparse Row format>, 1]
[6, 2, 0, 0, 0, 9, 6, 0, 1, 4.024552091620409, 1.0, -47.99, 19.48, <1x26405 sparse matrix of type '<class 'numpy.float64'>'
	with 8 stored elements in Compressed Sparse Row format>, 0]
[3, 2, 2, 0, 2, 10, 6, 0, 5, 4.181318583676274, 1.0, 36.62, 19.48, <1x26405 sparse matrix of type '<class 'numpy.float64'>'
	with 8 stored elements in Compressed Sparse Row format>, 0]
[5, 1, 2, 0, 2, 11, 5, 1, 5, 3.908165074527502, 1.0, 121.22, 0.05, <1x26405 sparse matrix of type '<class 'numpy.float64'>'
	with 8 stored elements in Compressed Sparse Row format>, 0]
[5, 0, 2, 0, 0, 11, 7, 0, 4, 4.006853787312165, 1.0, 36.62, 0.05, <1x26405 sparse matrix of type '<class 'numpy.float64'>'
	with 8 stored elements in Compressed Sparse Row format>, 0]
[6, 1, 3, 0, 1, 11, 6, 2, 3, 3.9836346111910523, 1.0, 121.22, 19.48, <1x26405 sparse matrix of type '<class 'numpy.float64'>'
	with 8 stored elements in Compressed Sparse Row format>, 0]
[6, 1, 3, 0, 1, 12, 11, 0, 2, 4.2063323767834255, 1.0, 36.62, 19.48, <1x26405 sparse matrix of type '<class 'numpy.float64'>'
	with 8 stored elements in Compressed Sparse Row format>, 0]
[4, 1, 1, 0, 1, 7, 6, 0, 2, 4.007578078855305, 1.0, 36.62, 19.48, <1x26405 sparse matrix of type '<class 'numpy.float64'>'
	with 8 stored elements in Compressed Sparse Row format>, 1]
[2, 1, 2, 0, 0, 6, 4, 0, 2, 3.8727462206622265, 1.0, 121.22, 19.48, <1x26405 sparse matrix of type '<class 'numpy.float64'>'
	with 8 stored elements in Compressed Sparse Row format>, 1]
[5, 1, 0, 0, 1, 9, 5, 0, 4, 3.9163493513868812, 1.0, 36.62, 19.48, <1x26405 sparse matrix of type '<class 'numpy.float64'>'
	with 8 stored elements in Compressed Sparse Row format>, 1]
[3, 3, 2, 0, 1, 8, 5, 0, 2, 3.819818639003266, 1.0, 121.22, 19.48, <1x26405 sparse matrix of type '<class 'numpy.float64'>'
	with 8 stored elements in Compressed Sparse Row format>, 0]
[3, 1, 1, 0, 2, 5, 2, 1, 2, 3.7356027224562913, 1.0, 36.62, 0.05, <1x26405 sparse matrix of type '<class 'numpy.float64'>'
	with 8 stored elements in Compressed Sparse Row format>, 1]
[5, 1, 3, 0, 2, 11, 8, 0, 5, 3.994773272654951, 0.9230769230769231, 121.22, 0.05, <1x26405 sparse matrix of type '<class 'numpy.float64'>'
	with 8 stored elements in Compressed Sparse Row format>, 1]
[4, 2, 1, 1, 0, 11, 6, 1, 5, 3.9197234747181255, 1.0, -47.99, 19.48, <1x26405 sparse matrix of type '<class 'numpy.float64'>'
	with 8 stored elements in Compressed Sparse Row format>, 0]
[3, 1, 3, 0, 1, 7, 6, 0, 1, 3.9389347820486647, 1.0, 121.22, 0.05, <1x26405 sparse matrix of type '<class 'numpy.float64'>'
	with 8 stored elements in Compressed Sparse Row format>, 1]
[4, 0, 0, 1, 0, 6, 4, 0, 3, 3.6379271790402137, 1.0, 121.22, 0.05, <1x26405 sparse matrix of type '<class 'numpy.float64'>'
	with 8 stored elements in Compressed Sparse Row format>, 1]

# load the existing Excel file into a pandas DataFrame
df_existing = pd.read_excel('/content/drive/MyDrive/sarcasm_nonsarcasm/sarcasm_nonsarcasm_features.xlsx')

# create a new DataFrame with your data
df_new = df

# append the new data to the existing DataFrame
df_combined = df_existing.append(df_new, ignore_index=True)

# write the combined DataFrame to the Excel file
df_combined.to_excel('/content/drive/MyDrive/sarcasm_nonsarcasm/sarcasm_nonsarcasm_features.xlsx', index=False)
     
<ipython-input-32-a543ab657855>:8: FutureWarning: The frame.append method is deprecated and will be removed from pandas in a future version. Use pandas.concat instead.
  df_combined = df_existing.append(df_new, ignore_index=True)
